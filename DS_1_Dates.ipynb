{
 "cells": [
  {
   "cell_type": "markdown",
   "id": "cb748eb2-59fa-457e-877e-0a6a0a2a302d",
   "metadata": {},
   "source": [
    "# Data Science (JULIA)"
   ]
  },
  {
   "cell_type": "markdown",
   "id": "f36b8c5d-0dfb-4887-8bd1-b217ba747449",
   "metadata": {},
   "source": [
    "## 1. Julia Standard Library"
   ]
  },
  {
   "cell_type": "markdown",
   "id": "66fcc109-3a35-4287-aba8-69977dab0897",
   "metadata": {},
   "source": [
    "### 1.1 Dates"
   ]
  },
  {
   "cell_type": "markdown",
   "id": "c71d81fe-0bfa-402e-a117-5aaff5aa23a8",
   "metadata": {},
   "source": [
    "* python -> pandas의 date type 이용\n",
    "\n",
    "* R -> tidyverse의 lubridate의 date type 이용\n",
    "\n",
    "* Julia -> Dates 패키지 이용"
   ]
  },
  {
   "cell_type": "code",
   "execution_count": 1,
   "id": "52fecaea-107a-40cf-8521-00b7d5d70e80",
   "metadata": {},
   "outputs": [],
   "source": [
    "using Dates"
   ]
  },
  {
   "cell_type": "markdown",
   "id": "20504b91-5fd2-45bf-b711-94be9a298fbc",
   "metadata": {},
   "source": [
    "#### 1.1.1 ```Date``` and ```DateTime``` Types\n",
    "\n",
    "* **```Date```** : 날짜 단위로 시간을 표시(representing time in days)\n",
    "\n",
    "* **```DateTime```** : 밀리초의 정밀도로 시간을 표시(representing time in millisecond precision)\n",
    "\n",
    "* both are subtypes of the abstract TimeType."
   ]
  },
  {
   "cell_type": "markdown",
   "id": "55f7566b-db39-4118-b0ba-a63392732c58",
   "metadata": {},
   "source": [
    "* **기본 생성자(constructor)를 이용한 Date 및 DateTime 타입 생성** (Int 정수 이용)"
   ]
  },
  {
   "cell_type": "code",
   "execution_count": 2,
   "id": "3230b6ea-7cf3-4deb-a2a8-03f83657efff",
   "metadata": {},
   "outputs": [
    {
     "data": {
      "text/plain": [
       "1987-01-01"
      ]
     },
     "execution_count": 2,
     "metadata": {},
     "output_type": "execute_result"
    }
   ],
   "source": [
    "Date(1987) # year"
   ]
  },
  {
   "cell_type": "code",
   "execution_count": 3,
   "id": "6e352e58-5277-4cd1-be9f-c9d96bcd3379",
   "metadata": {},
   "outputs": [
    {
     "data": {
      "text/plain": [
       "1987-09-01"
      ]
     },
     "execution_count": 3,
     "metadata": {},
     "output_type": "execute_result"
    }
   ],
   "source": [
    "Date(1987, 9) # year, month"
   ]
  },
  {
   "cell_type": "code",
   "execution_count": 4,
   "id": "84d49acf-9809-47fd-9976-875857078870",
   "metadata": {},
   "outputs": [
    {
     "data": {
      "text/plain": [
       "1987-09-13"
      ]
     },
     "execution_count": 4,
     "metadata": {},
     "output_type": "execute_result"
    }
   ],
   "source": [
    "Date(1987, 9, 13) # year, month, day"
   ]
  },
  {
   "cell_type": "code",
   "execution_count": 5,
   "id": "2983ce13-d7f4-45ff-aafd-4a02431f0571",
   "metadata": {},
   "outputs": [
    {
     "data": {
      "text/plain": [
       "1987-09-13T21:00:00"
      ]
     },
     "execution_count": 5,
     "metadata": {},
     "output_type": "execute_result"
    }
   ],
   "source": [
    "DateTime(1987, 9, 13, 21) # year, month, day, hour"
   ]
  },
  {
   "cell_type": "code",
   "execution_count": 6,
   "id": "6b24be28-5096-440b-957e-e6991e08d54a",
   "metadata": {},
   "outputs": [
    {
     "data": {
      "text/plain": [
       "1987-09-13T21:21:00"
      ]
     },
     "execution_count": 6,
     "metadata": {},
     "output_type": "execute_result"
    }
   ],
   "source": [
    "DateTime(1987, 9, 13, 21, 21) # year, month, day, hour, minute"
   ]
  },
  {
   "cell_type": "markdown",
   "id": "4498abfe-6d15-4d54-872c-100bf85ee8fa",
   "metadata": {},
   "source": [
    "* For the curious, September 13th 1987, 21:21 is the official time of birth of the first author, Jose."
   ]
  },
  {
   "cell_type": "markdown",
   "id": "ebcca33b-934d-4daa-a534-52af4279ed1a",
   "metadata": {},
   "source": [
    "* **Period** 하위 데이터 유형"
   ]
  },
  {
   "cell_type": "code",
   "execution_count": 7,
   "id": "5898a040-c220-40fa-8737-8248eef7d283",
   "metadata": {},
   "outputs": [
    {
     "data": {
      "text/plain": [
       "2-element Vector{Any}:\n",
       " DatePeriod\n",
       " TimePeriod"
      ]
     },
     "execution_count": 7,
     "metadata": {},
     "output_type": "execute_result"
    }
   ],
   "source": [
    "subtypes(Period)"
   ]
  },
  {
   "cell_type": "code",
   "execution_count": 8,
   "id": "ecf034d4-2e10-4e78-af64-f9a58f60ac5b",
   "metadata": {},
   "outputs": [
    {
     "data": {
      "text/plain": [
       "5-element Vector{Any}:\n",
       " Day\n",
       " Month\n",
       " Quarter\n",
       " Week\n",
       " Year"
      ]
     },
     "execution_count": 8,
     "metadata": {},
     "output_type": "execute_result"
    }
   ],
   "source": [
    "subtypes(DatePeriod)"
   ]
  },
  {
   "cell_type": "code",
   "execution_count": 9,
   "id": "d8276dcf-8ccf-457c-bea2-5a67fcec483d",
   "metadata": {},
   "outputs": [
    {
     "data": {
      "text/plain": [
       "6-element Vector{Any}:\n",
       " Hour\n",
       " Microsecond\n",
       " Millisecond\n",
       " Minute\n",
       " Nanosecond\n",
       " Second"
      ]
     },
     "execution_count": 9,
     "metadata": {},
     "output_type": "execute_result"
    }
   ],
   "source": [
    "subtypes(TimePeriod)"
   ]
  },
  {
   "cell_type": "code",
   "execution_count": 10,
   "id": "1588d8c0-e482-4528-8875-e0bdf15d3fb2",
   "metadata": {},
   "outputs": [
    {
     "data": {
      "text/plain": [
       "1987-09-13T21:21:00"
      ]
     },
     "execution_count": 10,
     "metadata": {},
     "output_type": "execute_result"
    }
   ],
   "source": [
    "DateTime(Year(1987), Month(9), Day(13), Hour(21), Minute(21))"
   ]
  },
  {
   "cell_type": "markdown",
   "id": "050a0558-6720-44fe-8005-435bc6fefa72",
   "metadata": {},
   "source": [
    "#### 1.1.2 Parsing Dates"
   ]
  },
  {
   "cell_type": "markdown",
   "id": "708d39ef-d870-4a6d-927d-bd0611d1a0db",
   "metadata": {},
   "source": [
    "* string -> Date 또는 DateTime으로 파싱"
   ]
  },
  {
   "cell_type": "code",
   "execution_count": 11,
   "id": "cd99e8a8-ceb3-466d-9204-217a021a4843",
   "metadata": {},
   "outputs": [
    {
     "data": {
      "text/plain": [
       "1987-09-13"
      ]
     },
     "execution_count": 11,
     "metadata": {},
     "output_type": "execute_result"
    }
   ],
   "source": [
    "Date(\"19870913\", \"yyyymmdd\")"
   ]
  },
  {
   "cell_type": "code",
   "execution_count": 12,
   "id": "ad34f6b5-a146-47ac-a3ea-58bdc8bd7fdb",
   "metadata": {},
   "outputs": [
    {
     "data": {
      "text/plain": [
       "1987-09-13T21:21:00"
      ]
     },
     "execution_count": 12,
     "metadata": {},
     "output_type": "execute_result"
    }
   ],
   "source": [
    "# Datetime을 이용한 timestamps 파싱\n",
    "\n",
    "DateTime(\"1987-09-13T21:21:00\", \"yyyy-mm-ddTHH:MM:SS\")"
   ]
  },
  {
   "cell_type": "markdown",
   "id": "86e40d48-9b3a-4fbf-a0a0-70285c1e015b",
   "metadata": {},
   "source": [
    "* DateFormat type을 이용해 fromat string(형식 문자열) 대신 사용할 수 있음"
   ]
  },
  {
   "cell_type": "code",
   "execution_count": 13,
   "id": "dfeb4ed7-d7f2-4591-8c7c-98a440a387c3",
   "metadata": {},
   "outputs": [
    {
     "data": {
      "text/plain": [
       "1987-09-13"
      ]
     },
     "execution_count": 13,
     "metadata": {},
     "output_type": "execute_result"
    }
   ],
   "source": [
    "format = DateFormat(\"yyyymmdd\")\n",
    "Date(\"19870913\", format)"
   ]
  },
  {
   "cell_type": "markdown",
   "id": "d7851b61-147d-4e64-85d6-c0c04e9f4116",
   "metadata": {},
   "source": [
    "* 성능저하 없이 접두사로 붙여서 사용 가능 "
   ]
  },
  {
   "cell_type": "code",
   "execution_count": 14,
   "id": "f241f349-2933-49b4-aac2-25253269d1cc",
   "metadata": {},
   "outputs": [
    {
     "data": {
      "text/plain": [
       "1987-09-13"
      ]
     },
     "execution_count": 14,
     "metadata": {},
     "output_type": "execute_result"
    }
   ],
   "source": [
    "Date(\"19870913\", dateformat\"yyyymmdd\")"
   ]
  },
  {
   "cell_type": "markdown",
   "id": "63470809-3487-4bfc-9e11-0ce058ca099f",
   "metadata": {},
   "source": [
    "#### 1.1.3 날짜 및 시간 정보 추출하기(Extracting Date Information)"
   ]
  },
  {
   "cell_type": "code",
   "execution_count": 15,
   "id": "d2c5d64f-afa5-4d23-a04d-739300991046",
   "metadata": {},
   "outputs": [
    {
     "data": {
      "text/plain": [
       "1987-09-13"
      ]
     },
     "execution_count": 15,
     "metadata": {},
     "output_type": "execute_result"
    }
   ],
   "source": [
    "my_birthday = Date(\"1987-09-13\")"
   ]
  },
  {
   "cell_type": "code",
   "execution_count": 16,
   "id": "d1c26c14-ede0-40fa-93eb-18c19c252679",
   "metadata": {},
   "outputs": [
    {
     "data": {
      "text/plain": [
       "1987"
      ]
     },
     "execution_count": 16,
     "metadata": {},
     "output_type": "execute_result"
    }
   ],
   "source": [
    "year(my_birthday)"
   ]
  },
  {
   "cell_type": "code",
   "execution_count": 17,
   "id": "1d9c384f-57af-4097-bc47-b7c3b94c9a80",
   "metadata": {},
   "outputs": [
    {
     "data": {
      "text/plain": [
       "9"
      ]
     },
     "execution_count": 17,
     "metadata": {},
     "output_type": "execute_result"
    }
   ],
   "source": [
    "month(my_birthday)"
   ]
  },
  {
   "cell_type": "code",
   "execution_count": 18,
   "id": "5cbfee9e-4122-49a4-83d9-28f21ca2b3da",
   "metadata": {},
   "outputs": [
    {
     "data": {
      "text/plain": [
       "13"
      ]
     },
     "execution_count": 18,
     "metadata": {},
     "output_type": "execute_result"
    }
   ],
   "source": [
    "day(my_birthday)"
   ]
  },
  {
   "cell_type": "markdown",
   "id": "bce20c25-9610-43ff-a606-01fc0a89e62e",
   "metadata": {},
   "source": [
    "* 줄리아의 ```Dates``` 모듈은 튜플(tuple) 형태로 타입 값을 반환하는 복합 함수(compound function)를 제공함"
   ]
  },
  {
   "cell_type": "code",
   "execution_count": 19,
   "id": "3d4e6a2a-fdb0-459e-a472-2676df1c7241",
   "metadata": {},
   "outputs": [
    {
     "data": {
      "text/plain": [
       "(1987, 9)"
      ]
     },
     "execution_count": 19,
     "metadata": {},
     "output_type": "execute_result"
    }
   ],
   "source": [
    "yearmonth(my_birthday)"
   ]
  },
  {
   "cell_type": "code",
   "execution_count": 20,
   "id": "e193195f-7911-4cfe-a656-cccbc633d334",
   "metadata": {},
   "outputs": [
    {
     "data": {
      "text/plain": [
       "(9, 13)"
      ]
     },
     "execution_count": 20,
     "metadata": {},
     "output_type": "execute_result"
    }
   ],
   "source": [
    "monthday(my_birthday)"
   ]
  },
  {
   "cell_type": "code",
   "execution_count": 21,
   "id": "a94f5065-917a-4440-8f22-9c90a47e6be8",
   "metadata": {},
   "outputs": [
    {
     "data": {
      "text/plain": [
       "(1987, 9, 13)"
      ]
     },
     "execution_count": 21,
     "metadata": {},
     "output_type": "execute_result"
    }
   ],
   "source": [
    "yearmonthday(my_birthday)"
   ]
  },
  {
   "cell_type": "markdown",
   "id": "1fe9fb45-d3e4-4bf4-a1f3-94d88a877063",
   "metadata": {},
   "source": [
    "* 요일명, 주중 몇번째 날짜인지, 몇번째 주인지 추출하는 함수도 지원함"
   ]
  },
  {
   "cell_type": "code",
   "execution_count": 22,
   "id": "00510ba6-1b98-4eed-b3cb-337ce6c5f206",
   "metadata": {},
   "outputs": [
    {
     "data": {
      "text/plain": [
       "7"
      ]
     },
     "execution_count": 22,
     "metadata": {},
     "output_type": "execute_result"
    }
   ],
   "source": [
    "dayofweek(my_birthday)"
   ]
  },
  {
   "cell_type": "code",
   "execution_count": 23,
   "id": "eca476f2-fde2-4539-bca5-a3b51cf3b8bd",
   "metadata": {},
   "outputs": [
    {
     "data": {
      "text/plain": [
       "\"Sunday\""
      ]
     },
     "execution_count": 23,
     "metadata": {},
     "output_type": "execute_result"
    }
   ],
   "source": [
    "dayname(my_birthday)"
   ]
  },
  {
   "cell_type": "code",
   "execution_count": 24,
   "id": "b2faaa14-26bb-47c1-ae00-de9dd0845872",
   "metadata": {},
   "outputs": [
    {
     "data": {
      "text/plain": [
       "2"
      ]
     },
     "execution_count": 24,
     "metadata": {},
     "output_type": "execute_result"
    }
   ],
   "source": [
    "dayofweekofmonth(my_birthday)"
   ]
  },
  {
   "cell_type": "markdown",
   "id": "7bef8b9f-b1d7-4a93-a35a-e3a153cf03ea",
   "metadata": {},
   "source": [
    "Yep, Jose was born on the second Sunday of September."
   ]
  },
  {
   "cell_type": "markdown",
   "id": "699b663f-1e37-4268-9de7-a8765cc0a45a",
   "metadata": {},
   "source": [
    "* 만약 워킹데이(비즈니스 데이)를 추출하고 싶다면 아래 노트 참조\n",
    "\n",
    "> NOTE: Here’s a handy tip to just recover weekdays from Dates instances. Just use a filter on dayofweek(your_date) <= 5. For business day you can checkout the BusinessDays.jl package."
   ]
  },
  {
   "cell_type": "markdown",
   "id": "bb9243a8-37cc-4d92-9d85-fcc839295249",
   "metadata": {},
   "source": [
    "#### 1.1.4 Date Operations"
   ]
  },
  {
   "cell_type": "markdown",
   "id": "10b35471-3616-44f2-8c0e-40dedc5c6291",
   "metadata": {},
   "source": [
    "* Dates instances들에 대한 연산"
   ]
  },
  {
   "cell_type": "code",
   "execution_count": 25,
   "id": "abb66696-7b6b-4bf7-9159-c1b413f0cc96",
   "metadata": {},
   "outputs": [
    {
     "data": {
      "text/plain": [
       "1987-12-12"
      ]
     },
     "execution_count": 25,
     "metadata": {},
     "output_type": "execute_result"
    }
   ],
   "source": [
    "my_birthday + Day(90)"
   ]
  },
  {
   "cell_type": "markdown",
   "id": "da9b399b-a54f-41d0-988c-4f1b3b1881e6",
   "metadata": {},
   "source": [
    "* 연도, 월, 일 등을 동시에 연산 가능"
   ]
  },
  {
   "cell_type": "code",
   "execution_count": 26,
   "id": "ef223e95-1fd9-48eb-8361-389d615d67c5",
   "metadata": {},
   "outputs": [
    {
     "data": {
      "text/plain": [
       "1989-02-11"
      ]
     },
     "execution_count": 26,
     "metadata": {},
     "output_type": "execute_result"
    }
   ],
   "source": [
    "my_birthday + Day(90) + Month(2) + Year(1)"
   ]
  },
  {
   "cell_type": "markdown",
   "id": "634497b7-445e-47f2-8148-aeb321b8b6ae",
   "metadata": {},
   "source": [
    "Date 타입의 가능한 연산 확인(method 확인)"
   ]
  },
  {
   "cell_type": "code",
   "execution_count": 27,
   "id": "a8b958f6-a294-4015-9559-3717fca5e3a7",
   "metadata": {},
   "outputs": [
    {
     "data": {
      "text/html": [
       "20-element Vector{Method}:<ul><li> +(t::<b>Time</b>, dt::<b>Date</b>) in Dates at <a href=\"file://C:/buildbot/worker/package_win64/build/usr/share/julia/stdlib/v1.8/Dates/src/arithmetic.jl\" target=\"_blank\">C:\\Program Files\\JULIA\\Julia-1.8.0\\share\\julia\\stdlib\\v1.8\\Dates\\src\\arithmetic.jl:20</a><li> +(dt::<b>Date</b>, t::<b>Time</b>) in Dates at <a href=\"file://C:/buildbot/worker/package_win64/build/usr/share/julia/stdlib/v1.8/Dates/src/arithmetic.jl\" target=\"_blank\">C:\\Program Files\\JULIA\\Julia-1.8.0\\share\\julia\\stdlib\\v1.8\\Dates\\src\\arithmetic.jl:19</a><li> +(dt::<b>Date</b>, y::<b>Year</b>) in Dates at <a href=\"file://C:/buildbot/worker/package_win64/build/usr/share/julia/stdlib/v1.8/Dates/src/arithmetic.jl\" target=\"_blank\">C:\\Program Files\\JULIA\\Julia-1.8.0\\share\\julia\\stdlib\\v1.8\\Dates\\src\\arithmetic.jl:27</a><li> +(dt::<b>Date</b>, z::<b>Month</b>) in Dates at <a href=\"file://C:/buildbot/worker/package_win64/build/usr/share/julia/stdlib/v1.8/Dates/src/arithmetic.jl\" target=\"_blank\">C:\\Program Files\\JULIA\\Julia-1.8.0\\share\\julia\\stdlib\\v1.8\\Dates\\src\\arithmetic.jl:54</a><li> +(x::<b>Date</b>, y::<b>Quarter</b>) in Dates at <a href=\"file://C:/buildbot/worker/package_win64/build/usr/share/julia/stdlib/v1.8/Dates/src/arithmetic.jl\" target=\"_blank\">C:\\Program Files\\JULIA\\Julia-1.8.0\\share\\julia\\stdlib\\v1.8\\Dates\\src\\arithmetic.jl:73</a><li> +(x::<b>Date</b>, y::<b>Week</b>) in Dates at <a href=\"file://C:/buildbot/worker/package_win64/build/usr/share/julia/stdlib/v1.8/Dates/src/arithmetic.jl\" target=\"_blank\">C:\\Program Files\\JULIA\\Julia-1.8.0\\share\\julia\\stdlib\\v1.8\\Dates\\src\\arithmetic.jl:77</a><li> +(x::<b>Date</b>, y::<b>Day</b>) in Dates at <a href=\"file://C:/buildbot/worker/package_win64/build/usr/share/julia/stdlib/v1.8/Dates/src/arithmetic.jl\" target=\"_blank\">C:\\Program Files\\JULIA\\Julia-1.8.0\\share\\julia\\stdlib\\v1.8\\Dates\\src\\arithmetic.jl:79</a><li> -(dt::<b>Date</b>, y::<b>Year</b>) in Dates at <a href=\"file://C:/buildbot/worker/package_win64/build/usr/share/julia/stdlib/v1.8/Dates/src/arithmetic.jl\" target=\"_blank\">C:\\Program Files\\JULIA\\Julia-1.8.0\\share\\julia\\stdlib\\v1.8\\Dates\\src\\arithmetic.jl:35</a><li> -(dt::<b>Date</b>, z::<b>Month</b>) in Dates at <a href=\"file://C:/buildbot/worker/package_win64/build/usr/share/julia/stdlib/v1.8/Dates/src/arithmetic.jl\" target=\"_blank\">C:\\Program Files\\JULIA\\Julia-1.8.0\\share\\julia\\stdlib\\v1.8\\Dates\\src\\arithmetic.jl:66</a><li> -(x::<b>Date</b>, y::<b>Quarter</b>) in Dates at <a href=\"file://C:/buildbot/worker/package_win64/build/usr/share/julia/stdlib/v1.8/Dates/src/arithmetic.jl\" target=\"_blank\">C:\\Program Files\\JULIA\\Julia-1.8.0\\share\\julia\\stdlib\\v1.8\\Dates\\src\\arithmetic.jl:74</a><li> -(x::<b>Date</b>, y::<b>Week</b>) in Dates at <a href=\"file://C:/buildbot/worker/package_win64/build/usr/share/julia/stdlib/v1.8/Dates/src/arithmetic.jl\" target=\"_blank\">C:\\Program Files\\JULIA\\Julia-1.8.0\\share\\julia\\stdlib\\v1.8\\Dates\\src\\arithmetic.jl:78</a><li> -(x::<b>Date</b>, y::<b>Day</b>) in Dates at <a href=\"file://C:/buildbot/worker/package_win64/build/usr/share/julia/stdlib/v1.8/Dates/src/arithmetic.jl\" target=\"_blank\">C:\\Program Files\\JULIA\\Julia-1.8.0\\share\\julia\\stdlib\\v1.8\\Dates\\src\\arithmetic.jl:80</a><li> convert(::<b>Type{DateTime}</b>, dt::<b>Date</b>) in Dates at <a href=\"file://C:/buildbot/worker/package_win64/build/usr/share/julia/stdlib/v1.8/Dates/src/conversions.jl\" target=\"_blank\">C:\\Program Files\\JULIA\\Julia-1.8.0\\share\\julia\\stdlib\\v1.8\\Dates\\src\\conversions.jl:30</a><li> convert(::<b>Type{Day}</b>, dt::<b>Date</b>) in Dates at <a href=\"file://C:/buildbot/worker/package_win64/build/usr/share/julia/stdlib/v1.8/Dates/src/conversions.jl\" target=\"_blank\">C:\\Program Files\\JULIA\\Julia-1.8.0\\share\\julia\\stdlib\\v1.8\\Dates\\src\\conversions.jl:37</a><li> floor(dt::<b>Date</b>, p::<b>Year</b>) in Dates at <a href=\"file://C:/buildbot/worker/package_win64/build/usr/share/julia/stdlib/v1.8/Dates/src/rounding.jl\" target=\"_blank\">C:\\Program Files\\JULIA\\Julia-1.8.0\\share\\julia\\stdlib\\v1.8\\Dates\\src\\rounding.jl:45</a><li> floor(dt::<b>Date</b>, p::<b>Month</b>) in Dates at <a href=\"file://C:/buildbot/worker/package_win64/build/usr/share/julia/stdlib/v1.8/Dates/src/rounding.jl\" target=\"_blank\">C:\\Program Files\\JULIA\\Julia-1.8.0\\share\\julia\\stdlib\\v1.8\\Dates\\src\\rounding.jl:51</a><li> floor(dt::<b>Date</b>, p::<b>Quarter</b>) in Dates at <a href=\"file://C:/buildbot/worker/package_win64/build/usr/share/julia/stdlib/v1.8/Dates/src/rounding.jl\" target=\"_blank\">C:\\Program Files\\JULIA\\Julia-1.8.0\\share\\julia\\stdlib\\v1.8\\Dates\\src\\rounding.jl:61</a><li> floor(dt::<b>Date</b>, p::<b>Week</b>) in Dates at <a href=\"file://C:/buildbot/worker/package_win64/build/usr/share/julia/stdlib/v1.8/Dates/src/rounding.jl\" target=\"_blank\">C:\\Program Files\\JULIA\\Julia-1.8.0\\share\\julia\\stdlib\\v1.8\\Dates\\src\\rounding.jl:66</a><li> floor(dt::<b>Date</b>, p::<b>Day</b>) in Dates at <a href=\"file://C:/buildbot/worker/package_win64/build/usr/share/julia/stdlib/v1.8/Dates/src/rounding.jl\" target=\"_blank\">C:\\Program Files\\JULIA\\Julia-1.8.0\\share\\julia\\stdlib\\v1.8\\Dates\\src\\rounding.jl:73</a><li> print(io::<b>IO</b>, dt::<b>Date</b>) in Dates at <a href=\"file://C:/buildbot/worker/package_win64/build/usr/share/julia/stdlib/v1.8/Dates/src/io.jl\" target=\"_blank\">C:\\Program Files\\JULIA\\Julia-1.8.0\\share\\julia\\stdlib\\v1.8\\Dates\\src\\io.jl:722</a></ul>"
      ],
      "text/plain": [
       "[1] +(t::Time, dt::Date) in Dates at C:\\Program Files\\JULIA\\Julia-1.8.0\\share\\julia\\stdlib\\v1.8\\Dates\\src\\arithmetic.jl:20\n",
       "[2] +(dt::Date, t::Time) in Dates at C:\\Program Files\\JULIA\\Julia-1.8.0\\share\\julia\\stdlib\\v1.8\\Dates\\src\\arithmetic.jl:19\n",
       "[3] +(dt::Date, y::Year) in Dates at C:\\Program Files\\JULIA\\Julia-1.8.0\\share\\julia\\stdlib\\v1.8\\Dates\\src\\arithmetic.jl:27\n",
       "[4] +(dt::Date, z::Month) in Dates at C:\\Program Files\\JULIA\\Julia-1.8.0\\share\\julia\\stdlib\\v1.8\\Dates\\src\\arithmetic.jl:54\n",
       "[5] +(x::Date, y::Quarter) in Dates at C:\\Program Files\\JULIA\\Julia-1.8.0\\share\\julia\\stdlib\\v1.8\\Dates\\src\\arithmetic.jl:73\n",
       "[6] +(x::Date, y::Week) in Dates at C:\\Program Files\\JULIA\\Julia-1.8.0\\share\\julia\\stdlib\\v1.8\\Dates\\src\\arithmetic.jl:77\n",
       "[7] +(x::Date, y::Day) in Dates at C:\\Program Files\\JULIA\\Julia-1.8.0\\share\\julia\\stdlib\\v1.8\\Dates\\src\\arithmetic.jl:79\n",
       "[8] -(dt::Date, y::Year) in Dates at C:\\Program Files\\JULIA\\Julia-1.8.0\\share\\julia\\stdlib\\v1.8\\Dates\\src\\arithmetic.jl:35\n",
       "[9] -(dt::Date, z::Month) in Dates at C:\\Program Files\\JULIA\\Julia-1.8.0\\share\\julia\\stdlib\\v1.8\\Dates\\src\\arithmetic.jl:66\n",
       "[10] -(x::Date, y::Quarter) in Dates at C:\\Program Files\\JULIA\\Julia-1.8.0\\share\\julia\\stdlib\\v1.8\\Dates\\src\\arithmetic.jl:74\n",
       "[11] -(x::Date, y::Week) in Dates at C:\\Program Files\\JULIA\\Julia-1.8.0\\share\\julia\\stdlib\\v1.8\\Dates\\src\\arithmetic.jl:78\n",
       "[12] -(x::Date, y::Day) in Dates at C:\\Program Files\\JULIA\\Julia-1.8.0\\share\\julia\\stdlib\\v1.8\\Dates\\src\\arithmetic.jl:80\n",
       "[13] convert(::Type{DateTime}, dt::Date) in Dates at C:\\Program Files\\JULIA\\Julia-1.8.0\\share\\julia\\stdlib\\v1.8\\Dates\\src\\conversions.jl:30\n",
       "[14] convert(::Type{Day}, dt::Date) in Dates at C:\\Program Files\\JULIA\\Julia-1.8.0\\share\\julia\\stdlib\\v1.8\\Dates\\src\\conversions.jl:37\n",
       "[15] floor(dt::Date, p::Year) in Dates at C:\\Program Files\\JULIA\\Julia-1.8.0\\share\\julia\\stdlib\\v1.8\\Dates\\src\\rounding.jl:45\n",
       "[16] floor(dt::Date, p::Month) in Dates at C:\\Program Files\\JULIA\\Julia-1.8.0\\share\\julia\\stdlib\\v1.8\\Dates\\src\\rounding.jl:51\n",
       "[17] floor(dt::Date, p::Quarter) in Dates at C:\\Program Files\\JULIA\\Julia-1.8.0\\share\\julia\\stdlib\\v1.8\\Dates\\src\\rounding.jl:61\n",
       "[18] floor(dt::Date, p::Week) in Dates at C:\\Program Files\\JULIA\\Julia-1.8.0\\share\\julia\\stdlib\\v1.8\\Dates\\src\\rounding.jl:66\n",
       "[19] floor(dt::Date, p::Day) in Dates at C:\\Program Files\\JULIA\\Julia-1.8.0\\share\\julia\\stdlib\\v1.8\\Dates\\src\\rounding.jl:73\n",
       "[20] print(io::IO, dt::Date) in Dates at C:\\Program Files\\JULIA\\Julia-1.8.0\\share\\julia\\stdlib\\v1.8\\Dates\\src\\io.jl:722"
      ]
     },
     "execution_count": 27,
     "metadata": {},
     "output_type": "execute_result"
    }
   ],
   "source": [
    "first(methodswith(Date), 20)"
   ]
  },
  {
   "cell_type": "code",
   "execution_count": 28,
   "id": "f5e2ee75-c748-4d35-86e5-86064c0f205c",
   "metadata": {},
   "outputs": [
    {
     "data": {
      "text/plain": [
       "12796 days"
      ]
     },
     "execution_count": 28,
     "metadata": {},
     "output_type": "execute_result"
    }
   ],
   "source": [
    "# Date의 기본 시간 단위는 days이기 때문에 days로 연산됨\n",
    "\n",
    "today() - my_birthday"
   ]
  },
  {
   "cell_type": "code",
   "execution_count": 29,
   "id": "cdc722bd-af23-4e71-9803-7f374fa5836b",
   "metadata": {},
   "outputs": [
    {
     "data": {
      "text/plain": [
       "1105574400000 milliseconds"
      ]
     },
     "execution_count": 29,
     "metadata": {},
     "output_type": "execute_result"
    }
   ],
   "source": [
    "# DateTime의 기본 시간 단위는 milliseconds이기 때문에 milliseconds로 연산됨\n",
    "\n",
    "DateTime(today()) - DateTime(my_birthday) "
   ]
  },
  {
   "cell_type": "code",
   "execution_count": 30,
   "id": "6e686f5a-7286-479a-b8fa-778d8b444072",
   "metadata": {},
   "outputs": [
    {
     "data": {
      "text/plain": [
       "1828 weeks"
      ]
     },
     "execution_count": 30,
     "metadata": {},
     "output_type": "execute_result"
    }
   ],
   "source": [
    "canonicalize(today() - my_birthday)"
   ]
  },
  {
   "cell_type": "markdown",
   "id": "8a03a99a-3581-45fb-9d3b-ea4737aedd84",
   "metadata": {},
   "source": [
    "#### 1.1.5 Date Intervals"
   ]
  },
  {
   "cell_type": "markdown",
   "id": "dbb37fc5-1798-4b8f-82d6-3629fe73fbc5",
   "metadata": {},
   "source": [
    "* Dates 모듈은 쉽게 날짜와 시간 간격을 구성할 수 있다.\n",
    "\n",
    "* **```:```** colon operator로 시간 간격을 나타내는 StepRange 타입을 만든다."
   ]
  },
  {
   "cell_type": "code",
   "execution_count": 31,
   "id": "80b0785a-bfc7-44e2-831e-8f347e3637a6",
   "metadata": {},
   "outputs": [
    {
     "data": {
      "text/plain": [
       "Date(\"2021-01-01\"):Day(1):Date(\"2021-01-07\")"
      ]
     },
     "execution_count": 31,
     "metadata": {},
     "output_type": "execute_result"
    }
   ],
   "source": [
    "Date(\"2021-01-01\"):Day(1):Date(\"2021-01-07\")"
   ]
  },
  {
   "cell_type": "code",
   "execution_count": 32,
   "id": "48f0c71f-d9b0-4bd7-aee0-4fcbb3cf25d4",
   "metadata": {},
   "outputs": [
    {
     "data": {
      "text/plain": [
       "Date(\"2021-01-01\"):Day(3):Date(\"2021-01-07\")"
      ]
     },
     "execution_count": 32,
     "metadata": {},
     "output_type": "execute_result"
    }
   ],
   "source": [
    "Date(\"2021-01-01\"):Day(3):Date(\"2021-01-07\")"
   ]
  },
  {
   "cell_type": "markdown",
   "id": "5633010f-f136-4877-9886-79f2fc179723",
   "metadata": {},
   "source": [
    "* ```collect``` 함수를 이용해 **vector**로 변환할 수 있음"
   ]
  },
  {
   "cell_type": "code",
   "execution_count": 33,
   "id": "ce5d9d07-7df3-4b33-a6de-8b79118bed3a",
   "metadata": {},
   "outputs": [
    {
     "data": {
      "text/plain": [
       "7-element Vector{Date}:\n",
       " 2021-01-01\n",
       " 2021-01-02\n",
       " 2021-01-03\n",
       " 2021-01-04\n",
       " 2021-01-05\n",
       " 2021-01-06\n",
       " 2021-01-07"
      ]
     },
     "execution_count": 33,
     "metadata": {},
     "output_type": "execute_result"
    }
   ],
   "source": [
    "collect(Date(\"2021-01-01\"):Day(1):Date(\"2021-01-07\"))"
   ]
  },
  {
   "cell_type": "code",
   "execution_count": 34,
   "id": "06ae8846-29ff-41a4-8b2d-1ff7084d7471",
   "metadata": {},
   "outputs": [
    {
     "data": {
      "text/plain": [
       "3-element Vector{Date}:\n",
       " 2021-01-01\n",
       " 2021-01-04\n",
       " 2021-01-07"
      ]
     },
     "execution_count": 34,
     "metadata": {},
     "output_type": "execute_result"
    }
   ],
   "source": [
    "collect(Date(\"2021-01-01\"):Day(3):Date(\"2021-01-07\"))"
   ]
  },
  {
   "cell_type": "code",
   "execution_count": 35,
   "id": "e736ed6d-ac7b-4f9d-a667-fc3344479d9f",
   "metadata": {},
   "outputs": [
    {
     "name": "stdout",
     "output_type": "stream",
     "text": [
      "Date(\"2021-01-01\"):Month(3):Date(\"2021-01-01\")\n"
     ]
    }
   ],
   "source": [
    "println(Date(\"2021-01-01\"):Month(3):Date(\"2021-03-01\"))"
   ]
  },
  {
   "cell_type": "code",
   "execution_count": 36,
   "id": "64573ea3-d077-4276-b9e5-cb9cd25eec49",
   "metadata": {},
   "outputs": [
    {
     "data": {
      "text/plain": [
       "StepRange{Date, Month}"
      ]
     },
     "execution_count": 36,
     "metadata": {},
     "output_type": "execute_result"
    }
   ],
   "source": [
    "date_interval = Date(\"2021-01-01\"):Month(1):Date(\"2021-03-01\")\n",
    "typeof(date_interval)"
   ]
  },
  {
   "cell_type": "code",
   "execution_count": 37,
   "id": "58fcf739-261e-4fdb-ac46-f50afa8fe0c4",
   "metadata": {},
   "outputs": [
    {
     "data": {
      "text/plain": [
       "3-element Vector{Date}:\n",
       " 2021-01-01\n",
       " 2021-02-01\n",
       " 2021-03-01"
      ]
     },
     "execution_count": 37,
     "metadata": {},
     "output_type": "execute_result"
    }
   ],
   "source": [
    "collected_date_interval = collect(date_interval)"
   ]
  },
  {
   "cell_type": "markdown",
   "id": "89277af9-1f7f-4cd8-8cee-7c147083d764",
   "metadata": {},
   "source": [
    "* collect 함수를 이용해 vector로 변환한 데이터는 array functionalities가 가능하다."
   ]
  },
  {
   "cell_type": "code",
   "execution_count": 38,
   "id": "9eb9d50d-b8b7-4579-b71c-a0dd3990b237",
   "metadata": {},
   "outputs": [
    {
     "data": {
      "text/plain": [
       "2021-03-01"
      ]
     },
     "execution_count": 38,
     "metadata": {},
     "output_type": "execute_result"
    }
   ],
   "source": [
    "collected_date_interval[end]"
   ]
  },
  {
   "cell_type": "code",
   "execution_count": 39,
   "id": "cf980880-ec9a-4ee4-9ad5-a0416d445dbc",
   "metadata": {},
   "outputs": [
    {
     "data": {
      "text/plain": [
       "2-element Vector{Date}:\n",
       " 2021-01-01\n",
       " 2021-02-01"
      ]
     },
     "execution_count": 39,
     "metadata": {},
     "output_type": "execute_result"
    }
   ],
   "source": [
    "collected_date_interval[1:2]"
   ]
  },
  {
   "cell_type": "markdown",
   "id": "040a7cd2-594f-4fc7-bed7-508076960662",
   "metadata": {},
   "source": [
    "* 브로드캐스팅도 가능하다. (broadcast date operations)"
   ]
  },
  {
   "cell_type": "code",
   "execution_count": 40,
   "id": "15821bed-bb94-4a33-be2a-267e38cdb7ed",
   "metadata": {},
   "outputs": [
    {
     "data": {
      "text/plain": [
       "3-element Vector{Date}:\n",
       " 2021-01-11\n",
       " 2021-02-11\n",
       " 2021-03-11"
      ]
     },
     "execution_count": 40,
     "metadata": {},
     "output_type": "execute_result"
    }
   ],
   "source": [
    "collected_date_interval .+ Day(10)"
   ]
  },
  {
   "cell_type": "code",
   "execution_count": 41,
   "id": "4d96b8f3-e9e0-4bdc-877c-f85ab1de4a19",
   "metadata": {},
   "outputs": [
    {
     "data": {
      "text/plain": [
       "3-element Vector{Date}:\n",
       " 2021-04-11\n",
       " 2021-05-11\n",
       " 2021-06-11"
      ]
     },
     "execution_count": 41,
     "metadata": {},
     "output_type": "execute_result"
    }
   ],
   "source": [
    "collected_date_interval .+ Month(3) .+ Day(10)"
   ]
  }
 ],
 "metadata": {
  "kernelspec": {
   "display_name": "Julia 1.8.0",
   "language": "julia",
   "name": "julia-1.8"
  },
  "language_info": {
   "file_extension": ".jl",
   "mimetype": "application/julia",
   "name": "julia",
   "version": "1.8.0"
  }
 },
 "nbformat": 4,
 "nbformat_minor": 5
}
