{
 "cells": [
  {
   "cell_type": "markdown",
   "id": "0bc7b53b-0b70-4ba2-bf8a-e465b617f2fe",
   "metadata": {},
   "source": [
    "```Julia\n",
    "using GLMakie\n",
    "\n",
    "GLMakie.activate!()\n",
    "```"
   ]
  },
  {
   "cell_type": "markdown",
   "id": "c1845ccc-29fe-4f26-9a2d-aa447f871336",
   "metadata": {},
   "source": []
  },
  {
   "cell_type": "markdown",
   "id": "ab46b2f3-4b8d-4982-90ed-e5d3f1bd1d99",
   "metadata": {},
   "source": []
  },
  {
   "cell_type": "markdown",
   "id": "0e5eb407-487a-49fa-be75-2694c96a233c",
   "metadata": {},
   "source": []
  },
  {
   "cell_type": "markdown",
   "id": "9172024c-a050-4c6b-bddb-34c8aee59b3b",
   "metadata": {},
   "source": []
  },
  {
   "cell_type": "markdown",
   "id": "00d5c4fd-0a67-4016-8446-99cae48fba37",
   "metadata": {},
   "source": []
  },
  {
   "cell_type": "markdown",
   "id": "ac3fa1e4-85a3-4a05-9783-767a1be22d10",
   "metadata": {},
   "source": []
  },
  {
   "cell_type": "markdown",
   "id": "b22c9621-1d7d-447a-9b30-5568a9c730fe",
   "metadata": {},
   "source": []
  },
  {
   "cell_type": "markdown",
   "id": "9c9ed4ac-08f1-4caf-a4c2-d629ef72c66c",
   "metadata": {},
   "source": []
  },
  {
   "cell_type": "markdown",
   "id": "17ddc0ee-a498-4850-9332-2c5730f461a6",
   "metadata": {},
   "source": []
  },
  {
   "cell_type": "markdown",
   "id": "ccbd1a6a-5d16-4d11-bd09-45f29425a08b",
   "metadata": {},
   "source": []
  },
  {
   "cell_type": "markdown",
   "id": "e94f1f23-cb0c-4f37-8769-b3819bbef6fe",
   "metadata": {},
   "source": []
  },
  {
   "cell_type": "markdown",
   "id": "c3ed0347-d2fb-4324-9292-b42f9c251c2f",
   "metadata": {},
   "source": []
  },
  {
   "cell_type": "markdown",
   "id": "8b6ca3ec-76fb-44e1-aa59-d0254a1c18f0",
   "metadata": {},
   "source": []
  },
  {
   "cell_type": "markdown",
   "id": "448fb4ca-43bf-4340-a657-5594e23656ab",
   "metadata": {},
   "source": []
  },
  {
   "cell_type": "markdown",
   "id": "3670440a-93fa-471c-92b0-5aab4c1cce33",
   "metadata": {},
   "source": []
  }
 ],
 "metadata": {
  "kernelspec": {
   "display_name": "Julia 1.8.0",
   "language": "julia",
   "name": "julia-1.8"
  },
  "language_info": {
   "file_extension": ".jl",
   "mimetype": "application/julia",
   "name": "julia",
   "version": "1.8.0"
  }
 },
 "nbformat": 4,
 "nbformat_minor": 5
}
