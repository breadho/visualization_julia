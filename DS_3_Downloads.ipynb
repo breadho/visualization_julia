{
 "cells": [
  {
   "cell_type": "markdown",
   "id": "07ceadcf-a4db-499a-bac1-9deb418807a7",
   "metadata": {},
   "source": [
    " # Data Science (JULIA)"
   ]
  },
  {
   "cell_type": "markdown",
   "id": "c0553003-2029-4e32-a433-ca6e18f57040",
   "metadata": {},
   "source": [
    "# 3. Downloads"
   ]
  },
  {
   "cell_type": "markdown",
   "id": "59675065-0b24-453e-b8aa-75d4432d8cf9",
   "metadata": {},
   "source": [
    "* Downloads 패키지는 libcurl(the multiprotocol file transfer library)을 이용하여 외부 API와의 통신을 지원하는 패키지로 2개의 함수, 3개의 타입으로 그 구성은 단순하지만 파워풀하다. \n",
    "\n",
    "    - **download(url)** 함수는 주어진 url로부터 파일을 다운받거나 결과물 또는 임시 경로로 저장하는 함수이다.\n",
    "    \n",
    "    - **request(url)** 함수는 download와 유사하게 주어진 url로부터 들어오는 response 객체를 캡쳐하여 상태를 확인하며, RequestError를 리턴하는 특징이 있다.\n",
    "\n",
    "\n",
    "* 1.6버전부터 표준라이브러리(standard library)로 채택되었고 1.3 및 1.5 버전에서도 사용 가능하다."
   ]
  },
  {
   "cell_type": "markdown",
   "id": "f9d7185c-a1fc-4d3f-a3f6-e056b2d4e194",
   "metadata": {},
   "source": [
    "---\n",
    "**(FUNCTION)**\n",
    "\n",
    "**download**\n",
    "\n",
    "* syntax\n",
    "\n",
    "```Julia\n",
    "download(url, [ output = tempname() ];\n",
    "    [ method = \"GET\", ]\n",
    "    [ headers = <none>, ]\n",
    "    [ timeout = <none>, ]\n",
    "    [ progress = <none>, ]\n",
    "    [ verbose = false, ]\n",
    "    [ debug = <none>, ]\n",
    "    [ downloader = <default>, ]\n",
    ") -> output\n",
    "```\n",
    "\n",
    "* arguments\n",
    "    * ```url :: AbstractString```\n",
    "    * ```output :: Union{AbstractString, AbstractCmd, IO}```\n",
    "    * ```method :: AbstractString```\n",
    "    * ```headers :: Union{AbstractVector, AbstractDict}```\n",
    "    * ```timeout :: Real```\n",
    "    * ```progress :: (total::Integer, now::Integer) --> Any```\n",
    "    * ```verbose :: Bool```\n",
    "    * ```debug :: (type, message) --> Any```\n",
    "    * ```downloader :: Downloader```\n"
   ]
  },
  {
   "cell_type": "markdown",
   "id": "5c102225-4598-4e86-af7b-ec783ac906f2",
   "metadata": {},
   "source": [
    "**request**\n",
    "\n",
    "* syntax\n",
    "\n",
    "```Julia\n",
    "request(url;\n",
    "    [ input = <none>, ]\n",
    "    [ output = <none>, ]\n",
    "    [ method = input ? \"PUT\" : output ? \"GET\" : \"HEAD\", ]\n",
    "    [ headers = <none>, ]\n",
    "    [ timeout = <none>, ]\n",
    "    [ progress = <none>, ]\n",
    "    [ verbose = false, ]\n",
    "    [ debug = <none>, ]\n",
    "    [ throw = true, ]\n",
    "    [ downloader = <default>, ]\n",
    ") -> Union{Response, RequestError}\n",
    "```\n",
    "\n",
    "* arguments\n",
    "    * ```url :: AbstractString```\n",
    "    * ```input :: Union{AbstractString, AbstractCmd, IO}```\n",
    "    * ```output :: Union{AbstractString, AbstractCmd, IO}```\n",
    "    * ```method :: AbstractString```\n",
    "    * ```headers :: Union{AbstractVector, AbstractDict}```\n",
    "    * ```timeout :: Real```\n",
    "    * ```progress :: (dl_total, dl_now, ul_total, ul_now) --> Any```\n",
    "    * ```verbose :: Bool```\n",
    "    * ```debug :: (type, message) --> Any```\n",
    "    * ```throw :: Bool```\n",
    "    * ```downloader :: Downloader```"
   ]
  },
  {
   "cell_type": "markdown",
   "id": "a81764a6-9cf9-40b7-aefb-5ad7b6cb8dae",
   "metadata": {},
   "source": [
    "--- \n",
    "\n",
    "**(TYPE)**\n",
    "\n",
    "**Response**\n",
    "\n",
    "```Julia\n",
    "struct Response\n",
    "    proto   :: String\n",
    "    url     :: String\n",
    "    status  :: Int\n",
    "    message :: String\n",
    "    headers :: Vector{Pair{String,String}}\n",
    "end\n",
    "```\n",
    "\n",
    "**RequestError**\n",
    "\n",
    "```Julia\n",
    "struct RequestError <: ErrorException\n",
    "    url      :: String\n",
    "    code     :: Int\n",
    "    message  :: String\n",
    "    response :: Response\n",
    "end\n",
    "```\n",
    "\n",
    "**Downloader**\n",
    "\n",
    "```Julia\n",
    "Downloader(; [ grace::Real = 30 ])\n",
    "```\n"
   ]
  },
  {
   "cell_type": "code",
   "execution_count": 1,
   "id": "d155a9c7-91d5-4945-a71b-59af06021d34",
   "metadata": {},
   "outputs": [],
   "source": [
    "using Downloads"
   ]
  },
  {
   "cell_type": "markdown",
   "id": "0078bbfd-9930-4f80-8820-68d85a34b3ae",
   "metadata": {},
   "source": [
    "* **download** 함수는 패키지에서 export 되지 않기 때문에 **```Module.function```** 형식의 구문을 사용해야 함"
   ]
  },
  {
   "cell_type": "code",
   "execution_count": 4,
   "id": "1132f206-aa0f-412f-8a23-51a575f0b198",
   "metadata": {},
   "outputs": [
    {
     "data": {
      "text/plain": [
       "\"C:\\\\Users\\\\jeffr\\\\AppData\\\\Local\\\\Temp\\\\jl_oVIHOxM7gT\""
      ]
     },
     "execution_count": 4,
     "metadata": {},
     "output_type": "execute_result"
    }
   ],
   "source": [
    "# JuliaDataScience 깃헙의 project.toml 파일을 다운로드 하기 \n",
    "\n",
    "url = \"https://raw.githubusercontent.com/JuliaDataScience/JuliaDataScience/main/Project.toml\"\n",
    "\n",
    "my_file = Downloads.download(url) # tempfile() being created"
   ]
  },
  {
   "cell_type": "markdown",
   "id": "2492dbfb-ce13-4de2-9341-d3698e58b60b",
   "metadata": {},
   "source": [
    "* toml 파일\n",
    "> * **\"Tom's Obvious Minimal Language\"** 의 약자인 **TOML**은 구성 파일 작성을 위한 최소한의 의미에 초점을 맞춘 비교적 새롭고 인기 있는 파일 형식. 파일 형식은 GitHub의 전 CEO인 Tom Preston-Werner가 제작\n",
    "> * 보통 줄리아의 project.toml은 프로젝트에 사용된 패키지의 버전을 명시하며 환경 구성을 나타내고 있음(pip의 freeze와 유사한 역할이라고 생각한다면 이해하기 쉬움\n",
    "\n",
    "* 디폴트 인수만 이용하면 다운로드된 파일의 경로(path)를 반환함\n",
    "\n",
    "* readlines 함수를 이용해 읽어들일 수 있다."
   ]
  },
  {
   "cell_type": "code",
   "execution_count": 3,
   "id": "1086dbff-b7b4-4820-b3e9-43a15fcc0002",
   "metadata": {},
   "outputs": [
    {
     "data": {
      "text/plain": [
       "4-element Vector{String}:\n",
       " \"name = \\\"JDS\\\"\"\n",
       " \"uuid = \\\"6c596d62-2771-44f8-8373-3ec4b616ee9d\\\"\"\n",
       " \"authors = [\\\"Jose Storopoli\\\", \\\"Rik Huijzer\\\", \\\"Lazaro Alonso\\\"]\"\n",
       " \"\""
      ]
     },
     "execution_count": 3,
     "metadata": {},
     "output_type": "execute_result"
    }
   ],
   "source": [
    "readlines(my_file)[1:4]"
   ]
  },
  {
   "cell_type": "code",
   "execution_count": 5,
   "id": "fd7c8970-30ef-4c1f-b746-6662dd689b69",
   "metadata": {},
   "outputs": [
    {
     "data": {
      "text/plain": [
       "52-element Vector{String}:\n",
       " \"name = \\\"JDS\\\"\"\n",
       " \"uuid = \\\"6c596d62-2771-44f8-8373-3ec4b616ee9d\\\"\"\n",
       " \"authors = [\\\"Jose Storopoli\\\", \\\"Rik Huijzer\\\", \\\"Lazaro Alonso\\\"]\"\n",
       " \"\"\n",
       " \"[deps]\"\n",
       " \"Books = \\\"939d5c6b-51ae-42e7-97ca-7564d0d4ad91\\\"\"\n",
       " \"CSV = \\\"336ed68f-0bac-5ca0-87d4-7b16caf5d00b\\\"\"\n",
       " \"CairoMakie = \\\"13f3f980-e62b-5c42-98c6-ff1f3baf88f0\\\"\"\n",
       " \"CategoricalArrays = \\\"324d7699-5711-5eae-9e2f-1d82baa6b597\\\"\"\n",
       " \"ColorSchemes = \\\"35d6a980-a343-548e-a6ea-1d62b119f2f4\\\"\"\n",
       " \"Colors = \\\"5ae59095-9a9b-59fe-a467-6f913c188581\\\"\"\n",
       " \"DataFrames = \\\"a93c6f00-e57d-5684-b7b6-d8193f3e46c0\\\"\"\n",
       " \"Dates = \\\"ade2ca70-3891-5945-98fb-dc099432e06a\\\"\"\n",
       " ⋮\n",
       " \"Distributions = \\\"0.25\\\"\"\n",
       " \"FileIO = \\\"1\\\"\"\n",
       " \"GLMakie = \\\"0.6\\\"\"\n",
       " \"GeometryBasics = \\\"0.4\\\"\"\n",
       " \"ImageMagick = \\\"1\\\"\"\n",
       " \"LaTeXStrings = \\\"1\\\"\"\n",
       " \"Makie = \\\"0.17\\\"\"\n",
       " \"QuartzImageIO = \\\"0.7\\\"\"\n",
       " \"Reexport = \\\"1.1\\\"\"\n",
       " \"StatsBase = \\\"0.33\\\"\"\n",
       " \"TestImages = \\\"1\\\"\"\n",
       " \"XLSX = \\\"0.8\\\"\""
      ]
     },
     "execution_count": 5,
     "metadata": {},
     "output_type": "execute_result"
    }
   ],
   "source": [
    "readlines(my_file)"
   ]
  },
  {
   "cell_type": "markdown",
   "id": "b7be4875-4d0e-4d07-a4a5-96a8980f0060",
   "metadata": {},
   "source": [
    "* 반응형 웹 등 더 복잡한 HTTP 인터랙션들이 있는 경우에는 ```HTTP.jl``` 패키지를 사용 가능\n",
    "\n",
    "    > **(HTTP.jl)** https://github.com/JuliaWeb/HTTP.jl"
   ]
  }
 ],
 "metadata": {
  "kernelspec": {
   "display_name": "Julia 1.8.0",
   "language": "julia",
   "name": "julia-1.8"
  },
  "language_info": {
   "file_extension": ".jl",
   "mimetype": "application/julia",
   "name": "julia",
   "version": "1.8.0"
  }
 },
 "nbformat": 4,
 "nbformat_minor": 5
}
