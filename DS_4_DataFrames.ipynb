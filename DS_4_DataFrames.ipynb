{
 "cells": [
  {
   "cell_type": "markdown",
   "id": "be44aa75-4c05-4438-a11b-50d689fdf283",
   "metadata": {},
   "source": [
    "# Data Science(JULIA)"
   ]
  },
  {
   "cell_type": "markdown",
   "id": "697354dc-b55a-46fc-babe-d373fa960ce1",
   "metadata": {},
   "source": [
    "# 4. DataFrames"
   ]
  },
  {
   "cell_type": "markdown",
   "id": "0e38dca5-85c4-4bc0-9a80-863ec61797bf",
   "metadata": {},
   "source": [
    "* 데이터 프레임은 벡터들의 모임으로 이루어진 테이블 형태의 데이터 타입으로 \n",
    "\n",
    "    - 행렬은 동일한 데이터 타입이 원소로 이루어져야 하는데 반해 데이터 프레임은 각 컬럼별로 데이터 타입이 달라도 된다. (예: 행렬 -> Int64로 통일, 데이터 프레임 -> A열: character, B열은 Float64, C열은 Int64 등 가능)\n",
    "    \n",
    "    - R에서는 내장되어 있는 데이터 타입(디폴트 타입)이며, 파이썬에서는 Pandas 패키지에서 지원을 하고 있고, 줄리아에서는 DataFrames.jl에서 지원하고 있다."
   ]
  },
  {
   "cell_type": "markdown",
   "id": "58e9b844-2dd6-4848-8c47-9543c11706f9",
   "metadata": {},
   "source": [
    "* 데이터프레임을 쓰지 않고 줄리아의 기본 문법만 이용할 경우"
   ]
  },
  {
   "cell_type": "code",
   "execution_count": 7,
   "id": "721ea759-8967-4335-82d5-be13521a6206",
   "metadata": {},
   "outputs": [
    {
     "data": {
      "text/plain": [
       "grades_array (generic function with 1 method)"
      ]
     },
     "execution_count": 7,
     "metadata": {},
     "output_type": "execute_result"
    }
   ],
   "source": [
    "# Array 생성\n",
    "\n",
    "function grades_array()\n",
    "    name = [\"Bob\", \"Sally\", \"Alice\", \"Hank\"]\n",
    "    age = [17, 18, 20, 19]\n",
    "    grade_2020 = [5.0, 1.0, 8.5, 4.0]\n",
    "    (; name, age, grade_2020)\n",
    "end"
   ]
  },
  {
   "cell_type": "code",
   "execution_count": 8,
   "id": "63788e6e-630e-4c1a-91a6-76d9a92c7f91",
   "metadata": {},
   "outputs": [
    {
     "data": {
      "text/plain": [
       "(\"Sally\", 18, 1.0)"
      ]
     },
     "execution_count": 8,
     "metadata": {},
     "output_type": "execute_result"
    }
   ],
   "source": [
    "function second_row()\n",
    "    name, age, grade_2020 = grades_array()\n",
    "    i = 2\n",
    "    row = (name[i], age[i], grade_2020[i])\n",
    "end\n",
    "\n",
    "second_row()"
   ]
  },
  {
   "cell_type": "code",
   "execution_count": 9,
   "id": "8c6e9842-e8e6-4808-9329-68b797511f5d",
   "metadata": {},
   "outputs": [
    {
     "data": {
      "text/plain": [
       "3"
      ]
     },
     "execution_count": 9,
     "metadata": {},
     "output_type": "execute_result"
    }
   ],
   "source": [
    "# 만약 앨리스의 학년을 추출하고 싶다면 아래의 함수를 생성\n",
    "function row_alice()\n",
    "    names = grades_array().name\n",
    "    i = findfirst(names .== \"Alice\")\n",
    "end\n",
    "row_alice()"
   ]
  },
  {
   "cell_type": "code",
   "execution_count": 10,
   "id": "ce665686-626b-4776-9925-5cf7d9211254",
   "metadata": {},
   "outputs": [
    {
     "data": {
      "text/plain": [
       "8.5"
      ]
     },
     "execution_count": 10,
     "metadata": {},
     "output_type": "execute_result"
    }
   ],
   "source": [
    "function value_alice()\n",
    "    grades = grades_array().grade_2020\n",
    "    i = row_alice()\n",
    "    grades[i]\n",
    "end\n",
    "value_alice()"
   ]
  },
  {
   "cell_type": "markdown",
   "id": "653da47e-d17f-4f8a-9dcb-481c144394f9",
   "metadata": {},
   "source": [
    "* 데이터 프레임을 이용하면 array보다 쉽게 데이터 핸들링이 가능함"
   ]
  },
  {
   "cell_type": "code",
   "execution_count": 12,
   "id": "e2a84694-b87e-42fa-ae01-7caa4d043f2a",
   "metadata": {},
   "outputs": [],
   "source": [
    "# DataFrames 패키지 불러오기\n",
    "\n",
    "using DataFrames"
   ]
  },
  {
   "cell_type": "code",
   "execution_count": 15,
   "id": "15fe1295-7033-4a95-9639-ecfe1c00751f",
   "metadata": {},
   "outputs": [
    {
     "data": {
      "text/html": [
       "<div class=\"data-frame\"><p>4 rows × 2 columns</p><table class=\"data-frame\"><thead><tr><th></th><th>name</th><th>grade_2020</th></tr><tr><th></th><th title=\"String\">String</th><th title=\"Float64\">Float64</th></tr></thead><tbody><tr><th>1</th><td>Sally</td><td>1.0</td></tr><tr><th>2</th><td>Bob</td><td>5.0</td></tr><tr><th>3</th><td>Alice</td><td>8.5</td></tr><tr><th>4</th><td>Hank</td><td>4.0</td></tr></tbody></table></div>"
      ],
      "text/latex": [
       "\\begin{tabular}{r|cc}\n",
       "\t& name & grade\\_2020\\\\\n",
       "\t\\hline\n",
       "\t& String & Float64\\\\\n",
       "\t\\hline\n",
       "\t1 & Sally & 1.0 \\\\\n",
       "\t2 & Bob & 5.0 \\\\\n",
       "\t3 & Alice & 8.5 \\\\\n",
       "\t4 & Hank & 4.0 \\\\\n",
       "\\end{tabular}\n"
      ],
      "text/plain": [
       "\u001b[1m4×2 DataFrame\u001b[0m\n",
       "\u001b[1m Row \u001b[0m│\u001b[1m name   \u001b[0m\u001b[1m grade_2020 \u001b[0m\n",
       "\u001b[1m     \u001b[0m│\u001b[90m String \u001b[0m\u001b[90m Float64    \u001b[0m\n",
       "─────┼────────────────────\n",
       "   1 │ Sally          1.0\n",
       "   2 │ Bob            5.0\n",
       "   3 │ Alice          8.5\n",
       "   4 │ Hank           4.0"
      ]
     },
     "execution_count": 15,
     "metadata": {},
     "output_type": "execute_result"
    }
   ],
   "source": [
    "names = [\"Sally\", \"Bob\", \"Alice\", \"Hank\"]\n",
    "grades = [1, 5, 8.5, 4]\n",
    "df = DataFrame(name=names, grade_2020=grades)"
   ]
  },
  {
   "cell_type": "code",
   "execution_count": 16,
   "id": "b3d6405d-5c0f-4fc0-9491-91e34612729b",
   "metadata": {},
   "outputs": [
    {
     "data": {
      "text/html": [
       "<div class=\"data-frame\"><p>4 rows × 2 columns</p><table class=\"data-frame\"><thead><tr><th></th><th>name</th><th>grade_2020</th></tr><tr><th></th><th title=\"String\">String</th><th title=\"Float64\">Float64</th></tr></thead><tbody><tr><th>1</th><td>Sally</td><td>1.0</td></tr><tr><th>2</th><td>Bob</td><td>5.0</td></tr><tr><th>3</th><td>Alice</td><td>8.5</td></tr><tr><th>4</th><td>Hank</td><td>4.0</td></tr></tbody></table></div>"
      ],
      "text/latex": [
       "\\begin{tabular}{r|cc}\n",
       "\t& name & grade\\_2020\\\\\n",
       "\t\\hline\n",
       "\t& String & Float64\\\\\n",
       "\t\\hline\n",
       "\t1 & Sally & 1.0 \\\\\n",
       "\t2 & Bob & 5.0 \\\\\n",
       "\t3 & Alice & 8.5 \\\\\n",
       "\t4 & Hank & 4.0 \\\\\n",
       "\\end{tabular}\n"
      ],
      "text/plain": [
       "\u001b[1m4×2 DataFrame\u001b[0m\n",
       "\u001b[1m Row \u001b[0m│\u001b[1m name   \u001b[0m\u001b[1m grade_2020 \u001b[0m\n",
       "\u001b[1m     \u001b[0m│\u001b[90m String \u001b[0m\u001b[90m Float64    \u001b[0m\n",
       "─────┼────────────────────\n",
       "   1 │ Sally          1.0\n",
       "   2 │ Bob            5.0\n",
       "   3 │ Alice          8.5\n",
       "   4 │ Hank           4.0"
      ]
     },
     "execution_count": 16,
     "metadata": {},
     "output_type": "execute_result"
    }
   ],
   "source": [
    "df"
   ]
  },
  {
   "cell_type": "code",
   "execution_count": 18,
   "id": "b140c4f9-4b4d-4f5f-b545-fcce0b1ad177",
   "metadata": {},
   "outputs": [
    {
     "data": {
      "text/plain": [
       "DataFrame"
      ]
     },
     "execution_count": 18,
     "metadata": {},
     "output_type": "execute_result"
    }
   ],
   "source": [
    "typeof(df)"
   ]
  },
  {
   "cell_type": "code",
   "execution_count": 22,
   "id": "de1a2a09-c846-45a0-9db6-aca617062c9d",
   "metadata": {},
   "outputs": [
    {
     "data": {
      "text/html": [
       "<div class=\"data-frame\"><p>4 rows × 2 columns</p><table class=\"data-frame\"><thead><tr><th></th><th>name</th><th>grade_2020</th></tr><tr><th></th><th title=\"String\">String</th><th title=\"Float64\">Float64</th></tr></thead><tbody><tr><th>1</th><td>Sally</td><td>1.0</td></tr><tr><th>2</th><td>Bob</td><td>5.0</td></tr><tr><th>3</th><td>Alice</td><td>8.5</td></tr><tr><th>4</th><td>Hank</td><td>4.0</td></tr></tbody></table></div>"
      ],
      "text/latex": [
       "\\begin{tabular}{r|cc}\n",
       "\t& name & grade\\_2020\\\\\n",
       "\t\\hline\n",
       "\t& String & Float64\\\\\n",
       "\t\\hline\n",
       "\t1 & Sally & 1.0 \\\\\n",
       "\t2 & Bob & 5.0 \\\\\n",
       "\t3 & Alice & 8.5 \\\\\n",
       "\t4 & Hank & 4.0 \\\\\n",
       "\\end{tabular}\n"
      ],
      "text/plain": [
       "\u001b[1m4×2 DataFrame\u001b[0m\n",
       "\u001b[1m Row \u001b[0m│\u001b[1m name   \u001b[0m\u001b[1m grade_2020 \u001b[0m\n",
       "\u001b[1m     \u001b[0m│\u001b[90m String \u001b[0m\u001b[90m Float64    \u001b[0m\n",
       "─────┼────────────────────\n",
       "   1 │ Sally          1.0\n",
       "   2 │ Bob            5.0\n",
       "   3 │ Alice          8.5\n",
       "   4 │ Hank           4.0"
      ]
     },
     "execution_count": 22,
     "metadata": {},
     "output_type": "execute_result"
    }
   ],
   "source": [
    "# 앞서 정의한 array 생성 함수를 응용하여 데이터 프레임 생성 함수를 작성\n",
    "\n",
    "function grades_2020()\n",
    "    name = [\"Sally\", \"Bob\", \"Alice\", \"Hank\"]\n",
    "    grade_2020 = [1, 5, 8.5, 4]\n",
    "    DataFrame(; name, grade_2020)\n",
    "end\n",
    "grades_2020()"
   ]
  },
  {
   "cell_type": "code",
   "execution_count": 23,
   "id": "84204b44-c250-4253-a2b1-0468cc5fdb55",
   "metadata": {},
   "outputs": [
    {
     "data": {
      "text/html": [
       "<div class=\"data-frame\"><p>4 rows × 2 columns</p><table class=\"data-frame\"><thead><tr><th></th><th>name</th><th>grade_2020</th></tr><tr><th></th><th title=\"String\">String</th><th title=\"Float64\">Float64</th></tr></thead><tbody><tr><th>1</th><td>Sally</td><td>1.0</td></tr><tr><th>2</th><td>Bob</td><td>5.0</td></tr><tr><th>3</th><td>Alice</td><td>8.5</td></tr><tr><th>4</th><td>Hank</td><td>4.0</td></tr></tbody></table></div>"
      ],
      "text/latex": [
       "\\begin{tabular}{r|cc}\n",
       "\t& name & grade\\_2020\\\\\n",
       "\t\\hline\n",
       "\t& String & Float64\\\\\n",
       "\t\\hline\n",
       "\t1 & Sally & 1.0 \\\\\n",
       "\t2 & Bob & 5.0 \\\\\n",
       "\t3 & Alice & 8.5 \\\\\n",
       "\t4 & Hank & 4.0 \\\\\n",
       "\\end{tabular}\n"
      ],
      "text/plain": [
       "\u001b[1m4×2 DataFrame\u001b[0m\n",
       "\u001b[1m Row \u001b[0m│\u001b[1m name   \u001b[0m\u001b[1m grade_2020 \u001b[0m\n",
       "\u001b[1m     \u001b[0m│\u001b[90m String \u001b[0m\u001b[90m Float64    \u001b[0m\n",
       "─────┼────────────────────\n",
       "   1 │ Sally          1.0\n",
       "   2 │ Bob            5.0\n",
       "   3 │ Alice          8.5\n",
       "   4 │ Hank           4.0"
      ]
     },
     "execution_count": 23,
     "metadata": {},
     "output_type": "execute_result"
    }
   ],
   "source": [
    "df1 = grades_2020()"
   ]
  },
  {
   "cell_type": "code",
   "execution_count": 24,
   "id": "d8e1bb51-0b33-49b5-bd1c-7aec52c24c22",
   "metadata": {},
   "outputs": [
    {
     "data": {
      "text/plain": [
       "DataFrame"
      ]
     },
     "execution_count": 24,
     "metadata": {},
     "output_type": "execute_result"
    }
   ],
   "source": [
    "typeof(df1)"
   ]
  },
  {
   "cell_type": "code",
   "execution_count": 25,
   "id": "8b134803-2497-4991-a229-0da1ef1b2f62",
   "metadata": {},
   "outputs": [
    {
     "data": {
      "text/plain": [
       "\"Sally\""
      ]
     },
     "execution_count": 25,
     "metadata": {},
     "output_type": "execute_result"
    }
   ],
   "source": [
    "df1[1, 1]"
   ]
  },
  {
   "cell_type": "code",
   "execution_count": 26,
   "id": "9dbbca66-c4cd-443a-9eb3-22e12a28b623",
   "metadata": {},
   "outputs": [
    {
     "data": {
      "text/plain": [
       "1.0"
      ]
     },
     "execution_count": 26,
     "metadata": {},
     "output_type": "execute_result"
    }
   ],
   "source": [
    "df1[1, end]"
   ]
  },
  {
   "cell_type": "code",
   "execution_count": 27,
   "id": "38fff7a4-6466-4089-808d-7ef5a0c08c9f",
   "metadata": {},
   "outputs": [
    {
     "data": {
      "text/plain": [
       "4.0"
      ]
     },
     "execution_count": 27,
     "metadata": {},
     "output_type": "execute_result"
    }
   ],
   "source": [
    "df1[end, end]"
   ]
  },
  {
   "cell_type": "code",
   "execution_count": 29,
   "id": "66fd0fb0-155a-4540-b27f-cdf34be93467",
   "metadata": {},
   "outputs": [
    {
     "data": {
      "text/html": [
       "<div class=\"data-frame\"><p>3 rows × 2 columns</p><table class=\"data-frame\"><thead><tr><th></th><th>name</th><th>grade_2020</th></tr><tr><th></th><th title=\"String\">String</th><th title=\"Float64\">Float64</th></tr></thead><tbody><tr><th>1</th><td>Sally</td><td>1.0</td></tr><tr><th>2</th><td>Bob</td><td>5.0</td></tr><tr><th>3</th><td>Alice</td><td>8.5</td></tr></tbody></table></div>"
      ],
      "text/latex": [
       "\\begin{tabular}{r|cc}\n",
       "\t& name & grade\\_2020\\\\\n",
       "\t\\hline\n",
       "\t& String & Float64\\\\\n",
       "\t\\hline\n",
       "\t1 & Sally & 1.0 \\\\\n",
       "\t2 & Bob & 5.0 \\\\\n",
       "\t3 & Alice & 8.5 \\\\\n",
       "\\end{tabular}\n"
      ],
      "text/plain": [
       "\u001b[1m3×2 DataFrame\u001b[0m\n",
       "\u001b[1m Row \u001b[0m│\u001b[1m name   \u001b[0m\u001b[1m grade_2020 \u001b[0m\n",
       "\u001b[1m     \u001b[0m│\u001b[90m String \u001b[0m\u001b[90m Float64    \u001b[0m\n",
       "─────┼────────────────────\n",
       "   1 │ Sally          1.0\n",
       "   2 │ Bob            5.0\n",
       "   3 │ Alice          8.5"
      ]
     },
     "execution_count": 29,
     "metadata": {},
     "output_type": "execute_result"
    }
   ],
   "source": [
    "df1[1:3, 1:2]"
   ]
  },
  {
   "cell_type": "code",
   "execution_count": 36,
   "id": "e7cf2592-e2f6-40be-8f4d-dfe518d36435",
   "metadata": {},
   "outputs": [
    {
     "data": {
      "text/html": [
       "<div class=\"data-frame\"><p>3 rows × 2 columns</p><table class=\"data-frame\"><thead><tr><th></th><th>σ</th><th>δ</th></tr><tr><th></th><th title=\"String\">String</th><th title=\"Float64\">Float64</th></tr></thead><tbody><tr><th>1</th><td>a</td><td>3.14159</td></tr><tr><th>2</th><td>a</td><td>1.5708</td></tr><tr><th>3</th><td>a</td><td>1.0472</td></tr></tbody></table></div>"
      ],
      "text/latex": [
       "\\begin{tabular}{r|cc}\n",
       "\t& σ & δ\\\\\n",
       "\t\\hline\n",
       "\t& String & Float64\\\\\n",
       "\t\\hline\n",
       "\t1 & a & 3.14159 \\\\\n",
       "\t2 & a & 1.5708 \\\\\n",
       "\t3 & a & 1.0472 \\\\\n",
       "\\end{tabular}\n"
      ],
      "text/plain": [
       "\u001b[1m3×2 DataFrame\u001b[0m\n",
       "\u001b[1m Row \u001b[0m│\u001b[1m σ      \u001b[0m\u001b[1m δ       \u001b[0m\n",
       "\u001b[1m     \u001b[0m│\u001b[90m String \u001b[0m\u001b[90m Float64 \u001b[0m\n",
       "─────┼─────────────────\n",
       "   1 │ a       3.14159\n",
       "   2 │ a       1.5708\n",
       "   3 │ a       1.0472"
      ]
     },
     "execution_count": 36,
     "metadata": {},
     "output_type": "execute_result"
    }
   ],
   "source": [
    "df2 = DataFrame(σ = [\"a\", \"a\", \"a\"], δ = [π, π/2, π/3])"
   ]
  },
  {
   "cell_type": "markdown",
   "id": "f373fb43-350c-458c-89d8-7022803b9662",
   "metadata": {},
   "source": [
    "## 4.1 Load and Save Files"
   ]
  },
  {
   "cell_type": "markdown",
   "id": "f9df9ce2-cad3-4acb-9c7b-c9a4cdc56950",
   "metadata": {},
   "source": [
    "### 4.1.1 CSV"
   ]
  },
  {
   "cell_type": "markdown",
   "id": "83bcc188-a36d-4e56-9864-dca5ed098220",
   "metadata": {},
   "source": [
    "* CSV는 Comma-Seperated Values의 약자로 테이블을 담기에 효율적인 파일 형식이다.\n",
    "\n",
    "* 이름에서도 알 수 있다시피 comma를 이용해 데이터(컬럼)를 분리한다."
   ]
  },
  {
   "cell_type": "code",
   "execution_count": 38,
   "id": "e05e2db0-121c-4d48-bf34-309a1a12a0b2",
   "metadata": {},
   "outputs": [],
   "source": [
    "using CSV"
   ]
  },
  {
   "cell_type": "code",
   "execution_count": 39,
   "id": "323d7a15-a786-47b4-ac12-fc21c0cacbea",
   "metadata": {},
   "outputs": [
    {
     "data": {
      "text/html": [
       "<div class=\"data-frame\"><p>4 rows × 2 columns</p><table class=\"data-frame\"><thead><tr><th></th><th>name</th><th>grade_2020</th></tr><tr><th></th><th title=\"String\">String</th><th title=\"Float64\">Float64</th></tr></thead><tbody><tr><th>1</th><td>Sally</td><td>1.0</td></tr><tr><th>2</th><td>Bob</td><td>5.0</td></tr><tr><th>3</th><td>Alice</td><td>8.5</td></tr><tr><th>4</th><td>Hank</td><td>4.0</td></tr></tbody></table></div>"
      ],
      "text/latex": [
       "\\begin{tabular}{r|cc}\n",
       "\t& name & grade\\_2020\\\\\n",
       "\t\\hline\n",
       "\t& String & Float64\\\\\n",
       "\t\\hline\n",
       "\t1 & Sally & 1.0 \\\\\n",
       "\t2 & Bob & 5.0 \\\\\n",
       "\t3 & Alice & 8.5 \\\\\n",
       "\t4 & Hank & 4.0 \\\\\n",
       "\\end{tabular}\n"
      ],
      "text/plain": [
       "\u001b[1m4×2 DataFrame\u001b[0m\n",
       "\u001b[1m Row \u001b[0m│\u001b[1m name   \u001b[0m\u001b[1m grade_2020 \u001b[0m\n",
       "\u001b[1m     \u001b[0m│\u001b[90m String \u001b[0m\u001b[90m Float64    \u001b[0m\n",
       "─────┼────────────────────\n",
       "   1 │ Sally          1.0\n",
       "   2 │ Bob            5.0\n",
       "   3 │ Alice          8.5\n",
       "   4 │ Hank           4.0"
      ]
     },
     "execution_count": 39,
     "metadata": {},
     "output_type": "execute_result"
    }
   ],
   "source": [
    "grades_2020()"
   ]
  },
  {
   "cell_type": "code",
   "execution_count": 40,
   "id": "a1b04917-59f1-47a2-931a-a6ee791f0461",
   "metadata": {},
   "outputs": [
    {
     "data": {
      "text/plain": [
       "write_grades_csv (generic function with 1 method)"
      ]
     },
     "execution_count": 40,
     "metadata": {},
     "output_type": "execute_result"
    }
   ],
   "source": [
    "# 데이터 프레임을 CSV 파일로 내보내는 함수 작성\n",
    "\n",
    "function write_grades_csv()\n",
    "    path = \"grades.csv\"\n",
    "    CSV.write(path, grades_2020())\n",
    "end"
   ]
  },
  {
   "cell_type": "code",
   "execution_count": 41,
   "id": "8b33daaf-ed4d-470a-89b2-b7a6ca228b8a",
   "metadata": {},
   "outputs": [
    {
     "data": {
      "text/plain": [
       "\"grades.csv\""
      ]
     },
     "execution_count": 41,
     "metadata": {},
     "output_type": "execute_result"
    }
   ],
   "source": [
    "path = write_grades_csv()"
   ]
  },
  {
   "cell_type": "code",
   "execution_count": 46,
   "id": "457cb7ae-d6d9-4e4c-bf9a-7ad9c2335e69",
   "metadata": {},
   "outputs": [
    {
     "data": {
      "text/plain": [
       "8-element Vector{String}:\n",
       " \".ipynb_checkpoints\"\n",
       " \"DS_1_Dates.ipynb\"\n",
       " \"DS_2_RandomNumber.ipynb\"\n",
       " \"DS_3_DataFrames.ipynb\"\n",
       " \"JuliaDataScience-main\"\n",
       " \"grades.csv\"\n",
       " \"juliadatascience.pdf\"\n",
       " \"six_number.csv\""
      ]
     },
     "execution_count": 46,
     "metadata": {},
     "output_type": "execute_result"
    }
   ],
   "source": [
    "readdir()"
   ]
  },
  {
   "cell_type": "markdown",
   "id": "b479ddda-fba0-470b-af62-50d800129c52",
   "metadata": {},
   "source": [
    "* grades.csv 파일이 생성된 것을 확인"
   ]
  },
  {
   "cell_type": "code",
   "execution_count": 47,
   "id": "e9be9828-220f-4851-bcf6-4f38a61639a9",
   "metadata": {},
   "outputs": [
    {
     "data": {
      "text/plain": [
       "\"name,grade_2020\\nSally,1.0\\nBob,5.0\\nAlice,8.5\\nHank,4.0\\n\""
      ]
     },
     "execution_count": 47,
     "metadata": {},
     "output_type": "execute_result"
    }
   ],
   "source": [
    "read(path, String)"
   ]
  },
  {
   "cell_type": "markdown",
   "id": "91aafca4-54f0-45ba-9372-c46481a0386e",
   "metadata": {},
   "source": [
    "* CSV 데이터 형태는 간단한 텍스트 에디터로도 읽어들일 수 있는 장점이 있다.\n",
    "\n",
    "* 하지만 데이터 상에 comma가 들어 있다면 문제가 될 수 있지만 CSV.jl은 이 문제를 자동적으로 고려해 처리해주고 있다. \n",
    "\n",
    "    - 컴마를 포함한 값들은 ```\" ``` quotation 마크를 덧붙임(CSV.jl adds quotation marks \" around the comma-containing values.)"
   ]
  },
  {
   "cell_type": "code",
   "execution_count": 48,
   "id": "d64fe614-64ac-43cc-9623-a1af90b39c55",
   "metadata": {},
   "outputs": [
    {
     "data": {
      "text/html": [
       "<div class=\"data-frame\"><p>4 rows × 2 columns</p><table class=\"data-frame\"><thead><tr><th></th><th>name</th><th>grade_2020</th></tr><tr><th></th><th title=\"String\">String</th><th title=\"Float64\">Float64</th></tr></thead><tbody><tr><th>1</th><td>Sally</td><td>1.0</td></tr><tr><th>2</th><td>Bob</td><td>5.0</td></tr><tr><th>3</th><td>Alice,</td><td>8.5</td></tr><tr><th>4</th><td>Hank</td><td>4.0</td></tr></tbody></table></div>"
      ],
      "text/latex": [
       "\\begin{tabular}{r|cc}\n",
       "\t& name & grade\\_2020\\\\\n",
       "\t\\hline\n",
       "\t& String & Float64\\\\\n",
       "\t\\hline\n",
       "\t1 & Sally & 1.0 \\\\\n",
       "\t2 & Bob & 5.0 \\\\\n",
       "\t3 & Alice, & 8.5 \\\\\n",
       "\t4 & Hank & 4.0 \\\\\n",
       "\\end{tabular}\n"
      ],
      "text/plain": [
       "\u001b[1m4×2 DataFrame\u001b[0m\n",
       "\u001b[1m Row \u001b[0m│\u001b[1m name   \u001b[0m\u001b[1m grade_2020 \u001b[0m\n",
       "\u001b[1m     \u001b[0m│\u001b[90m String \u001b[0m\u001b[90m Float64    \u001b[0m\n",
       "─────┼────────────────────\n",
       "   1 │ Sally          1.0\n",
       "   2 │ Bob            5.0\n",
       "   3 │ Alice,         8.5\n",
       "   4 │ Hank           4.0"
      ]
     },
     "execution_count": 48,
     "metadata": {},
     "output_type": "execute_result"
    }
   ],
   "source": [
    "function grades_with_commas()\n",
    "    df = grades_2020()\n",
    "    df[3, :name] = \"Alice,\"\n",
    "    df\n",
    "end\n",
    "grades_with_commas()"
   ]
  },
  {
   "cell_type": "code",
   "execution_count": 50,
   "id": "98cecf39-75ca-47ca-8678-7b76d5c465a8",
   "metadata": {},
   "outputs": [
    {
     "data": {
      "text/plain": [
       "\"name,grade_2020\\nSally,1.0\\nBob,5.0\\n\\\"Alice,\\\",8.5\\nHank,4.0\\n\""
      ]
     },
     "execution_count": 50,
     "metadata": {},
     "output_type": "execute_result"
    }
   ],
   "source": [
    "# 데이터 내 ,가 자동을 처리되어 있는 모습을 확인할 수 있음\n",
    "\n",
    "function write_comma_csv()\n",
    "    path = \"grades-commas.csv\"\n",
    "    CSV.write(path, grades_with_commas())\n",
    "end\n",
    "path = write_comma_csv()\n",
    "read(path, String)"
   ]
  },
  {
   "cell_type": "markdown",
   "id": "146a1f2e-3759-41c1-b377-84b8ea3ab0ab",
   "metadata": {},
   "source": [
    "* **TSV 타입** (**T**ab-**S**eperated **V**alues) 도 CSV.jl 패키지의 CSV 함수를 이용해서 불러들일 수 있다."
   ]
  },
  {
   "cell_type": "code",
   "execution_count": 51,
   "id": "cdec1934-0047-4795-abcf-73824c0bfa0f",
   "metadata": {},
   "outputs": [
    {
     "data": {
      "text/plain": [
       "\"name\\tgrade_2020\\nSally\\t1.0\\nBob\\t5.0\\nAlice,\\t8.5\\nHank\\t4.0\\n\""
      ]
     },
     "execution_count": 51,
     "metadata": {},
     "output_type": "execute_result"
    }
   ],
   "source": [
    "function write_comma_tsv()\n",
    "    path = \"grades-comma.tsv\"\n",
    "    CSV.write(path, grades_with_commas(); delim = '\\t')\n",
    "end\n",
    "\n",
    "read(write_comma_tsv(), String)"
   ]
  },
  {
   "cell_type": "markdown",
   "id": "6e22958e-116b-4392-bd77-861d32bb420d",
   "metadata": {},
   "source": [
    "* 컴마 또는 탭 이외에도 다른 구분자(delimiters)를 이용하여 데이터를 구분하여 저장하고 불러들일 수 있다. "
   ]
  },
  {
   "cell_type": "code",
   "execution_count": 53,
   "id": "4bd20b77-d411-43d1-b5f6-c0e747b63324",
   "metadata": {},
   "outputs": [
    {
     "data": {
      "text/plain": [
       "\"name grade_2020\\nSally 1.0\\nBob 5.0\\nAlice 8.5\\nHank 4.0\\n\""
      ]
     },
     "execution_count": 53,
     "metadata": {},
     "output_type": "execute_result"
    }
   ],
   "source": [
    "function write_space_seperated()\n",
    "    path = \"grades-space-seperated.csv\"\n",
    "    CSV.write(path, grades_2020(); delim = ' ')\n",
    "end\n",
    "\n",
    "read(write_space_seperated(), String)"
   ]
  },
  {
   "cell_type": "markdown",
   "id": "cffa565a-e48b-4b8b-9850-0e98c251876c",
   "metadata": {},
   "source": [
    "* 여전히 관례적으로 semicolon과 csv 확장자를 많이 사용하는 편임"
   ]
  },
  {
   "cell_type": "markdown",
   "id": "fe6b5025-bea4-46c3-8626-2daf8770bfcc",
   "metadata": {},
   "source": [
    "* CSV를 읽을 때, 보통 path와 읽어들일 데이터 타입을 인수로 넣는다."
   ]
  },
  {
   "cell_type": "code",
   "execution_count": 54,
   "id": "276ca092-9c20-42ad-b8fe-46eaf2026e74",
   "metadata": {},
   "outputs": [
    {
     "data": {
      "text/plain": [
       "\"grades.csv\""
      ]
     },
     "execution_count": 54,
     "metadata": {},
     "output_type": "execute_result"
    }
   ],
   "source": [
    "path = write_grades_csv()"
   ]
  },
  {
   "cell_type": "code",
   "execution_count": 55,
   "id": "5b0ce025-e9f4-4322-bb0b-a8ce4ff3c9af",
   "metadata": {},
   "outputs": [
    {
     "data": {
      "text/html": [
       "<div class=\"data-frame\"><p>4 rows × 2 columns</p><table class=\"data-frame\"><thead><tr><th></th><th>name</th><th>grade_2020</th></tr><tr><th></th><th title=\"String7\">String7</th><th title=\"Float64\">Float64</th></tr></thead><tbody><tr><th>1</th><td>Sally</td><td>1.0</td></tr><tr><th>2</th><td>Bob</td><td>5.0</td></tr><tr><th>3</th><td>Alice</td><td>8.5</td></tr><tr><th>4</th><td>Hank</td><td>4.0</td></tr></tbody></table></div>"
      ],
      "text/latex": [
       "\\begin{tabular}{r|cc}\n",
       "\t& name & grade\\_2020\\\\\n",
       "\t\\hline\n",
       "\t& String7 & Float64\\\\\n",
       "\t\\hline\n",
       "\t1 & Sally & 1.0 \\\\\n",
       "\t2 & Bob & 5.0 \\\\\n",
       "\t3 & Alice & 8.5 \\\\\n",
       "\t4 & Hank & 4.0 \\\\\n",
       "\\end{tabular}\n"
      ],
      "text/plain": [
       "\u001b[1m4×2 DataFrame\u001b[0m\n",
       "\u001b[1m Row \u001b[0m│\u001b[1m name    \u001b[0m\u001b[1m grade_2020 \u001b[0m\n",
       "\u001b[1m     \u001b[0m│\u001b[90m String7 \u001b[0m\u001b[90m Float64    \u001b[0m\n",
       "─────┼─────────────────────\n",
       "   1 │ Sally           1.0\n",
       "   2 │ Bob             5.0\n",
       "   3 │ Alice           8.5\n",
       "   4 │ Hank            4.0"
      ]
     },
     "execution_count": 55,
     "metadata": {},
     "output_type": "execute_result"
    }
   ],
   "source": [
    "CSV.read(path, DataFrame)"
   ]
  },
  {
   "cell_type": "code",
   "execution_count": 69,
   "id": "92a7ea04-158b-4019-8521-79a9c409cb14",
   "metadata": {},
   "outputs": [
    {
     "data": {
      "text/html": [
       "<div class=\"data-frame\"><p>4 rows × 2 columns</p><table class=\"data-frame\"><thead><tr><th></th><th>name</th><th>grade_2020</th></tr><tr><th></th><th title=\"String7\">String7</th><th title=\"Float64\">Float64</th></tr></thead><tbody><tr><th>1</th><td>Sally</td><td>1.0</td></tr><tr><th>2</th><td>Bob</td><td>5.0</td></tr><tr><th>3</th><td>Alice</td><td>8.5</td></tr><tr><th>4</th><td>Hank</td><td>4.0</td></tr></tbody></table></div>"
      ],
      "text/latex": [
       "\\begin{tabular}{r|cc}\n",
       "\t& name & grade\\_2020\\\\\n",
       "\t\\hline\n",
       "\t& String7 & Float64\\\\\n",
       "\t\\hline\n",
       "\t1 & Sally & 1.0 \\\\\n",
       "\t2 & Bob & 5.0 \\\\\n",
       "\t3 & Alice & 8.5 \\\\\n",
       "\t4 & Hank & 4.0 \\\\\n",
       "\\end{tabular}\n"
      ],
      "text/plain": [
       "\u001b[1m4×2 DataFrame\u001b[0m\n",
       "\u001b[1m Row \u001b[0m│\u001b[1m name    \u001b[0m\u001b[1m grade_2020 \u001b[0m\n",
       "\u001b[1m     \u001b[0m│\u001b[90m String7 \u001b[0m\u001b[90m Float64    \u001b[0m\n",
       "─────┼─────────────────────\n",
       "   1 │ Sally           1.0\n",
       "   2 │ Bob             5.0\n",
       "   3 │ Alice           8.5\n",
       "   4 │ Hank            4.0"
      ]
     },
     "execution_count": 69,
     "metadata": {},
     "output_type": "execute_result"
    }
   ],
   "source": [
    "grades_df = CSV.read(path, DataFrame)"
   ]
  },
  {
   "cell_type": "code",
   "execution_count": 56,
   "id": "4577c2bb-1b8c-48f1-8719-5a2c8bb24c71",
   "metadata": {},
   "outputs": [
    {
     "data": {
      "text/plain": [
       "11-element Vector{String}:\n",
       " \".ipynb_checkpoints\"\n",
       " \"DS_1_Dates.ipynb\"\n",
       " \"DS_2_RandomNumber.ipynb\"\n",
       " \"DS_3_DataFrames.ipynb\"\n",
       " \"JuliaDataScience-main\"\n",
       " \"grades-comma.tsv\"\n",
       " \"grades-commas.csv\"\n",
       " \"grades-space-seperated.csv\"\n",
       " \"grades.csv\"\n",
       " \"juliadatascience.pdf\"\n",
       " \"six_number.csv\""
      ]
     },
     "execution_count": 56,
     "metadata": {},
     "output_type": "execute_result"
    }
   ],
   "source": [
    "readdir()"
   ]
  },
  {
   "cell_type": "code",
   "execution_count": 57,
   "id": "55e4cc21-504b-4007-a668-ceeabc73e0ed",
   "metadata": {},
   "outputs": [
    {
     "data": {
      "text/html": [
       "<div class=\"data-frame\"><p>1,033 rows × 9 columns</p><table class=\"data-frame\"><thead><tr><th></th><th>No.</th><th>1</th><th>2</th><th>3</th><th>4</th><th>5</th><th>6</th><th>7</th><th>Column9</th></tr><tr><th></th><th title=\"Int64\">Int64</th><th title=\"Int64\">Int64</th><th title=\"Int64\">Int64</th><th title=\"Int64\">Int64</th><th title=\"Int64\">Int64</th><th title=\"Int64\">Int64</th><th title=\"Int64\">Int64</th><th title=\"Int64\">Int64</th><th title=\"Union{Missing, Int64}\">Int64?</th></tr></thead><tbody><tr><th>1</th><td>1</td><td>10</td><td>23</td><td>29</td><td>33</td><td>37</td><td>40</td><td>16</td><td><em>missing</em></td></tr><tr><th>2</th><td>2</td><td>9</td><td>13</td><td>21</td><td>25</td><td>32</td><td>42</td><td>2</td><td><em>missing</em></td></tr><tr><th>3</th><td>3</td><td>11</td><td>16</td><td>19</td><td>21</td><td>27</td><td>31</td><td>30</td><td><em>missing</em></td></tr><tr><th>4</th><td>4</td><td>14</td><td>27</td><td>30</td><td>31</td><td>40</td><td>42</td><td>2</td><td><em>missing</em></td></tr><tr><th>5</th><td>5</td><td>16</td><td>24</td><td>29</td><td>40</td><td>41</td><td>42</td><td>3</td><td><em>missing</em></td></tr><tr><th>6</th><td>6</td><td>14</td><td>15</td><td>26</td><td>27</td><td>40</td><td>42</td><td>34</td><td><em>missing</em></td></tr><tr><th>7</th><td>7</td><td>2</td><td>9</td><td>16</td><td>25</td><td>26</td><td>40</td><td>42</td><td><em>missing</em></td></tr><tr><th>8</th><td>8</td><td>8</td><td>19</td><td>25</td><td>34</td><td>37</td><td>39</td><td>9</td><td><em>missing</em></td></tr><tr><th>9</th><td>9</td><td>2</td><td>4</td><td>16</td><td>17</td><td>36</td><td>39</td><td>14</td><td><em>missing</em></td></tr><tr><th>10</th><td>10</td><td>9</td><td>25</td><td>30</td><td>33</td><td>41</td><td>44</td><td>6</td><td><em>missing</em></td></tr><tr><th>11</th><td>11</td><td>1</td><td>7</td><td>36</td><td>37</td><td>41</td><td>42</td><td>14</td><td><em>missing</em></td></tr><tr><th>12</th><td>12</td><td>2</td><td>11</td><td>21</td><td>25</td><td>39</td><td>45</td><td>44</td><td><em>missing</em></td></tr><tr><th>13</th><td>13</td><td>22</td><td>23</td><td>25</td><td>37</td><td>38</td><td>42</td><td>26</td><td><em>missing</em></td></tr><tr><th>14</th><td>14</td><td>2</td><td>6</td><td>12</td><td>31</td><td>33</td><td>40</td><td>15</td><td><em>missing</em></td></tr><tr><th>15</th><td>15</td><td>3</td><td>4</td><td>16</td><td>30</td><td>31</td><td>37</td><td>13</td><td><em>missing</em></td></tr><tr><th>16</th><td>16</td><td>6</td><td>7</td><td>24</td><td>37</td><td>38</td><td>40</td><td>33</td><td><em>missing</em></td></tr><tr><th>17</th><td>17</td><td>3</td><td>4</td><td>9</td><td>17</td><td>32</td><td>37</td><td>1</td><td><em>missing</em></td></tr><tr><th>18</th><td>18</td><td>3</td><td>12</td><td>13</td><td>19</td><td>32</td><td>35</td><td>29</td><td><em>missing</em></td></tr><tr><th>19</th><td>19</td><td>6</td><td>30</td><td>38</td><td>39</td><td>40</td><td>43</td><td>26</td><td><em>missing</em></td></tr><tr><th>20</th><td>20</td><td>10</td><td>14</td><td>18</td><td>20</td><td>23</td><td>30</td><td>41</td><td><em>missing</em></td></tr><tr><th>21</th><td>21</td><td>6</td><td>12</td><td>17</td><td>18</td><td>31</td><td>32</td><td>21</td><td><em>missing</em></td></tr><tr><th>22</th><td>22</td><td>4</td><td>5</td><td>6</td><td>8</td><td>17</td><td>39</td><td>25</td><td><em>missing</em></td></tr><tr><th>23</th><td>23</td><td>5</td><td>13</td><td>17</td><td>18</td><td>33</td><td>42</td><td>44</td><td><em>missing</em></td></tr><tr><th>24</th><td>24</td><td>7</td><td>8</td><td>27</td><td>29</td><td>36</td><td>43</td><td>6</td><td><em>missing</em></td></tr><tr><th>25</th><td>25</td><td>2</td><td>4</td><td>21</td><td>26</td><td>43</td><td>44</td><td>16</td><td><em>missing</em></td></tr><tr><th>26</th><td>26</td><td>4</td><td>5</td><td>7</td><td>18</td><td>20</td><td>25</td><td>31</td><td><em>missing</em></td></tr><tr><th>27</th><td>27</td><td>1</td><td>20</td><td>26</td><td>28</td><td>37</td><td>43</td><td>27</td><td><em>missing</em></td></tr><tr><th>28</th><td>28</td><td>9</td><td>18</td><td>23</td><td>25</td><td>35</td><td>37</td><td>1</td><td><em>missing</em></td></tr><tr><th>29</th><td>29</td><td>1</td><td>5</td><td>13</td><td>34</td><td>39</td><td>40</td><td>11</td><td><em>missing</em></td></tr><tr><th>30</th><td>30</td><td>8</td><td>17</td><td>20</td><td>35</td><td>36</td><td>44</td><td>4</td><td><em>missing</em></td></tr><tr><th>&vellip;</th><td>&vellip;</td><td>&vellip;</td><td>&vellip;</td><td>&vellip;</td><td>&vellip;</td><td>&vellip;</td><td>&vellip;</td><td>&vellip;</td><td>&vellip;</td></tr></tbody></table></div>"
      ],
      "text/latex": [
       "\\begin{tabular}{r|ccccccccc}\n",
       "\t& No. & 1 & 2 & 3 & 4 & 5 & 6 & 7 & Column9\\\\\n",
       "\t\\hline\n",
       "\t& Int64 & Int64 & Int64 & Int64 & Int64 & Int64 & Int64 & Int64 & Int64?\\\\\n",
       "\t\\hline\n",
       "\t1 & 1 & 10 & 23 & 29 & 33 & 37 & 40 & 16 & \\emph{missing} \\\\\n",
       "\t2 & 2 & 9 & 13 & 21 & 25 & 32 & 42 & 2 & \\emph{missing} \\\\\n",
       "\t3 & 3 & 11 & 16 & 19 & 21 & 27 & 31 & 30 & \\emph{missing} \\\\\n",
       "\t4 & 4 & 14 & 27 & 30 & 31 & 40 & 42 & 2 & \\emph{missing} \\\\\n",
       "\t5 & 5 & 16 & 24 & 29 & 40 & 41 & 42 & 3 & \\emph{missing} \\\\\n",
       "\t6 & 6 & 14 & 15 & 26 & 27 & 40 & 42 & 34 & \\emph{missing} \\\\\n",
       "\t7 & 7 & 2 & 9 & 16 & 25 & 26 & 40 & 42 & \\emph{missing} \\\\\n",
       "\t8 & 8 & 8 & 19 & 25 & 34 & 37 & 39 & 9 & \\emph{missing} \\\\\n",
       "\t9 & 9 & 2 & 4 & 16 & 17 & 36 & 39 & 14 & \\emph{missing} \\\\\n",
       "\t10 & 10 & 9 & 25 & 30 & 33 & 41 & 44 & 6 & \\emph{missing} \\\\\n",
       "\t11 & 11 & 1 & 7 & 36 & 37 & 41 & 42 & 14 & \\emph{missing} \\\\\n",
       "\t12 & 12 & 2 & 11 & 21 & 25 & 39 & 45 & 44 & \\emph{missing} \\\\\n",
       "\t13 & 13 & 22 & 23 & 25 & 37 & 38 & 42 & 26 & \\emph{missing} \\\\\n",
       "\t14 & 14 & 2 & 6 & 12 & 31 & 33 & 40 & 15 & \\emph{missing} \\\\\n",
       "\t15 & 15 & 3 & 4 & 16 & 30 & 31 & 37 & 13 & \\emph{missing} \\\\\n",
       "\t16 & 16 & 6 & 7 & 24 & 37 & 38 & 40 & 33 & \\emph{missing} \\\\\n",
       "\t17 & 17 & 3 & 4 & 9 & 17 & 32 & 37 & 1 & \\emph{missing} \\\\\n",
       "\t18 & 18 & 3 & 12 & 13 & 19 & 32 & 35 & 29 & \\emph{missing} \\\\\n",
       "\t19 & 19 & 6 & 30 & 38 & 39 & 40 & 43 & 26 & \\emph{missing} \\\\\n",
       "\t20 & 20 & 10 & 14 & 18 & 20 & 23 & 30 & 41 & \\emph{missing} \\\\\n",
       "\t21 & 21 & 6 & 12 & 17 & 18 & 31 & 32 & 21 & \\emph{missing} \\\\\n",
       "\t22 & 22 & 4 & 5 & 6 & 8 & 17 & 39 & 25 & \\emph{missing} \\\\\n",
       "\t23 & 23 & 5 & 13 & 17 & 18 & 33 & 42 & 44 & \\emph{missing} \\\\\n",
       "\t24 & 24 & 7 & 8 & 27 & 29 & 36 & 43 & 6 & \\emph{missing} \\\\\n",
       "\t25 & 25 & 2 & 4 & 21 & 26 & 43 & 44 & 16 & \\emph{missing} \\\\\n",
       "\t26 & 26 & 4 & 5 & 7 & 18 & 20 & 25 & 31 & \\emph{missing} \\\\\n",
       "\t27 & 27 & 1 & 20 & 26 & 28 & 37 & 43 & 27 & \\emph{missing} \\\\\n",
       "\t28 & 28 & 9 & 18 & 23 & 25 & 35 & 37 & 1 & \\emph{missing} \\\\\n",
       "\t29 & 29 & 1 & 5 & 13 & 34 & 39 & 40 & 11 & \\emph{missing} \\\\\n",
       "\t30 & 30 & 8 & 17 & 20 & 35 & 36 & 44 & 4 & \\emph{missing} \\\\\n",
       "\t$\\dots$ & $\\dots$ & $\\dots$ & $\\dots$ & $\\dots$ & $\\dots$ & $\\dots$ & $\\dots$ & $\\dots$ & $\\dots$ \\\\\n",
       "\\end{tabular}\n"
      ],
      "text/plain": [
       "\u001b[1m1033×9 DataFrame\u001b[0m\n",
       "\u001b[1m  Row \u001b[0m│\u001b[1m No.   \u001b[0m\u001b[1m 1     \u001b[0m\u001b[1m 2     \u001b[0m\u001b[1m 3     \u001b[0m\u001b[1m 4     \u001b[0m\u001b[1m 5     \u001b[0m\u001b[1m 6     \u001b[0m\u001b[1m 7     \u001b[0m\u001b[1m Column9 \u001b[0m\n",
       "\u001b[1m      \u001b[0m│\u001b[90m Int64 \u001b[0m\u001b[90m Int64 \u001b[0m\u001b[90m Int64 \u001b[0m\u001b[90m Int64 \u001b[0m\u001b[90m Int64 \u001b[0m\u001b[90m Int64 \u001b[0m\u001b[90m Int64 \u001b[0m\u001b[90m Int64 \u001b[0m\u001b[90m Int64?  \u001b[0m\n",
       "──────┼─────────────────────────────────────────────────────────────────\n",
       "    1 │     1     10     23     29     33     37     40     16 \u001b[90m missing \u001b[0m\n",
       "    2 │     2      9     13     21     25     32     42      2 \u001b[90m missing \u001b[0m\n",
       "    3 │     3     11     16     19     21     27     31     30 \u001b[90m missing \u001b[0m\n",
       "    4 │     4     14     27     30     31     40     42      2 \u001b[90m missing \u001b[0m\n",
       "    5 │     5     16     24     29     40     41     42      3 \u001b[90m missing \u001b[0m\n",
       "    6 │     6     14     15     26     27     40     42     34 \u001b[90m missing \u001b[0m\n",
       "    7 │     7      2      9     16     25     26     40     42 \u001b[90m missing \u001b[0m\n",
       "    8 │     8      8     19     25     34     37     39      9 \u001b[90m missing \u001b[0m\n",
       "    9 │     9      2      4     16     17     36     39     14 \u001b[90m missing \u001b[0m\n",
       "   10 │    10      9     25     30     33     41     44      6 \u001b[90m missing \u001b[0m\n",
       "   11 │    11      1      7     36     37     41     42     14 \u001b[90m missing \u001b[0m\n",
       "  ⋮   │   ⋮      ⋮      ⋮      ⋮      ⋮      ⋮      ⋮      ⋮       ⋮\n",
       " 1024 │  1024      9     18     20     22     38     44     10 \u001b[90m missing \u001b[0m\n",
       " 1025 │  1025      8      9     20     25     29     33      7 \u001b[90m missing \u001b[0m\n",
       " 1026 │  1026      5     12     13     31     32     41     34 \u001b[90m missing \u001b[0m\n",
       " 1027 │  1027     14     16     27     35     39     45      5 \u001b[90m missing \u001b[0m\n",
       " 1028 │  1028      5      7     12     13     18     35     23 \u001b[90m missing \u001b[0m\n",
       " 1029 │  1029     12     30     32     37     39     41     24 \u001b[90m missing \u001b[0m\n",
       " 1030 │  1030      2      5     11     17     24     29      9 \u001b[90m missing \u001b[0m\n",
       " 1031 │  1031      6      7     22     32     35     36     19 \u001b[90m missing \u001b[0m\n",
       " 1032 │  1032      1      6     12     19     36     42     28 \u001b[90m missing \u001b[0m\n",
       " 1033 │  1033      3     11     15     20     35     44     10  8711223\n",
       "\u001b[36m                                                       1012 rows omitted\u001b[0m"
      ]
     },
     "execution_count": 57,
     "metadata": {},
     "output_type": "execute_result"
    }
   ],
   "source": [
    "six_num = CSV.read(\"six_number.csv\", DataFrame)"
   ]
  },
  {
   "cell_type": "markdown",
   "id": "e0c540d5-dd7e-4f27-88e7-f45ed4d5b575",
   "metadata": {},
   "source": [
    "* CSV 패키지에 대해 더 알아보고 싶다면 아래 공식문서를 참조\n",
    "\n",
    "    > https://csv.juliadata.org/stable/"
   ]
  },
  {
   "cell_type": "markdown",
   "id": "78bb9ce5-743e-4ed1-b315-ad129601dfac",
   "metadata": {},
   "source": [
    "### 4.1.2 Excel"
   ]
  },
  {
   "cell_type": "markdown",
   "id": "b81a537e-880f-4a71-9998-07ee7f6f5dbe",
   "metadata": {},
   "source": [
    "* **XLSX.jl** 패키지는 가장 활발히 유지보수 되고 있는 엑셀 전용 패키지이며, 순수 줄리아(pure julia)로 작성되어 있기 때문에 어떻게 작동되는지 이해하고 검사하기 쉽다. "
   ]
  },
  {
   "cell_type": "code",
   "execution_count": 59,
   "id": "dd09436f-bd6b-4465-bcf2-abaf6f092897",
   "metadata": {},
   "outputs": [],
   "source": [
    "using XLSX:\n",
    "    eachtablerow,\n",
    "    readxlsx,\n",
    "    writetable"
   ]
  },
  {
   "cell_type": "markdown",
   "id": "0fb6630b-3002-450d-a2a7-85e8e5266283",
   "metadata": {},
   "source": [
    "* 데이터와 컬럼명을 기록하는 사용자 정의 함수 생성"
   ]
  },
  {
   "cell_type": "code",
   "execution_count": 63,
   "id": "15baa376-d6c1-4851-9bef-1c4a0a094990",
   "metadata": {},
   "outputs": [
    {
     "data": {
      "text/plain": [
       "write_xlsx (generic function with 1 method)"
      ]
     },
     "execution_count": 63,
     "metadata": {},
     "output_type": "execute_result"
    }
   ],
   "source": [
    "function write_xlsx(name, df::DataFrame)\n",
    "    path = \"$name.xlsx\"\n",
    "    data = collect(eachcol(df))\n",
    "    cols = names(df)\n",
    "    writetable(path, data, cols)\n",
    "end"
   ]
  },
  {
   "cell_type": "markdown",
   "id": "8c8439fc-9172-42da-9211-0345f7ef275c",
   "metadata": {},
   "source": [
    "* 이제 쉽게 grades 데이터를 엑셀로 변환 -> 하지만 실제 사용하려고 하면 에러가 발생"
   ]
  },
  {
   "cell_type": "code",
   "execution_count": 73,
   "id": "1f8cce7c-9267-491f-899b-d2d24427c721",
   "metadata": {},
   "outputs": [
    {
     "data": {
      "text/plain": [
       "write_grades_xlsx (generic function with 1 method)"
      ]
     },
     "execution_count": 73,
     "metadata": {},
     "output_type": "execute_result"
    }
   ],
   "source": [
    "function write_grades_xlsx()\n",
    "    path = \"grades\"\n",
    "    write_xlsx(path, grades_2020())\n",
    "    \"$path.xlsx\"\n",
    "end"
   ]
  },
  {
   "cell_type": "markdown",
   "id": "c651d232-84a7-402c-8307-d5462fc1da4b",
   "metadata": {},
   "source": [
    "* 사용자 정의 함수는 에러가 발생하므로 다음과 같이 직접 xlsx 파일을 생성"
   ]
  },
  {
   "cell_type": "code",
   "execution_count": 87,
   "id": "20ce0ed5-cb42-4d24-ba18-3c13c925c52a",
   "metadata": {},
   "outputs": [],
   "source": [
    "writetable(\"grades.xlsx\", grades_df)"
   ]
  },
  {
   "cell_type": "code",
   "execution_count": 88,
   "id": "141d5f03-eca4-46e4-aa28-2e69c2e07ddd",
   "metadata": {},
   "outputs": [
    {
     "data": {
      "text/plain": [
       "XLSXFile(\"grades.xlsx\") containing 1 Worksheet\n",
       "            sheetname size          range        \n",
       "-------------------------------------------------\n",
       "               Sheet1 5x2           A1:B5        \n"
      ]
     },
     "execution_count": 88,
     "metadata": {},
     "output_type": "execute_result"
    }
   ],
   "source": [
    "xf = readxlsx(\"grades.xlsx\")"
   ]
  },
  {
   "cell_type": "code",
   "execution_count": 89,
   "id": "2a9969ab-0e97-4429-94ef-4670c04d4cf5",
   "metadata": {},
   "outputs": [
    {
     "data": {
      "text/html": [
       "<div class=\"data-frame\"><p>4 rows × 2 columns</p><table class=\"data-frame\"><thead><tr><th></th><th>name</th><th>grade_2020</th></tr><tr><th></th><th title=\"Any\">Any</th><th title=\"Any\">Any</th></tr></thead><tbody><tr><th>1</th><td>Sally</td><td>1.0</td></tr><tr><th>2</th><td>Bob</td><td>5.0</td></tr><tr><th>3</th><td>Alice</td><td>8.5</td></tr><tr><th>4</th><td>Hank</td><td>4.0</td></tr></tbody></table></div>"
      ],
      "text/latex": [
       "\\begin{tabular}{r|cc}\n",
       "\t& name & grade\\_2020\\\\\n",
       "\t\\hline\n",
       "\t& Any & Any\\\\\n",
       "\t\\hline\n",
       "\t1 & Sally & 1.0 \\\\\n",
       "\t2 & Bob & 5.0 \\\\\n",
       "\t3 & Alice & 8.5 \\\\\n",
       "\t4 & Hank & 4.0 \\\\\n",
       "\\end{tabular}\n"
      ],
      "text/plain": [
       "\u001b[1m4×2 DataFrame\u001b[0m\n",
       "\u001b[1m Row \u001b[0m│\u001b[1m name  \u001b[0m\u001b[1m grade_2020 \u001b[0m\n",
       "\u001b[1m     \u001b[0m│\u001b[90m Any   \u001b[0m\u001b[90m Any        \u001b[0m\n",
       "─────┼───────────────────\n",
       "   1 │ Sally  1.0\n",
       "   2 │ Bob    5.0\n",
       "   3 │ Alice  8.5\n",
       "   4 │ Hank   4.0"
      ]
     },
     "execution_count": 89,
     "metadata": {},
     "output_type": "execute_result"
    }
   ],
   "source": [
    "sheet = xf[\"Sheet1\"]\n",
    "eachtablerow(sheet) |> DataFrame"
   ]
  },
  {
   "cell_type": "markdown",
   "id": "6d95084a-c05e-4377-adc4-aa6b14285745",
   "metadata": {},
   "source": [
    "* 더 확인이 필요한 부분은 XLSX.jl 공식문서 참조\n",
    "\n",
    "> https://felipenoris.github.io/XLSX.jl/stable/"
   ]
  },
  {
   "cell_type": "markdown",
   "id": "46beed44-1a08-4755-9b13-6be176e5adb8",
   "metadata": {},
   "source": [
    "## 4.2 Index and Summarize"
   ]
  },
  {
   "cell_type": "code",
   "execution_count": 94,
   "id": "aa9b4e8f-59ea-4fe2-922e-62ac3ea00d64",
   "metadata": {},
   "outputs": [
    {
     "data": {
      "text/html": [
       "<div class=\"data-frame\"><p>4 rows × 2 columns</p><table class=\"data-frame\"><thead><tr><th></th><th>name</th><th>grade_2020</th></tr><tr><th></th><th title=\"Any\">Any</th><th title=\"Any\">Any</th></tr></thead><tbody><tr><th>1</th><td>Sally</td><td>1.0</td></tr><tr><th>2</th><td>Bob</td><td>5.0</td></tr><tr><th>3</th><td>Alice</td><td>8.5</td></tr><tr><th>4</th><td>Hank</td><td>4.0</td></tr></tbody></table></div>"
      ],
      "text/latex": [
       "\\begin{tabular}{r|cc}\n",
       "\t& name & grade\\_2020\\\\\n",
       "\t\\hline\n",
       "\t& Any & Any\\\\\n",
       "\t\\hline\n",
       "\t1 & Sally & 1.0 \\\\\n",
       "\t2 & Bob & 5.0 \\\\\n",
       "\t3 & Alice & 8.5 \\\\\n",
       "\t4 & Hank & 4.0 \\\\\n",
       "\\end{tabular}\n"
      ],
      "text/plain": [
       "\u001b[1m4×2 DataFrame\u001b[0m\n",
       "\u001b[1m Row \u001b[0m│\u001b[1m name  \u001b[0m\u001b[1m grade_2020 \u001b[0m\n",
       "\u001b[1m     \u001b[0m│\u001b[90m Any   \u001b[0m\u001b[90m Any        \u001b[0m\n",
       "─────┼───────────────────\n",
       "   1 │ Sally  1.0\n",
       "   2 │ Bob    5.0\n",
       "   3 │ Alice  8.5\n",
       "   4 │ Hank   4.0"
      ]
     },
     "execution_count": 94,
     "metadata": {},
     "output_type": "execute_result"
    }
   ],
   "source": [
    "xf = readxlsx(\"grades.xlsx\")\n",
    "sheet = xf[\"Sheet1\"]\n",
    "grades_2020_df = (eachtablerow(sheet) |> DataFrame)"
   ]
  },
  {
   "cell_type": "code",
   "execution_count": 95,
   "id": "f5289964-6c00-49e4-9f49-a13ecf6abd4a",
   "metadata": {},
   "outputs": [
    {
     "data": {
      "text/html": [
       "<div class=\"data-frame\"><p>4 rows × 2 columns</p><table class=\"data-frame\"><thead><tr><th></th><th>name</th><th>grade_2020</th></tr><tr><th></th><th title=\"Any\">Any</th><th title=\"Any\">Any</th></tr></thead><tbody><tr><th>1</th><td>Sally</td><td>1.0</td></tr><tr><th>2</th><td>Bob</td><td>5.0</td></tr><tr><th>3</th><td>Alice</td><td>8.5</td></tr><tr><th>4</th><td>Hank</td><td>4.0</td></tr></tbody></table></div>"
      ],
      "text/latex": [
       "\\begin{tabular}{r|cc}\n",
       "\t& name & grade\\_2020\\\\\n",
       "\t\\hline\n",
       "\t& Any & Any\\\\\n",
       "\t\\hline\n",
       "\t1 & Sally & 1.0 \\\\\n",
       "\t2 & Bob & 5.0 \\\\\n",
       "\t3 & Alice & 8.5 \\\\\n",
       "\t4 & Hank & 4.0 \\\\\n",
       "\\end{tabular}\n"
      ],
      "text/plain": [
       "\u001b[1m4×2 DataFrame\u001b[0m\n",
       "\u001b[1m Row \u001b[0m│\u001b[1m name  \u001b[0m\u001b[1m grade_2020 \u001b[0m\n",
       "\u001b[1m     \u001b[0m│\u001b[90m Any   \u001b[0m\u001b[90m Any        \u001b[0m\n",
       "─────┼───────────────────\n",
       "   1 │ Sally  1.0\n",
       "   2 │ Bob    5.0\n",
       "   3 │ Alice  8.5\n",
       "   4 │ Hank   4.0"
      ]
     },
     "execution_count": 95,
     "metadata": {},
     "output_type": "execute_result"
    }
   ],
   "source": [
    "grades_2020_df"
   ]
  },
  {
   "cell_type": "markdown",
   "id": "72004e29-61bb-4509-908c-b1695c32b7b5",
   "metadata": {},
   "source": [
    "* 컬럼명을 ```.``` 연결하여 컬럼벡터 추출이 가능함"
   ]
  },
  {
   "cell_type": "code",
   "execution_count": 96,
   "id": "510e89d0-623d-4e34-8934-2101ce75d04a",
   "metadata": {},
   "outputs": [
    {
     "data": {
      "text/plain": [
       "4-element Vector{Any}:\n",
       " \"Sally\"\n",
       " \"Bob\"\n",
       " \"Alice\"\n",
       " \"Hank\""
      ]
     },
     "execution_count": 96,
     "metadata": {},
     "output_type": "execute_result"
    }
   ],
   "source": [
    "grades_2020_df.name"
   ]
  },
  {
   "cell_type": "markdown",
   "id": "2e40f6b6-ee08-4ef4-8541-0746237a2de6",
   "metadata": {},
   "source": [
    "* column indexing을 이용한 방법"
   ]
  },
  {
   "cell_type": "code",
   "execution_count": 98,
   "id": "b2df83eb-e72a-4e77-b4cc-56fc02d73491",
   "metadata": {},
   "outputs": [
    {
     "data": {
      "text/plain": [
       "4-element Vector{Any}:\n",
       " \"Sally\"\n",
       " \"Bob\"\n",
       " \"Alice\"\n",
       " \"Hank\""
      ]
     },
     "execution_count": 98,
     "metadata": {},
     "output_type": "execute_result"
    }
   ],
   "source": [
    "grades_2020_df[!, :name]"
   ]
  },
  {
   "cell_type": "code",
   "execution_count": 99,
   "id": "ab3ba648-7c88-41a3-9971-43607fbd83e1",
   "metadata": {},
   "outputs": [
    {
     "data": {
      "text/plain": [
       "4-element Vector{Any}:\n",
       " \"Sally\"\n",
       " \"Bob\"\n",
       " \"Alice\"\n",
       " \"Hank\""
      ]
     },
     "execution_count": 99,
     "metadata": {},
     "output_type": "execute_result"
    }
   ],
   "source": [
    "grades_2020_df[:,:name]"
   ]
  },
  {
   "cell_type": "code",
   "execution_count": 100,
   "id": "1e4d453e-1aaf-447e-9de8-d54d41553037",
   "metadata": {},
   "outputs": [
    {
     "data": {
      "text/plain": [
       "2-element Vector{Any}:\n",
       " \"Sally\"\n",
       " \"Bob\""
      ]
     },
     "execution_count": 100,
     "metadata": {},
     "output_type": "execute_result"
    }
   ],
   "source": [
    "grades_2020_df[1:2, :name]"
   ]
  },
  {
   "cell_type": "markdown",
   "id": "ca073db6-c65e-4ade-af0f-51342a7d5365",
   "metadata": {},
   "source": [
    "* collect 함수와 zip 함수를 이용, 두 열을 하나의 tuple로 묶을 수 있음"
   ]
  },
  {
   "cell_type": "code",
   "execution_count": 101,
   "id": "f5733e61-0dc1-4635-9f76-5e21a677ab87",
   "metadata": {},
   "outputs": [
    {
     "data": {
      "text/plain": [
       "4-element Vector{Tuple{Any, Any}}:\n",
       " (\"Sally\", 1.0)\n",
       " (\"Bob\", 5.0)\n",
       " (\"Alice\", 8.5)\n",
       " (\"Hank\", 4.0)"
      ]
     },
     "execution_count": 101,
     "metadata": {},
     "output_type": "execute_result"
    }
   ],
   "source": [
    "collect(zip(grades_2020_df.name, grades_2020_df.grade_2020))"
   ]
  },
  {
   "cell_type": "markdown",
   "id": "2fab8f91-b578-4348-9d7a-b05b0ad41416",
   "metadata": {},
   "source": [
    "## 4.3 Filter and subset"
   ]
  },
  {
   "cell_type": "markdown",
   "id": "981ac89a-e353-4add-a6a9-915264ede382",
   "metadata": {},
   "source": [
    "### 4.3.1 Filter"
   ]
  },
  {
   "cell_type": "markdown",
   "id": "b44b2817-464b-451a-a9ed-929e0799e72b",
   "metadata": {},
   "source": [
    "* 멀티플 디스패치(multiple dispatch)를 통해 줄리아의 기본 함수인 filter를 데이터 프레임에 적용 가능"
   ]
  },
  {
   "cell_type": "code",
   "execution_count": 103,
   "id": "4c0ad1d4-5a22-4f99-b7f4-06c56eedb934",
   "metadata": {},
   "outputs": [
    {
     "data": {
      "text/plain": [
       "equals_alice (generic function with 1 method)"
      ]
     },
     "execution_count": 103,
     "metadata": {},
     "output_type": "execute_result"
    }
   ],
   "source": [
    "equals_alice(name::String) = name == \"Alice\""
   ]
  },
  {
   "cell_type": "code",
   "execution_count": 104,
   "id": "4b223e82-10b5-4094-b9af-e4b9c9be2cca",
   "metadata": {},
   "outputs": [
    {
     "data": {
      "text/plain": [
       "true"
      ]
     },
     "execution_count": 104,
     "metadata": {},
     "output_type": "execute_result"
    }
   ],
   "source": [
    "equals_alice(\"Alice\")"
   ]
  },
  {
   "cell_type": "code",
   "execution_count": 105,
   "id": "84e24c75-652b-4b0f-8b25-c1a414d01cdd",
   "metadata": {},
   "outputs": [
    {
     "data": {
      "text/html": [
       "<div class=\"data-frame\"><p>1 rows × 2 columns</p><table class=\"data-frame\"><thead><tr><th></th><th>name</th><th>grade_2020</th></tr><tr><th></th><th title=\"String\">String</th><th title=\"Float64\">Float64</th></tr></thead><tbody><tr><th>1</th><td>Alice</td><td>8.5</td></tr></tbody></table></div>"
      ],
      "text/latex": [
       "\\begin{tabular}{r|cc}\n",
       "\t& name & grade\\_2020\\\\\n",
       "\t\\hline\n",
       "\t& String & Float64\\\\\n",
       "\t\\hline\n",
       "\t1 & Alice & 8.5 \\\\\n",
       "\\end{tabular}\n"
      ],
      "text/plain": [
       "\u001b[1m1×2 DataFrame\u001b[0m\n",
       "\u001b[1m Row \u001b[0m│\u001b[1m name   \u001b[0m\u001b[1m grade_2020 \u001b[0m\n",
       "\u001b[1m     \u001b[0m│\u001b[90m String \u001b[0m\u001b[90m Float64    \u001b[0m\n",
       "─────┼────────────────────\n",
       "   1 │ Alice          8.5"
      ]
     },
     "execution_count": 105,
     "metadata": {},
     "output_type": "execute_result"
    }
   ],
   "source": [
    "filter(:name => equals_alice, grades_2020())"
   ]
  },
  {
   "cell_type": "code",
   "execution_count": 106,
   "id": "7acbbb50-4187-4f52-8e69-fed98b0f5fe9",
   "metadata": {},
   "outputs": [
    {
     "data": {
      "text/plain": [
       "1-element Vector{String}:\n",
       " \"Alice\""
      ]
     },
     "execution_count": 106,
     "metadata": {},
     "output_type": "execute_result"
    }
   ],
   "source": [
    "filter(equals_alice, [\"Alice\", \"Bob\", \"Dave\"])"
   ]
  },
  {
   "cell_type": "code",
   "execution_count": 107,
   "id": "3d2c4197-c970-4235-a0f0-4f7232a88a5b",
   "metadata": {},
   "outputs": [
    {
     "data": {
      "text/plain": [
       "1-element Vector{String}:\n",
       " \"Alice\""
      ]
     },
     "execution_count": 107,
     "metadata": {},
     "output_type": "execute_result"
    }
   ],
   "source": [
    "filter(n -> n == \"Alice\", [\"Alice\", \"Bob\", \"Dave\"])"
   ]
  },
  {
   "cell_type": "code",
   "execution_count": 108,
   "id": "2f13be94-f1b3-4982-995f-99c8cab3bf6b",
   "metadata": {},
   "outputs": [
    {
     "data": {
      "text/html": [
       "<div class=\"data-frame\"><p>1 rows × 2 columns</p><table class=\"data-frame\"><thead><tr><th></th><th>name</th><th>grade_2020</th></tr><tr><th></th><th title=\"String\">String</th><th title=\"Float64\">Float64</th></tr></thead><tbody><tr><th>1</th><td>Alice</td><td>8.5</td></tr></tbody></table></div>"
      ],
      "text/latex": [
       "\\begin{tabular}{r|cc}\n",
       "\t& name & grade\\_2020\\\\\n",
       "\t\\hline\n",
       "\t& String & Float64\\\\\n",
       "\t\\hline\n",
       "\t1 & Alice & 8.5 \\\\\n",
       "\\end{tabular}\n"
      ],
      "text/plain": [
       "\u001b[1m1×2 DataFrame\u001b[0m\n",
       "\u001b[1m Row \u001b[0m│\u001b[1m name   \u001b[0m\u001b[1m grade_2020 \u001b[0m\n",
       "\u001b[1m     \u001b[0m│\u001b[90m String \u001b[0m\u001b[90m Float64    \u001b[0m\n",
       "─────┼────────────────────\n",
       "   1 │ Alice          8.5"
      ]
     },
     "execution_count": 108,
     "metadata": {},
     "output_type": "execute_result"
    }
   ],
   "source": [
    "filter(:name => n -> n == \"Alice\", grades_2020())"
   ]
  },
  {
   "cell_type": "code",
   "execution_count": 109,
   "id": "3f392e1b-20d3-436b-aad4-e148cec73df6",
   "metadata": {},
   "outputs": [
    {
     "data": {
      "text/html": [
       "<div class=\"data-frame\"><p>1 rows × 2 columns</p><table class=\"data-frame\"><thead><tr><th></th><th>name</th><th>grade_2020</th></tr><tr><th></th><th title=\"String\">String</th><th title=\"Float64\">Float64</th></tr></thead><tbody><tr><th>1</th><td>Alice</td><td>8.5</td></tr></tbody></table></div>"
      ],
      "text/latex": [
       "\\begin{tabular}{r|cc}\n",
       "\t& name & grade\\_2020\\\\\n",
       "\t\\hline\n",
       "\t& String & Float64\\\\\n",
       "\t\\hline\n",
       "\t1 & Alice & 8.5 \\\\\n",
       "\\end{tabular}\n"
      ],
      "text/plain": [
       "\u001b[1m1×2 DataFrame\u001b[0m\n",
       "\u001b[1m Row \u001b[0m│\u001b[1m name   \u001b[0m\u001b[1m grade_2020 \u001b[0m\n",
       "\u001b[1m     \u001b[0m│\u001b[90m String \u001b[0m\u001b[90m Float64    \u001b[0m\n",
       "─────┼────────────────────\n",
       "   1 │ Alice          8.5"
      ]
     },
     "execution_count": 109,
     "metadata": {},
     "output_type": "execute_result"
    }
   ],
   "source": [
    "filter(:name => ==(\"Alice\"), grades_2020())"
   ]
  },
  {
   "cell_type": "code",
   "execution_count": 110,
   "id": "9038e094-9799-4b7b-9a88-dd772e15d400",
   "metadata": {},
   "outputs": [
    {
     "data": {
      "text/html": [
       "<div class=\"data-frame\"><p>3 rows × 2 columns</p><table class=\"data-frame\"><thead><tr><th></th><th>name</th><th>grade_2020</th></tr><tr><th></th><th title=\"String\">String</th><th title=\"Float64\">Float64</th></tr></thead><tbody><tr><th>1</th><td>Sally</td><td>1.0</td></tr><tr><th>2</th><td>Bob</td><td>5.0</td></tr><tr><th>3</th><td>Hank</td><td>4.0</td></tr></tbody></table></div>"
      ],
      "text/latex": [
       "\\begin{tabular}{r|cc}\n",
       "\t& name & grade\\_2020\\\\\n",
       "\t\\hline\n",
       "\t& String & Float64\\\\\n",
       "\t\\hline\n",
       "\t1 & Sally & 1.0 \\\\\n",
       "\t2 & Bob & 5.0 \\\\\n",
       "\t3 & Hank & 4.0 \\\\\n",
       "\\end{tabular}\n"
      ],
      "text/plain": [
       "\u001b[1m3×2 DataFrame\u001b[0m\n",
       "\u001b[1m Row \u001b[0m│\u001b[1m name   \u001b[0m\u001b[1m grade_2020 \u001b[0m\n",
       "\u001b[1m     \u001b[0m│\u001b[90m String \u001b[0m\u001b[90m Float64    \u001b[0m\n",
       "─────┼────────────────────\n",
       "   1 │ Sally          1.0\n",
       "   2 │ Bob            5.0\n",
       "   3 │ Hank           4.0"
      ]
     },
     "execution_count": 110,
     "metadata": {},
     "output_type": "execute_result"
    }
   ],
   "source": [
    "filter(:name => !=(\"Alice\"), grades_2020())"
   ]
  },
  {
   "cell_type": "code",
   "execution_count": 111,
   "id": "c1c72887-85d6-4ee6-8fe3-07b5af7f2ea1",
   "metadata": {},
   "outputs": [
    {
     "data": {
      "text/plain": [
       "complex_filter (generic function with 1 method)"
      ]
     },
     "execution_count": 111,
     "metadata": {},
     "output_type": "execute_result"
    }
   ],
   "source": [
    "function complex_filter(name, grade)::Bool\n",
    "    interesting_name = startswith(name, 'A') || startswith(name, 'B')\n",
    "    interesting_grade = 6 < grade\n",
    "    interesting_name && interesting_grade\n",
    "end"
   ]
  },
  {
   "cell_type": "code",
   "execution_count": 112,
   "id": "e840a8a4-301c-42c0-a628-394f67fefe55",
   "metadata": {},
   "outputs": [
    {
     "data": {
      "text/html": [
       "<div class=\"data-frame\"><p>1 rows × 2 columns</p><table class=\"data-frame\"><thead><tr><th></th><th>name</th><th>grade_2020</th></tr><tr><th></th><th title=\"String\">String</th><th title=\"Float64\">Float64</th></tr></thead><tbody><tr><th>1</th><td>Alice</td><td>8.5</td></tr></tbody></table></div>"
      ],
      "text/latex": [
       "\\begin{tabular}{r|cc}\n",
       "\t& name & grade\\_2020\\\\\n",
       "\t\\hline\n",
       "\t& String & Float64\\\\\n",
       "\t\\hline\n",
       "\t1 & Alice & 8.5 \\\\\n",
       "\\end{tabular}\n"
      ],
      "text/plain": [
       "\u001b[1m1×2 DataFrame\u001b[0m\n",
       "\u001b[1m Row \u001b[0m│\u001b[1m name   \u001b[0m\u001b[1m grade_2020 \u001b[0m\n",
       "\u001b[1m     \u001b[0m│\u001b[90m String \u001b[0m\u001b[90m Float64    \u001b[0m\n",
       "─────┼────────────────────\n",
       "   1 │ Alice          8.5"
      ]
     },
     "execution_count": 112,
     "metadata": {},
     "output_type": "execute_result"
    }
   ],
   "source": [
    "filter([:name, :grade_2020] => complex_filter, grades_2020())"
   ]
  },
  {
   "cell_type": "markdown",
   "id": "08dbd950-01d7-433e-a66f-12407a1b029e",
   "metadata": {},
   "source": [
    "### 4.3.2 Subset"
   ]
  },
  {
   "cell_type": "code",
   "execution_count": 113,
   "id": "8a00466f-da04-44ae-b9e1-6fa60b8d5292",
   "metadata": {},
   "outputs": [
    {
     "data": {
      "text/html": [
       "<div class=\"data-frame\"><p>1 rows × 2 columns</p><table class=\"data-frame\"><thead><tr><th></th><th>name</th><th>grade_2020</th></tr><tr><th></th><th title=\"String\">String</th><th title=\"Float64\">Float64</th></tr></thead><tbody><tr><th>1</th><td>Alice</td><td>8.5</td></tr></tbody></table></div>"
      ],
      "text/latex": [
       "\\begin{tabular}{r|cc}\n",
       "\t& name & grade\\_2020\\\\\n",
       "\t\\hline\n",
       "\t& String & Float64\\\\\n",
       "\t\\hline\n",
       "\t1 & Alice & 8.5 \\\\\n",
       "\\end{tabular}\n"
      ],
      "text/plain": [
       "\u001b[1m1×2 DataFrame\u001b[0m\n",
       "\u001b[1m Row \u001b[0m│\u001b[1m name   \u001b[0m\u001b[1m grade_2020 \u001b[0m\n",
       "\u001b[1m     \u001b[0m│\u001b[90m String \u001b[0m\u001b[90m Float64    \u001b[0m\n",
       "─────┼────────────────────\n",
       "   1 │ Alice          8.5"
      ]
     },
     "execution_count": 113,
     "metadata": {},
     "output_type": "execute_result"
    }
   ],
   "source": [
    "subset(grades_2020(), :name => ByRow(equals_alice))"
   ]
  },
  {
   "cell_type": "code",
   "execution_count": 114,
   "id": "b1567c9a-a28e-4383-9378-7af62fac4091",
   "metadata": {},
   "outputs": [
    {
     "data": {
      "text/html": [
       "<div class=\"data-frame\"><p>1 rows × 2 columns</p><table class=\"data-frame\"><thead><tr><th></th><th>name</th><th>grade_2020</th></tr><tr><th></th><th title=\"String\">String</th><th title=\"Float64\">Float64</th></tr></thead><tbody><tr><th>1</th><td>Alice</td><td>8.5</td></tr></tbody></table></div>"
      ],
      "text/latex": [
       "\\begin{tabular}{r|cc}\n",
       "\t& name & grade\\_2020\\\\\n",
       "\t\\hline\n",
       "\t& String & Float64\\\\\n",
       "\t\\hline\n",
       "\t1 & Alice & 8.5 \\\\\n",
       "\\end{tabular}\n"
      ],
      "text/plain": [
       "\u001b[1m1×2 DataFrame\u001b[0m\n",
       "\u001b[1m Row \u001b[0m│\u001b[1m name   \u001b[0m\u001b[1m grade_2020 \u001b[0m\n",
       "\u001b[1m     \u001b[0m│\u001b[90m String \u001b[0m\u001b[90m Float64    \u001b[0m\n",
       "─────┼────────────────────\n",
       "   1 │ Alice          8.5"
      ]
     },
     "execution_count": 114,
     "metadata": {},
     "output_type": "execute_result"
    }
   ],
   "source": [
    "subset(grades_2020(), :name => ByRow(==(\"Alice\")))"
   ]
  },
  {
   "cell_type": "markdown",
   "id": "031add8b-7410-4437-ba29-e2a89db5562e",
   "metadata": {},
   "source": [
    "* missing 데이터 처리에서 subset은 유용하다."
   ]
  },
  {
   "cell_type": "code",
   "execution_count": 116,
   "id": "8326a4de-fdba-4128-a3cd-3f70cbd17c1c",
   "metadata": {},
   "outputs": [
    {
     "data": {
      "text/html": [
       "<div class=\"data-frame\"><p>4 rows × 2 columns</p><table class=\"data-frame\"><thead><tr><th></th><th>names</th><th>salary</th></tr><tr><th></th><th title=\"String\">String</th><th title=\"Union{Missing, Int64}\">Int64?</th></tr></thead><tbody><tr><th>1</th><td>John</td><td>1900</td></tr><tr><th>2</th><td>Hank</td><td>2800</td></tr><tr><th>3</th><td>Karen</td><td>2800</td></tr><tr><th>4</th><td>Zed</td><td><em>missing</em></td></tr></tbody></table></div>"
      ],
      "text/latex": [
       "\\begin{tabular}{r|cc}\n",
       "\t& names & salary\\\\\n",
       "\t\\hline\n",
       "\t& String & Int64?\\\\\n",
       "\t\\hline\n",
       "\t1 & John & 1900 \\\\\n",
       "\t2 & Hank & 2800 \\\\\n",
       "\t3 & Karen & 2800 \\\\\n",
       "\t4 & Zed & \\emph{missing} \\\\\n",
       "\\end{tabular}\n"
      ],
      "text/plain": [
       "\u001b[1m4×2 DataFrame\u001b[0m\n",
       "\u001b[1m Row \u001b[0m│\u001b[1m names  \u001b[0m\u001b[1m salary  \u001b[0m\n",
       "\u001b[1m     \u001b[0m│\u001b[90m String \u001b[0m\u001b[90m Int64?  \u001b[0m\n",
       "─────┼─────────────────\n",
       "   1 │ John       1900\n",
       "   2 │ Hank       2800\n",
       "   3 │ Karen      2800\n",
       "   4 │ Zed    \u001b[90m missing \u001b[0m"
      ]
     },
     "execution_count": 116,
     "metadata": {},
     "output_type": "execute_result"
    }
   ],
   "source": [
    "function salaries()\n",
    "    names = [\"John\", \"Hank\", \"Karen\", \"Zed\"]\n",
    "    salary = [1_900, 2_800, 2_800, missing]\n",
    "    DataFrame(; names, salary)\n",
    "end\n",
    "\n",
    "salaries()"
   ]
  },
  {
   "cell_type": "code",
   "execution_count": 117,
   "id": "7ee57542-09e1-499d-9f74-4861d803ece4",
   "metadata": {},
   "outputs": [
    {
     "ename": "LoadError",
     "evalue": "ArgumentError: missing was returned in condition number 1 but only true or false are allowed; pass skipmissing=true to skip missing values",
     "output_type": "error",
     "traceback": [
      "ArgumentError: missing was returned in condition number 1 but only true or false are allowed; pass skipmissing=true to skip missing values",
      "",
      "Stacktrace:",
      "  [1] _and(x::Missing)",
      "    @ DataFrames C:\\Users\\jeffr\\.julia\\packages\\DataFrames\\JZ7x5\\src\\abstractdataframe\\subset.jl:11",
      "  [2] _broadcast_getindex_evalf",
      "    @ .\\broadcast.jl:670 [inlined]",
      "  [3] _broadcast_getindex",
      "    @ .\\broadcast.jl:643 [inlined]",
      "  [4] getindex",
      "    @ .\\broadcast.jl:597 [inlined]",
      "  [5] macro expansion",
      "    @ .\\broadcast.jl:961 [inlined]",
      "  [6] macro expansion",
      "    @ .\\simdloop.jl:77 [inlined]",
      "  [7] copyto!",
      "    @ .\\broadcast.jl:960 [inlined]",
      "  [8] copyto!",
      "    @ .\\broadcast.jl:971 [inlined]",
      "  [9] copyto!",
      "    @ .\\broadcast.jl:913 [inlined]",
      " [10] copy",
      "    @ .\\broadcast.jl:885 [inlined]",
      " [11] materialize(bc::Base.Broadcast.Broadcasted{Base.Broadcast.DefaultArrayStyle{1}, Nothing, typeof(DataFrames._and), Tuple{Vector{Union{Missing, Bool}}}})",
      "    @ Base.Broadcast .\\broadcast.jl:860",
      " [12] _get_subset_conditions(df::DataFrame, ::Base.RefValue{Any}, skipmissing::Bool)",
      "    @ DataFrames C:\\Users\\jeffr\\.julia\\packages\\DataFrames\\JZ7x5\\src\\abstractdataframe\\subset.jl:124",
      " [13] subset(df::DataFrame, args::Any; skipmissing::Bool, view::Bool)",
      "    @ DataFrames C:\\Users\\jeffr\\.julia\\packages\\DataFrames\\JZ7x5\\src\\abstractdataframe\\subset.jl:233",
      " [14] subset(df::DataFrame, args::Any)",
      "    @ DataFrames C:\\Users\\jeffr\\.julia\\packages\\DataFrames\\JZ7x5\\src\\abstractdataframe\\subset.jl:231",
      " [15] top-level scope",
      "    @ In[117]:1",
      " [16] eval",
      "    @ .\\boot.jl:368 [inlined]",
      " [17] include_string(mapexpr::typeof(REPL.softscope), mod::Module, code::String, filename::String)",
      "    @ Base .\\loading.jl:1428"
     ]
    }
   ],
   "source": [
    "subset(salaries(), :salary => ByRow(>(2_000)))"
   ]
  },
  {
   "cell_type": "markdown",
   "id": "f88a9ac5-7bcf-4623-a97d-ba735052097c",
   "metadata": {},
   "source": [
    "```skipmissing=true:```를 사용한 subset을 사용하여 에러를 피한다."
   ]
  },
  {
   "cell_type": "code",
   "execution_count": 118,
   "id": "a2adbb72-504c-4584-b273-fa5fed911913",
   "metadata": {},
   "outputs": [
    {
     "data": {
      "text/html": [
       "<div class=\"data-frame\"><p>2 rows × 2 columns</p><table class=\"data-frame\"><thead><tr><th></th><th>names</th><th>salary</th></tr><tr><th></th><th title=\"String\">String</th><th title=\"Union{Missing, Int64}\">Int64?</th></tr></thead><tbody><tr><th>1</th><td>Hank</td><td>2800</td></tr><tr><th>2</th><td>Karen</td><td>2800</td></tr></tbody></table></div>"
      ],
      "text/latex": [
       "\\begin{tabular}{r|cc}\n",
       "\t& names & salary\\\\\n",
       "\t\\hline\n",
       "\t& String & Int64?\\\\\n",
       "\t\\hline\n",
       "\t1 & Hank & 2800 \\\\\n",
       "\t2 & Karen & 2800 \\\\\n",
       "\\end{tabular}\n"
      ],
      "text/plain": [
       "\u001b[1m2×2 DataFrame\u001b[0m\n",
       "\u001b[1m Row \u001b[0m│\u001b[1m names  \u001b[0m\u001b[1m salary \u001b[0m\n",
       "\u001b[1m     \u001b[0m│\u001b[90m String \u001b[0m\u001b[90m Int64? \u001b[0m\n",
       "─────┼────────────────\n",
       "   1 │ Hank      2800\n",
       "   2 │ Karen     2800"
      ]
     },
     "execution_count": 118,
     "metadata": {},
     "output_type": "execute_result"
    }
   ],
   "source": [
    "subset(salaries(), :salary => ByRow(>(2_000)); skipmissing=true)"
   ]
  },
  {
   "cell_type": "markdown",
   "id": "32f49bb7-0704-4677-ae45-1d7d0fa1fe90",
   "metadata": {},
   "source": [
    "## 4.4 Select"
   ]
  },
  {
   "cell_type": "code",
   "execution_count": 119,
   "id": "45016b97-b779-4078-8d6c-4d72fcd78d1e",
   "metadata": {},
   "outputs": [
    {
     "data": {
      "text/html": [
       "<div class=\"data-frame\"><p>2 rows × 6 columns</p><table class=\"data-frame\"><thead><tr><th></th><th>id</th><th>q1</th><th>q2</th><th>q3</th><th>q4</th><th>q5</th></tr><tr><th></th><th title=\"Int64\">Int64</th><th title=\"Int64\">Int64</th><th title=\"Symbol\">Symbol</th><th title=\"String\">String</th><th title=\"String\">String</th><th title=\"String\">String</th></tr></thead><tbody><tr><th>1</th><td>1</td><td>28</td><td>us</td><td>F</td><td>B</td><td>A</td></tr><tr><th>2</th><td>2</td><td>61</td><td>fr</td><td>B</td><td>C</td><td>E</td></tr></tbody></table></div>"
      ],
      "text/latex": [
       "\\begin{tabular}{r|cccccc}\n",
       "\t& id & q1 & q2 & q3 & q4 & q5\\\\\n",
       "\t\\hline\n",
       "\t& Int64 & Int64 & Symbol & String & String & String\\\\\n",
       "\t\\hline\n",
       "\t1 & 1 & 28 & us & F & B & A \\\\\n",
       "\t2 & 2 & 61 & fr & B & C & E \\\\\n",
       "\\end{tabular}\n"
      ],
      "text/plain": [
       "\u001b[1m2×6 DataFrame\u001b[0m\n",
       "\u001b[1m Row \u001b[0m│\u001b[1m id    \u001b[0m\u001b[1m q1    \u001b[0m\u001b[1m q2     \u001b[0m\u001b[1m q3     \u001b[0m\u001b[1m q4     \u001b[0m\u001b[1m q5     \u001b[0m\n",
       "\u001b[1m     \u001b[0m│\u001b[90m Int64 \u001b[0m\u001b[90m Int64 \u001b[0m\u001b[90m Symbol \u001b[0m\u001b[90m String \u001b[0m\u001b[90m String \u001b[0m\u001b[90m String \u001b[0m\n",
       "─────┼──────────────────────────────────────────────\n",
       "   1 │     1     28  us      F       B       A\n",
       "   2 │     2     61  fr      B       C       E"
      ]
     },
     "execution_count": 119,
     "metadata": {},
     "output_type": "execute_result"
    }
   ],
   "source": [
    "function responses()\n",
    "    id = [1, 2]\n",
    "    q1 = [28, 61]\n",
    "    q2 = [:us, :fr]\n",
    "    q3 = [\"F\", \"B\"]\n",
    "    q4 = [\"B\", \"C\"]\n",
    "    q5 = [\"A\", \"E\"]\n",
    "    DataFrame(; id, q1, q2, q3, q4, q5)\n",
    "end\n",
    "responses()"
   ]
  },
  {
   "cell_type": "code",
   "execution_count": 120,
   "id": "ff2ab2b4-fe6f-44a0-9595-127ffac2f826",
   "metadata": {},
   "outputs": [
    {
     "data": {
      "text/html": [
       "<div class=\"data-frame\"><p>2 rows × 2 columns</p><table class=\"data-frame\"><thead><tr><th></th><th>id</th><th>q1</th></tr><tr><th></th><th title=\"Int64\">Int64</th><th title=\"Int64\">Int64</th></tr></thead><tbody><tr><th>1</th><td>1</td><td>28</td></tr><tr><th>2</th><td>2</td><td>61</td></tr></tbody></table></div>"
      ],
      "text/latex": [
       "\\begin{tabular}{r|cc}\n",
       "\t& id & q1\\\\\n",
       "\t\\hline\n",
       "\t& Int64 & Int64\\\\\n",
       "\t\\hline\n",
       "\t1 & 1 & 28 \\\\\n",
       "\t2 & 2 & 61 \\\\\n",
       "\\end{tabular}\n"
      ],
      "text/plain": [
       "\u001b[1m2×2 DataFrame\u001b[0m\n",
       "\u001b[1m Row \u001b[0m│\u001b[1m id    \u001b[0m\u001b[1m q1    \u001b[0m\n",
       "\u001b[1m     \u001b[0m│\u001b[90m Int64 \u001b[0m\u001b[90m Int64 \u001b[0m\n",
       "─────┼──────────────\n",
       "   1 │     1     28\n",
       "   2 │     2     61"
      ]
     },
     "execution_count": 120,
     "metadata": {},
     "output_type": "execute_result"
    }
   ],
   "source": [
    "select(responses(), :id, :q1)"
   ]
  },
  {
   "cell_type": "code",
   "execution_count": 121,
   "id": "171696bf-f768-4cf0-9201-7f2ae79c0592",
   "metadata": {},
   "outputs": [
    {
     "data": {
      "text/html": [
       "<div class=\"data-frame\"><p>2 rows × 3 columns</p><table class=\"data-frame\"><thead><tr><th></th><th>id</th><th>q1</th><th>q2</th></tr><tr><th></th><th title=\"Int64\">Int64</th><th title=\"Int64\">Int64</th><th title=\"Symbol\">Symbol</th></tr></thead><tbody><tr><th>1</th><td>1</td><td>28</td><td>us</td></tr><tr><th>2</th><td>2</td><td>61</td><td>fr</td></tr></tbody></table></div>"
      ],
      "text/latex": [
       "\\begin{tabular}{r|ccc}\n",
       "\t& id & q1 & q2\\\\\n",
       "\t\\hline\n",
       "\t& Int64 & Int64 & Symbol\\\\\n",
       "\t\\hline\n",
       "\t1 & 1 & 28 & us \\\\\n",
       "\t2 & 2 & 61 & fr \\\\\n",
       "\\end{tabular}\n"
      ],
      "text/plain": [
       "\u001b[1m2×3 DataFrame\u001b[0m\n",
       "\u001b[1m Row \u001b[0m│\u001b[1m id    \u001b[0m\u001b[1m q1    \u001b[0m\u001b[1m q2     \u001b[0m\n",
       "\u001b[1m     \u001b[0m│\u001b[90m Int64 \u001b[0m\u001b[90m Int64 \u001b[0m\u001b[90m Symbol \u001b[0m\n",
       "─────┼──────────────────────\n",
       "   1 │     1     28  us\n",
       "   2 │     2     61  fr"
      ]
     },
     "execution_count": 121,
     "metadata": {},
     "output_type": "execute_result"
    }
   ],
   "source": [
    "select(responses(), \"id\", \"q1\", \"q2\")"
   ]
  },
  {
   "cell_type": "code",
   "execution_count": 122,
   "id": "f8593003-1de0-40c0-8538-1109d9b29031",
   "metadata": {},
   "outputs": [
    {
     "data": {
      "text/html": [
       "<div class=\"data-frame\"><p>2 rows × 5 columns</p><table class=\"data-frame\"><thead><tr><th></th><th>id</th><th>q1</th><th>q2</th><th>q3</th><th>q4</th></tr><tr><th></th><th title=\"Int64\">Int64</th><th title=\"Int64\">Int64</th><th title=\"Symbol\">Symbol</th><th title=\"String\">String</th><th title=\"String\">String</th></tr></thead><tbody><tr><th>1</th><td>1</td><td>28</td><td>us</td><td>F</td><td>B</td></tr><tr><th>2</th><td>2</td><td>61</td><td>fr</td><td>B</td><td>C</td></tr></tbody></table></div>"
      ],
      "text/latex": [
       "\\begin{tabular}{r|ccccc}\n",
       "\t& id & q1 & q2 & q3 & q4\\\\\n",
       "\t\\hline\n",
       "\t& Int64 & Int64 & Symbol & String & String\\\\\n",
       "\t\\hline\n",
       "\t1 & 1 & 28 & us & F & B \\\\\n",
       "\t2 & 2 & 61 & fr & B & C \\\\\n",
       "\\end{tabular}\n"
      ],
      "text/plain": [
       "\u001b[1m2×5 DataFrame\u001b[0m\n",
       "\u001b[1m Row \u001b[0m│\u001b[1m id    \u001b[0m\u001b[1m q1    \u001b[0m\u001b[1m q2     \u001b[0m\u001b[1m q3     \u001b[0m\u001b[1m q4     \u001b[0m\n",
       "\u001b[1m     \u001b[0m│\u001b[90m Int64 \u001b[0m\u001b[90m Int64 \u001b[0m\u001b[90m Symbol \u001b[0m\u001b[90m String \u001b[0m\u001b[90m String \u001b[0m\n",
       "─────┼──────────────────────────────────────\n",
       "   1 │     1     28  us      F       B\n",
       "   2 │     2     61  fr      B       C"
      ]
     },
     "execution_count": 122,
     "metadata": {},
     "output_type": "execute_result"
    }
   ],
   "source": [
    "select(responses(), Not(:q5))"
   ]
  },
  {
   "cell_type": "code",
   "execution_count": 123,
   "id": "58b6d145-6ab3-4db6-ab4b-e9e61584e61e",
   "metadata": {},
   "outputs": [
    {
     "data": {
      "text/html": [
       "<div class=\"data-frame\"><p>2 rows × 4 columns</p><table class=\"data-frame\"><thead><tr><th></th><th>id</th><th>q1</th><th>q2</th><th>q3</th></tr><tr><th></th><th title=\"Int64\">Int64</th><th title=\"Int64\">Int64</th><th title=\"Symbol\">Symbol</th><th title=\"String\">String</th></tr></thead><tbody><tr><th>1</th><td>1</td><td>28</td><td>us</td><td>F</td></tr><tr><th>2</th><td>2</td><td>61</td><td>fr</td><td>B</td></tr></tbody></table></div>"
      ],
      "text/latex": [
       "\\begin{tabular}{r|cccc}\n",
       "\t& id & q1 & q2 & q3\\\\\n",
       "\t\\hline\n",
       "\t& Int64 & Int64 & Symbol & String\\\\\n",
       "\t\\hline\n",
       "\t1 & 1 & 28 & us & F \\\\\n",
       "\t2 & 2 & 61 & fr & B \\\\\n",
       "\\end{tabular}\n"
      ],
      "text/plain": [
       "\u001b[1m2×4 DataFrame\u001b[0m\n",
       "\u001b[1m Row \u001b[0m│\u001b[1m id    \u001b[0m\u001b[1m q1    \u001b[0m\u001b[1m q2     \u001b[0m\u001b[1m q3     \u001b[0m\n",
       "\u001b[1m     \u001b[0m│\u001b[90m Int64 \u001b[0m\u001b[90m Int64 \u001b[0m\u001b[90m Symbol \u001b[0m\u001b[90m String \u001b[0m\n",
       "─────┼──────────────────────────────\n",
       "   1 │     1     28  us      F\n",
       "   2 │     2     61  fr      B"
      ]
     },
     "execution_count": 123,
     "metadata": {},
     "output_type": "execute_result"
    }
   ],
   "source": [
    "select(responses(), Not([:q4, :q5]))"
   ]
  },
  {
   "cell_type": "code",
   "execution_count": 124,
   "id": "5bf1b844-1a3b-44a3-9fad-0b8e29a84f6b",
   "metadata": {},
   "outputs": [
    {
     "data": {
      "text/html": [
       "<div class=\"data-frame\"><p>2 rows × 6 columns</p><table class=\"data-frame\"><thead><tr><th></th><th>q5</th><th>id</th><th>q1</th><th>q2</th><th>q3</th><th>q4</th></tr><tr><th></th><th title=\"String\">String</th><th title=\"Int64\">Int64</th><th title=\"Int64\">Int64</th><th title=\"Symbol\">Symbol</th><th title=\"String\">String</th><th title=\"String\">String</th></tr></thead><tbody><tr><th>1</th><td>A</td><td>1</td><td>28</td><td>us</td><td>F</td><td>B</td></tr><tr><th>2</th><td>E</td><td>2</td><td>61</td><td>fr</td><td>B</td><td>C</td></tr></tbody></table></div>"
      ],
      "text/latex": [
       "\\begin{tabular}{r|cccccc}\n",
       "\t& q5 & id & q1 & q2 & q3 & q4\\\\\n",
       "\t\\hline\n",
       "\t& String & Int64 & Int64 & Symbol & String & String\\\\\n",
       "\t\\hline\n",
       "\t1 & A & 1 & 28 & us & F & B \\\\\n",
       "\t2 & E & 2 & 61 & fr & B & C \\\\\n",
       "\\end{tabular}\n"
      ],
      "text/plain": [
       "\u001b[1m2×6 DataFrame\u001b[0m\n",
       "\u001b[1m Row \u001b[0m│\u001b[1m q5     \u001b[0m\u001b[1m id    \u001b[0m\u001b[1m q1    \u001b[0m\u001b[1m q2     \u001b[0m\u001b[1m q3     \u001b[0m\u001b[1m q4     \u001b[0m\n",
       "\u001b[1m     \u001b[0m│\u001b[90m String \u001b[0m\u001b[90m Int64 \u001b[0m\u001b[90m Int64 \u001b[0m\u001b[90m Symbol \u001b[0m\u001b[90m String \u001b[0m\u001b[90m String \u001b[0m\n",
       "─────┼──────────────────────────────────────────────\n",
       "   1 │ A           1     28  us      F       B\n",
       "   2 │ E           2     61  fr      B       C"
      ]
     },
     "execution_count": 124,
     "metadata": {},
     "output_type": "execute_result"
    }
   ],
   "source": [
    "select(responses(), :q5, Not(:q5))"
   ]
  },
  {
   "cell_type": "code",
   "execution_count": 125,
   "id": "9ca9cb1f-95da-461d-82ab-fceb90a3941b",
   "metadata": {},
   "outputs": [
    {
     "data": {
      "text/html": [
       "<div class=\"data-frame\"><p>2 rows × 6 columns</p><table class=\"data-frame\"><thead><tr><th></th><th>q5</th><th>id</th><th>q1</th><th>q2</th><th>q3</th><th>q4</th></tr><tr><th></th><th title=\"String\">String</th><th title=\"Int64\">Int64</th><th title=\"Int64\">Int64</th><th title=\"Symbol\">Symbol</th><th title=\"String\">String</th><th title=\"String\">String</th></tr></thead><tbody><tr><th>1</th><td>A</td><td>1</td><td>28</td><td>us</td><td>F</td><td>B</td></tr><tr><th>2</th><td>E</td><td>2</td><td>61</td><td>fr</td><td>B</td><td>C</td></tr></tbody></table></div>"
      ],
      "text/latex": [
       "\\begin{tabular}{r|cccccc}\n",
       "\t& q5 & id & q1 & q2 & q3 & q4\\\\\n",
       "\t\\hline\n",
       "\t& String & Int64 & Int64 & Symbol & String & String\\\\\n",
       "\t\\hline\n",
       "\t1 & A & 1 & 28 & us & F & B \\\\\n",
       "\t2 & E & 2 & 61 & fr & B & C \\\\\n",
       "\\end{tabular}\n"
      ],
      "text/plain": [
       "\u001b[1m2×6 DataFrame\u001b[0m\n",
       "\u001b[1m Row \u001b[0m│\u001b[1m q5     \u001b[0m\u001b[1m id    \u001b[0m\u001b[1m q1    \u001b[0m\u001b[1m q2     \u001b[0m\u001b[1m q3     \u001b[0m\u001b[1m q4     \u001b[0m\n",
       "\u001b[1m     \u001b[0m│\u001b[90m String \u001b[0m\u001b[90m Int64 \u001b[0m\u001b[90m Int64 \u001b[0m\u001b[90m Symbol \u001b[0m\u001b[90m String \u001b[0m\u001b[90m String \u001b[0m\n",
       "─────┼──────────────────────────────────────────────\n",
       "   1 │ A           1     28  us      F       B\n",
       "   2 │ E           2     61  fr      B       C"
      ]
     },
     "execution_count": 125,
     "metadata": {},
     "output_type": "execute_result"
    }
   ],
   "source": [
    "select(responses(), :q5, :)"
   ]
  },
  {
   "cell_type": "code",
   "execution_count": 126,
   "id": "1ad3bec9-b842-469a-8490-415c6c0074dc",
   "metadata": {},
   "outputs": [
    {
     "data": {
      "text/html": [
       "<div class=\"data-frame\"><p>2 rows × 6 columns</p><table class=\"data-frame\"><thead><tr><th></th><th>id</th><th>q5</th><th>q1</th><th>q2</th><th>q3</th><th>q4</th></tr><tr><th></th><th title=\"Int64\">Int64</th><th title=\"String\">String</th><th title=\"Int64\">Int64</th><th title=\"Symbol\">Symbol</th><th title=\"String\">String</th><th title=\"String\">String</th></tr></thead><tbody><tr><th>1</th><td>1</td><td>A</td><td>28</td><td>us</td><td>F</td><td>B</td></tr><tr><th>2</th><td>2</td><td>E</td><td>61</td><td>fr</td><td>B</td><td>C</td></tr></tbody></table></div>"
      ],
      "text/latex": [
       "\\begin{tabular}{r|cccccc}\n",
       "\t& id & q5 & q1 & q2 & q3 & q4\\\\\n",
       "\t\\hline\n",
       "\t& Int64 & String & Int64 & Symbol & String & String\\\\\n",
       "\t\\hline\n",
       "\t1 & 1 & A & 28 & us & F & B \\\\\n",
       "\t2 & 2 & E & 61 & fr & B & C \\\\\n",
       "\\end{tabular}\n"
      ],
      "text/plain": [
       "\u001b[1m2×6 DataFrame\u001b[0m\n",
       "\u001b[1m Row \u001b[0m│\u001b[1m id    \u001b[0m\u001b[1m q5     \u001b[0m\u001b[1m q1    \u001b[0m\u001b[1m q2     \u001b[0m\u001b[1m q3     \u001b[0m\u001b[1m q4     \u001b[0m\n",
       "\u001b[1m     \u001b[0m│\u001b[90m Int64 \u001b[0m\u001b[90m String \u001b[0m\u001b[90m Int64 \u001b[0m\u001b[90m Symbol \u001b[0m\u001b[90m String \u001b[0m\u001b[90m String \u001b[0m\n",
       "─────┼──────────────────────────────────────────────\n",
       "   1 │     1  A          28  us      F       B\n",
       "   2 │     2  E          61  fr      B       C"
      ]
     },
     "execution_count": 126,
     "metadata": {},
     "output_type": "execute_result"
    }
   ],
   "source": [
    "select(responses(), 1, :q5, :)"
   ]
  },
  {
   "cell_type": "markdown",
   "id": "b6308fa9-545d-4925-9a2d-d00c64dadae6",
   "metadata": {},
   "source": [
    "* column selectors.\n",
    "\n",
    "    - ```Symbol```: **select(df, :col)**\n",
    "    \n",
    "    - ```String```: **select(df, \"col\")**\n",
    "    \n",
    "    - ```Integer```: **select(df, 1)**"
   ]
  },
  {
   "cell_type": "markdown",
   "id": "955d28c1-8f46-4d06-bc0c-17665de40030",
   "metadata": {},
   "source": [
    "Even renaming columns is possible via select using the source => target pair syntax:"
   ]
  },
  {
   "cell_type": "code",
   "execution_count": 127,
   "id": "29ff6cbd-1ace-4b50-85dc-c8f2d06ab141",
   "metadata": {},
   "outputs": [
    {
     "data": {
      "text/html": [
       "<div class=\"data-frame\"><p>2 rows × 3 columns</p><table class=\"data-frame\"><thead><tr><th></th><th>participant</th><th>age</th><th>nationality</th></tr><tr><th></th><th title=\"Int64\">Int64</th><th title=\"Int64\">Int64</th><th title=\"Symbol\">Symbol</th></tr></thead><tbody><tr><th>1</th><td>1</td><td>28</td><td>us</td></tr><tr><th>2</th><td>2</td><td>61</td><td>fr</td></tr></tbody></table></div>"
      ],
      "text/latex": [
       "\\begin{tabular}{r|ccc}\n",
       "\t& participant & age & nationality\\\\\n",
       "\t\\hline\n",
       "\t& Int64 & Int64 & Symbol\\\\\n",
       "\t\\hline\n",
       "\t1 & 1 & 28 & us \\\\\n",
       "\t2 & 2 & 61 & fr \\\\\n",
       "\\end{tabular}\n"
      ],
      "text/plain": [
       "\u001b[1m2×3 DataFrame\u001b[0m\n",
       "\u001b[1m Row \u001b[0m│\u001b[1m participant \u001b[0m\u001b[1m age   \u001b[0m\u001b[1m nationality \u001b[0m\n",
       "\u001b[1m     \u001b[0m│\u001b[90m Int64       \u001b[0m\u001b[90m Int64 \u001b[0m\u001b[90m Symbol      \u001b[0m\n",
       "─────┼─────────────────────────────────\n",
       "   1 │           1     28  us\n",
       "   2 │           2     61  fr"
      ]
     },
     "execution_count": 127,
     "metadata": {},
     "output_type": "execute_result"
    }
   ],
   "source": [
    "select(responses(), 1 => \"participant\", :q1 => \"age\", :q2 => \"nationality\")"
   ]
  },
  {
   "cell_type": "markdown",
   "id": "dbc53974-643f-4d2c-9f90-5d1e011b6ac3",
   "metadata": {},
   "source": [
    "Additionally, thanks to the “splat” operator ..."
   ]
  },
  {
   "cell_type": "code",
   "execution_count": 128,
   "id": "93018bc7-fc0d-42e9-95bd-3b9f38ad52ac",
   "metadata": {},
   "outputs": [
    {
     "data": {
      "text/html": [
       "<div class=\"data-frame\"><p>2 rows × 3 columns</p><table class=\"data-frame\"><thead><tr><th></th><th>participant</th><th>age</th><th>nationality</th></tr><tr><th></th><th title=\"Int64\">Int64</th><th title=\"Int64\">Int64</th><th title=\"Symbol\">Symbol</th></tr></thead><tbody><tr><th>1</th><td>1</td><td>28</td><td>us</td></tr><tr><th>2</th><td>2</td><td>61</td><td>fr</td></tr></tbody></table></div>"
      ],
      "text/latex": [
       "\\begin{tabular}{r|ccc}\n",
       "\t& participant & age & nationality\\\\\n",
       "\t\\hline\n",
       "\t& Int64 & Int64 & Symbol\\\\\n",
       "\t\\hline\n",
       "\t1 & 1 & 28 & us \\\\\n",
       "\t2 & 2 & 61 & fr \\\\\n",
       "\\end{tabular}\n"
      ],
      "text/plain": [
       "\u001b[1m2×3 DataFrame\u001b[0m\n",
       "\u001b[1m Row \u001b[0m│\u001b[1m participant \u001b[0m\u001b[1m age   \u001b[0m\u001b[1m nationality \u001b[0m\n",
       "\u001b[1m     \u001b[0m│\u001b[90m Int64       \u001b[0m\u001b[90m Int64 \u001b[0m\u001b[90m Symbol      \u001b[0m\n",
       "─────┼─────────────────────────────────\n",
       "   1 │           1     28  us\n",
       "   2 │           2     61  fr"
      ]
     },
     "execution_count": 128,
     "metadata": {},
     "output_type": "execute_result"
    }
   ],
   "source": [
    "renames = (1 => \"participant\", :q1 => \"age\", :q2 => \"nationality\")\n",
    "select(responses(), renames...)"
   ]
  },
  {
   "cell_type": "markdown",
   "id": "d6764a1b-de0c-46b3-a051-da308a185735",
   "metadata": {},
   "source": [
    "## 4.5 Types and Missing Data"
   ]
  },
  {
   "cell_type": "code",
   "execution_count": 129,
   "id": "795c2c10-3ddd-48f6-9504-402dcfd9a895",
   "metadata": {},
   "outputs": [
    {
     "data": {
      "text/html": [
       "<div class=\"data-frame\"><p>4 rows × 3 columns</p><table class=\"data-frame\"><thead><tr><th></th><th>id</th><th>date</th><th>age</th></tr><tr><th></th><th title=\"Int64\">Int64</th><th title=\"String\">String</th><th title=\"String\">String</th></tr></thead><tbody><tr><th>1</th><td>1</td><td>28-01-2018</td><td>adolescent</td></tr><tr><th>2</th><td>2</td><td>03-04-2019</td><td>adult</td></tr><tr><th>3</th><td>3</td><td>01-08-2018</td><td>infant</td></tr><tr><th>4</th><td>4</td><td>22-11-2020</td><td>adult</td></tr></tbody></table></div>"
      ],
      "text/latex": [
       "\\begin{tabular}{r|ccc}\n",
       "\t& id & date & age\\\\\n",
       "\t\\hline\n",
       "\t& Int64 & String & String\\\\\n",
       "\t\\hline\n",
       "\t1 & 1 & 28-01-2018 & adolescent \\\\\n",
       "\t2 & 2 & 03-04-2019 & adult \\\\\n",
       "\t3 & 3 & 01-08-2018 & infant \\\\\n",
       "\t4 & 4 & 22-11-2020 & adult \\\\\n",
       "\\end{tabular}\n"
      ],
      "text/plain": [
       "\u001b[1m4×3 DataFrame\u001b[0m\n",
       "\u001b[1m Row \u001b[0m│\u001b[1m id    \u001b[0m\u001b[1m date       \u001b[0m\u001b[1m age        \u001b[0m\n",
       "\u001b[1m     \u001b[0m│\u001b[90m Int64 \u001b[0m\u001b[90m String     \u001b[0m\u001b[90m String     \u001b[0m\n",
       "─────┼───────────────────────────────\n",
       "   1 │     1  28-01-2018  adolescent\n",
       "   2 │     2  03-04-2019  adult\n",
       "   3 │     3  01-08-2018  infant\n",
       "   4 │     4  22-11-2020  adult"
      ]
     },
     "execution_count": 129,
     "metadata": {},
     "output_type": "execute_result"
    }
   ],
   "source": [
    "function wrong_types()\n",
    "    id = 1:4\n",
    "    date = [\"28-01-2018\", \"03-04-2019\", \"01-08-2018\", \"22-11-2020\"]\n",
    "    age = [\"adolescent\", \"adult\", \"infant\", \"adult\"]\n",
    "    DataFrame(; id, date, age)\n",
    "end\n",
    "wrong_types()"
   ]
  },
  {
   "cell_type": "code",
   "execution_count": 130,
   "id": "c86b44fb-4fd0-4c13-b78f-838fa88dff65",
   "metadata": {},
   "outputs": [
    {
     "data": {
      "text/html": [
       "<div class=\"data-frame\"><p>4 rows × 3 columns</p><table class=\"data-frame\"><thead><tr><th></th><th>id</th><th>date</th><th>age</th></tr><tr><th></th><th title=\"Int64\">Int64</th><th title=\"String\">String</th><th title=\"String\">String</th></tr></thead><tbody><tr><th>1</th><td>3</td><td>01-08-2018</td><td>infant</td></tr><tr><th>2</th><td>2</td><td>03-04-2019</td><td>adult</td></tr><tr><th>3</th><td>4</td><td>22-11-2020</td><td>adult</td></tr><tr><th>4</th><td>1</td><td>28-01-2018</td><td>adolescent</td></tr></tbody></table></div>"
      ],
      "text/latex": [
       "\\begin{tabular}{r|ccc}\n",
       "\t& id & date & age\\\\\n",
       "\t\\hline\n",
       "\t& Int64 & String & String\\\\\n",
       "\t\\hline\n",
       "\t1 & 3 & 01-08-2018 & infant \\\\\n",
       "\t2 & 2 & 03-04-2019 & adult \\\\\n",
       "\t3 & 4 & 22-11-2020 & adult \\\\\n",
       "\t4 & 1 & 28-01-2018 & adolescent \\\\\n",
       "\\end{tabular}\n"
      ],
      "text/plain": [
       "\u001b[1m4×3 DataFrame\u001b[0m\n",
       "\u001b[1m Row \u001b[0m│\u001b[1m id    \u001b[0m\u001b[1m date       \u001b[0m\u001b[1m age        \u001b[0m\n",
       "\u001b[1m     \u001b[0m│\u001b[90m Int64 \u001b[0m\u001b[90m String     \u001b[0m\u001b[90m String     \u001b[0m\n",
       "─────┼───────────────────────────────\n",
       "   1 │     3  01-08-2018  infant\n",
       "   2 │     2  03-04-2019  adult\n",
       "   3 │     4  22-11-2020  adult\n",
       "   4 │     1  28-01-2018  adolescent"
      ]
     },
     "execution_count": 130,
     "metadata": {},
     "output_type": "execute_result"
    }
   ],
   "source": [
    "sort(wrong_types(), :date)"
   ]
  },
  {
   "cell_type": "code",
   "execution_count": 139,
   "id": "96ce0103-1479-4e01-b06e-ea4275104b4e",
   "metadata": {},
   "outputs": [
    {
     "data": {
      "text/html": [
       "<div class=\"data-frame\"><p>4 rows × 3 columns</p><table class=\"data-frame\"><thead><tr><th></th><th>id</th><th>date</th><th>age</th></tr><tr><th></th><th title=\"Int64\">Int64</th><th title=\"Date\">Date</th><th title=\"String\">String</th></tr></thead><tbody><tr><th>1</th><td>1</td><td>2018-01-28</td><td>adolescent</td></tr><tr><th>2</th><td>2</td><td>2019-04-03</td><td>adult</td></tr><tr><th>3</th><td>3</td><td>2018-08-01</td><td>infant</td></tr><tr><th>4</th><td>4</td><td>2020-11-22</td><td>adult</td></tr></tbody></table></div>"
      ],
      "text/latex": [
       "\\begin{tabular}{r|ccc}\n",
       "\t& id & date & age\\\\\n",
       "\t\\hline\n",
       "\t& Int64 & Date & String\\\\\n",
       "\t\\hline\n",
       "\t1 & 1 & 2018-01-28 & adolescent \\\\\n",
       "\t2 & 2 & 2019-04-03 & adult \\\\\n",
       "\t3 & 3 & 2018-08-01 & infant \\\\\n",
       "\t4 & 4 & 2020-11-22 & adult \\\\\n",
       "\\end{tabular}\n"
      ],
      "text/plain": [
       "\u001b[1m4×3 DataFrame\u001b[0m\n",
       "\u001b[1m Row \u001b[0m│\u001b[1m id    \u001b[0m\u001b[1m date       \u001b[0m\u001b[1m age        \u001b[0m\n",
       "\u001b[1m     \u001b[0m│\u001b[90m Int64 \u001b[0m\u001b[90m Date       \u001b[0m\u001b[90m String     \u001b[0m\n",
       "─────┼───────────────────────────────\n",
       "   1 │     1  2018-01-28  adolescent\n",
       "   2 │     2  2019-04-03  adult\n",
       "   3 │     3  2018-08-01  infant\n",
       "   4 │     4  2020-11-22  adult"
      ]
     },
     "execution_count": 139,
     "metadata": {},
     "output_type": "execute_result"
    }
   ],
   "source": [
    "using Dates\n",
    "\n",
    "function fix_date_column(df::DataFrame)\n",
    "    strings2dates(dates::Vector) = Date.(dates, dateformat\"dd-mm-yyyy\")\n",
    "    dates = strings2dates(df[!, :date])\n",
    "    df[!, :date] = dates\n",
    "    df\n",
    "end\n",
    "\n",
    "fix_date_column(wrong_types())"
   ]
  },
  {
   "cell_type": "code",
   "execution_count": 140,
   "id": "f826a498-952a-4fe1-9039-caf174ad7d2e",
   "metadata": {},
   "outputs": [
    {
     "data": {
      "text/html": [
       "<div class=\"data-frame\"><p>4 rows × 3 columns</p><table class=\"data-frame\"><thead><tr><th></th><th>id</th><th>date</th><th>age</th></tr><tr><th></th><th title=\"Int64\">Int64</th><th title=\"Date\">Date</th><th title=\"String\">String</th></tr></thead><tbody><tr><th>1</th><td>1</td><td>2018-01-28</td><td>adolescent</td></tr><tr><th>2</th><td>3</td><td>2018-08-01</td><td>infant</td></tr><tr><th>3</th><td>2</td><td>2019-04-03</td><td>adult</td></tr><tr><th>4</th><td>4</td><td>2020-11-22</td><td>adult</td></tr></tbody></table></div>"
      ],
      "text/latex": [
       "\\begin{tabular}{r|ccc}\n",
       "\t& id & date & age\\\\\n",
       "\t\\hline\n",
       "\t& Int64 & Date & String\\\\\n",
       "\t\\hline\n",
       "\t1 & 1 & 2018-01-28 & adolescent \\\\\n",
       "\t2 & 3 & 2018-08-01 & infant \\\\\n",
       "\t3 & 2 & 2019-04-03 & adult \\\\\n",
       "\t4 & 4 & 2020-11-22 & adult \\\\\n",
       "\\end{tabular}\n"
      ],
      "text/plain": [
       "\u001b[1m4×3 DataFrame\u001b[0m\n",
       "\u001b[1m Row \u001b[0m│\u001b[1m id    \u001b[0m\u001b[1m date       \u001b[0m\u001b[1m age        \u001b[0m\n",
       "\u001b[1m     \u001b[0m│\u001b[90m Int64 \u001b[0m\u001b[90m Date       \u001b[0m\u001b[90m String     \u001b[0m\n",
       "─────┼───────────────────────────────\n",
       "   1 │     1  2018-01-28  adolescent\n",
       "   2 │     3  2018-08-01  infant\n",
       "   3 │     2  2019-04-03  adult\n",
       "   4 │     4  2020-11-22  adult"
      ]
     },
     "execution_count": 140,
     "metadata": {},
     "output_type": "execute_result"
    }
   ],
   "source": [
    "df = fix_date_column(wrong_types())\n",
    "sort(df, :date)"
   ]
  },
  {
   "cell_type": "code",
   "execution_count": 134,
   "id": "6d22d208-685d-4029-b285-2e57d7abe118",
   "metadata": {},
   "outputs": [],
   "source": [
    "using CategoricalArrays"
   ]
  },
  {
   "cell_type": "code",
   "execution_count": 135,
   "id": "8c67db46-ffad-4d7c-92d6-7afa376726df",
   "metadata": {},
   "outputs": [
    {
     "data": {
      "text/html": [
       "<div class=\"data-frame\"><p>4 rows × 3 columns</p><table class=\"data-frame\"><thead><tr><th></th><th>id</th><th>date</th><th>age</th></tr><tr><th></th><th title=\"Int64\">Int64</th><th title=\"String\">String</th><th title=\"CategoricalValue{String, UInt32}\">Cat…</th></tr></thead><tbody><tr><th>1</th><td>1</td><td>28-01-2018</td><td>adolescent</td></tr><tr><th>2</th><td>2</td><td>03-04-2019</td><td>adult</td></tr><tr><th>3</th><td>3</td><td>01-08-2018</td><td>infant</td></tr><tr><th>4</th><td>4</td><td>22-11-2020</td><td>adult</td></tr></tbody></table></div>"
      ],
      "text/latex": [
       "\\begin{tabular}{r|ccc}\n",
       "\t& id & date & age\\\\\n",
       "\t\\hline\n",
       "\t& Int64 & String & Cat…\\\\\n",
       "\t\\hline\n",
       "\t1 & 1 & 28-01-2018 & adolescent \\\\\n",
       "\t2 & 2 & 03-04-2019 & adult \\\\\n",
       "\t3 & 3 & 01-08-2018 & infant \\\\\n",
       "\t4 & 4 & 22-11-2020 & adult \\\\\n",
       "\\end{tabular}\n"
      ],
      "text/plain": [
       "\u001b[1m4×3 DataFrame\u001b[0m\n",
       "\u001b[1m Row \u001b[0m│\u001b[1m id    \u001b[0m\u001b[1m date       \u001b[0m\u001b[1m age        \u001b[0m\n",
       "\u001b[1m     \u001b[0m│\u001b[90m Int64 \u001b[0m\u001b[90m String     \u001b[0m\u001b[90m Cat…       \u001b[0m\n",
       "─────┼───────────────────────────────\n",
       "   1 │     1  28-01-2018  adolescent\n",
       "   2 │     2  03-04-2019  adult\n",
       "   3 │     3  01-08-2018  infant\n",
       "   4 │     4  22-11-2020  adult"
      ]
     },
     "execution_count": 135,
     "metadata": {},
     "output_type": "execute_result"
    }
   ],
   "source": [
    "function fix_age_column(df)\n",
    "    levels = [\"infant\", \"adolescent\", \"adult\"]\n",
    "    ages = categorical(df[!, :age]; levels, ordered=true)\n",
    "    df[!, :age] = ages\n",
    "    df\n",
    "end\n",
    "fix_age_column(wrong_types())"
   ]
  },
  {
   "cell_type": "code",
   "execution_count": 136,
   "id": "4c78d6a9-8fc9-4d12-a3ac-3502c455ed28",
   "metadata": {},
   "outputs": [
    {
     "data": {
      "text/html": [
       "<div class=\"data-frame\"><p>4 rows × 3 columns</p><table class=\"data-frame\"><thead><tr><th></th><th>id</th><th>date</th><th>age</th></tr><tr><th></th><th title=\"Int64\">Int64</th><th title=\"String\">String</th><th title=\"CategoricalValue{String, UInt32}\">Cat…</th></tr></thead><tbody><tr><th>1</th><td>3</td><td>01-08-2018</td><td>infant</td></tr><tr><th>2</th><td>1</td><td>28-01-2018</td><td>adolescent</td></tr><tr><th>3</th><td>2</td><td>03-04-2019</td><td>adult</td></tr><tr><th>4</th><td>4</td><td>22-11-2020</td><td>adult</td></tr></tbody></table></div>"
      ],
      "text/latex": [
       "\\begin{tabular}{r|ccc}\n",
       "\t& id & date & age\\\\\n",
       "\t\\hline\n",
       "\t& Int64 & String & Cat…\\\\\n",
       "\t\\hline\n",
       "\t1 & 3 & 01-08-2018 & infant \\\\\n",
       "\t2 & 1 & 28-01-2018 & adolescent \\\\\n",
       "\t3 & 2 & 03-04-2019 & adult \\\\\n",
       "\t4 & 4 & 22-11-2020 & adult \\\\\n",
       "\\end{tabular}\n"
      ],
      "text/plain": [
       "\u001b[1m4×3 DataFrame\u001b[0m\n",
       "\u001b[1m Row \u001b[0m│\u001b[1m id    \u001b[0m\u001b[1m date       \u001b[0m\u001b[1m age        \u001b[0m\n",
       "\u001b[1m     \u001b[0m│\u001b[90m Int64 \u001b[0m\u001b[90m String     \u001b[0m\u001b[90m Cat…       \u001b[0m\n",
       "─────┼───────────────────────────────\n",
       "   1 │     3  01-08-2018  infant\n",
       "   2 │     1  28-01-2018  adolescent\n",
       "   3 │     2  03-04-2019  adult\n",
       "   4 │     4  22-11-2020  adult"
      ]
     },
     "execution_count": 136,
     "metadata": {},
     "output_type": "execute_result"
    }
   ],
   "source": [
    "df = fix_age_column(wrong_types())\n",
    "sort(df, :age)"
   ]
  },
  {
   "cell_type": "code",
   "execution_count": 141,
   "id": "e27fab9a-45a4-44d5-bd0a-3e1bbbfae51e",
   "metadata": {},
   "outputs": [
    {
     "data": {
      "text/html": [
       "<div class=\"data-frame\"><p>4 rows × 3 columns</p><table class=\"data-frame\"><thead><tr><th></th><th>id</th><th>date</th><th>age</th></tr><tr><th></th><th title=\"Int64\">Int64</th><th title=\"Date\">Date</th><th title=\"CategoricalValue{String, UInt32}\">Cat…</th></tr></thead><tbody><tr><th>1</th><td>1</td><td>2018-01-28</td><td>adolescent</td></tr><tr><th>2</th><td>2</td><td>2019-04-03</td><td>adult</td></tr><tr><th>3</th><td>3</td><td>2018-08-01</td><td>infant</td></tr><tr><th>4</th><td>4</td><td>2020-11-22</td><td>adult</td></tr></tbody></table></div>"
      ],
      "text/latex": [
       "\\begin{tabular}{r|ccc}\n",
       "\t& id & date & age\\\\\n",
       "\t\\hline\n",
       "\t& Int64 & Date & Cat…\\\\\n",
       "\t\\hline\n",
       "\t1 & 1 & 2018-01-28 & adolescent \\\\\n",
       "\t2 & 2 & 2019-04-03 & adult \\\\\n",
       "\t3 & 3 & 2018-08-01 & infant \\\\\n",
       "\t4 & 4 & 2020-11-22 & adult \\\\\n",
       "\\end{tabular}\n"
      ],
      "text/plain": [
       "\u001b[1m4×3 DataFrame\u001b[0m\n",
       "\u001b[1m Row \u001b[0m│\u001b[1m id    \u001b[0m\u001b[1m date       \u001b[0m\u001b[1m age        \u001b[0m\n",
       "\u001b[1m     \u001b[0m│\u001b[90m Int64 \u001b[0m\u001b[90m Date       \u001b[0m\u001b[90m Cat…       \u001b[0m\n",
       "─────┼───────────────────────────────\n",
       "   1 │     1  2018-01-28  adolescent\n",
       "   2 │     2  2019-04-03  adult\n",
       "   3 │     3  2018-08-01  infant\n",
       "   4 │     4  2020-11-22  adult"
      ]
     },
     "execution_count": 141,
     "metadata": {},
     "output_type": "execute_result"
    }
   ],
   "source": [
    "function correct_types()\n",
    "    df = wrong_types()\n",
    "    df = fix_date_column(df)\n",
    "    df = fix_age_column(df)\n",
    "end\n",
    "correct_types()"
   ]
  },
  {
   "cell_type": "code",
   "execution_count": 142,
   "id": "bff59c7a-ab38-4a98-b549-a7328603fdf5",
   "metadata": {},
   "outputs": [
    {
     "data": {
      "text/plain": [
       "true"
      ]
     },
     "execution_count": 142,
     "metadata": {},
     "output_type": "execute_result"
    }
   ],
   "source": [
    "df = correct_types()\n",
    "a = df[1, :age]\n",
    "b = df[2, :age]\n",
    "a < b"
   ]
  },
  {
   "cell_type": "code",
   "execution_count": 143,
   "id": "fa9d6963-d611-482a-9ec1-f1b16182fd6a",
   "metadata": {},
   "outputs": [
    {
     "data": {
      "text/plain": [
       "false"
      ]
     },
     "execution_count": 143,
     "metadata": {},
     "output_type": "execute_result"
    }
   ],
   "source": [
    "\"infant\" < \"adult\""
   ]
  },
  {
   "cell_type": "markdown",
   "id": "47ebdb1a-6df3-4f12-ac1f-ff49bdf7da68",
   "metadata": {},
   "source": [
    "## 4.6 Join"
   ]
  },
  {
   "cell_type": "code",
   "execution_count": 146,
   "id": "9cfbebaa-3152-4e24-8306-bc8dfd24020a",
   "metadata": {},
   "outputs": [
    {
     "data": {
      "text/html": [
       "<div class=\"data-frame\"><p>4 rows × 2 columns</p><table class=\"data-frame\"><thead><tr><th></th><th>name</th><th>grade_2020</th></tr><tr><th></th><th title=\"String\">String</th><th title=\"Float64\">Float64</th></tr></thead><tbody><tr><th>1</th><td>Sally</td><td>1.0</td></tr><tr><th>2</th><td>Bob</td><td>5.0</td></tr><tr><th>3</th><td>Alice</td><td>8.5</td></tr><tr><th>4</th><td>Hank</td><td>4.0</td></tr></tbody></table></div>"
      ],
      "text/latex": [
       "\\begin{tabular}{r|cc}\n",
       "\t& name & grade\\_2020\\\\\n",
       "\t\\hline\n",
       "\t& String & Float64\\\\\n",
       "\t\\hline\n",
       "\t1 & Sally & 1.0 \\\\\n",
       "\t2 & Bob & 5.0 \\\\\n",
       "\t3 & Alice & 8.5 \\\\\n",
       "\t4 & Hank & 4.0 \\\\\n",
       "\\end{tabular}\n"
      ],
      "text/plain": [
       "\u001b[1m4×2 DataFrame\u001b[0m\n",
       "\u001b[1m Row \u001b[0m│\u001b[1m name   \u001b[0m\u001b[1m grade_2020 \u001b[0m\n",
       "\u001b[1m     \u001b[0m│\u001b[90m String \u001b[0m\u001b[90m Float64    \u001b[0m\n",
       "─────┼────────────────────\n",
       "   1 │ Sally          1.0\n",
       "   2 │ Bob            5.0\n",
       "   3 │ Alice          8.5\n",
       "   4 │ Hank           4.0"
      ]
     },
     "execution_count": 146,
     "metadata": {},
     "output_type": "execute_result"
    }
   ],
   "source": [
    "gr_20_df = grades_2020()"
   ]
  },
  {
   "cell_type": "code",
   "execution_count": 148,
   "id": "5b85dbcc-249f-4e72-9276-80bc056087be",
   "metadata": {},
   "outputs": [
    {
     "data": {
      "text/html": [
       "<div class=\"data-frame\"><p>3 rows × 2 columns</p><table class=\"data-frame\"><thead><tr><th></th><th>name</th><th>grade_2021</th></tr><tr><th></th><th title=\"String\">String</th><th title=\"Float64\">Float64</th></tr></thead><tbody><tr><th>1</th><td>Bob 2</td><td>9.5</td></tr><tr><th>2</th><td>Sally</td><td>9.5</td></tr><tr><th>3</th><td>Hank</td><td>6.0</td></tr></tbody></table></div>"
      ],
      "text/latex": [
       "\\begin{tabular}{r|cc}\n",
       "\t& name & grade\\_2021\\\\\n",
       "\t\\hline\n",
       "\t& String & Float64\\\\\n",
       "\t\\hline\n",
       "\t1 & Bob 2 & 9.5 \\\\\n",
       "\t2 & Sally & 9.5 \\\\\n",
       "\t3 & Hank & 6.0 \\\\\n",
       "\\end{tabular}\n"
      ],
      "text/plain": [
       "\u001b[1m3×2 DataFrame\u001b[0m\n",
       "\u001b[1m Row \u001b[0m│\u001b[1m name   \u001b[0m\u001b[1m grade_2021 \u001b[0m\n",
       "\u001b[1m     \u001b[0m│\u001b[90m String \u001b[0m\u001b[90m Float64    \u001b[0m\n",
       "─────┼────────────────────\n",
       "   1 │ Bob 2          9.5\n",
       "   2 │ Sally          9.5\n",
       "   3 │ Hank           6.0"
      ]
     },
     "execution_count": 148,
     "metadata": {},
     "output_type": "execute_result"
    }
   ],
   "source": [
    "names = [\"Bob 2\", \"Sally\", \"Hank\"]\n",
    "grades = [9.5, 9.5, 6.0]\n",
    "gr_21_df = DataFrame(name = names, grade_2021 = grades)"
   ]
  },
  {
   "cell_type": "markdown",
   "id": "e953d152-a544-4333-ad1e-bf6e9c56cc8e",
   "metadata": {},
   "source": [
    "### 4.6.1 innerjoin"
   ]
  },
  {
   "cell_type": "code",
   "execution_count": 149,
   "id": "edbbfe1b-9f4e-408d-abb6-46c0d27995f6",
   "metadata": {},
   "outputs": [
    {
     "data": {
      "text/html": [
       "<div class=\"data-frame\"><p>2 rows × 3 columns</p><table class=\"data-frame\"><thead><tr><th></th><th>name</th><th>grade_2020</th><th>grade_2021</th></tr><tr><th></th><th title=\"String\">String</th><th title=\"Float64\">Float64</th><th title=\"Float64\">Float64</th></tr></thead><tbody><tr><th>1</th><td>Sally</td><td>1.0</td><td>9.5</td></tr><tr><th>2</th><td>Hank</td><td>4.0</td><td>6.0</td></tr></tbody></table></div>"
      ],
      "text/latex": [
       "\\begin{tabular}{r|ccc}\n",
       "\t& name & grade\\_2020 & grade\\_2021\\\\\n",
       "\t\\hline\n",
       "\t& String & Float64 & Float64\\\\\n",
       "\t\\hline\n",
       "\t1 & Sally & 1.0 & 9.5 \\\\\n",
       "\t2 & Hank & 4.0 & 6.0 \\\\\n",
       "\\end{tabular}\n"
      ],
      "text/plain": [
       "\u001b[1m2×3 DataFrame\u001b[0m\n",
       "\u001b[1m Row \u001b[0m│\u001b[1m name   \u001b[0m\u001b[1m grade_2020 \u001b[0m\u001b[1m grade_2021 \u001b[0m\n",
       "\u001b[1m     \u001b[0m│\u001b[90m String \u001b[0m\u001b[90m Float64    \u001b[0m\u001b[90m Float64    \u001b[0m\n",
       "─────┼────────────────────────────────\n",
       "   1 │ Sally          1.0         9.5\n",
       "   2 │ Hank           4.0         6.0"
      ]
     },
     "execution_count": 149,
     "metadata": {},
     "output_type": "execute_result"
    }
   ],
   "source": [
    "innerjoin(gr_20_df, gr_21_df; on = :name)"
   ]
  },
  {
   "cell_type": "markdown",
   "id": "babfd155-b5e6-45f1-bc46-ab928445321a",
   "metadata": {},
   "source": [
    "### 4.6.2 outerjoin"
   ]
  },
  {
   "cell_type": "code",
   "execution_count": 150,
   "id": "922aa560-4ec8-4825-afb0-20a443b320ed",
   "metadata": {},
   "outputs": [
    {
     "data": {
      "text/html": [
       "<div class=\"data-frame\"><p>5 rows × 3 columns</p><table class=\"data-frame\"><thead><tr><th></th><th>name</th><th>grade_2020</th><th>grade_2021</th></tr><tr><th></th><th title=\"String\">String</th><th title=\"Union{Missing, Float64}\">Float64?</th><th title=\"Union{Missing, Float64}\">Float64?</th></tr></thead><tbody><tr><th>1</th><td>Sally</td><td>1.0</td><td>9.5</td></tr><tr><th>2</th><td>Hank</td><td>4.0</td><td>6.0</td></tr><tr><th>3</th><td>Bob</td><td>5.0</td><td><em>missing</em></td></tr><tr><th>4</th><td>Alice</td><td>8.5</td><td><em>missing</em></td></tr><tr><th>5</th><td>Bob 2</td><td><em>missing</em></td><td>9.5</td></tr></tbody></table></div>"
      ],
      "text/latex": [
       "\\begin{tabular}{r|ccc}\n",
       "\t& name & grade\\_2020 & grade\\_2021\\\\\n",
       "\t\\hline\n",
       "\t& String & Float64? & Float64?\\\\\n",
       "\t\\hline\n",
       "\t1 & Sally & 1.0 & 9.5 \\\\\n",
       "\t2 & Hank & 4.0 & 6.0 \\\\\n",
       "\t3 & Bob & 5.0 & \\emph{missing} \\\\\n",
       "\t4 & Alice & 8.5 & \\emph{missing} \\\\\n",
       "\t5 & Bob 2 & \\emph{missing} & 9.5 \\\\\n",
       "\\end{tabular}\n"
      ],
      "text/plain": [
       "\u001b[1m5×3 DataFrame\u001b[0m\n",
       "\u001b[1m Row \u001b[0m│\u001b[1m name   \u001b[0m\u001b[1m grade_2020 \u001b[0m\u001b[1m grade_2021 \u001b[0m\n",
       "\u001b[1m     \u001b[0m│\u001b[90m String \u001b[0m\u001b[90m Float64?   \u001b[0m\u001b[90m Float64?   \u001b[0m\n",
       "─────┼────────────────────────────────\n",
       "   1 │ Sally          1.0         9.5\n",
       "   2 │ Hank           4.0         6.0\n",
       "   3 │ Bob            5.0 \u001b[90m  missing   \u001b[0m\n",
       "   4 │ Alice          8.5 \u001b[90m  missing   \u001b[0m\n",
       "   5 │ Bob 2  \u001b[90m  missing   \u001b[0m        9.5"
      ]
     },
     "execution_count": 150,
     "metadata": {},
     "output_type": "execute_result"
    }
   ],
   "source": [
    "outerjoin(gr_20_df, gr_21_df, on = :name)"
   ]
  },
  {
   "cell_type": "markdown",
   "id": "a2452a95-68ab-48ab-bec8-0cd0aa1c678a",
   "metadata": {},
   "source": [
    "### 4.6.3 crossjoin"
   ]
  },
  {
   "cell_type": "markdown",
   "id": "ec0b604b-031e-46ec-a7b5-fa72a66863d5",
   "metadata": {},
   "source": [
    "We can get even more missing data if we use the crossjoin. This gives the Cartesian product of the rows, which is basically multiplication of rows, that is, for every row create a combination with any other row:"
   ]
  },
  {
   "cell_type": "code",
   "execution_count": 151,
   "id": "eb0fd6c7-0daa-4b60-afc1-618e78dd8d2a",
   "metadata": {},
   "outputs": [
    {
     "ename": "LoadError",
     "evalue": "MethodError: no method matching crossjoin(::DataFrame, ::DataFrame; on=:id)\n\u001b[0mClosest candidates are:\n\u001b[0m  crossjoin(::AbstractDataFrame, ::AbstractDataFrame; makeunique) at C:\\Users\\jeffr\\.julia\\packages\\DataFrames\\JZ7x5\\src\\join\\composer.jl:1321\u001b[91m got unsupported keyword argument \"on\"\u001b[39m\n\u001b[0m  crossjoin(::AbstractDataFrame, ::AbstractDataFrame, \u001b[91m::AbstractDataFrame...\u001b[39m; makeunique) at C:\\Users\\jeffr\\.julia\\packages\\DataFrames\\JZ7x5\\src\\join\\composer.jl:1332\u001b[91m got unsupported keyword argument \"on\"\u001b[39m",
     "output_type": "error",
     "traceback": [
      "MethodError: no method matching crossjoin(::DataFrame, ::DataFrame; on=:id)\n\u001b[0mClosest candidates are:\n\u001b[0m  crossjoin(::AbstractDataFrame, ::AbstractDataFrame; makeunique) at C:\\Users\\jeffr\\.julia\\packages\\DataFrames\\JZ7x5\\src\\join\\composer.jl:1321\u001b[91m got unsupported keyword argument \"on\"\u001b[39m\n\u001b[0m  crossjoin(::AbstractDataFrame, ::AbstractDataFrame, \u001b[91m::AbstractDataFrame...\u001b[39m; makeunique) at C:\\Users\\jeffr\\.julia\\packages\\DataFrames\\JZ7x5\\src\\join\\composer.jl:1332\u001b[91m got unsupported keyword argument \"on\"\u001b[39m",
      "",
      "Stacktrace:",
      " [1] kwerr(::NamedTuple{(:on,), Tuple{Symbol}}, ::Function, ::DataFrame, ::DataFrame)",
      "   @ Base .\\error.jl:165",
      " [2] top-level scope",
      "   @ In[151]:1",
      " [3] eval",
      "   @ .\\boot.jl:368 [inlined]",
      " [4] include_string(mapexpr::typeof(REPL.softscope), mod::Module, code::String, filename::String)",
      "   @ Base .\\loading.jl:1428"
     ]
    }
   ],
   "source": [
    "crossjoin(gr_20_df, gr_21_df; on = :id)"
   ]
  },
  {
   "cell_type": "code",
   "execution_count": 152,
   "id": "95b3ffa6-a2e9-4382-a7ea-fe5a193f1b7e",
   "metadata": {},
   "outputs": [
    {
     "ename": "LoadError",
     "evalue": "ArgumentError: Duplicate variable names: :name. Pass makeunique=true to make them unique using a suffix automatically.",
     "output_type": "error",
     "traceback": [
      "ArgumentError: Duplicate variable names: :name. Pass makeunique=true to make them unique using a suffix automatically.",
      "",
      "Stacktrace:",
      " [1] add_names(ind::DataFrames.Index, add_ind::DataFrames.Index; makeunique::Bool)",
      "   @ DataFrames C:\\Users\\jeffr\\.julia\\packages\\DataFrames\\JZ7x5\\src\\other\\index.jl:427",
      " [2] merge!(x::DataFrames.Index, y::DataFrames.Index; makeunique::Bool)",
      "   @ DataFrames C:\\Users\\jeffr\\.julia\\packages\\DataFrames\\JZ7x5\\src\\other\\index.jl:132",
      " [3] #merge#10",
      "   @ C:\\Users\\jeffr\\.julia\\packages\\DataFrames\\JZ7x5\\src\\other\\index.jl:142 [inlined]",
      " [4] crossjoin(df1::DataFrame, df2::DataFrame; makeunique::Bool)",
      "   @ DataFrames C:\\Users\\jeffr\\.julia\\packages\\DataFrames\\JZ7x5\\src\\join\\composer.jl:1325",
      " [5] crossjoin(df1::DataFrame, df2::DataFrame)",
      "   @ DataFrames C:\\Users\\jeffr\\.julia\\packages\\DataFrames\\JZ7x5\\src\\join\\composer.jl:1321",
      " [6] top-level scope",
      "   @ In[152]:1",
      " [7] eval",
      "   @ .\\boot.jl:368 [inlined]",
      " [8] include_string(mapexpr::typeof(REPL.softscope), mod::Module, code::String, filename::String)",
      "   @ Base .\\loading.jl:1428"
     ]
    }
   ],
   "source": [
    "crossjoin(gr_20_df, gr_21_df;)"
   ]
  },
  {
   "cell_type": "markdown",
   "id": "db04215d-dfcf-410d-983a-c638c9daa1fe",
   "metadata": {},
   "source": [
    "Oops again. This is a very common error with DataFrames and joins. The tables for the 2020 and 2021 grades have a duplicate column name, namely :name. Like before, the error that DataFrames.jl outputs shows a simple suggestion that might fix the issue. We can just pass makeunique=true to solve this:"
   ]
  },
  {
   "cell_type": "code",
   "execution_count": 153,
   "id": "726256e8-55f2-49c1-bc61-dc7bbfaaa66c",
   "metadata": {},
   "outputs": [
    {
     "data": {
      "text/html": [
       "<div class=\"data-frame\"><p>12 rows × 4 columns</p><table class=\"data-frame\"><thead><tr><th></th><th>name</th><th>grade_2020</th><th>name_1</th><th>grade_2021</th></tr><tr><th></th><th title=\"String\">String</th><th title=\"Float64\">Float64</th><th title=\"String\">String</th><th title=\"Float64\">Float64</th></tr></thead><tbody><tr><th>1</th><td>Sally</td><td>1.0</td><td>Bob 2</td><td>9.5</td></tr><tr><th>2</th><td>Sally</td><td>1.0</td><td>Sally</td><td>9.5</td></tr><tr><th>3</th><td>Sally</td><td>1.0</td><td>Hank</td><td>6.0</td></tr><tr><th>4</th><td>Bob</td><td>5.0</td><td>Bob 2</td><td>9.5</td></tr><tr><th>5</th><td>Bob</td><td>5.0</td><td>Sally</td><td>9.5</td></tr><tr><th>6</th><td>Bob</td><td>5.0</td><td>Hank</td><td>6.0</td></tr><tr><th>7</th><td>Alice</td><td>8.5</td><td>Bob 2</td><td>9.5</td></tr><tr><th>8</th><td>Alice</td><td>8.5</td><td>Sally</td><td>9.5</td></tr><tr><th>9</th><td>Alice</td><td>8.5</td><td>Hank</td><td>6.0</td></tr><tr><th>10</th><td>Hank</td><td>4.0</td><td>Bob 2</td><td>9.5</td></tr><tr><th>11</th><td>Hank</td><td>4.0</td><td>Sally</td><td>9.5</td></tr><tr><th>12</th><td>Hank</td><td>4.0</td><td>Hank</td><td>6.0</td></tr></tbody></table></div>"
      ],
      "text/latex": [
       "\\begin{tabular}{r|cccc}\n",
       "\t& name & grade\\_2020 & name\\_1 & grade\\_2021\\\\\n",
       "\t\\hline\n",
       "\t& String & Float64 & String & Float64\\\\\n",
       "\t\\hline\n",
       "\t1 & Sally & 1.0 & Bob 2 & 9.5 \\\\\n",
       "\t2 & Sally & 1.0 & Sally & 9.5 \\\\\n",
       "\t3 & Sally & 1.0 & Hank & 6.0 \\\\\n",
       "\t4 & Bob & 5.0 & Bob 2 & 9.5 \\\\\n",
       "\t5 & Bob & 5.0 & Sally & 9.5 \\\\\n",
       "\t6 & Bob & 5.0 & Hank & 6.0 \\\\\n",
       "\t7 & Alice & 8.5 & Bob 2 & 9.5 \\\\\n",
       "\t8 & Alice & 8.5 & Sally & 9.5 \\\\\n",
       "\t9 & Alice & 8.5 & Hank & 6.0 \\\\\n",
       "\t10 & Hank & 4.0 & Bob 2 & 9.5 \\\\\n",
       "\t11 & Hank & 4.0 & Sally & 9.5 \\\\\n",
       "\t12 & Hank & 4.0 & Hank & 6.0 \\\\\n",
       "\\end{tabular}\n"
      ],
      "text/plain": [
       "\u001b[1m12×4 DataFrame\u001b[0m\n",
       "\u001b[1m Row \u001b[0m│\u001b[1m name   \u001b[0m\u001b[1m grade_2020 \u001b[0m\u001b[1m name_1 \u001b[0m\u001b[1m grade_2021 \u001b[0m\n",
       "\u001b[1m     \u001b[0m│\u001b[90m String \u001b[0m\u001b[90m Float64    \u001b[0m\u001b[90m String \u001b[0m\u001b[90m Float64    \u001b[0m\n",
       "─────┼────────────────────────────────────────\n",
       "   1 │ Sally          1.0  Bob 2          9.5\n",
       "   2 │ Sally          1.0  Sally          9.5\n",
       "   3 │ Sally          1.0  Hank           6.0\n",
       "   4 │ Bob            5.0  Bob 2          9.5\n",
       "   5 │ Bob            5.0  Sally          9.5\n",
       "   6 │ Bob            5.0  Hank           6.0\n",
       "   7 │ Alice          8.5  Bob 2          9.5\n",
       "   8 │ Alice          8.5  Sally          9.5\n",
       "   9 │ Alice          8.5  Hank           6.0\n",
       "  10 │ Hank           4.0  Bob 2          9.5\n",
       "  11 │ Hank           4.0  Sally          9.5\n",
       "  12 │ Hank           4.0  Hank           6.0"
      ]
     },
     "execution_count": 153,
     "metadata": {},
     "output_type": "execute_result"
    }
   ],
   "source": [
    "crossjoin(gr_20_df, gr_21_df; makeunique = true)"
   ]
  },
  {
   "cell_type": "markdown",
   "id": "14c5c995-5303-4415-a575-d4e5b502b1fd",
   "metadata": {},
   "source": [
    "### 4.6.4 leftjoin and rightjoin"
   ]
  },
  {
   "cell_type": "code",
   "execution_count": 154,
   "id": "15481853-d06a-4678-874f-5e562102f14c",
   "metadata": {},
   "outputs": [
    {
     "data": {
      "text/html": [
       "<div class=\"data-frame\"><p>4 rows × 3 columns</p><table class=\"data-frame\"><thead><tr><th></th><th>name</th><th>grade_2020</th><th>grade_2021</th></tr><tr><th></th><th title=\"String\">String</th><th title=\"Float64\">Float64</th><th title=\"Union{Missing, Float64}\">Float64?</th></tr></thead><tbody><tr><th>1</th><td>Sally</td><td>1.0</td><td>9.5</td></tr><tr><th>2</th><td>Hank</td><td>4.0</td><td>6.0</td></tr><tr><th>3</th><td>Bob</td><td>5.0</td><td><em>missing</em></td></tr><tr><th>4</th><td>Alice</td><td>8.5</td><td><em>missing</em></td></tr></tbody></table></div>"
      ],
      "text/latex": [
       "\\begin{tabular}{r|ccc}\n",
       "\t& name & grade\\_2020 & grade\\_2021\\\\\n",
       "\t\\hline\n",
       "\t& String & Float64 & Float64?\\\\\n",
       "\t\\hline\n",
       "\t1 & Sally & 1.0 & 9.5 \\\\\n",
       "\t2 & Hank & 4.0 & 6.0 \\\\\n",
       "\t3 & Bob & 5.0 & \\emph{missing} \\\\\n",
       "\t4 & Alice & 8.5 & \\emph{missing} \\\\\n",
       "\\end{tabular}\n"
      ],
      "text/plain": [
       "\u001b[1m4×3 DataFrame\u001b[0m\n",
       "\u001b[1m Row \u001b[0m│\u001b[1m name   \u001b[0m\u001b[1m grade_2020 \u001b[0m\u001b[1m grade_2021 \u001b[0m\n",
       "\u001b[1m     \u001b[0m│\u001b[90m String \u001b[0m\u001b[90m Float64    \u001b[0m\u001b[90m Float64?   \u001b[0m\n",
       "─────┼────────────────────────────────\n",
       "   1 │ Sally          1.0         9.5\n",
       "   2 │ Hank           4.0         6.0\n",
       "   3 │ Bob            5.0 \u001b[90m  missing   \u001b[0m\n",
       "   4 │ Alice          8.5 \u001b[90m  missing   \u001b[0m"
      ]
     },
     "execution_count": 154,
     "metadata": {},
     "output_type": "execute_result"
    }
   ],
   "source": [
    "leftjoin(gr_20_df, gr_21_df; on = :name)"
   ]
  },
  {
   "cell_type": "code",
   "execution_count": 155,
   "id": "0e94e749-4000-4523-a3a2-fd663783c7b6",
   "metadata": {},
   "outputs": [
    {
     "data": {
      "text/html": [
       "<div class=\"data-frame\"><p>3 rows × 3 columns</p><table class=\"data-frame\"><thead><tr><th></th><th>name</th><th>grade_2020</th><th>grade_2021</th></tr><tr><th></th><th title=\"String\">String</th><th title=\"Union{Missing, Float64}\">Float64?</th><th title=\"Float64\">Float64</th></tr></thead><tbody><tr><th>1</th><td>Sally</td><td>1.0</td><td>9.5</td></tr><tr><th>2</th><td>Hank</td><td>4.0</td><td>6.0</td></tr><tr><th>3</th><td>Bob 2</td><td><em>missing</em></td><td>9.5</td></tr></tbody></table></div>"
      ],
      "text/latex": [
       "\\begin{tabular}{r|ccc}\n",
       "\t& name & grade\\_2020 & grade\\_2021\\\\\n",
       "\t\\hline\n",
       "\t& String & Float64? & Float64\\\\\n",
       "\t\\hline\n",
       "\t1 & Sally & 1.0 & 9.5 \\\\\n",
       "\t2 & Hank & 4.0 & 6.0 \\\\\n",
       "\t3 & Bob 2 & \\emph{missing} & 9.5 \\\\\n",
       "\\end{tabular}\n"
      ],
      "text/plain": [
       "\u001b[1m3×3 DataFrame\u001b[0m\n",
       "\u001b[1m Row \u001b[0m│\u001b[1m name   \u001b[0m\u001b[1m grade_2020 \u001b[0m\u001b[1m grade_2021 \u001b[0m\n",
       "\u001b[1m     \u001b[0m│\u001b[90m String \u001b[0m\u001b[90m Float64?   \u001b[0m\u001b[90m Float64    \u001b[0m\n",
       "─────┼────────────────────────────────\n",
       "   1 │ Sally          1.0         9.5\n",
       "   2 │ Hank           4.0         6.0\n",
       "   3 │ Bob 2  \u001b[90m  missing   \u001b[0m        9.5"
      ]
     },
     "execution_count": 155,
     "metadata": {},
     "output_type": "execute_result"
    }
   ],
   "source": [
    "rightjoin(gr_20_df, gr_21_df; on =:name)"
   ]
  },
  {
   "cell_type": "code",
   "execution_count": 158,
   "id": "b7fb7be7-99b9-4a14-869f-f8002d36176b",
   "metadata": {},
   "outputs": [
    {
     "data": {
      "text/html": [
       "<div class=\"data-frame\"><p>3 rows × 3 columns</p><table class=\"data-frame\"><thead><tr><th></th><th>name</th><th>grade_2021</th><th>grade_2020</th></tr><tr><th></th><th title=\"String\">String</th><th title=\"Float64\">Float64</th><th title=\"Union{Missing, Float64}\">Float64?</th></tr></thead><tbody><tr><th>1</th><td>Sally</td><td>9.5</td><td>1.0</td></tr><tr><th>2</th><td>Hank</td><td>6.0</td><td>4.0</td></tr><tr><th>3</th><td>Bob 2</td><td>9.5</td><td><em>missing</em></td></tr></tbody></table></div>"
      ],
      "text/latex": [
       "\\begin{tabular}{r|ccc}\n",
       "\t& name & grade\\_2021 & grade\\_2020\\\\\n",
       "\t\\hline\n",
       "\t& String & Float64 & Float64?\\\\\n",
       "\t\\hline\n",
       "\t1 & Sally & 9.5 & 1.0 \\\\\n",
       "\t2 & Hank & 6.0 & 4.0 \\\\\n",
       "\t3 & Bob 2 & 9.5 & \\emph{missing} \\\\\n",
       "\\end{tabular}\n"
      ],
      "text/plain": [
       "\u001b[1m3×3 DataFrame\u001b[0m\n",
       "\u001b[1m Row \u001b[0m│\u001b[1m name   \u001b[0m\u001b[1m grade_2021 \u001b[0m\u001b[1m grade_2020 \u001b[0m\n",
       "\u001b[1m     \u001b[0m│\u001b[90m String \u001b[0m\u001b[90m Float64    \u001b[0m\u001b[90m Float64?   \u001b[0m\n",
       "─────┼────────────────────────────────\n",
       "   1 │ Sally          9.5         1.0\n",
       "   2 │ Hank           6.0         4.0\n",
       "   3 │ Bob 2          9.5 \u001b[90m  missing   \u001b[0m"
      ]
     },
     "execution_count": 158,
     "metadata": {},
     "output_type": "execute_result"
    }
   ],
   "source": [
    "leftjoin(gr_21_df, gr_20_df; on=:name)"
   ]
  },
  {
   "cell_type": "markdown",
   "id": "a0d9a83b-3155-48c4-af90-313222d37153",
   "metadata": {},
   "source": [
    "### 4.6.5 semijoin and antijoin"
   ]
  },
  {
   "cell_type": "code",
   "execution_count": 159,
   "id": "94bd1286-db77-4374-89c3-00233ca526f5",
   "metadata": {},
   "outputs": [
    {
     "data": {
      "text/html": [
       "<div class=\"data-frame\"><p>2 rows × 2 columns</p><table class=\"data-frame\"><thead><tr><th></th><th>name</th><th>grade_2020</th></tr><tr><th></th><th title=\"String\">String</th><th title=\"Float64\">Float64</th></tr></thead><tbody><tr><th>1</th><td>Sally</td><td>1.0</td></tr><tr><th>2</th><td>Hank</td><td>4.0</td></tr></tbody></table></div>"
      ],
      "text/latex": [
       "\\begin{tabular}{r|cc}\n",
       "\t& name & grade\\_2020\\\\\n",
       "\t\\hline\n",
       "\t& String & Float64\\\\\n",
       "\t\\hline\n",
       "\t1 & Sally & 1.0 \\\\\n",
       "\t2 & Hank & 4.0 \\\\\n",
       "\\end{tabular}\n"
      ],
      "text/plain": [
       "\u001b[1m2×2 DataFrame\u001b[0m\n",
       "\u001b[1m Row \u001b[0m│\u001b[1m name   \u001b[0m\u001b[1m grade_2020 \u001b[0m\n",
       "\u001b[1m     \u001b[0m│\u001b[90m String \u001b[0m\u001b[90m Float64    \u001b[0m\n",
       "─────┼────────────────────\n",
       "   1 │ Sally          1.0\n",
       "   2 │ Hank           4.0"
      ]
     },
     "execution_count": 159,
     "metadata": {},
     "output_type": "execute_result"
    }
   ],
   "source": [
    "semijoin(gr_20_df, gr_21_df; on =:name)"
   ]
  },
  {
   "cell_type": "markdown",
   "id": "ff967b48-f8db-4582-a10f-ad6e1a2dcceb",
   "metadata": {},
   "source": [
    "The opposite of the semi join is the anti join. It returns only the elements from the left DataFrame which are not in the right DataFrame:"
   ]
  },
  {
   "cell_type": "code",
   "execution_count": 160,
   "id": "9bb2c098-68ec-413b-b629-b939f8d1f36a",
   "metadata": {},
   "outputs": [
    {
     "data": {
      "text/html": [
       "<div class=\"data-frame\"><p>2 rows × 2 columns</p><table class=\"data-frame\"><thead><tr><th></th><th>name</th><th>grade_2020</th></tr><tr><th></th><th title=\"String\">String</th><th title=\"Float64\">Float64</th></tr></thead><tbody><tr><th>1</th><td>Bob</td><td>5.0</td></tr><tr><th>2</th><td>Alice</td><td>8.5</td></tr></tbody></table></div>"
      ],
      "text/latex": [
       "\\begin{tabular}{r|cc}\n",
       "\t& name & grade\\_2020\\\\\n",
       "\t\\hline\n",
       "\t& String & Float64\\\\\n",
       "\t\\hline\n",
       "\t1 & Bob & 5.0 \\\\\n",
       "\t2 & Alice & 8.5 \\\\\n",
       "\\end{tabular}\n"
      ],
      "text/plain": [
       "\u001b[1m2×2 DataFrame\u001b[0m\n",
       "\u001b[1m Row \u001b[0m│\u001b[1m name   \u001b[0m\u001b[1m grade_2020 \u001b[0m\n",
       "\u001b[1m     \u001b[0m│\u001b[90m String \u001b[0m\u001b[90m Float64    \u001b[0m\n",
       "─────┼────────────────────\n",
       "   1 │ Bob            5.0\n",
       "   2 │ Alice          8.5"
      ]
     },
     "execution_count": 160,
     "metadata": {},
     "output_type": "execute_result"
    }
   ],
   "source": [
    "antijoin(gr_20_df, gr_21_df; on =:name)"
   ]
  },
  {
   "cell_type": "markdown",
   "id": "17693023-a18d-4aab-8f96-022f82951163",
   "metadata": {},
   "source": [
    "## 4.7 Variable Transformations"
   ]
  },
  {
   "cell_type": "code",
   "execution_count": 161,
   "id": "dc9ffd3a-f9d7-4bff-b8e4-096dfc1a360a",
   "metadata": {},
   "outputs": [
    {
     "data": {
      "text/html": [
       "<div class=\"data-frame\"><p>4 rows × 2 columns</p><table class=\"data-frame\"><thead><tr><th></th><th>name</th><th>grade_2020</th></tr><tr><th></th><th title=\"String\">String</th><th title=\"Float64\">Float64</th></tr></thead><tbody><tr><th>1</th><td>Sally</td><td>1.0</td></tr><tr><th>2</th><td>Bob</td><td>5.0</td></tr><tr><th>3</th><td>Alice</td><td>8.5</td></tr><tr><th>4</th><td>Hank</td><td>4.0</td></tr></tbody></table></div>"
      ],
      "text/latex": [
       "\\begin{tabular}{r|cc}\n",
       "\t& name & grade\\_2020\\\\\n",
       "\t\\hline\n",
       "\t& String & Float64\\\\\n",
       "\t\\hline\n",
       "\t1 & Sally & 1.0 \\\\\n",
       "\t2 & Bob & 5.0 \\\\\n",
       "\t3 & Alice & 8.5 \\\\\n",
       "\t4 & Hank & 4.0 \\\\\n",
       "\\end{tabular}\n"
      ],
      "text/plain": [
       "\u001b[1m4×2 DataFrame\u001b[0m\n",
       "\u001b[1m Row \u001b[0m│\u001b[1m name   \u001b[0m\u001b[1m grade_2020 \u001b[0m\n",
       "\u001b[1m     \u001b[0m│\u001b[90m String \u001b[0m\u001b[90m Float64    \u001b[0m\n",
       "─────┼────────────────────\n",
       "   1 │ Sally          1.0\n",
       "   2 │ Bob            5.0\n",
       "   3 │ Alice          8.5\n",
       "   4 │ Hank           4.0"
      ]
     },
     "execution_count": 161,
     "metadata": {},
     "output_type": "execute_result"
    }
   ],
   "source": [
    "function grades_2020()\n",
    "    name = [\"Sally\", \"Bob\", \"Alice\", \"Hank\"]\n",
    "    grade_2020 = [1, 5, 8.5, 4]\n",
    "    DataFrame(; name, grade_2020)\n",
    "end\n",
    "grades_2020()"
   ]
  },
  {
   "cell_type": "code",
   "execution_count": 162,
   "id": "47666c34-dde8-42f0-bc83-01ad953536e7",
   "metadata": {},
   "outputs": [
    {
     "data": {
      "text/html": [
       "<div class=\"data-frame\"><p>4 rows × 3 columns</p><table class=\"data-frame\"><thead><tr><th></th><th>name</th><th>grade_2020</th><th>grade_2020_plus_one</th></tr><tr><th></th><th title=\"String\">String</th><th title=\"Float64\">Float64</th><th title=\"Float64\">Float64</th></tr></thead><tbody><tr><th>1</th><td>Sally</td><td>1.0</td><td>2.0</td></tr><tr><th>2</th><td>Bob</td><td>5.0</td><td>6.0</td></tr><tr><th>3</th><td>Alice</td><td>8.5</td><td>9.5</td></tr><tr><th>4</th><td>Hank</td><td>4.0</td><td>5.0</td></tr></tbody></table></div>"
      ],
      "text/latex": [
       "\\begin{tabular}{r|ccc}\n",
       "\t& name & grade\\_2020 & grade\\_2020\\_plus\\_one\\\\\n",
       "\t\\hline\n",
       "\t& String & Float64 & Float64\\\\\n",
       "\t\\hline\n",
       "\t1 & Sally & 1.0 & 2.0 \\\\\n",
       "\t2 & Bob & 5.0 & 6.0 \\\\\n",
       "\t3 & Alice & 8.5 & 9.5 \\\\\n",
       "\t4 & Hank & 4.0 & 5.0 \\\\\n",
       "\\end{tabular}\n"
      ],
      "text/plain": [
       "\u001b[1m4×3 DataFrame\u001b[0m\n",
       "\u001b[1m Row \u001b[0m│\u001b[1m name   \u001b[0m\u001b[1m grade_2020 \u001b[0m\u001b[1m grade_2020_plus_one \u001b[0m\n",
       "\u001b[1m     \u001b[0m│\u001b[90m String \u001b[0m\u001b[90m Float64    \u001b[0m\u001b[90m Float64             \u001b[0m\n",
       "─────┼─────────────────────────────────────────\n",
       "   1 │ Sally          1.0                  2.0\n",
       "   2 │ Bob            5.0                  6.0\n",
       "   3 │ Alice          8.5                  9.5\n",
       "   4 │ Hank           4.0                  5.0"
      ]
     },
     "execution_count": 162,
     "metadata": {},
     "output_type": "execute_result"
    }
   ],
   "source": [
    "plus_one(grades) = grades .+ 1\n",
    "transform(grades_2020(), :grade_2020 => plus_one)"
   ]
  },
  {
   "cell_type": "code",
   "execution_count": 163,
   "id": "a777922a-426c-47cf-bb32-d839798b28df",
   "metadata": {},
   "outputs": [
    {
     "data": {
      "text/html": [
       "<div class=\"data-frame\"><p>4 rows × 2 columns</p><table class=\"data-frame\"><thead><tr><th></th><th>name</th><th>grade_2020</th></tr><tr><th></th><th title=\"String\">String</th><th title=\"Float64\">Float64</th></tr></thead><tbody><tr><th>1</th><td>Sally</td><td>2.0</td></tr><tr><th>2</th><td>Bob</td><td>6.0</td></tr><tr><th>3</th><td>Alice</td><td>9.5</td></tr><tr><th>4</th><td>Hank</td><td>5.0</td></tr></tbody></table></div>"
      ],
      "text/latex": [
       "\\begin{tabular}{r|cc}\n",
       "\t& name & grade\\_2020\\\\\n",
       "\t\\hline\n",
       "\t& String & Float64\\\\\n",
       "\t\\hline\n",
       "\t1 & Sally & 2.0 \\\\\n",
       "\t2 & Bob & 6.0 \\\\\n",
       "\t3 & Alice & 9.5 \\\\\n",
       "\t4 & Hank & 5.0 \\\\\n",
       "\\end{tabular}\n"
      ],
      "text/plain": [
       "\u001b[1m4×2 DataFrame\u001b[0m\n",
       "\u001b[1m Row \u001b[0m│\u001b[1m name   \u001b[0m\u001b[1m grade_2020 \u001b[0m\n",
       "\u001b[1m     \u001b[0m│\u001b[90m String \u001b[0m\u001b[90m Float64    \u001b[0m\n",
       "─────┼────────────────────\n",
       "   1 │ Sally          2.0\n",
       "   2 │ Bob            6.0\n",
       "   3 │ Alice          9.5\n",
       "   4 │ Hank           5.0"
      ]
     },
     "execution_count": 163,
     "metadata": {},
     "output_type": "execute_result"
    }
   ],
   "source": [
    "transform(grades_2020(), :grade_2020 => plus_one => :grade_2020)"
   ]
  },
  {
   "cell_type": "code",
   "execution_count": 164,
   "id": "5ec6ce4b-64b1-4381-a13c-81b20b504584",
   "metadata": {},
   "outputs": [
    {
     "data": {
      "text/html": [
       "<div class=\"data-frame\"><p>4 rows × 2 columns</p><table class=\"data-frame\"><thead><tr><th></th><th>name</th><th>grade_2020</th></tr><tr><th></th><th title=\"String\">String</th><th title=\"Float64\">Float64</th></tr></thead><tbody><tr><th>1</th><td>Sally</td><td>2.0</td></tr><tr><th>2</th><td>Bob</td><td>6.0</td></tr><tr><th>3</th><td>Alice</td><td>9.5</td></tr><tr><th>4</th><td>Hank</td><td>5.0</td></tr></tbody></table></div>"
      ],
      "text/latex": [
       "\\begin{tabular}{r|cc}\n",
       "\t& name & grade\\_2020\\\\\n",
       "\t\\hline\n",
       "\t& String & Float64\\\\\n",
       "\t\\hline\n",
       "\t1 & Sally & 2.0 \\\\\n",
       "\t2 & Bob & 6.0 \\\\\n",
       "\t3 & Alice & 9.5 \\\\\n",
       "\t4 & Hank & 5.0 \\\\\n",
       "\\end{tabular}\n"
      ],
      "text/plain": [
       "\u001b[1m4×2 DataFrame\u001b[0m\n",
       "\u001b[1m Row \u001b[0m│\u001b[1m name   \u001b[0m\u001b[1m grade_2020 \u001b[0m\n",
       "\u001b[1m     \u001b[0m│\u001b[90m String \u001b[0m\u001b[90m Float64    \u001b[0m\n",
       "─────┼────────────────────\n",
       "   1 │ Sally          2.0\n",
       "   2 │ Bob            6.0\n",
       "   3 │ Alice          9.5\n",
       "   4 │ Hank           5.0"
      ]
     },
     "execution_count": 164,
     "metadata": {},
     "output_type": "execute_result"
    }
   ],
   "source": [
    "transform(grades_2020(), :grade_2020 => plus_one; renamecols=false)"
   ]
  },
  {
   "cell_type": "code",
   "execution_count": 165,
   "id": "409f0c99-81e7-48e7-bebf-7a23f6decf5c",
   "metadata": {},
   "outputs": [
    {
     "data": {
      "text/html": [
       "<div class=\"data-frame\"><p>4 rows × 2 columns</p><table class=\"data-frame\"><thead><tr><th></th><th>name</th><th>grade_2020</th></tr><tr><th></th><th title=\"String\">String</th><th title=\"Float64\">Float64</th></tr></thead><tbody><tr><th>1</th><td>Sally</td><td>2.0</td></tr><tr><th>2</th><td>Bob</td><td>6.0</td></tr><tr><th>3</th><td>Alice</td><td>9.5</td></tr><tr><th>4</th><td>Hank</td><td>5.0</td></tr></tbody></table></div>"
      ],
      "text/latex": [
       "\\begin{tabular}{r|cc}\n",
       "\t& name & grade\\_2020\\\\\n",
       "\t\\hline\n",
       "\t& String & Float64\\\\\n",
       "\t\\hline\n",
       "\t1 & Sally & 2.0 \\\\\n",
       "\t2 & Bob & 6.0 \\\\\n",
       "\t3 & Alice & 9.5 \\\\\n",
       "\t4 & Hank & 5.0 \\\\\n",
       "\\end{tabular}\n"
      ],
      "text/plain": [
       "\u001b[1m4×2 DataFrame\u001b[0m\n",
       "\u001b[1m Row \u001b[0m│\u001b[1m name   \u001b[0m\u001b[1m grade_2020 \u001b[0m\n",
       "\u001b[1m     \u001b[0m│\u001b[90m String \u001b[0m\u001b[90m Float64    \u001b[0m\n",
       "─────┼────────────────────\n",
       "   1 │ Sally          2.0\n",
       "   2 │ Bob            6.0\n",
       "   3 │ Alice          9.5\n",
       "   4 │ Hank           5.0"
      ]
     },
     "execution_count": 165,
     "metadata": {},
     "output_type": "execute_result"
    }
   ],
   "source": [
    "select(grades_2020(), :, :grade_2020 => plus_one => :grade_2020)"
   ]
  },
  {
   "cell_type": "code",
   "execution_count": 166,
   "id": "7ed10d8d-a609-4f32-8cad-2444c507c947",
   "metadata": {},
   "outputs": [
    {
     "data": {
      "text/html": [
       "<div class=\"data-frame\"><p>4 rows × 2 columns</p><table class=\"data-frame\"><thead><tr><th></th><th>name</th><th>grade_2020</th></tr><tr><th></th><th title=\"String\">String</th><th title=\"Float64\">Float64</th></tr></thead><tbody><tr><th>1</th><td>Sally</td><td>2.0</td></tr><tr><th>2</th><td>Bob</td><td>6.0</td></tr><tr><th>3</th><td>Alice</td><td>9.5</td></tr><tr><th>4</th><td>Hank</td><td>5.0</td></tr></tbody></table></div>"
      ],
      "text/latex": [
       "\\begin{tabular}{r|cc}\n",
       "\t& name & grade\\_2020\\\\\n",
       "\t\\hline\n",
       "\t& String & Float64\\\\\n",
       "\t\\hline\n",
       "\t1 & Sally & 2.0 \\\\\n",
       "\t2 & Bob & 6.0 \\\\\n",
       "\t3 & Alice & 9.5 \\\\\n",
       "\t4 & Hank & 5.0 \\\\\n",
       "\\end{tabular}\n"
      ],
      "text/plain": [
       "\u001b[1m4×2 DataFrame\u001b[0m\n",
       "\u001b[1m Row \u001b[0m│\u001b[1m name   \u001b[0m\u001b[1m grade_2020 \u001b[0m\n",
       "\u001b[1m     \u001b[0m│\u001b[90m String \u001b[0m\u001b[90m Float64    \u001b[0m\n",
       "─────┼────────────────────\n",
       "   1 │ Sally          2.0\n",
       "   2 │ Bob            6.0\n",
       "   3 │ Alice          9.5\n",
       "   4 │ Hank           5.0"
      ]
     },
     "execution_count": 166,
     "metadata": {},
     "output_type": "execute_result"
    }
   ],
   "source": [
    "df = grades_2020()\n",
    "df.grade_2020 = plus_one.(df.grade_2020)\n",
    "df"
   ]
  },
  {
   "cell_type": "markdown",
   "id": "81e72be8-86f2-4eca-8a1c-62af6dc36c6c",
   "metadata": {},
   "source": [
    "### 4.7.1 Multiple Transformations"
   ]
  },
  {
   "cell_type": "code",
   "execution_count": 169,
   "id": "a4ad3910-903b-48ce-8a83-34f76c3e22f8",
   "metadata": {},
   "outputs": [
    {
     "data": {
      "text/html": [
       "<div class=\"data-frame\"><p>4 rows × 3 columns</p><table class=\"data-frame\"><thead><tr><th></th><th>name</th><th>grade_2020</th><th>grade_2021</th></tr><tr><th></th><th title=\"String\">String</th><th title=\"Float64\">Float64</th><th title=\"Union{Missing, Float64}\">Float64?</th></tr></thead><tbody><tr><th>1</th><td>Sally</td><td>1.0</td><td>9.5</td></tr><tr><th>2</th><td>Hank</td><td>4.0</td><td>6.0</td></tr><tr><th>3</th><td>Bob</td><td>5.0</td><td><em>missing</em></td></tr><tr><th>4</th><td>Alice</td><td>8.5</td><td><em>missing</em></td></tr></tbody></table></div>"
      ],
      "text/latex": [
       "\\begin{tabular}{r|ccc}\n",
       "\t& name & grade\\_2020 & grade\\_2021\\\\\n",
       "\t\\hline\n",
       "\t& String & Float64 & Float64?\\\\\n",
       "\t\\hline\n",
       "\t1 & Sally & 1.0 & 9.5 \\\\\n",
       "\t2 & Hank & 4.0 & 6.0 \\\\\n",
       "\t3 & Bob & 5.0 & \\emph{missing} \\\\\n",
       "\t4 & Alice & 8.5 & \\emph{missing} \\\\\n",
       "\\end{tabular}\n"
      ],
      "text/plain": [
       "\u001b[1m4×3 DataFrame\u001b[0m\n",
       "\u001b[1m Row \u001b[0m│\u001b[1m name   \u001b[0m\u001b[1m grade_2020 \u001b[0m\u001b[1m grade_2021 \u001b[0m\n",
       "\u001b[1m     \u001b[0m│\u001b[90m String \u001b[0m\u001b[90m Float64    \u001b[0m\u001b[90m Float64?   \u001b[0m\n",
       "─────┼────────────────────────────────\n",
       "   1 │ Sally          1.0         9.5\n",
       "   2 │ Hank           4.0         6.0\n",
       "   3 │ Bob            5.0 \u001b[90m  missing   \u001b[0m\n",
       "   4 │ Alice          8.5 \u001b[90m  missing   \u001b[0m"
      ]
     },
     "execution_count": 169,
     "metadata": {},
     "output_type": "execute_result"
    }
   ],
   "source": [
    "leftjoined = leftjoin(gr_20_df, gr_21_df; on=:name)"
   ]
  },
  {
   "cell_type": "code",
   "execution_count": 171,
   "id": "3643f9d0-fac6-458d-8b21-3806be046a30",
   "metadata": {},
   "outputs": [
    {
     "data": {
      "text/html": [
       "<div class=\"data-frame\"><p>4 rows × 4 columns</p><table class=\"data-frame\"><thead><tr><th></th><th>name</th><th>grade_2020</th><th>grade_2021</th><th>grade_2020_grade_2021</th></tr><tr><th></th><th title=\"String\">String</th><th title=\"Float64\">Float64</th><th title=\"Union{Missing, Float64}\">Float64?</th><th title=\"Union{Missing, Bool}\">Bool?</th></tr></thead><tbody><tr><th>1</th><td>Sally</td><td>1.0</td><td>9.5</td><td>1</td></tr><tr><th>2</th><td>Hank</td><td>4.0</td><td>6.0</td><td>1</td></tr><tr><th>3</th><td>Bob</td><td>5.0</td><td><em>missing</em></td><td><em>missing</em></td></tr><tr><th>4</th><td>Alice</td><td>8.5</td><td><em>missing</em></td><td>1</td></tr></tbody></table></div>"
      ],
      "text/latex": [
       "\\begin{tabular}{r|cccc}\n",
       "\t& name & grade\\_2020 & grade\\_2021 & grade\\_2020\\_grade\\_2021\\\\\n",
       "\t\\hline\n",
       "\t& String & Float64 & Float64? & Bool?\\\\\n",
       "\t\\hline\n",
       "\t1 & Sally & 1.0 & 9.5 & 1 \\\\\n",
       "\t2 & Hank & 4.0 & 6.0 & 1 \\\\\n",
       "\t3 & Bob & 5.0 & \\emph{missing} & \\emph{missing} \\\\\n",
       "\t4 & Alice & 8.5 & \\emph{missing} & 1 \\\\\n",
       "\\end{tabular}\n"
      ],
      "text/plain": [
       "\u001b[1m4×4 DataFrame\u001b[0m\n",
       "\u001b[1m Row \u001b[0m│\u001b[1m name   \u001b[0m\u001b[1m grade_2020 \u001b[0m\u001b[1m grade_2021 \u001b[0m\u001b[1m grade_2020_grade_2021 \u001b[0m\n",
       "\u001b[1m     \u001b[0m│\u001b[90m String \u001b[0m\u001b[90m Float64    \u001b[0m\u001b[90m Float64?   \u001b[0m\u001b[90m Union{Missing, Bool}  \u001b[0m\n",
       "─────┼───────────────────────────────────────────────────────\n",
       "   1 │ Sally          1.0         9.5                   true\n",
       "   2 │ Hank           4.0         6.0                   true\n",
       "   3 │ Bob            5.0 \u001b[90m  missing   \u001b[0m\u001b[90m               missing \u001b[0m\n",
       "   4 │ Alice          8.5 \u001b[90m  missing   \u001b[0m                  true"
      ]
     },
     "execution_count": 171,
     "metadata": {},
     "output_type": "execute_result"
    }
   ],
   "source": [
    "pass(A, B) = [5.5 < a || 5.5 < b for (a, b) in zip(A, B)]\n",
    "transform(leftjoined, [:grade_2020, :grade_2021] => pass; renamecols=false)"
   ]
  },
  {
   "cell_type": "code",
   "execution_count": 173,
   "id": "8201909a-2461-414d-a5ac-6cc81f86d0f2",
   "metadata": {},
   "outputs": [
    {
     "data": {
      "text/plain": [
       "3-element Vector{String}:\n",
       " \"Sally\"\n",
       " \"Hank\"\n",
       " \"Alice\""
      ]
     },
     "execution_count": 173,
     "metadata": {},
     "output_type": "execute_result"
    }
   ],
   "source": [
    "function only_pass()\n",
    "    leftjoined = leftjoin(grades_2020(), gr_21_df; on=:name)\n",
    "    pass(A, B) = [5.5 < a || 5.5 < b for (a, b) in zip(A, B)]\n",
    "    leftjoined = transform(leftjoined, [:grade_2020, :grade_2021] => pass => :pass)\n",
    "    passed = subset(leftjoined, :pass; skipmissing=true)\n",
    "    return passed.name\n",
    "end\n",
    "only_pass()"
   ]
  },
  {
   "cell_type": "markdown",
   "id": "45396d8b-923d-462d-885c-1908fab4dd54",
   "metadata": {},
   "source": [
    "## 4.8 Groupby and Combine"
   ]
  },
  {
   "cell_type": "markdown",
   "id": "38ba40ad-2fc1-4498-931c-4843ec6ed117",
   "metadata": {},
   "source": [
    "In the R programming language, Wickham (2011) has popularized the so-called split-apply-combine strategy for data transformations. In essence, this strategy splits a dataset into distinct groups, applies one or more functions to each group, and then combines the result. DataFrames.jl fully supports split-apply-combine. We will use the student grades example like before. Suppose that we want to know each student’s mean grade:"
   ]
  },
  {
   "cell_type": "code",
   "execution_count": 176,
   "id": "86948f83-aa4c-4c50-a195-296c967a2610",
   "metadata": {},
   "outputs": [
    {
     "data": {
      "text/html": [
       "<div class=\"data-frame\"><p>7 rows × 2 columns</p><table class=\"data-frame\"><thead><tr><th></th><th>name</th><th>grade</th></tr><tr><th></th><th title=\"String\">String</th><th title=\"Float64\">Float64</th></tr></thead><tbody><tr><th>1</th><td>Sally</td><td>1.0</td></tr><tr><th>2</th><td>Bob</td><td>5.0</td></tr><tr><th>3</th><td>Alice</td><td>8.5</td></tr><tr><th>4</th><td>Hank</td><td>4.0</td></tr><tr><th>5</th><td>Bob</td><td>9.5</td></tr><tr><th>6</th><td>Sally</td><td>9.5</td></tr><tr><th>7</th><td>Hank</td><td>6.0</td></tr></tbody></table></div>"
      ],
      "text/latex": [
       "\\begin{tabular}{r|cc}\n",
       "\t& name & grade\\\\\n",
       "\t\\hline\n",
       "\t& String & Float64\\\\\n",
       "\t\\hline\n",
       "\t1 & Sally & 1.0 \\\\\n",
       "\t2 & Bob & 5.0 \\\\\n",
       "\t3 & Alice & 8.5 \\\\\n",
       "\t4 & Hank & 4.0 \\\\\n",
       "\t5 & Bob & 9.5 \\\\\n",
       "\t6 & Sally & 9.5 \\\\\n",
       "\t7 & Hank & 6.0 \\\\\n",
       "\\end{tabular}\n"
      ],
      "text/plain": [
       "\u001b[1m7×2 DataFrame\u001b[0m\n",
       "\u001b[1m Row \u001b[0m│\u001b[1m name   \u001b[0m\u001b[1m grade   \u001b[0m\n",
       "\u001b[1m     \u001b[0m│\u001b[90m String \u001b[0m\u001b[90m Float64 \u001b[0m\n",
       "─────┼─────────────────\n",
       "   1 │ Sally       1.0\n",
       "   2 │ Bob         5.0\n",
       "   3 │ Alice       8.5\n",
       "   4 │ Hank        4.0\n",
       "   5 │ Bob         9.5\n",
       "   6 │ Sally       9.5\n",
       "   7 │ Hank        6.0"
      ]
     },
     "execution_count": 176,
     "metadata": {},
     "output_type": "execute_result"
    }
   ],
   "source": [
    "function all_grades()\n",
    "    df1 = grades_2020()\n",
    "    df1 = select(df1, :name, :grade_2020 => :grade)\n",
    "    df2 = gr_21_df\n",
    "    df2 = select(df2, :name, :grade_2021 => :grade)\n",
    "    rename_bob2(data_col) = replace.(data_col, \"Bob 2\" => \"Bob\")\n",
    "    df2 = transform(df2, :name => rename_bob2 => :name)\n",
    "    return vcat(df1, df2)\n",
    "end\n",
    "all_grades()"
   ]
  },
  {
   "cell_type": "markdown",
   "id": "9be57dfa-8224-4769-8ff3-f80e85645154",
   "metadata": {},
   "source": [
    "The strategy is to split the dataset into distinct students, apply the mean function to each student, and combine the result."
   ]
  },
  {
   "cell_type": "markdown",
   "id": "23641265-cc55-4780-ad13-7f1bc965da79",
   "metadata": {},
   "source": [
    "**The split is called groupby** and we give as second argument the column ID that we want to split the dataset into:"
   ]
  },
  {
   "cell_type": "code",
   "execution_count": 177,
   "id": "b828a7cd-2ce3-48fc-a87b-483f827fc1ef",
   "metadata": {},
   "outputs": [
    {
     "data": {
      "text/html": [
       "<p><b>GroupedDataFrame with 4 groups based on key: name</b></p><p><i>First Group (2 rows): name = &quot;Sally&quot;</i></p><div class=\"data-frame\"><table class=\"data-frame\"><thead><tr><th></th><th>name</th><th>grade</th></tr><tr><th></th><th title=\"String\">String</th><th title=\"Float64\">Float64</th></tr></thead><tbody><tr><th>1</th><td>Sally</td><td>1.0</td></tr><tr><th>2</th><td>Sally</td><td>9.5</td></tr></tbody></table></div><p>&vellip;</p><p><i>Last Group (2 rows): name = &quot;Hank&quot;</i></p><div class=\"data-frame\"><table class=\"data-frame\"><thead><tr><th></th><th>name</th><th>grade</th></tr><tr><th></th><th title=\"String\">String</th><th title=\"Float64\">Float64</th></tr></thead><tbody><tr><th>1</th><td>Hank</td><td>4.0</td></tr><tr><th>2</th><td>Hank</td><td>6.0</td></tr></tbody></table></div>"
      ],
      "text/latex": [
       "GroupedDataFrame with 4 groups based on key: name\n",
       "\n",
       "First Group (2 rows): name = \"Sally\"\n",
       "\n",
       "\\begin{tabular}{r|cc}\n",
       "\t& name & grade\\\\\n",
       "\t\\hline\n",
       "\t& String & Float64\\\\\n",
       "\t\\hline\n",
       "\t1 & Sally & 1.0 \\\\\n",
       "\t2 & Sally & 9.5 \\\\\n",
       "\\end{tabular}\n",
       "\n",
       "$\\dots$\n",
       "\n",
       "Last Group (2 rows): name = \"Hank\"\n",
       "\n",
       "\\begin{tabular}{r|cc}\n",
       "\t& name & grade\\\\\n",
       "\t\\hline\n",
       "\t& String & Float64\\\\\n",
       "\t\\hline\n",
       "\t1 & Hank & 4.0 \\\\\n",
       "\t2 & Hank & 6.0 \\\\\n",
       "\\end{tabular}\n"
      ],
      "text/plain": [
       "GroupedDataFrame with 4 groups based on key: name\n",
       "First Group (2 rows): name = \"Sally\"\n",
       "\u001b[1m Row \u001b[0m│\u001b[1m name   \u001b[0m\u001b[1m grade   \u001b[0m\n",
       "\u001b[1m     \u001b[0m│\u001b[90m String \u001b[0m\u001b[90m Float64 \u001b[0m\n",
       "─────┼─────────────────\n",
       "   1 │ Sally       1.0\n",
       "   2 │ Sally       9.5\n",
       "⋮\n",
       "Last Group (2 rows): name = \"Hank\"\n",
       "\u001b[1m Row \u001b[0m│\u001b[1m name   \u001b[0m\u001b[1m grade   \u001b[0m\n",
       "\u001b[1m     \u001b[0m│\u001b[90m String \u001b[0m\u001b[90m Float64 \u001b[0m\n",
       "─────┼─────────────────\n",
       "   1 │ Hank        4.0\n",
       "   2 │ Hank        6.0"
      ]
     },
     "execution_count": 177,
     "metadata": {},
     "output_type": "execute_result"
    }
   ],
   "source": [
    "groupby(all_grades(), :name)"
   ]
  },
  {
   "cell_type": "markdown",
   "id": "e9a781c2-7c13-4b3c-a437-4e9802c71e07",
   "metadata": {},
   "source": [
    "We apply the mean function from Julia’s standard library Statistics module:"
   ]
  },
  {
   "cell_type": "code",
   "execution_count": 178,
   "id": "2240734a-7310-45af-85cb-ace89ad38d34",
   "metadata": {},
   "outputs": [],
   "source": [
    "using Statistics"
   ]
  },
  {
   "cell_type": "markdown",
   "id": "dafd2cc6-d97f-49f5-a381-76817d60525d",
   "metadata": {},
   "source": [
    "To apply this function, use the combine function:"
   ]
  },
  {
   "cell_type": "code",
   "execution_count": 179,
   "id": "e4d91ed0-2c94-4044-9cf8-6c7bdf646d5f",
   "metadata": {},
   "outputs": [
    {
     "data": {
      "text/html": [
       "<div class=\"data-frame\"><p>4 rows × 2 columns</p><table class=\"data-frame\"><thead><tr><th></th><th>name</th><th>grade_mean</th></tr><tr><th></th><th title=\"String\">String</th><th title=\"Float64\">Float64</th></tr></thead><tbody><tr><th>1</th><td>Sally</td><td>5.25</td></tr><tr><th>2</th><td>Bob</td><td>7.25</td></tr><tr><th>3</th><td>Alice</td><td>8.5</td></tr><tr><th>4</th><td>Hank</td><td>5.0</td></tr></tbody></table></div>"
      ],
      "text/latex": [
       "\\begin{tabular}{r|cc}\n",
       "\t& name & grade\\_mean\\\\\n",
       "\t\\hline\n",
       "\t& String & Float64\\\\\n",
       "\t\\hline\n",
       "\t1 & Sally & 5.25 \\\\\n",
       "\t2 & Bob & 7.25 \\\\\n",
       "\t3 & Alice & 8.5 \\\\\n",
       "\t4 & Hank & 5.0 \\\\\n",
       "\\end{tabular}\n"
      ],
      "text/plain": [
       "\u001b[1m4×2 DataFrame\u001b[0m\n",
       "\u001b[1m Row \u001b[0m│\u001b[1m name   \u001b[0m\u001b[1m grade_mean \u001b[0m\n",
       "\u001b[1m     \u001b[0m│\u001b[90m String \u001b[0m\u001b[90m Float64    \u001b[0m\n",
       "─────┼────────────────────\n",
       "   1 │ Sally         5.25\n",
       "   2 │ Bob           7.25\n",
       "   3 │ Alice         8.5\n",
       "   4 │ Hank          5.0"
      ]
     },
     "execution_count": 179,
     "metadata": {},
     "output_type": "execute_result"
    }
   ],
   "source": [
    "gdf = groupby(all_grades(), :name)\n",
    "combine(gdf, :grade => mean)"
   ]
  },
  {
   "cell_type": "markdown",
   "id": "3e34314b-36ef-4c93-b93b-867dfa5e85ca",
   "metadata": {},
   "source": [
    "Imagine having to do this without the groupby and combine functions. We would need to loop over our data to split it up into groups, then loop over each split to apply a function, and finally loop over each group to gather the final result. Therefore, the split-apply-combine technique is a great one to know."
   ]
  },
  {
   "cell_type": "markdown",
   "id": "70684fc3-1c68-4013-b92a-bffb10bd8434",
   "metadata": {},
   "source": [
    "### 4.8.1 Multiple Source Columns"
   ]
  },
  {
   "cell_type": "markdown",
   "id": "b655e37f-5626-4893-8ffc-f3261c6de1e5",
   "metadata": {},
   "source": [
    "But what if we want to apply a function to multiple columns of our dataset?"
   ]
  },
  {
   "cell_type": "code",
   "execution_count": 180,
   "id": "129799a7-d637-41fc-bb25-6ee026a425d7",
   "metadata": {},
   "outputs": [
    {
     "data": {
      "text/html": [
       "<div class=\"data-frame\"><p>4 rows × 3 columns</p><table class=\"data-frame\"><thead><tr><th></th><th>group</th><th>X</th><th>Y</th></tr><tr><th></th><th title=\"Symbol\">Symbol</th><th title=\"Int64\">Int64</th><th title=\"Int64\">Int64</th></tr></thead><tbody><tr><th>1</th><td>A</td><td>1</td><td>5</td></tr><tr><th>2</th><td>A</td><td>2</td><td>6</td></tr><tr><th>3</th><td>B</td><td>3</td><td>7</td></tr><tr><th>4</th><td>B</td><td>4</td><td>8</td></tr></tbody></table></div>"
      ],
      "text/latex": [
       "\\begin{tabular}{r|ccc}\n",
       "\t& group & X & Y\\\\\n",
       "\t\\hline\n",
       "\t& Symbol & Int64 & Int64\\\\\n",
       "\t\\hline\n",
       "\t1 & A & 1 & 5 \\\\\n",
       "\t2 & A & 2 & 6 \\\\\n",
       "\t3 & B & 3 & 7 \\\\\n",
       "\t4 & B & 4 & 8 \\\\\n",
       "\\end{tabular}\n"
      ],
      "text/plain": [
       "\u001b[1m4×3 DataFrame\u001b[0m\n",
       "\u001b[1m Row \u001b[0m│\u001b[1m group  \u001b[0m\u001b[1m X     \u001b[0m\u001b[1m Y     \u001b[0m\n",
       "\u001b[1m     \u001b[0m│\u001b[90m Symbol \u001b[0m\u001b[90m Int64 \u001b[0m\u001b[90m Int64 \u001b[0m\n",
       "─────┼──────────────────────\n",
       "   1 │ A           1      5\n",
       "   2 │ A           2      6\n",
       "   3 │ B           3      7\n",
       "   4 │ B           4      8"
      ]
     },
     "execution_count": 180,
     "metadata": {},
     "output_type": "execute_result"
    }
   ],
   "source": [
    "group = [:A, :A, :B, :B]\n",
    "X = 1:4\n",
    "Y = 5:8\n",
    "df = DataFrame(; group, X, Y)"
   ]
  },
  {
   "cell_type": "markdown",
   "id": "3da0f4eb-11a7-4ee2-9560-25516e301db6",
   "metadata": {},
   "source": [
    "This is accomplished in a similar manner:"
   ]
  },
  {
   "cell_type": "code",
   "execution_count": 181,
   "id": "7d30c29a-3976-43e6-8f5a-73d9c26f5ace",
   "metadata": {},
   "outputs": [
    {
     "data": {
      "text/html": [
       "<div class=\"data-frame\"><p>2 rows × 3 columns</p><table class=\"data-frame\"><thead><tr><th></th><th>group</th><th>X</th><th>Y</th></tr><tr><th></th><th title=\"Symbol\">Symbol</th><th title=\"Float64\">Float64</th><th title=\"Float64\">Float64</th></tr></thead><tbody><tr><th>1</th><td>A</td><td>1.5</td><td>5.5</td></tr><tr><th>2</th><td>B</td><td>3.5</td><td>7.5</td></tr></tbody></table></div>"
      ],
      "text/latex": [
       "\\begin{tabular}{r|ccc}\n",
       "\t& group & X & Y\\\\\n",
       "\t\\hline\n",
       "\t& Symbol & Float64 & Float64\\\\\n",
       "\t\\hline\n",
       "\t1 & A & 1.5 & 5.5 \\\\\n",
       "\t2 & B & 3.5 & 7.5 \\\\\n",
       "\\end{tabular}\n"
      ],
      "text/plain": [
       "\u001b[1m2×3 DataFrame\u001b[0m\n",
       "\u001b[1m Row \u001b[0m│\u001b[1m group  \u001b[0m\u001b[1m X       \u001b[0m\u001b[1m Y       \u001b[0m\n",
       "\u001b[1m     \u001b[0m│\u001b[90m Symbol \u001b[0m\u001b[90m Float64 \u001b[0m\u001b[90m Float64 \u001b[0m\n",
       "─────┼──────────────────────────\n",
       "   1 │ A           1.5      5.5\n",
       "   2 │ B           3.5      7.5"
      ]
     },
     "execution_count": 181,
     "metadata": {},
     "output_type": "execute_result"
    }
   ],
   "source": [
    "gdf = groupby(df, :group)\n",
    "combine(gdf, [:X, :Y] .=> mean; renamecols=false)"
   ]
  },
  {
   "cell_type": "markdown",
   "id": "75fd3365-5687-427c-8ac9-b542bb9ca71b",
   "metadata": {},
   "source": [
    "Note that we’ve used the dot . operator before the right arrow => to indicate that the mean has to be applied to multiple source columns [:X, :Y].\n",
    "\n",
    "To use composable functions, a simple way is to create a function that does the intended composable transformations. For instance, for a series of values, let’s first take the mean followed by round to a whole number (also known as an integer Int):"
   ]
  },
  {
   "cell_type": "code",
   "execution_count": 182,
   "id": "9e1845d4-ef99-49fe-9db5-7287fde9500c",
   "metadata": {},
   "outputs": [
    {
     "data": {
      "text/html": [
       "<div class=\"data-frame\"><p>2 rows × 3 columns</p><table class=\"data-frame\"><thead><tr><th></th><th>group</th><th>X</th><th>Y</th></tr><tr><th></th><th title=\"Symbol\">Symbol</th><th title=\"Int64\">Int64</th><th title=\"Int64\">Int64</th></tr></thead><tbody><tr><th>1</th><td>A</td><td>2</td><td>6</td></tr><tr><th>2</th><td>B</td><td>4</td><td>8</td></tr></tbody></table></div>"
      ],
      "text/latex": [
       "\\begin{tabular}{r|ccc}\n",
       "\t& group & X & Y\\\\\n",
       "\t\\hline\n",
       "\t& Symbol & Int64 & Int64\\\\\n",
       "\t\\hline\n",
       "\t1 & A & 2 & 6 \\\\\n",
       "\t2 & B & 4 & 8 \\\\\n",
       "\\end{tabular}\n"
      ],
      "text/plain": [
       "\u001b[1m2×3 DataFrame\u001b[0m\n",
       "\u001b[1m Row \u001b[0m│\u001b[1m group  \u001b[0m\u001b[1m X     \u001b[0m\u001b[1m Y     \u001b[0m\n",
       "\u001b[1m     \u001b[0m│\u001b[90m Symbol \u001b[0m\u001b[90m Int64 \u001b[0m\u001b[90m Int64 \u001b[0m\n",
       "─────┼──────────────────────\n",
       "   1 │ A           2      6\n",
       "   2 │ B           4      8"
      ]
     },
     "execution_count": 182,
     "metadata": {},
     "output_type": "execute_result"
    }
   ],
   "source": [
    "gdf = groupby(df, :group)\n",
    "rounded_mean(data_col) = round(Int, mean(data_col))\n",
    "combine(gdf, [:X, :Y] .=> rounded_mean; renamecols=false)"
   ]
  },
  {
   "cell_type": "markdown",
   "id": "392745a1-aa65-4c50-bd6b-aa2b4817fffc",
   "metadata": {},
   "source": [
    "## 4.9 Performance"
   ]
  },
  {
   "cell_type": "markdown",
   "id": "1662c129-7c27-4fff-8bab-4dad0c723ce7",
   "metadata": {},
   "source": [
    "So far, we haven’t thought about making our DataFrames.jl code fast. Like everything in Julia, DataFrames.jl can be really fast. In this section, we will give some performance tips and tricks."
   ]
  },
  {
   "cell_type": "markdown",
   "id": "3810ae0a-bf2f-417c-b84c-910f47f049fc",
   "metadata": {},
   "source": [
    "### 4.9.1 In-place operations (exclamation mark)"
   ]
  },
  {
   "cell_type": "markdown",
   "id": "3e0bdb61-019b-45c7-8f93-c8dab7d4911f",
   "metadata": {},
   "source": [
    "Like we explained in Section 3.3.2, functions that end with a bang ! are a common pattern to denote functions that modify one or more of their arguments. In the context of high performance Julia code, this means that functions with ! will just change in-place the objects that we have supplied as arguments.\n",
    "\n",
    "Almost all the DataFrames.jl functions that we’ve seen have a \"! twin\". For example, filter has an in-place filter!, select has select!, subset has subset!, and so on. Notice that these functions do not return a new DataFrame, but instead they update the DataFrame that they act upon. Additionally, DataFrames.jl (version 1.3 onwards) supports in-place leftjoin with the function leftjoin!. This function updates the left DataFrame with the joined columns from the right DataFrame. There is a caveat that for each row of left table there must match at most one row in right table.\n",
    "\n",
    "**If you want the highest speed and performance in your code, you should definitely use the ```!``` functions instead of regular ```DataFrames.jl``` functions.**\n",
    "\n",
    "Let’s go back to the example of the select function in the beginning of Section 4.4. Here is the responses DataFrame:"
   ]
  },
  {
   "cell_type": "code",
   "execution_count": 184,
   "id": "f2db4976-a3ce-4bbb-b6d2-af8cf7f0bff0",
   "metadata": {},
   "outputs": [
    {
     "data": {
      "text/html": [
       "<div class=\"data-frame\"><p>2 rows × 6 columns</p><table class=\"data-frame\"><thead><tr><th></th><th>id</th><th>q1</th><th>q2</th><th>q3</th><th>q4</th><th>q5</th></tr><tr><th></th><th title=\"Int64\">Int64</th><th title=\"Int64\">Int64</th><th title=\"Symbol\">Symbol</th><th title=\"String\">String</th><th title=\"String\">String</th><th title=\"String\">String</th></tr></thead><tbody><tr><th>1</th><td>1</td><td>28</td><td>us</td><td>F</td><td>B</td><td>A</td></tr><tr><th>2</th><td>2</td><td>61</td><td>fr</td><td>B</td><td>C</td><td>E</td></tr></tbody></table></div>"
      ],
      "text/latex": [
       "\\begin{tabular}{r|cccccc}\n",
       "\t& id & q1 & q2 & q3 & q4 & q5\\\\\n",
       "\t\\hline\n",
       "\t& Int64 & Int64 & Symbol & String & String & String\\\\\n",
       "\t\\hline\n",
       "\t1 & 1 & 28 & us & F & B & A \\\\\n",
       "\t2 & 2 & 61 & fr & B & C & E \\\\\n",
       "\\end{tabular}\n"
      ],
      "text/plain": [
       "\u001b[1m2×6 DataFrame\u001b[0m\n",
       "\u001b[1m Row \u001b[0m│\u001b[1m id    \u001b[0m\u001b[1m q1    \u001b[0m\u001b[1m q2     \u001b[0m\u001b[1m q3     \u001b[0m\u001b[1m q4     \u001b[0m\u001b[1m q5     \u001b[0m\n",
       "\u001b[1m     \u001b[0m│\u001b[90m Int64 \u001b[0m\u001b[90m Int64 \u001b[0m\u001b[90m Symbol \u001b[0m\u001b[90m String \u001b[0m\u001b[90m String \u001b[0m\u001b[90m String \u001b[0m\n",
       "─────┼──────────────────────────────────────────────\n",
       "   1 │     1     28  us      F       B       A\n",
       "   2 │     2     61  fr      B       C       E"
      ]
     },
     "execution_count": 184,
     "metadata": {},
     "output_type": "execute_result"
    }
   ],
   "source": [
    "responses()"
   ]
  },
  {
   "cell_type": "code",
   "execution_count": 185,
   "id": "ef97a98d-97b5-4cd8-ad63-6c51e828cb12",
   "metadata": {},
   "outputs": [
    {
     "data": {
      "text/html": [
       "<div class=\"data-frame\"><p>2 rows × 2 columns</p><table class=\"data-frame\"><thead><tr><th></th><th>id</th><th>q1</th></tr><tr><th></th><th title=\"Int64\">Int64</th><th title=\"Int64\">Int64</th></tr></thead><tbody><tr><th>1</th><td>1</td><td>28</td></tr><tr><th>2</th><td>2</td><td>61</td></tr></tbody></table></div>"
      ],
      "text/latex": [
       "\\begin{tabular}{r|cc}\n",
       "\t& id & q1\\\\\n",
       "\t\\hline\n",
       "\t& Int64 & Int64\\\\\n",
       "\t\\hline\n",
       "\t1 & 1 & 28 \\\\\n",
       "\t2 & 2 & 61 \\\\\n",
       "\\end{tabular}\n"
      ],
      "text/plain": [
       "\u001b[1m2×2 DataFrame\u001b[0m\n",
       "\u001b[1m Row \u001b[0m│\u001b[1m id    \u001b[0m\u001b[1m q1    \u001b[0m\n",
       "\u001b[1m     \u001b[0m│\u001b[90m Int64 \u001b[0m\u001b[90m Int64 \u001b[0m\n",
       "─────┼──────────────\n",
       "   1 │     1     28\n",
       "   2 │     2     61"
      ]
     },
     "execution_count": 185,
     "metadata": {},
     "output_type": "execute_result"
    }
   ],
   "source": [
    "select(responses(), :id, :q1)"
   ]
  },
  {
   "cell_type": "code",
   "execution_count": 186,
   "id": "33cbe2bd-a0d0-4bfe-96cf-4e8819ab9665",
   "metadata": {},
   "outputs": [
    {
     "data": {
      "text/html": [
       "<div class=\"data-frame\"><p>2 rows × 2 columns</p><table class=\"data-frame\"><thead><tr><th></th><th>id</th><th>q1</th></tr><tr><th></th><th title=\"Int64\">Int64</th><th title=\"Int64\">Int64</th></tr></thead><tbody><tr><th>1</th><td>1</td><td>28</td></tr><tr><th>2</th><td>2</td><td>61</td></tr></tbody></table></div>"
      ],
      "text/latex": [
       "\\begin{tabular}{r|cc}\n",
       "\t& id & q1\\\\\n",
       "\t\\hline\n",
       "\t& Int64 & Int64\\\\\n",
       "\t\\hline\n",
       "\t1 & 1 & 28 \\\\\n",
       "\t2 & 2 & 61 \\\\\n",
       "\\end{tabular}\n"
      ],
      "text/plain": [
       "\u001b[1m2×2 DataFrame\u001b[0m\n",
       "\u001b[1m Row \u001b[0m│\u001b[1m id    \u001b[0m\u001b[1m q1    \u001b[0m\n",
       "\u001b[1m     \u001b[0m│\u001b[90m Int64 \u001b[0m\u001b[90m Int64 \u001b[0m\n",
       "─────┼──────────────\n",
       "   1 │     1     28\n",
       "   2 │     2     61"
      ]
     },
     "execution_count": 186,
     "metadata": {},
     "output_type": "execute_result"
    }
   ],
   "source": [
    "select!(responses(), :id, :q1)"
   ]
  },
  {
   "cell_type": "markdown",
   "id": "3281e4c0-2309-4d3d-aa25-c8f8781cbcca",
   "metadata": {},
   "source": [
    "The @allocated macro tells us how much memory was allocated. In other words, how much new information the computer had to store in its memory while running the code. Let’s see how they will perform:"
   ]
  },
  {
   "cell_type": "code",
   "execution_count": 187,
   "id": "f21b0df7-0f64-47c9-b5fe-f3e20a7e023e",
   "metadata": {},
   "outputs": [
    {
     "data": {
      "text/plain": [
       "7296"
      ]
     },
     "execution_count": 187,
     "metadata": {},
     "output_type": "execute_result"
    }
   ],
   "source": [
    "df = responses()\n",
    "@allocated select(df, :id, :q1)"
   ]
  },
  {
   "cell_type": "code",
   "execution_count": 188,
   "id": "9a7e3aed-94f0-40d1-acb4-2d9e0d419396",
   "metadata": {},
   "outputs": [
    {
     "data": {
      "text/plain": [
       "7088"
      ]
     },
     "execution_count": 188,
     "metadata": {},
     "output_type": "execute_result"
    }
   ],
   "source": [
    "df = responses()\n",
    "@allocated select!(df, :id, :q1)"
   ]
  },
  {
   "cell_type": "markdown",
   "id": "bea0313a-3bba-462a-b10d-85affb6a6e20",
   "metadata": {},
   "source": [
    "As we can see, select! allocates less than select. So, it should be faster, while consuming less memory."
   ]
  },
  {
   "cell_type": "markdown",
   "id": "9ee90241-3500-4e16-b021-23fc60130cb5",
   "metadata": {},
   "source": [
    "### 4.9.2 Copying vs Not Copying Columns"
   ]
  },
  {
   "cell_type": "markdown",
   "id": "fb11cc72-7211-4cc2-932e-b1ea6156d92e",
   "metadata": {},
   "source": [
    "There are two ways to access a DataFrame column. They differ in how they are accessed: one creates a “view” to the column without copying and the other creates a whole new column by copying the original column.\n",
    "\n",
    "The first way uses the regular dot . operator followed by the column name, like in df.col. This kind of access does not copy the column col. Instead df.col creates a “view” which is a link to the original column without performing any allocation. Additionally, the syntax df.col is the same as df[!, :col] with the bang ! as the row selector.\n",
    "\n",
    "The second way to access a DataFrame column is the df[:, :col] with the colon : as the row selector. This kind of access does copy the column col, so beware that it may produce unwanted allocations.\n",
    "\n",
    "As before, let’s try out these two ways to access a column in the responses DataFrame:"
   ]
  },
  {
   "cell_type": "code",
   "execution_count": 189,
   "id": "2dd203e6-cb19-41f0-adf8-4a175d74fd77",
   "metadata": {},
   "outputs": [
    {
     "data": {
      "text/plain": [
       "80"
      ]
     },
     "execution_count": 189,
     "metadata": {},
     "output_type": "execute_result"
    }
   ],
   "source": [
    "df = responses()\n",
    "@allocated col = df[:, :id]"
   ]
  },
  {
   "cell_type": "code",
   "execution_count": 190,
   "id": "f51947ba-17a5-4945-96e9-a2cf27d6503c",
   "metadata": {},
   "outputs": [
    {
     "data": {
      "text/plain": [
       "0"
      ]
     },
     "execution_count": 190,
     "metadata": {},
     "output_type": "execute_result"
    }
   ],
   "source": [
    "df = responses()\n",
    "@allocated col = df[!, :id]"
   ]
  },
  {
   "cell_type": "markdown",
   "id": "dd5448c5-6cb1-434e-9db4-72ec43d4b434",
   "metadata": {},
   "source": [
    "When we access a column without copying it we are making zero allocations and our code should be faster. So, if you don’t need a copy, always access your DataFrames columns with **```df.col```** or **```df[!, :col]```** instead of **```df[:, :col]```** ."
   ]
  },
  {
   "cell_type": "markdown",
   "id": "a7f227a8-9615-4546-a111-bccce8e765a4",
   "metadata": {},
   "source": [
    "### 4.9.2 CSV.read versus CSV.File"
   ]
  },
  {
   "cell_type": "markdown",
   "id": "f39a6016-a142-42d7-bbf2-e945b0ce5481",
   "metadata": {},
   "source": [
    "If you take a look at the help output for CSV.read, you will see that there is a convenience function identical to the function called CSV.File with the same keyword arguments. Both CSV.read and CSV.File will read the contents of a CSV file, but they differ in the default behavior. CSV.read, by default, will not make copies of the incoming data. Instead, CSV.read will pass all the data to the second argument (known as the “sink”).\n",
    "\n",
    "So, something like this:"
   ]
  },
  {
   "cell_type": "code",
   "execution_count": 194,
   "id": "8d44231d-2c55-413a-8e53-9354f07696eb",
   "metadata": {},
   "outputs": [
    {
     "data": {
      "text/html": [
       "<div class=\"data-frame\"><p>4 rows × 2 columns</p><table class=\"data-frame\"><thead><tr><th></th><th>name</th><th>grade_2020</th></tr><tr><th></th><th title=\"String7\">String7</th><th title=\"Float64\">Float64</th></tr></thead><tbody><tr><th>1</th><td>Sally</td><td>1.0</td></tr><tr><th>2</th><td>Bob</td><td>5.0</td></tr><tr><th>3</th><td>Alice,</td><td>8.5</td></tr><tr><th>4</th><td>Hank</td><td>4.0</td></tr></tbody></table></div>"
      ],
      "text/latex": [
       "\\begin{tabular}{r|cc}\n",
       "\t& name & grade\\_2020\\\\\n",
       "\t\\hline\n",
       "\t& String7 & Float64\\\\\n",
       "\t\\hline\n",
       "\t1 & Sally & 1.0 \\\\\n",
       "\t2 & Bob & 5.0 \\\\\n",
       "\t3 & Alice, & 8.5 \\\\\n",
       "\t4 & Hank & 4.0 \\\\\n",
       "\\end{tabular}\n"
      ],
      "text/plain": [
       "\u001b[1m4×2 DataFrame\u001b[0m\n",
       "\u001b[1m Row \u001b[0m│\u001b[1m name    \u001b[0m\u001b[1m grade_2020 \u001b[0m\n",
       "\u001b[1m     \u001b[0m│\u001b[90m String7 \u001b[0m\u001b[90m Float64    \u001b[0m\n",
       "─────┼─────────────────────\n",
       "   1 │ Sally           1.0\n",
       "   2 │ Bob             5.0\n",
       "   3 │ Alice,          8.5\n",
       "   4 │ Hank            4.0"
      ]
     },
     "execution_count": 194,
     "metadata": {},
     "output_type": "execute_result"
    }
   ],
   "source": [
    "df = CSV.read(\"grades-commas.csv\", DataFrame)"
   ]
  },
  {
   "cell_type": "markdown",
   "id": "3602ef98-c77c-4969-85d2-7b95184922b8",
   "metadata": {},
   "source": [
    "will pass all the incoming data from file.csv to the DataFrame sink, thus returning a DataFrame type that we store in the df variable.\n",
    "\n",
    "For the case of CSV.File, the default behavior is the opposite: it will make copies of every column contained in the CSV file. Also, the syntax is slightly different. We need to wrap anything that CSV.File returns in a DataFrame constructor function:"
   ]
  },
  {
   "cell_type": "code",
   "execution_count": 196,
   "id": "a9d06254-6dca-4272-b9cf-2795e0b6770f",
   "metadata": {},
   "outputs": [
    {
     "data": {
      "text/html": [
       "<div class=\"data-frame\"><p>4 rows × 2 columns</p><table class=\"data-frame\"><thead><tr><th></th><th>name</th><th>grade_2020</th></tr><tr><th></th><th title=\"String7\">String7</th><th title=\"Float64\">Float64</th></tr></thead><tbody><tr><th>1</th><td>Sally</td><td>1.0</td></tr><tr><th>2</th><td>Bob</td><td>5.0</td></tr><tr><th>3</th><td>Alice,</td><td>8.5</td></tr><tr><th>4</th><td>Hank</td><td>4.0</td></tr></tbody></table></div>"
      ],
      "text/latex": [
       "\\begin{tabular}{r|cc}\n",
       "\t& name & grade\\_2020\\\\\n",
       "\t\\hline\n",
       "\t& String7 & Float64\\\\\n",
       "\t\\hline\n",
       "\t1 & Sally & 1.0 \\\\\n",
       "\t2 & Bob & 5.0 \\\\\n",
       "\t3 & Alice, & 8.5 \\\\\n",
       "\t4 & Hank & 4.0 \\\\\n",
       "\\end{tabular}\n"
      ],
      "text/plain": [
       "\u001b[1m4×2 DataFrame\u001b[0m\n",
       "\u001b[1m Row \u001b[0m│\u001b[1m name    \u001b[0m\u001b[1m grade_2020 \u001b[0m\n",
       "\u001b[1m     \u001b[0m│\u001b[90m String7 \u001b[0m\u001b[90m Float64    \u001b[0m\n",
       "─────┼─────────────────────\n",
       "   1 │ Sally           1.0\n",
       "   2 │ Bob             5.0\n",
       "   3 │ Alice,          8.5\n",
       "   4 │ Hank            4.0"
      ]
     },
     "execution_count": 196,
     "metadata": {},
     "output_type": "execute_result"
    }
   ],
   "source": [
    "df = DataFrame(CSV.File(\"grades-commas.csv\"))"
   ]
  },
  {
   "cell_type": "markdown",
   "id": "2ccc2e9b-4fb8-4263-9793-c365a117432e",
   "metadata": {},
   "source": [
    "Or, with the pipe |> operator:"
   ]
  },
  {
   "cell_type": "code",
   "execution_count": 197,
   "id": "14a4bc92-baf2-454e-9a7b-34f7ef14d8aa",
   "metadata": {},
   "outputs": [
    {
     "data": {
      "text/html": [
       "<div class=\"data-frame\"><p>4 rows × 2 columns</p><table class=\"data-frame\"><thead><tr><th></th><th>name</th><th>grade_2020</th></tr><tr><th></th><th title=\"String7\">String7</th><th title=\"Float64\">Float64</th></tr></thead><tbody><tr><th>1</th><td>Sally</td><td>1.0</td></tr><tr><th>2</th><td>Bob</td><td>5.0</td></tr><tr><th>3</th><td>Alice,</td><td>8.5</td></tr><tr><th>4</th><td>Hank</td><td>4.0</td></tr></tbody></table></div>"
      ],
      "text/latex": [
       "\\begin{tabular}{r|cc}\n",
       "\t& name & grade\\_2020\\\\\n",
       "\t\\hline\n",
       "\t& String7 & Float64\\\\\n",
       "\t\\hline\n",
       "\t1 & Sally & 1.0 \\\\\n",
       "\t2 & Bob & 5.0 \\\\\n",
       "\t3 & Alice, & 8.5 \\\\\n",
       "\t4 & Hank & 4.0 \\\\\n",
       "\\end{tabular}\n"
      ],
      "text/plain": [
       "\u001b[1m4×2 DataFrame\u001b[0m\n",
       "\u001b[1m Row \u001b[0m│\u001b[1m name    \u001b[0m\u001b[1m grade_2020 \u001b[0m\n",
       "\u001b[1m     \u001b[0m│\u001b[90m String7 \u001b[0m\u001b[90m Float64    \u001b[0m\n",
       "─────┼─────────────────────\n",
       "   1 │ Sally           1.0\n",
       "   2 │ Bob             5.0\n",
       "   3 │ Alice,          8.5\n",
       "   4 │ Hank            4.0"
      ]
     },
     "execution_count": 197,
     "metadata": {},
     "output_type": "execute_result"
    }
   ],
   "source": [
    "df = CSV.File(\"grades-commas.csv\") |> DataFrame"
   ]
  },
  {
   "cell_type": "markdown",
   "id": "ac5d82b9-7581-404c-b6fb-44933605a8a9",
   "metadata": {},
   "source": [
    "Like we said, CSV.File will make copies of each column in the underlying CSV file. Ultimately, if you want the most performance, you would definitely use CSV.read instead of CSV.File. That’s why we only covered CSV.read in Section 4.1.1."
   ]
  },
  {
   "cell_type": "markdown",
   "id": "590595a3-fd57-4111-96f2-5a86e96f3a74",
   "metadata": {},
   "source": [
    "### 4.9.4 CSV.jl Multiple Files"
   ]
  },
  {
   "cell_type": "markdown",
   "id": "648b3e9c-cd0f-472f-9b25-0e770c9b6bc5",
   "metadata": {},
   "source": [
    "Now let’s turn our attention to the CSV.jl. Specifically, the case when we have multiple CSV files to read into a single DataFrame. Since version 0.9 of CSV.jl we can provide a vector of strings representing filenames. Before, we needed to perform some sort of multiple file reading and then concatenate vertically the results into a single DataFrame. To exemplify, the code below reads from multiple CSV files and then concatenates them vertically using vcat into a single DataFrame with the reduce function:"
   ]
  },
  {
   "cell_type": "markdown",
   "id": "b81086ce-60a7-4457-b31f-ffe003186f6b",
   "metadata": {},
   "source": [
    "```julia\n",
    "files = filter(endswith(\".csv\"), readdir())\n",
    "df = reduce(vcat, CSV.read(file, DataFrame) for file in files)\n",
    "```"
   ]
  },
  {
   "cell_type": "markdown",
   "id": "3f04cc72-b971-4aec-9979-424fd3998ddc",
   "metadata": {},
   "source": [
    "One additional trait is that reduce will not parallelize because it needs to keep the order of vcat which follows the same ordering of the files vector.\n",
    "\n",
    "With this functionality in CSV.jl we simply pass the files vector into the CSV.read function:"
   ]
  },
  {
   "cell_type": "markdown",
   "id": "77af92be-9b69-4076-b047-2adae089bbb2",
   "metadata": {},
   "source": [
    "```julia\n",
    "files = filter(endswith(\".csv\"), readdir())\n",
    "df = CSV.read(files, DataFrame)\n",
    "```"
   ]
  },
  {
   "cell_type": "markdown",
   "id": "4700d1b0-63d4-46a4-ba72-283aa3f46461",
   "metadata": {},
   "source": [
    "CSV.jl will designate a file for each thread available in the computer while it lazily concatenates each thread-parsed output into a DataFrame. So we have the **additional benefit of multithreading** that we don’t have with the reduce option."
   ]
  },
  {
   "cell_type": "markdown",
   "id": "f7e9c525-4941-4542-8967-03d4dc8fd5a2",
   "metadata": {},
   "source": [
    "### 4.9.5 CategoricalArrays.jl compression"
   ]
  },
  {
   "cell_type": "markdown",
   "id": "fc70cd23-228f-447a-ba7b-6c9e4e911da0",
   "metadata": {},
   "source": [
    "If you are handling data with a lot of categorical values, i.e. a lot of columns with textual data that represent somehow different qualitative data, you would probably benefit by using CategoricalArrays.jl compression."
   ]
  },
  {
   "cell_type": "markdown",
   "id": "43c83d3a-2061-4d4d-bafc-9ca5a179d381",
   "metadata": {},
   "source": [
    "By default, CategoricalArrays.jl will use an unsigned integer of size 32 bits UInt32 to represent the underlying categories:"
   ]
  },
  {
   "cell_type": "code",
   "execution_count": 200,
   "id": "9ed70f5b-ec62-4e51-b022-2c2d9a61e463",
   "metadata": {},
   "outputs": [
    {
     "data": {
      "text/plain": [
       "CategoricalVector{String, UInt32, String, CategoricalValue{String, UInt32}, Union{}}\u001b[90m (alias for \u001b[39m\u001b[90mCategoricalArray{String, 1, UInt32, String, CategoricalValue{String, UInt32}, Union{}}\u001b[39m\u001b[90m)\u001b[39m"
      ]
     },
     "execution_count": 200,
     "metadata": {},
     "output_type": "execute_result"
    }
   ],
   "source": [
    "using CategoricalArrays\n",
    "\n",
    "typeof(categorical([\"A\", \"B\", \"C\"]))"
   ]
  },
  {
   "cell_type": "markdown",
   "id": "c2c64482-5bd4-4f42-9d8f-9fe83485a0cd",
   "metadata": {},
   "source": [
    "This means that CategoricalArrays.jl can represent up to  different categories in a given vector or column, which is a huge value (close to 4.3 billion). You probably would never need to have this sort of capacity in dealing with regular data17. That’s why categorical has a compress argument that accepts either true or false to determine whether or not the underlying categorical data is compressed. If you pass compress=true, CategoricalArrays.jl will try to compress the underlying categorical data to the smallest possible representation in UInt. For example, the previous categorical vector would be represented as an unsigned integer of size 8 bits UInt8 (mostly because this is the smallest unsigned integer available in Julia):\n"
   ]
  },
  {
   "cell_type": "markdown",
   "id": "356b3205-c55d-4749-b7bf-ae054b4f1093",
   "metadata": {},
   "source": [
    " also notice that regular data (up to 10 000 rows) is not big data (more than 100 000 rows). So, if you are dealing primarily with big data please exercise caution in capping your categorical values."
   ]
  },
  {
   "cell_type": "code",
   "execution_count": 201,
   "id": "c055d11a-0b6a-45d8-bbd2-b4078f639fcb",
   "metadata": {},
   "outputs": [
    {
     "data": {
      "text/plain": [
       "CategoricalVector{String, UInt8, String, CategoricalValue{String, UInt8}, Union{}}\u001b[90m (alias for \u001b[39m\u001b[90mCategoricalArray{String, 1, UInt8, String, CategoricalValue{String, UInt8}, Union{}}\u001b[39m\u001b[90m)\u001b[39m"
      ]
     },
     "execution_count": 201,
     "metadata": {},
     "output_type": "execute_result"
    }
   ],
   "source": [
    "typeof(categorical([\"A\", \"B\", \"C\"]; compress=true))"
   ]
  },
  {
   "cell_type": "markdown",
   "id": "d7048b1e-d9fd-4ad4-bf40-287c4a0265a4",
   "metadata": {},
   "source": [
    "What does this all mean? Suppose you have a big vector. For example, a vector with one million entries, but only 4 underlying categories: A, B, C, or D. If you do not compress the resulting categorical vector, you will have one million entries stored as UInt32. On the other hand, if you do compress it, you will have one million entries stored instead as UInt8. By using Base.summarysize function we can get the underlying size, in bytes, of a given object. So let’s quantify how much more memory we would need to have if we did not compress our one million categorical vector:"
   ]
  },
  {
   "cell_type": "code",
   "execution_count": 202,
   "id": "f0af1ccb-7db2-4494-97da-6cea8397b3e7",
   "metadata": {},
   "outputs": [],
   "source": [
    "using Random"
   ]
  },
  {
   "cell_type": "code",
   "execution_count": 203,
   "id": "04ee82f8-acf8-491c-95ae-aff7ea2e83ee",
   "metadata": {},
   "outputs": [
    {
     "data": {
      "text/plain": [
       "4000612"
      ]
     },
     "execution_count": 203,
     "metadata": {},
     "output_type": "execute_result"
    }
   ],
   "source": [
    "one_mi_vec = rand([\"A\", \"B\", \"C\", \"D\"], 1_000_000)\n",
    "Base.summarysize(categorical(one_mi_vec))"
   ]
  },
  {
   "cell_type": "code",
   "execution_count": 204,
   "id": "fe7a764a-c97d-4698-bb81-769b60531721",
   "metadata": {},
   "outputs": [
    {
     "data": {
      "text/plain": [
       "8000076"
      ]
     },
     "execution_count": 204,
     "metadata": {},
     "output_type": "execute_result"
    }
   ],
   "source": [
    "Base.summarysize(one_mi_vec)"
   ]
  },
  {
   "cell_type": "markdown",
   "id": "9780795f-08cf-4f9e-ae0b-0f7d2022ecd5",
   "metadata": {},
   "source": [
    "4 million bytes, which is approximately 3.8 MB. Don’t get us wrong, this is a good improvement over the raw string size:"
   ]
  },
  {
   "cell_type": "markdown",
   "id": "9c13c651-68a0-4908-8dce-2954b970ea6c",
   "metadata": {},
   "source": [
    "We reduced 50% of the raw data size by using the default CategoricalArrays.jl underlying representation as UInt32.\n",
    "\n",
    "Now let’s see how we would fare with compression:"
   ]
  },
  {
   "cell_type": "code",
   "execution_count": 205,
   "id": "381eb2b7-d8e5-41d0-8f0b-e633e9eced31",
   "metadata": {},
   "outputs": [
    {
     "data": {
      "text/plain": [
       "1000564"
      ]
     },
     "execution_count": 205,
     "metadata": {},
     "output_type": "execute_result"
    }
   ],
   "source": [
    "Base.summarysize(categorical(one_mi_vec; compress=true))"
   ]
  },
  {
   "cell_type": "markdown",
   "id": "78be9681-b9cd-4179-9c1b-45e88dc5f59c",
   "metadata": {},
   "source": [
    "We reduced the size to 25% (one quarter) of the original uncompressed vector size without losing information. Our compressed categorical vector now has 1 million bytes which is approximately 1.0 MB.\n",
    "\n",
    "So whenever possible, in the interest of performance, consider using compress=true in your categorical data."
   ]
  }
 ],
 "metadata": {
  "kernelspec": {
   "display_name": "Julia 1.8.0",
   "language": "julia",
   "name": "julia-1.8"
  },
  "language_info": {
   "file_extension": ".jl",
   "mimetype": "application/julia",
   "name": "julia",
   "version": "1.8.0"
  }
 },
 "nbformat": 4,
 "nbformat_minor": 5
}
