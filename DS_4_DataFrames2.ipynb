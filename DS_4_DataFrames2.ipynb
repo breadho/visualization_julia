{
 "cells": [
  {
   "cell_type": "markdown",
   "id": "be44aa75-4c05-4438-a11b-50d689fdf283",
   "metadata": {},
   "source": [
    "# Data Science(JULIA)"
   ]
  },
  {
   "cell_type": "markdown",
   "id": "697354dc-b55a-46fc-babe-d373fa960ce1",
   "metadata": {},
   "source": [
    "# 4. DataFrames"
   ]
  },
  {
   "cell_type": "markdown",
   "id": "0e38dca5-85c4-4bc0-9a80-863ec61797bf",
   "metadata": {},
   "source": [
    "* 데이터 프레임은 벡터들의 모임으로 이루어진 테이블 형태의 데이터 타입으로 \n",
    "\n",
    "    - 행렬은 동일한 데이터 타입이 원소로 이루어져야 하는데 반해 데이터 프레임은 각 컬럼별로 데이터 타입이 달라도 된다. (예: 행렬 -> Int64로 통일, 데이터 프레임 -> A열: character, B열은 Float64, C열은 Int64 등 가능)\n",
    "    \n",
    "    - R에서는 내장되어 있는 데이터 타입(디폴트 타입)이며, 파이썬에서는 Pandas 패키지에서 지원을 하고 있고, 줄리아에서는 DataFrames.jl에서 지원하고 있다.\n",
    "    \n",
    "    > **(Julia DataFrames.jl 공식문서)** https://dataframes.juliadata.org/stable/"
   ]
  },
  {
   "cell_type": "markdown",
   "id": "58e9b844-2dd6-4848-8c47-9543c11706f9",
   "metadata": {},
   "source": [
    "* 데이터프레임을 쓰지 않고 줄리아의 기본 문법만 이용할 경우"
   ]
  },
  {
   "cell_type": "code",
   "execution_count": 1,
   "id": "721ea759-8967-4335-82d5-be13521a6206",
   "metadata": {},
   "outputs": [
    {
     "data": {
      "text/plain": [
       "grades_array (generic function with 1 method)"
      ]
     },
     "execution_count": 1,
     "metadata": {},
     "output_type": "execute_result"
    }
   ],
   "source": [
    "# Array 생성\n",
    "\n",
    "function grades_array()\n",
    "    name = [\"Bob\", \"Sally\", \"Alice\", \"Hank\"]\n",
    "    age = [17, 18, 20, 19]\n",
    "    grade_2020 = [5.0, 1.0, 8.5, 4.0]\n",
    "    (; name, age, grade_2020)\n",
    "end"
   ]
  },
  {
   "cell_type": "code",
   "execution_count": 2,
   "id": "63788e6e-630e-4c1a-91a6-76d9a92c7f91",
   "metadata": {},
   "outputs": [
    {
     "data": {
      "text/plain": [
       "(\"Sally\", 18, 1.0)"
      ]
     },
     "execution_count": 2,
     "metadata": {},
     "output_type": "execute_result"
    }
   ],
   "source": [
    "function second_row()\n",
    "    name, age, grade_2020 = grades_array()\n",
    "    i = 2\n",
    "    row = (name[i], age[i], grade_2020[i])\n",
    "end\n",
    "\n",
    "second_row()"
   ]
  },
  {
   "cell_type": "code",
   "execution_count": 3,
   "id": "8c6e9842-e8e6-4808-9329-68b797511f5d",
   "metadata": {},
   "outputs": [
    {
     "data": {
      "text/plain": [
       "3"
      ]
     },
     "execution_count": 3,
     "metadata": {},
     "output_type": "execute_result"
    }
   ],
   "source": [
    "# 만약 앨리스의 학년을 추출하고 싶다면 아래의 함수를 생성\n",
    "function row_alice()\n",
    "    names = grades_array().name\n",
    "    i = findfirst(names .== \"Alice\")\n",
    "end\n",
    "row_alice()"
   ]
  },
  {
   "cell_type": "code",
   "execution_count": 4,
   "id": "ce665686-626b-4776-9925-5cf7d9211254",
   "metadata": {},
   "outputs": [
    {
     "data": {
      "text/plain": [
       "8.5"
      ]
     },
     "execution_count": 4,
     "metadata": {},
     "output_type": "execute_result"
    }
   ],
   "source": [
    "function value_alice()\n",
    "    grades = grades_array().grade_2020\n",
    "    i = row_alice()\n",
    "    grades[i]\n",
    "end\n",
    "value_alice()"
   ]
  },
  {
   "cell_type": "markdown",
   "id": "653da47e-d17f-4f8a-9dcb-481c144394f9",
   "metadata": {},
   "source": [
    "* 데이터 프레임을 이용하면 array보다 쉽게 데이터 핸들링이 가능함"
   ]
  },
  {
   "cell_type": "code",
   "execution_count": 5,
   "id": "e2a84694-b87e-42fa-ae01-7caa4d043f2a",
   "metadata": {},
   "outputs": [],
   "source": [
    "# DataFrames 패키지 불러오기\n",
    "\n",
    "using DataFrames"
   ]
  },
  {
   "cell_type": "code",
   "execution_count": 6,
   "id": "15fe1295-7033-4a95-9639-ecfe1c00751f",
   "metadata": {},
   "outputs": [
    {
     "data": {
      "text/html": [
       "<div class=\"data-frame\"><p>4 rows × 2 columns</p><table class=\"data-frame\"><thead><tr><th></th><th>name</th><th>grade_2020</th></tr><tr><th></th><th title=\"String\">String</th><th title=\"Float64\">Float64</th></tr></thead><tbody><tr><th>1</th><td>Sally</td><td>1.0</td></tr><tr><th>2</th><td>Bob</td><td>5.0</td></tr><tr><th>3</th><td>Alice</td><td>8.5</td></tr><tr><th>4</th><td>Hank</td><td>4.0</td></tr></tbody></table></div>"
      ],
      "text/latex": [
       "\\begin{tabular}{r|cc}\n",
       "\t& name & grade\\_2020\\\\\n",
       "\t\\hline\n",
       "\t& String & Float64\\\\\n",
       "\t\\hline\n",
       "\t1 & Sally & 1.0 \\\\\n",
       "\t2 & Bob & 5.0 \\\\\n",
       "\t3 & Alice & 8.5 \\\\\n",
       "\t4 & Hank & 4.0 \\\\\n",
       "\\end{tabular}\n"
      ],
      "text/plain": [
       "\u001b[1m4×2 DataFrame\u001b[0m\n",
       "\u001b[1m Row \u001b[0m│\u001b[1m name   \u001b[0m\u001b[1m grade_2020 \u001b[0m\n",
       "\u001b[1m     \u001b[0m│\u001b[90m String \u001b[0m\u001b[90m Float64    \u001b[0m\n",
       "─────┼────────────────────\n",
       "   1 │ Sally          1.0\n",
       "   2 │ Bob            5.0\n",
       "   3 │ Alice          8.5\n",
       "   4 │ Hank           4.0"
      ]
     },
     "execution_count": 6,
     "metadata": {},
     "output_type": "execute_result"
    }
   ],
   "source": [
    "names = [\"Sally\", \"Bob\", \"Alice\", \"Hank\"]\n",
    "grades = [1, 5, 8.5, 4]\n",
    "df = DataFrame(name=names, grade_2020=grades)"
   ]
  },
  {
   "cell_type": "code",
   "execution_count": 7,
   "id": "b3d6405d-5c0f-4fc0-9491-91e34612729b",
   "metadata": {},
   "outputs": [
    {
     "data": {
      "text/html": [
       "<div class=\"data-frame\"><p>4 rows × 2 columns</p><table class=\"data-frame\"><thead><tr><th></th><th>name</th><th>grade_2020</th></tr><tr><th></th><th title=\"String\">String</th><th title=\"Float64\">Float64</th></tr></thead><tbody><tr><th>1</th><td>Sally</td><td>1.0</td></tr><tr><th>2</th><td>Bob</td><td>5.0</td></tr><tr><th>3</th><td>Alice</td><td>8.5</td></tr><tr><th>4</th><td>Hank</td><td>4.0</td></tr></tbody></table></div>"
      ],
      "text/latex": [
       "\\begin{tabular}{r|cc}\n",
       "\t& name & grade\\_2020\\\\\n",
       "\t\\hline\n",
       "\t& String & Float64\\\\\n",
       "\t\\hline\n",
       "\t1 & Sally & 1.0 \\\\\n",
       "\t2 & Bob & 5.0 \\\\\n",
       "\t3 & Alice & 8.5 \\\\\n",
       "\t4 & Hank & 4.0 \\\\\n",
       "\\end{tabular}\n"
      ],
      "text/plain": [
       "\u001b[1m4×2 DataFrame\u001b[0m\n",
       "\u001b[1m Row \u001b[0m│\u001b[1m name   \u001b[0m\u001b[1m grade_2020 \u001b[0m\n",
       "\u001b[1m     \u001b[0m│\u001b[90m String \u001b[0m\u001b[90m Float64    \u001b[0m\n",
       "─────┼────────────────────\n",
       "   1 │ Sally          1.0\n",
       "   2 │ Bob            5.0\n",
       "   3 │ Alice          8.5\n",
       "   4 │ Hank           4.0"
      ]
     },
     "execution_count": 7,
     "metadata": {},
     "output_type": "execute_result"
    }
   ],
   "source": [
    "df"
   ]
  },
  {
   "cell_type": "code",
   "execution_count": 8,
   "id": "b140c4f9-4b4d-4f5f-b545-fcce0b1ad177",
   "metadata": {},
   "outputs": [
    {
     "data": {
      "text/plain": [
       "DataFrame"
      ]
     },
     "execution_count": 8,
     "metadata": {},
     "output_type": "execute_result"
    }
   ],
   "source": [
    "typeof(df)"
   ]
  },
  {
   "cell_type": "code",
   "execution_count": 9,
   "id": "de1a2a09-c846-45a0-9db6-aca617062c9d",
   "metadata": {},
   "outputs": [
    {
     "data": {
      "text/html": [
       "<div class=\"data-frame\"><p>4 rows × 2 columns</p><table class=\"data-frame\"><thead><tr><th></th><th>name</th><th>grade_2020</th></tr><tr><th></th><th title=\"String\">String</th><th title=\"Float64\">Float64</th></tr></thead><tbody><tr><th>1</th><td>Sally</td><td>1.0</td></tr><tr><th>2</th><td>Bob</td><td>5.0</td></tr><tr><th>3</th><td>Alice</td><td>8.5</td></tr><tr><th>4</th><td>Hank</td><td>4.0</td></tr></tbody></table></div>"
      ],
      "text/latex": [
       "\\begin{tabular}{r|cc}\n",
       "\t& name & grade\\_2020\\\\\n",
       "\t\\hline\n",
       "\t& String & Float64\\\\\n",
       "\t\\hline\n",
       "\t1 & Sally & 1.0 \\\\\n",
       "\t2 & Bob & 5.0 \\\\\n",
       "\t3 & Alice & 8.5 \\\\\n",
       "\t4 & Hank & 4.0 \\\\\n",
       "\\end{tabular}\n"
      ],
      "text/plain": [
       "\u001b[1m4×2 DataFrame\u001b[0m\n",
       "\u001b[1m Row \u001b[0m│\u001b[1m name   \u001b[0m\u001b[1m grade_2020 \u001b[0m\n",
       "\u001b[1m     \u001b[0m│\u001b[90m String \u001b[0m\u001b[90m Float64    \u001b[0m\n",
       "─────┼────────────────────\n",
       "   1 │ Sally          1.0\n",
       "   2 │ Bob            5.0\n",
       "   3 │ Alice          8.5\n",
       "   4 │ Hank           4.0"
      ]
     },
     "execution_count": 9,
     "metadata": {},
     "output_type": "execute_result"
    }
   ],
   "source": [
    "# 앞서 정의한 array 생성 함수를 응용하여 데이터 프레임 생성 함수를 작성\n",
    "\n",
    "function grades_2020()\n",
    "    name = [\"Sally\", \"Bob\", \"Alice\", \"Hank\"]\n",
    "    grade_2020 = [1, 5, 8.5, 4]\n",
    "    DataFrame(; name, grade_2020)\n",
    "end\n",
    "grades_2020()"
   ]
  },
  {
   "cell_type": "code",
   "execution_count": 10,
   "id": "84204b44-c250-4253-a2b1-0468cc5fdb55",
   "metadata": {},
   "outputs": [
    {
     "data": {
      "text/html": [
       "<div class=\"data-frame\"><p>4 rows × 2 columns</p><table class=\"data-frame\"><thead><tr><th></th><th>name</th><th>grade_2020</th></tr><tr><th></th><th title=\"String\">String</th><th title=\"Float64\">Float64</th></tr></thead><tbody><tr><th>1</th><td>Sally</td><td>1.0</td></tr><tr><th>2</th><td>Bob</td><td>5.0</td></tr><tr><th>3</th><td>Alice</td><td>8.5</td></tr><tr><th>4</th><td>Hank</td><td>4.0</td></tr></tbody></table></div>"
      ],
      "text/latex": [
       "\\begin{tabular}{r|cc}\n",
       "\t& name & grade\\_2020\\\\\n",
       "\t\\hline\n",
       "\t& String & Float64\\\\\n",
       "\t\\hline\n",
       "\t1 & Sally & 1.0 \\\\\n",
       "\t2 & Bob & 5.0 \\\\\n",
       "\t3 & Alice & 8.5 \\\\\n",
       "\t4 & Hank & 4.0 \\\\\n",
       "\\end{tabular}\n"
      ],
      "text/plain": [
       "\u001b[1m4×2 DataFrame\u001b[0m\n",
       "\u001b[1m Row \u001b[0m│\u001b[1m name   \u001b[0m\u001b[1m grade_2020 \u001b[0m\n",
       "\u001b[1m     \u001b[0m│\u001b[90m String \u001b[0m\u001b[90m Float64    \u001b[0m\n",
       "─────┼────────────────────\n",
       "   1 │ Sally          1.0\n",
       "   2 │ Bob            5.0\n",
       "   3 │ Alice          8.5\n",
       "   4 │ Hank           4.0"
      ]
     },
     "execution_count": 10,
     "metadata": {},
     "output_type": "execute_result"
    }
   ],
   "source": [
    "df1 = grades_2020()"
   ]
  },
  {
   "cell_type": "code",
   "execution_count": 11,
   "id": "d8e1bb51-0b33-49b5-bd1c-7aec52c24c22",
   "metadata": {},
   "outputs": [
    {
     "data": {
      "text/plain": [
       "DataFrame"
      ]
     },
     "execution_count": 11,
     "metadata": {},
     "output_type": "execute_result"
    }
   ],
   "source": [
    "typeof(df1)"
   ]
  },
  {
   "cell_type": "code",
   "execution_count": 12,
   "id": "8b134803-2497-4991-a229-0da1ef1b2f62",
   "metadata": {},
   "outputs": [
    {
     "data": {
      "text/plain": [
       "\"Sally\""
      ]
     },
     "execution_count": 12,
     "metadata": {},
     "output_type": "execute_result"
    }
   ],
   "source": [
    "df1[1, 1]"
   ]
  },
  {
   "cell_type": "code",
   "execution_count": 13,
   "id": "9dbbca66-c4cd-443a-9eb3-22e12a28b623",
   "metadata": {},
   "outputs": [
    {
     "data": {
      "text/plain": [
       "1.0"
      ]
     },
     "execution_count": 13,
     "metadata": {},
     "output_type": "execute_result"
    }
   ],
   "source": [
    "df1[1, end]"
   ]
  },
  {
   "cell_type": "code",
   "execution_count": 14,
   "id": "38fff7a4-6466-4089-808d-7ef5a0c08c9f",
   "metadata": {},
   "outputs": [
    {
     "data": {
      "text/plain": [
       "4.0"
      ]
     },
     "execution_count": 14,
     "metadata": {},
     "output_type": "execute_result"
    }
   ],
   "source": [
    "df1[end, end]"
   ]
  },
  {
   "cell_type": "code",
   "execution_count": 15,
   "id": "66fd0fb0-155a-4540-b27f-cdf34be93467",
   "metadata": {},
   "outputs": [
    {
     "data": {
      "text/html": [
       "<div class=\"data-frame\"><p>3 rows × 2 columns</p><table class=\"data-frame\"><thead><tr><th></th><th>name</th><th>grade_2020</th></tr><tr><th></th><th title=\"String\">String</th><th title=\"Float64\">Float64</th></tr></thead><tbody><tr><th>1</th><td>Sally</td><td>1.0</td></tr><tr><th>2</th><td>Bob</td><td>5.0</td></tr><tr><th>3</th><td>Alice</td><td>8.5</td></tr></tbody></table></div>"
      ],
      "text/latex": [
       "\\begin{tabular}{r|cc}\n",
       "\t& name & grade\\_2020\\\\\n",
       "\t\\hline\n",
       "\t& String & Float64\\\\\n",
       "\t\\hline\n",
       "\t1 & Sally & 1.0 \\\\\n",
       "\t2 & Bob & 5.0 \\\\\n",
       "\t3 & Alice & 8.5 \\\\\n",
       "\\end{tabular}\n"
      ],
      "text/plain": [
       "\u001b[1m3×2 DataFrame\u001b[0m\n",
       "\u001b[1m Row \u001b[0m│\u001b[1m name   \u001b[0m\u001b[1m grade_2020 \u001b[0m\n",
       "\u001b[1m     \u001b[0m│\u001b[90m String \u001b[0m\u001b[90m Float64    \u001b[0m\n",
       "─────┼────────────────────\n",
       "   1 │ Sally          1.0\n",
       "   2 │ Bob            5.0\n",
       "   3 │ Alice          8.5"
      ]
     },
     "execution_count": 15,
     "metadata": {},
     "output_type": "execute_result"
    }
   ],
   "source": [
    "df1[1:3, 1:2]"
   ]
  },
  {
   "cell_type": "code",
   "execution_count": 16,
   "id": "e7cf2592-e2f6-40be-8f4d-dfe518d36435",
   "metadata": {},
   "outputs": [
    {
     "data": {
      "text/html": [
       "<div class=\"data-frame\"><p>3 rows × 2 columns</p><table class=\"data-frame\"><thead><tr><th></th><th>σ</th><th>δ</th></tr><tr><th></th><th title=\"String\">String</th><th title=\"Float64\">Float64</th></tr></thead><tbody><tr><th>1</th><td>a</td><td>3.14159</td></tr><tr><th>2</th><td>a</td><td>1.5708</td></tr><tr><th>3</th><td>a</td><td>1.0472</td></tr></tbody></table></div>"
      ],
      "text/latex": [
       "\\begin{tabular}{r|cc}\n",
       "\t& σ & δ\\\\\n",
       "\t\\hline\n",
       "\t& String & Float64\\\\\n",
       "\t\\hline\n",
       "\t1 & a & 3.14159 \\\\\n",
       "\t2 & a & 1.5708 \\\\\n",
       "\t3 & a & 1.0472 \\\\\n",
       "\\end{tabular}\n"
      ],
      "text/plain": [
       "\u001b[1m3×2 DataFrame\u001b[0m\n",
       "\u001b[1m Row \u001b[0m│\u001b[1m σ      \u001b[0m\u001b[1m δ       \u001b[0m\n",
       "\u001b[1m     \u001b[0m│\u001b[90m String \u001b[0m\u001b[90m Float64 \u001b[0m\n",
       "─────┼─────────────────\n",
       "   1 │ a       3.14159\n",
       "   2 │ a       1.5708\n",
       "   3 │ a       1.0472"
      ]
     },
     "execution_count": 16,
     "metadata": {},
     "output_type": "execute_result"
    }
   ],
   "source": [
    "df2 = DataFrame(σ = [\"a\", \"a\", \"a\"], δ = [π, π/2, π/3])"
   ]
  },
  {
   "cell_type": "markdown",
   "id": "f373fb43-350c-458c-89d8-7022803b9662",
   "metadata": {},
   "source": [
    "## Load and Save Files"
   ]
  },
  {
   "cell_type": "markdown",
   "id": "f9df9ce2-cad3-4acb-9c7b-c9a4cdc56950",
   "metadata": {},
   "source": [
    "### CSV"
   ]
  },
  {
   "cell_type": "markdown",
   "id": "83bcc188-a36d-4e56-9864-dca5ed098220",
   "metadata": {},
   "source": [
    "* CSV는 Comma-Seperated Values의 약자로 테이블을 담기에 효율적인 파일 형식이다.\n",
    "\n",
    "* 이름에서도 알 수 있다시피 comma를 이용해 데이터(컬럼)를 분리한다."
   ]
  },
  {
   "cell_type": "code",
   "execution_count": 17,
   "id": "e05e2db0-121c-4d48-bf34-309a1a12a0b2",
   "metadata": {},
   "outputs": [],
   "source": [
    "using CSV"
   ]
  },
  {
   "cell_type": "code",
   "execution_count": 18,
   "id": "323d7a15-a786-47b4-ac12-fc21c0cacbea",
   "metadata": {},
   "outputs": [
    {
     "data": {
      "text/html": [
       "<div class=\"data-frame\"><p>4 rows × 2 columns</p><table class=\"data-frame\"><thead><tr><th></th><th>name</th><th>grade_2020</th></tr><tr><th></th><th title=\"String\">String</th><th title=\"Float64\">Float64</th></tr></thead><tbody><tr><th>1</th><td>Sally</td><td>1.0</td></tr><tr><th>2</th><td>Bob</td><td>5.0</td></tr><tr><th>3</th><td>Alice</td><td>8.5</td></tr><tr><th>4</th><td>Hank</td><td>4.0</td></tr></tbody></table></div>"
      ],
      "text/latex": [
       "\\begin{tabular}{r|cc}\n",
       "\t& name & grade\\_2020\\\\\n",
       "\t\\hline\n",
       "\t& String & Float64\\\\\n",
       "\t\\hline\n",
       "\t1 & Sally & 1.0 \\\\\n",
       "\t2 & Bob & 5.0 \\\\\n",
       "\t3 & Alice & 8.5 \\\\\n",
       "\t4 & Hank & 4.0 \\\\\n",
       "\\end{tabular}\n"
      ],
      "text/plain": [
       "\u001b[1m4×2 DataFrame\u001b[0m\n",
       "\u001b[1m Row \u001b[0m│\u001b[1m name   \u001b[0m\u001b[1m grade_2020 \u001b[0m\n",
       "\u001b[1m     \u001b[0m│\u001b[90m String \u001b[0m\u001b[90m Float64    \u001b[0m\n",
       "─────┼────────────────────\n",
       "   1 │ Sally          1.0\n",
       "   2 │ Bob            5.0\n",
       "   3 │ Alice          8.5\n",
       "   4 │ Hank           4.0"
      ]
     },
     "execution_count": 18,
     "metadata": {},
     "output_type": "execute_result"
    }
   ],
   "source": [
    "grades_2020()"
   ]
  },
  {
   "cell_type": "code",
   "execution_count": 19,
   "id": "a1b04917-59f1-47a2-931a-a6ee791f0461",
   "metadata": {},
   "outputs": [
    {
     "data": {
      "text/plain": [
       "write_grades_csv (generic function with 1 method)"
      ]
     },
     "execution_count": 19,
     "metadata": {},
     "output_type": "execute_result"
    }
   ],
   "source": [
    "# 데이터 프레임을 CSV 파일로 내보내는 함수 작성\n",
    "\n",
    "function write_grades_csv()\n",
    "    path = \"grades.csv\"\n",
    "    CSV.write(path, grades_2020())\n",
    "end"
   ]
  },
  {
   "cell_type": "code",
   "execution_count": 20,
   "id": "8b33daaf-ed4d-470a-89b2-b7a6ca228b8a",
   "metadata": {},
   "outputs": [
    {
     "data": {
      "text/plain": [
       "\"grades.csv\""
      ]
     },
     "execution_count": 20,
     "metadata": {},
     "output_type": "execute_result"
    }
   ],
   "source": [
    "path = write_grades_csv()"
   ]
  },
  {
   "cell_type": "code",
   "execution_count": 21,
   "id": "457cb7ae-d6d9-4e4c-bf9a-7ad9c2335e69",
   "metadata": {},
   "outputs": [
    {
     "data": {
      "text/plain": [
       "28-element Vector{String}:\n",
       " \".RData\"\n",
       " \".Rhistory\"\n",
       " \".ipynb_checkpoints\"\n",
       " \"3D_plotting\"\n",
       " \"DS_1_Dates.ipynb\"\n",
       " \"DS_2_RandomNumber.ipynb\"\n",
       " \"DS_2_RandomNumber2.ipynb\"\n",
       " \"DS_3_Downloads.ipynb\"\n",
       " \"DS_4_DataFrames.ipynb\"\n",
       " \"DS_4_DataFrames2.ipynb\"\n",
       " \"DS_5_Makie.ipynb\"\n",
       " \"GLMakie_test.jl\"\n",
       " \"JuliaDataScience-main\"\n",
       " ⋮\n",
       " \"drawings1\"\n",
       " \"drawings2\"\n",
       " \"grades-comma.tsv\"\n",
       " \"grades-commas.csv\"\n",
       " \"grades-space-seperated.csv\"\n",
       " \"grades.csv\"\n",
       " \"grades.xlsx\"\n",
       " \"juliadatascience.pdf\"\n",
       " \"lorenz.mp4\"\n",
       " \"plot\"\n",
       " \"six_number.csv\"\n",
       " \"test.png\""
      ]
     },
     "execution_count": 21,
     "metadata": {},
     "output_type": "execute_result"
    }
   ],
   "source": [
    "readdir()"
   ]
  },
  {
   "cell_type": "markdown",
   "id": "b479ddda-fba0-470b-af62-50d800129c52",
   "metadata": {},
   "source": [
    "* grades.csv 파일이 생성된 것을 확인"
   ]
  },
  {
   "cell_type": "code",
   "execution_count": 22,
   "id": "e9be9828-220f-4851-bcf6-4f38a61639a9",
   "metadata": {},
   "outputs": [
    {
     "data": {
      "text/plain": [
       "\"name,grade_2020\\nSally,1.0\\nBob,5.0\\nAlice,8.5\\nHank,4.0\\n\""
      ]
     },
     "execution_count": 22,
     "metadata": {},
     "output_type": "execute_result"
    }
   ],
   "source": [
    "read(path, String)"
   ]
  },
  {
   "cell_type": "markdown",
   "id": "91aafca4-54f0-45ba-9372-c46481a0386e",
   "metadata": {},
   "source": [
    "* CSV 데이터 형태는 간단한 텍스트 에디터로도 읽어들일 수 있는 장점이 있다.\n",
    "\n",
    "* 하지만 데이터 상에 comma가 들어 있다면 문제가 될 수 있지만 CSV.jl은 이 문제를 자동적으로 고려해 처리해주고 있다. \n",
    "\n",
    "    - 컴마를 포함한 값들은 ```\" ``` quotation 마크를 덧붙임(CSV.jl adds quotation marks \" around the comma-containing values.)"
   ]
  },
  {
   "cell_type": "code",
   "execution_count": 23,
   "id": "d64fe614-64ac-43cc-9623-a1af90b39c55",
   "metadata": {},
   "outputs": [
    {
     "data": {
      "text/html": [
       "<div class=\"data-frame\"><p>4 rows × 2 columns</p><table class=\"data-frame\"><thead><tr><th></th><th>name</th><th>grade_2020</th></tr><tr><th></th><th title=\"String\">String</th><th title=\"Float64\">Float64</th></tr></thead><tbody><tr><th>1</th><td>Sally</td><td>1.0</td></tr><tr><th>2</th><td>Bob</td><td>5.0</td></tr><tr><th>3</th><td>Alice,</td><td>8.5</td></tr><tr><th>4</th><td>Hank</td><td>4.0</td></tr></tbody></table></div>"
      ],
      "text/latex": [
       "\\begin{tabular}{r|cc}\n",
       "\t& name & grade\\_2020\\\\\n",
       "\t\\hline\n",
       "\t& String & Float64\\\\\n",
       "\t\\hline\n",
       "\t1 & Sally & 1.0 \\\\\n",
       "\t2 & Bob & 5.0 \\\\\n",
       "\t3 & Alice, & 8.5 \\\\\n",
       "\t4 & Hank & 4.0 \\\\\n",
       "\\end{tabular}\n"
      ],
      "text/plain": [
       "\u001b[1m4×2 DataFrame\u001b[0m\n",
       "\u001b[1m Row \u001b[0m│\u001b[1m name   \u001b[0m\u001b[1m grade_2020 \u001b[0m\n",
       "\u001b[1m     \u001b[0m│\u001b[90m String \u001b[0m\u001b[90m Float64    \u001b[0m\n",
       "─────┼────────────────────\n",
       "   1 │ Sally          1.0\n",
       "   2 │ Bob            5.0\n",
       "   3 │ Alice,         8.5\n",
       "   4 │ Hank           4.0"
      ]
     },
     "execution_count": 23,
     "metadata": {},
     "output_type": "execute_result"
    }
   ],
   "source": [
    "function grades_with_commas()\n",
    "    df = grades_2020()\n",
    "    df[3, :name] = \"Alice,\"\n",
    "    df\n",
    "end\n",
    "grades_with_commas()"
   ]
  },
  {
   "cell_type": "code",
   "execution_count": 24,
   "id": "98cecf39-75ca-47ca-8678-7b76d5c465a8",
   "metadata": {},
   "outputs": [
    {
     "data": {
      "text/plain": [
       "\"name,grade_2020\\nSally,1.0\\nBob,5.0\\n\\\"Alice,\\\",8.5\\nHank,4.0\\n\""
      ]
     },
     "execution_count": 24,
     "metadata": {},
     "output_type": "execute_result"
    }
   ],
   "source": [
    "# 데이터 내 ,가 자동을 처리되어 있는 모습을 확인할 수 있음\n",
    "\n",
    "function write_comma_csv()\n",
    "    path = \"grades-commas.csv\"\n",
    "    CSV.write(path, grades_with_commas())\n",
    "end\n",
    "path = write_comma_csv()\n",
    "read(path, String)"
   ]
  },
  {
   "cell_type": "markdown",
   "id": "146a1f2e-3759-41c1-b377-84b8ea3ab0ab",
   "metadata": {},
   "source": [
    "* **TSV 타입** (**T**ab-**S**eperated **V**alues) 도 CSV.jl 패키지의 CSV 함수를 이용해서 불러들일 수 있다."
   ]
  },
  {
   "cell_type": "code",
   "execution_count": 25,
   "id": "cdec1934-0047-4795-abcf-73824c0bfa0f",
   "metadata": {},
   "outputs": [
    {
     "data": {
      "text/plain": [
       "\"name\\tgrade_2020\\nSally\\t1.0\\nBob\\t5.0\\nAlice,\\t8.5\\nHank\\t4.0\\n\""
      ]
     },
     "execution_count": 25,
     "metadata": {},
     "output_type": "execute_result"
    }
   ],
   "source": [
    "function write_comma_tsv()\n",
    "    path = \"grades-comma.tsv\"\n",
    "    CSV.write(path, grades_with_commas(); delim = '\\t')\n",
    "end\n",
    "\n",
    "read(write_comma_tsv(), String)"
   ]
  },
  {
   "cell_type": "markdown",
   "id": "6e22958e-116b-4392-bd77-861d32bb420d",
   "metadata": {},
   "source": [
    "* 컴마 또는 탭 이외에도 다른 구분자(delimiters)를 이용하여 데이터를 구분하여 저장하고 불러들일 수 있다. "
   ]
  },
  {
   "cell_type": "code",
   "execution_count": 26,
   "id": "4bd20b77-d411-43d1-b5f6-c0e747b63324",
   "metadata": {},
   "outputs": [
    {
     "data": {
      "text/plain": [
       "\"name grade_2020\\nSally 1.0\\nBob 5.0\\nAlice 8.5\\nHank 4.0\\n\""
      ]
     },
     "execution_count": 26,
     "metadata": {},
     "output_type": "execute_result"
    }
   ],
   "source": [
    "function write_space_seperated()\n",
    "    path = \"grades-space-seperated.csv\"\n",
    "    CSV.write(path, grades_2020(); delim = ' ')\n",
    "end\n",
    "\n",
    "read(write_space_seperated(), String)"
   ]
  },
  {
   "cell_type": "markdown",
   "id": "cffa565a-e48b-4b8b-9850-0e98c251876c",
   "metadata": {},
   "source": [
    "* 여전히 관례적으로 semicolon과 csv 확장자를 많이 사용하는 편임"
   ]
  },
  {
   "cell_type": "markdown",
   "id": "fe6b5025-bea4-46c3-8626-2daf8770bfcc",
   "metadata": {},
   "source": [
    "* CSV를 읽을 때, 보통 path와 읽어들일 데이터 타입을 인수로 넣는다."
   ]
  },
  {
   "cell_type": "code",
   "execution_count": 27,
   "id": "276ca092-9c20-42ad-b8fe-46eaf2026e74",
   "metadata": {},
   "outputs": [
    {
     "data": {
      "text/plain": [
       "\"grades.csv\""
      ]
     },
     "execution_count": 27,
     "metadata": {},
     "output_type": "execute_result"
    }
   ],
   "source": [
    "path = write_grades_csv()"
   ]
  },
  {
   "cell_type": "code",
   "execution_count": 28,
   "id": "5b0ce025-e9f4-4322-bb0b-a8ce4ff3c9af",
   "metadata": {},
   "outputs": [
    {
     "data": {
      "text/html": [
       "<div class=\"data-frame\"><p>4 rows × 2 columns</p><table class=\"data-frame\"><thead><tr><th></th><th>name</th><th>grade_2020</th></tr><tr><th></th><th title=\"String7\">String7</th><th title=\"Float64\">Float64</th></tr></thead><tbody><tr><th>1</th><td>Sally</td><td>1.0</td></tr><tr><th>2</th><td>Bob</td><td>5.0</td></tr><tr><th>3</th><td>Alice</td><td>8.5</td></tr><tr><th>4</th><td>Hank</td><td>4.0</td></tr></tbody></table></div>"
      ],
      "text/latex": [
       "\\begin{tabular}{r|cc}\n",
       "\t& name & grade\\_2020\\\\\n",
       "\t\\hline\n",
       "\t& String7 & Float64\\\\\n",
       "\t\\hline\n",
       "\t1 & Sally & 1.0 \\\\\n",
       "\t2 & Bob & 5.0 \\\\\n",
       "\t3 & Alice & 8.5 \\\\\n",
       "\t4 & Hank & 4.0 \\\\\n",
       "\\end{tabular}\n"
      ],
      "text/plain": [
       "\u001b[1m4×2 DataFrame\u001b[0m\n",
       "\u001b[1m Row \u001b[0m│\u001b[1m name    \u001b[0m\u001b[1m grade_2020 \u001b[0m\n",
       "\u001b[1m     \u001b[0m│\u001b[90m String7 \u001b[0m\u001b[90m Float64    \u001b[0m\n",
       "─────┼─────────────────────\n",
       "   1 │ Sally           1.0\n",
       "   2 │ Bob             5.0\n",
       "   3 │ Alice           8.5\n",
       "   4 │ Hank            4.0"
      ]
     },
     "execution_count": 28,
     "metadata": {},
     "output_type": "execute_result"
    }
   ],
   "source": [
    "CSV.read(path, DataFrame)"
   ]
  },
  {
   "cell_type": "code",
   "execution_count": 29,
   "id": "92a7ea04-158b-4019-8521-79a9c409cb14",
   "metadata": {},
   "outputs": [
    {
     "data": {
      "text/html": [
       "<div class=\"data-frame\"><p>4 rows × 2 columns</p><table class=\"data-frame\"><thead><tr><th></th><th>name</th><th>grade_2020</th></tr><tr><th></th><th title=\"String7\">String7</th><th title=\"Float64\">Float64</th></tr></thead><tbody><tr><th>1</th><td>Sally</td><td>1.0</td></tr><tr><th>2</th><td>Bob</td><td>5.0</td></tr><tr><th>3</th><td>Alice</td><td>8.5</td></tr><tr><th>4</th><td>Hank</td><td>4.0</td></tr></tbody></table></div>"
      ],
      "text/latex": [
       "\\begin{tabular}{r|cc}\n",
       "\t& name & grade\\_2020\\\\\n",
       "\t\\hline\n",
       "\t& String7 & Float64\\\\\n",
       "\t\\hline\n",
       "\t1 & Sally & 1.0 \\\\\n",
       "\t2 & Bob & 5.0 \\\\\n",
       "\t3 & Alice & 8.5 \\\\\n",
       "\t4 & Hank & 4.0 \\\\\n",
       "\\end{tabular}\n"
      ],
      "text/plain": [
       "\u001b[1m4×2 DataFrame\u001b[0m\n",
       "\u001b[1m Row \u001b[0m│\u001b[1m name    \u001b[0m\u001b[1m grade_2020 \u001b[0m\n",
       "\u001b[1m     \u001b[0m│\u001b[90m String7 \u001b[0m\u001b[90m Float64    \u001b[0m\n",
       "─────┼─────────────────────\n",
       "   1 │ Sally           1.0\n",
       "   2 │ Bob             5.0\n",
       "   3 │ Alice           8.5\n",
       "   4 │ Hank            4.0"
      ]
     },
     "execution_count": 29,
     "metadata": {},
     "output_type": "execute_result"
    }
   ],
   "source": [
    "grades_df = CSV.read(path, DataFrame)"
   ]
  },
  {
   "cell_type": "markdown",
   "id": "e0c540d5-dd7e-4f27-88e7-f45ed4d5b575",
   "metadata": {},
   "source": [
    "* CSV 패키지에 대해 더 알아보고 싶다면 아래 공식문서를 참조\n",
    "\n",
    "    > https://csv.juliadata.org/stable/"
   ]
  },
  {
   "cell_type": "markdown",
   "id": "78bb9ce5-743e-4ed1-b315-ad129601dfac",
   "metadata": {},
   "source": [
    "### Excel"
   ]
  },
  {
   "cell_type": "markdown",
   "id": "b81a537e-880f-4a71-9998-07ee7f6f5dbe",
   "metadata": {},
   "source": [
    "* **XLSX.jl** 패키지는 가장 활발히 유지보수 되고 있는 엑셀 전용 패키지이며, 순수 줄리아(pure julia)로 작성되어 있기 때문에 어떻게 작동되는지 이해하고 검사하기 쉽다. "
   ]
  },
  {
   "cell_type": "code",
   "execution_count": 30,
   "id": "dd09436f-bd6b-4465-bcf2-abaf6f092897",
   "metadata": {},
   "outputs": [],
   "source": [
    "using XLSX:\n",
    "    eachtablerow,\n",
    "    readxlsx,\n",
    "    writetable"
   ]
  },
  {
   "cell_type": "markdown",
   "id": "0fb6630b-3002-450d-a2a7-85e8e5266283",
   "metadata": {},
   "source": [
    "* 데이터와 컬럼명을 기록하는 사용자 정의 함수 생성"
   ]
  },
  {
   "cell_type": "code",
   "execution_count": 31,
   "id": "15baa376-d6c1-4851-9bef-1c4a0a094990",
   "metadata": {},
   "outputs": [
    {
     "data": {
      "text/plain": [
       "write_xlsx (generic function with 1 method)"
      ]
     },
     "execution_count": 31,
     "metadata": {},
     "output_type": "execute_result"
    }
   ],
   "source": [
    "function write_xlsx(name, df::DataFrame)\n",
    "    path = \"$name.xlsx\"\n",
    "    data = collect(eachcol(df))\n",
    "    cols = names(df)\n",
    "    writetable(path, data, cols)\n",
    "end"
   ]
  },
  {
   "cell_type": "markdown",
   "id": "8c8439fc-9172-42da-9211-0345f7ef275c",
   "metadata": {},
   "source": [
    "* 이제 쉽게 grades 데이터를 엑셀로 변환 -> 하지만 실제 사용하려고 하면 에러가 발생"
   ]
  },
  {
   "cell_type": "code",
   "execution_count": 32,
   "id": "1f8cce7c-9267-491f-899b-d2d24427c721",
   "metadata": {},
   "outputs": [
    {
     "data": {
      "text/plain": [
       "write_grades_xlsx (generic function with 1 method)"
      ]
     },
     "execution_count": 32,
     "metadata": {},
     "output_type": "execute_result"
    }
   ],
   "source": [
    "function write_grades_xlsx()\n",
    "    path = \"grades\"\n",
    "    write_xlsx(path, grades_2020())\n",
    "    \"$path.xlsx\"\n",
    "end"
   ]
  },
  {
   "cell_type": "markdown",
   "id": "c651d232-84a7-402c-8307-d5462fc1da4b",
   "metadata": {},
   "source": [
    "* 사용자 정의 함수는 에러가 발생하므로 다음과 같이 직접 xlsx 파일을 생성"
   ]
  },
  {
   "cell_type": "code",
   "execution_count": 33,
   "id": "20ce0ed5-cb42-4d24-ba18-3c13c925c52a",
   "metadata": {},
   "outputs": [],
   "source": [
    "# writetable(\"grades.xlsx\", grades_df)"
   ]
  },
  {
   "cell_type": "code",
   "execution_count": 34,
   "id": "141d5f03-eca4-46e4-aa28-2e69c2e07ddd",
   "metadata": {},
   "outputs": [
    {
     "data": {
      "text/plain": [
       "XLSXFile(\"grades.xlsx\") containing 1 Worksheet\n",
       "            sheetname size          range        \n",
       "-------------------------------------------------\n",
       "               Sheet1 5x2           A1:B5        \n"
      ]
     },
     "execution_count": 34,
     "metadata": {},
     "output_type": "execute_result"
    }
   ],
   "source": [
    "xf = readxlsx(\"grades.xlsx\")"
   ]
  },
  {
   "cell_type": "code",
   "execution_count": 35,
   "id": "2a9969ab-0e97-4429-94ef-4670c04d4cf5",
   "metadata": {},
   "outputs": [
    {
     "data": {
      "text/html": [
       "<div class=\"data-frame\"><p>4 rows × 2 columns</p><table class=\"data-frame\"><thead><tr><th></th><th>name</th><th>grade_2020</th></tr><tr><th></th><th title=\"Any\">Any</th><th title=\"Any\">Any</th></tr></thead><tbody><tr><th>1</th><td>Sally</td><td>1.0</td></tr><tr><th>2</th><td>Bob</td><td>5.0</td></tr><tr><th>3</th><td>Alice</td><td>8.5</td></tr><tr><th>4</th><td>Hank</td><td>4.0</td></tr></tbody></table></div>"
      ],
      "text/latex": [
       "\\begin{tabular}{r|cc}\n",
       "\t& name & grade\\_2020\\\\\n",
       "\t\\hline\n",
       "\t& Any & Any\\\\\n",
       "\t\\hline\n",
       "\t1 & Sally & 1.0 \\\\\n",
       "\t2 & Bob & 5.0 \\\\\n",
       "\t3 & Alice & 8.5 \\\\\n",
       "\t4 & Hank & 4.0 \\\\\n",
       "\\end{tabular}\n"
      ],
      "text/plain": [
       "\u001b[1m4×2 DataFrame\u001b[0m\n",
       "\u001b[1m Row \u001b[0m│\u001b[1m name  \u001b[0m\u001b[1m grade_2020 \u001b[0m\n",
       "\u001b[1m     \u001b[0m│\u001b[90m Any   \u001b[0m\u001b[90m Any        \u001b[0m\n",
       "─────┼───────────────────\n",
       "   1 │ Sally  1.0\n",
       "   2 │ Bob    5.0\n",
       "   3 │ Alice  8.5\n",
       "   4 │ Hank   4.0"
      ]
     },
     "execution_count": 35,
     "metadata": {},
     "output_type": "execute_result"
    }
   ],
   "source": [
    "sheet = xf[\"Sheet1\"]\n",
    "eachtablerow(sheet) |> DataFrame"
   ]
  },
  {
   "cell_type": "markdown",
   "id": "6d95084a-c05e-4377-adc4-aa6b14285745",
   "metadata": {},
   "source": [
    "* 더 확인이 필요한 부분은 XLSX.jl 공식문서 참조\n",
    "\n",
    "> https://felipenoris.github.io/XLSX.jl/stable/"
   ]
  },
  {
   "cell_type": "markdown",
   "id": "46beed44-1a08-4755-9b13-6be176e5adb8",
   "metadata": {},
   "source": [
    "## Index and Summarize"
   ]
  },
  {
   "cell_type": "code",
   "execution_count": 36,
   "id": "aa9b4e8f-59ea-4fe2-922e-62ac3ea00d64",
   "metadata": {},
   "outputs": [
    {
     "data": {
      "text/html": [
       "<div class=\"data-frame\"><p>4 rows × 2 columns</p><table class=\"data-frame\"><thead><tr><th></th><th>name</th><th>grade_2020</th></tr><tr><th></th><th title=\"Any\">Any</th><th title=\"Any\">Any</th></tr></thead><tbody><tr><th>1</th><td>Sally</td><td>1.0</td></tr><tr><th>2</th><td>Bob</td><td>5.0</td></tr><tr><th>3</th><td>Alice</td><td>8.5</td></tr><tr><th>4</th><td>Hank</td><td>4.0</td></tr></tbody></table></div>"
      ],
      "text/latex": [
       "\\begin{tabular}{r|cc}\n",
       "\t& name & grade\\_2020\\\\\n",
       "\t\\hline\n",
       "\t& Any & Any\\\\\n",
       "\t\\hline\n",
       "\t1 & Sally & 1.0 \\\\\n",
       "\t2 & Bob & 5.0 \\\\\n",
       "\t3 & Alice & 8.5 \\\\\n",
       "\t4 & Hank & 4.0 \\\\\n",
       "\\end{tabular}\n"
      ],
      "text/plain": [
       "\u001b[1m4×2 DataFrame\u001b[0m\n",
       "\u001b[1m Row \u001b[0m│\u001b[1m name  \u001b[0m\u001b[1m grade_2020 \u001b[0m\n",
       "\u001b[1m     \u001b[0m│\u001b[90m Any   \u001b[0m\u001b[90m Any        \u001b[0m\n",
       "─────┼───────────────────\n",
       "   1 │ Sally  1.0\n",
       "   2 │ Bob    5.0\n",
       "   3 │ Alice  8.5\n",
       "   4 │ Hank   4.0"
      ]
     },
     "execution_count": 36,
     "metadata": {},
     "output_type": "execute_result"
    }
   ],
   "source": [
    "xf = readxlsx(\"grades.xlsx\")\n",
    "sheet = xf[\"Sheet1\"]\n",
    "grades_2020_df = (eachtablerow(sheet) |> DataFrame)"
   ]
  },
  {
   "cell_type": "code",
   "execution_count": 37,
   "id": "f5289964-6c00-49e4-9f49-a13ecf6abd4a",
   "metadata": {},
   "outputs": [
    {
     "data": {
      "text/html": [
       "<div class=\"data-frame\"><p>4 rows × 2 columns</p><table class=\"data-frame\"><thead><tr><th></th><th>name</th><th>grade_2020</th></tr><tr><th></th><th title=\"Any\">Any</th><th title=\"Any\">Any</th></tr></thead><tbody><tr><th>1</th><td>Sally</td><td>1.0</td></tr><tr><th>2</th><td>Bob</td><td>5.0</td></tr><tr><th>3</th><td>Alice</td><td>8.5</td></tr><tr><th>4</th><td>Hank</td><td>4.0</td></tr></tbody></table></div>"
      ],
      "text/latex": [
       "\\begin{tabular}{r|cc}\n",
       "\t& name & grade\\_2020\\\\\n",
       "\t\\hline\n",
       "\t& Any & Any\\\\\n",
       "\t\\hline\n",
       "\t1 & Sally & 1.0 \\\\\n",
       "\t2 & Bob & 5.0 \\\\\n",
       "\t3 & Alice & 8.5 \\\\\n",
       "\t4 & Hank & 4.0 \\\\\n",
       "\\end{tabular}\n"
      ],
      "text/plain": [
       "\u001b[1m4×2 DataFrame\u001b[0m\n",
       "\u001b[1m Row \u001b[0m│\u001b[1m name  \u001b[0m\u001b[1m grade_2020 \u001b[0m\n",
       "\u001b[1m     \u001b[0m│\u001b[90m Any   \u001b[0m\u001b[90m Any        \u001b[0m\n",
       "─────┼───────────────────\n",
       "   1 │ Sally  1.0\n",
       "   2 │ Bob    5.0\n",
       "   3 │ Alice  8.5\n",
       "   4 │ Hank   4.0"
      ]
     },
     "execution_count": 37,
     "metadata": {},
     "output_type": "execute_result"
    }
   ],
   "source": [
    "grades_2020_df"
   ]
  },
  {
   "cell_type": "markdown",
   "id": "72004e29-61bb-4509-908c-b1695c32b7b5",
   "metadata": {},
   "source": [
    "* 컬럼명을 ```.``` 연결하여 컬럼벡터 추출이 가능함"
   ]
  },
  {
   "cell_type": "code",
   "execution_count": 38,
   "id": "510e89d0-623d-4e34-8934-2101ce75d04a",
   "metadata": {},
   "outputs": [
    {
     "data": {
      "text/plain": [
       "4-element Vector{Any}:\n",
       " \"Sally\"\n",
       " \"Bob\"\n",
       " \"Alice\"\n",
       " \"Hank\""
      ]
     },
     "execution_count": 38,
     "metadata": {},
     "output_type": "execute_result"
    }
   ],
   "source": [
    "grades_2020_df.name"
   ]
  },
  {
   "cell_type": "markdown",
   "id": "2e40f6b6-ee08-4ef4-8541-0746237a2de6",
   "metadata": {},
   "source": [
    "* column indexing을 이용한 방법"
   ]
  },
  {
   "cell_type": "code",
   "execution_count": 39,
   "id": "b2df83eb-e72a-4e77-b4cc-56fc02d73491",
   "metadata": {},
   "outputs": [
    {
     "data": {
      "text/plain": [
       "4-element Vector{Any}:\n",
       " \"Sally\"\n",
       " \"Bob\"\n",
       " \"Alice\"\n",
       " \"Hank\""
      ]
     },
     "execution_count": 39,
     "metadata": {},
     "output_type": "execute_result"
    }
   ],
   "source": [
    "grades_2020_df[!, :name]"
   ]
  },
  {
   "cell_type": "code",
   "execution_count": 40,
   "id": "ab3ba648-7c88-41a3-9971-43607fbd83e1",
   "metadata": {},
   "outputs": [
    {
     "data": {
      "text/plain": [
       "4-element Vector{Any}:\n",
       " \"Sally\"\n",
       " \"Bob\"\n",
       " \"Alice\"\n",
       " \"Hank\""
      ]
     },
     "execution_count": 40,
     "metadata": {},
     "output_type": "execute_result"
    }
   ],
   "source": [
    "grades_2020_df[:,:name]"
   ]
  },
  {
   "cell_type": "code",
   "execution_count": 41,
   "id": "1e4d453e-1aaf-447e-9de8-d54d41553037",
   "metadata": {},
   "outputs": [
    {
     "data": {
      "text/plain": [
       "2-element Vector{Any}:\n",
       " \"Sally\"\n",
       " \"Bob\""
      ]
     },
     "execution_count": 41,
     "metadata": {},
     "output_type": "execute_result"
    }
   ],
   "source": [
    "grades_2020_df[1:2, :name]"
   ]
  },
  {
   "cell_type": "markdown",
   "id": "ca073db6-c65e-4ade-af0f-51342a7d5365",
   "metadata": {},
   "source": [
    "* collect 함수와 zip 함수를 이용, 두 열을 하나의 tuple로 묶을 수 있음"
   ]
  },
  {
   "cell_type": "code",
   "execution_count": 42,
   "id": "f5733e61-0dc1-4635-9f76-5e21a677ab87",
   "metadata": {},
   "outputs": [
    {
     "data": {
      "text/plain": [
       "4-element Vector{Tuple{Any, Any}}:\n",
       " (\"Sally\", 1.0)\n",
       " (\"Bob\", 5.0)\n",
       " (\"Alice\", 8.5)\n",
       " (\"Hank\", 4.0)"
      ]
     },
     "execution_count": 42,
     "metadata": {},
     "output_type": "execute_result"
    }
   ],
   "source": [
    "collect(zip(grades_2020_df.name, grades_2020_df.grade_2020))"
   ]
  }
 ],
 "metadata": {
  "kernelspec": {
   "display_name": "Julia 1.8.0",
   "language": "julia",
   "name": "julia-1.8"
  },
  "language_info": {
   "file_extension": ".jl",
   "mimetype": "application/julia",
   "name": "julia",
   "version": "1.8.0"
  }
 },
 "nbformat": 4,
 "nbformat_minor": 5
}
