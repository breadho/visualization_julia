{
 "cells": [
  {
   "cell_type": "markdown",
   "id": "1a5bcf92-eab3-4892-a5c6-6e97d04bee15",
   "metadata": {},
   "source": [
    " # Data Science (JULIA)"
   ]
  },
  {
   "cell_type": "markdown",
   "id": "884c4826-083e-4322-93f7-9b4ebd0cb175",
   "metadata": {},
   "source": [
    "## 1.2 Random Numbers"
   ]
  },
  {
   "cell_type": "markdown",
   "id": "ab5d3133-da74-4333-8bc8-42d93296e50d",
   "metadata": {},
   "source": [
    "* 줄리아는 의사난수를 생성하는 Random 모듈을 지원하고 있다. \n",
    "\n",
    "* 대표적으로 쓰이는 ```rand```, ```randn```, ```seed!``` 함수를 확인해 본다.\n",
    "\n",
    "    * ```rand``` : 데이터 구조 또는 타입에 따라 랜덤한 원소를 샘플링하는 함수\n",
    "    \n",
    "    * ```randn``` : 표준정규분포에서(평균 0, 표준편차 1) 생성하는 랜덤 함수"
   ]
  },
  {
   "cell_type": "code",
   "execution_count": 1,
   "id": "5eb7c486-d450-4ec5-8c58-eca529ccbdbc",
   "metadata": {},
   "outputs": [],
   "source": [
    "using Random: seed!"
   ]
  },
  {
   "cell_type": "markdown",
   "id": "82bf00de-f8e2-4010-9184-873d417a390c",
   "metadata": {},
   "source": [
    "### 1.2.1 rand"
   ]
  },
  {
   "cell_type": "markdown",
   "id": "0a0915cb-866c-4485-a987-dd04eb9d68d3",
   "metadata": {},
   "source": [
    "* 만약 특별한 인수가 없다면 rand 함수는 0부터 1사이(0 이상 1 미만)에서 Float64 타입의 데이터를 랜덤하게 리턴한다."
   ]
  },
  {
   "cell_type": "code",
   "execution_count": 2,
   "id": "03eabe10-6d4f-45b5-8eff-eed55b35a421",
   "metadata": {},
   "outputs": [
    {
     "data": {
      "text/plain": [
       "0.6143965045259773"
      ]
     },
     "execution_count": 2,
     "metadata": {},
     "output_type": "execute_result"
    }
   ],
   "source": [
    "rand()"
   ]
  },
  {
   "cell_type": "markdown",
   "id": "9084a2f3-8092-4754-a96b-a2d46078171d",
   "metadata": {},
   "source": [
    "* 인수로 정수를 입력하면 랜덤한 수의 개수로 인식\n",
    "\n",
    "* 숫자의 범위(interval)을 인수로 입력 가능\n",
    "\n",
    "* step size를 가진 수열에서도 랜덤하게 추출 가능"
   ]
  },
  {
   "cell_type": "code",
   "execution_count": 3,
   "id": "7aaf43c6-72ed-4b09-b0a0-a946b53c099b",
   "metadata": {},
   "outputs": [
    {
     "data": {
      "text/plain": [
       "3-element Vector{Float64}:\n",
       " 0.37707998870292825\n",
       " 0.7920765602579328\n",
       " 0.676104712071207"
      ]
     },
     "execution_count": 3,
     "metadata": {},
     "output_type": "execute_result"
    }
   ],
   "source": [
    "rand(3)"
   ]
  },
  {
   "cell_type": "code",
   "execution_count": 4,
   "id": "6a56c668-d5d6-4615-965d-838506b574a2",
   "metadata": {},
   "outputs": [
    {
     "data": {
      "text/plain": [
       "1.0"
      ]
     },
     "execution_count": 4,
     "metadata": {},
     "output_type": "execute_result"
    }
   ],
   "source": [
    "rand(1.0:10.0)"
   ]
  },
  {
   "cell_type": "code",
   "execution_count": 5,
   "id": "3a7b86f4-9de7-4cb8-a351-6789bdd72f79",
   "metadata": {},
   "outputs": [
    {
     "data": {
      "text/plain": [
       "4"
      ]
     },
     "execution_count": 5,
     "metadata": {},
     "output_type": "execute_result"
    }
   ],
   "source": [
    "rand(2:2:20)"
   ]
  },
  {
   "cell_type": "markdown",
   "id": "f93850e8-e35f-4b9e-9139-bb4469f189c1",
   "metadata": {},
   "source": [
    "* multiple collection 타입의 데이터에서도 랜덤 추출 가능\n",
    "\n",
    "* array data type에서도 랜덤 추출 가능\n",
    "\n",
    "* Dictionary type 데이터에서도 랜덤 추출 가능\n",
    "\n",
    "* matrix 형태에 대해서도 가능"
   ]
  },
  {
   "cell_type": "code",
   "execution_count": 6,
   "id": "990072d7-e651-4812-81bf-c3fbc966799b",
   "metadata": {},
   "outputs": [
    {
     "data": {
      "text/plain": [
       "\"Julia\""
      ]
     },
     "execution_count": 6,
     "metadata": {},
     "output_type": "execute_result"
    }
   ],
   "source": [
    "rand((42, \"Julia\", 3.14))"
   ]
  },
  {
   "cell_type": "code",
   "execution_count": 7,
   "id": "7cb759ab-5dfa-4acf-bf3d-b6508f5b25ad",
   "metadata": {},
   "outputs": [
    {
     "data": {
      "text/plain": [
       "3"
      ]
     },
     "execution_count": 7,
     "metadata": {},
     "output_type": "execute_result"
    }
   ],
   "source": [
    "rand([1, 2, 3])"
   ]
  },
  {
   "cell_type": "code",
   "execution_count": 8,
   "id": "e8cad147-d5f7-421f-8530-dc2036c59092",
   "metadata": {},
   "outputs": [
    {
     "data": {
      "text/plain": [
       ":two => 2"
      ]
     },
     "execution_count": 8,
     "metadata": {},
     "output_type": "execute_result"
    }
   ],
   "source": [
    "rand(Dict(:one => 1., :two => 2) )"
   ]
  },
  {
   "cell_type": "code",
   "execution_count": 9,
   "id": "cb7098f5-bd1a-44e8-8d57-c51526f9270e",
   "metadata": {},
   "outputs": [
    {
     "data": {
      "text/plain": [
       "2×2 Matrix{Float64}:\n",
       " 2.0  2.0\n",
       " 3.0  1.0"
      ]
     },
     "execution_count": 9,
     "metadata": {},
     "output_type": "execute_result"
    }
   ],
   "source": [
    "rand(1.0:3.0, (2, 2))"
   ]
  },
  {
   "cell_type": "markdown",
   "id": "68b58f10-741c-4df0-bb02-e0a253e071c7",
   "metadata": {},
   "source": [
    "### 1.2.2 randn"
   ]
  },
  {
   "cell_type": "markdown",
   "id": "cb6177ab-fd4c-482c-918f-71b93f42a738",
   "metadata": {},
   "source": [
    "* 표준 정규분포에서 랜덤 넘버를 추출할 때 사용하는 함수"
   ]
  },
  {
   "cell_type": "code",
   "execution_count": 10,
   "id": "b4059a1b-a774-4c7d-9010-42e09516fadf",
   "metadata": {},
   "outputs": [
    {
     "data": {
      "text/plain": [
       "0.010603277962651765"
      ]
     },
     "execution_count": 10,
     "metadata": {},
     "output_type": "execute_result"
    }
   ],
   "source": [
    "randn()"
   ]
  },
  {
   "cell_type": "code",
   "execution_count": 11,
   "id": "a7e44331-322c-4ab7-8b3d-752b06cb44ab",
   "metadata": {},
   "outputs": [
    {
     "data": {
      "text/plain": [
       "2×2 Matrix{Float64}:\n",
       " -0.573179    0.19467\n",
       "  0.0582682  -1.28679"
      ]
     },
     "execution_count": 11,
     "metadata": {},
     "output_type": "execute_result"
    }
   ],
   "source": [
    "randn((2, 2))"
   ]
  },
  {
   "cell_type": "code",
   "execution_count": 12,
   "id": "17de2de4-32ca-45a8-acac-dab9b9844ab6",
   "metadata": {},
   "outputs": [
    {
     "data": {
      "image/svg+xml": [
       "<?xml version=\"1.0\" encoding=\"utf-8\"?>\n",
       "<svg xmlns=\"http://www.w3.org/2000/svg\" xmlns:xlink=\"http://www.w3.org/1999/xlink\" width=\"600\" height=\"400\" viewBox=\"0 0 2400 1600\">\n",
       "<defs>\n",
       "  <clipPath id=\"clip690\">\n",
       "    <rect x=\"0\" y=\"0\" width=\"2400\" height=\"1600\"/>\n",
       "  </clipPath>\n",
       "</defs>\n",
       "<path clip-path=\"url(#clip690)\" d=\"\n",
       "M0 1600 L2400 1600 L2400 0 L0 0  Z\n",
       "  \" fill=\"#ffffff\" fill-rule=\"evenodd\" fill-opacity=\"1\"/>\n",
       "<defs>\n",
       "  <clipPath id=\"clip691\">\n",
       "    <rect x=\"480\" y=\"0\" width=\"1681\" height=\"1600\"/>\n",
       "  </clipPath>\n",
       "</defs>\n",
       "<path clip-path=\"url(#clip690)\" d=\"\n",
       "M170.857 1486.45 L2352.76 1486.45 L2352.76 47.2441 L170.857 47.2441  Z\n",
       "  \" fill=\"#ffffff\" fill-rule=\"evenodd\" fill-opacity=\"1\"/>\n",
       "<defs>\n",
       "  <clipPath id=\"clip692\">\n",
       "    <rect x=\"170\" y=\"47\" width=\"2183\" height=\"1440\"/>\n",
       "  </clipPath>\n",
       "</defs>\n",
       "<polyline clip-path=\"url(#clip692)\" style=\"stroke:#000000; stroke-linecap:round; stroke-linejoin:round; stroke-width:2; stroke-opacity:0.1; fill:none\" points=\"\n",
       "  429.572,1486.45 429.572,47.2441 \n",
       "  \"/>\n",
       "<polyline clip-path=\"url(#clip692)\" style=\"stroke:#000000; stroke-linecap:round; stroke-linejoin:round; stroke-width:2; stroke-opacity:0.1; fill:none\" points=\"\n",
       "  706.983,1486.45 706.983,47.2441 \n",
       "  \"/>\n",
       "<polyline clip-path=\"url(#clip692)\" style=\"stroke:#000000; stroke-linecap:round; stroke-linejoin:round; stroke-width:2; stroke-opacity:0.1; fill:none\" points=\"\n",
       "  984.395,1486.45 984.395,47.2441 \n",
       "  \"/>\n",
       "<polyline clip-path=\"url(#clip692)\" style=\"stroke:#000000; stroke-linecap:round; stroke-linejoin:round; stroke-width:2; stroke-opacity:0.1; fill:none\" points=\"\n",
       "  1261.81,1486.45 1261.81,47.2441 \n",
       "  \"/>\n",
       "<polyline clip-path=\"url(#clip692)\" style=\"stroke:#000000; stroke-linecap:round; stroke-linejoin:round; stroke-width:2; stroke-opacity:0.1; fill:none\" points=\"\n",
       "  1539.22,1486.45 1539.22,47.2441 \n",
       "  \"/>\n",
       "<polyline clip-path=\"url(#clip692)\" style=\"stroke:#000000; stroke-linecap:round; stroke-linejoin:round; stroke-width:2; stroke-opacity:0.1; fill:none\" points=\"\n",
       "  1816.63,1486.45 1816.63,47.2441 \n",
       "  \"/>\n",
       "<polyline clip-path=\"url(#clip692)\" style=\"stroke:#000000; stroke-linecap:round; stroke-linejoin:round; stroke-width:2; stroke-opacity:0.1; fill:none\" points=\"\n",
       "  2094.04,1486.45 2094.04,47.2441 \n",
       "  \"/>\n",
       "<polyline clip-path=\"url(#clip690)\" style=\"stroke:#000000; stroke-linecap:round; stroke-linejoin:round; stroke-width:4; stroke-opacity:1; fill:none\" points=\"\n",
       "  170.857,1486.45 2352.76,1486.45 \n",
       "  \"/>\n",
       "<polyline clip-path=\"url(#clip690)\" style=\"stroke:#000000; stroke-linecap:round; stroke-linejoin:round; stroke-width:4; stroke-opacity:1; fill:none\" points=\"\n",
       "  429.572,1486.45 429.572,1467.55 \n",
       "  \"/>\n",
       "<polyline clip-path=\"url(#clip690)\" style=\"stroke:#000000; stroke-linecap:round; stroke-linejoin:round; stroke-width:4; stroke-opacity:1; fill:none\" points=\"\n",
       "  706.983,1486.45 706.983,1467.55 \n",
       "  \"/>\n",
       "<polyline clip-path=\"url(#clip690)\" style=\"stroke:#000000; stroke-linecap:round; stroke-linejoin:round; stroke-width:4; stroke-opacity:1; fill:none\" points=\"\n",
       "  984.395,1486.45 984.395,1467.55 \n",
       "  \"/>\n",
       "<polyline clip-path=\"url(#clip690)\" style=\"stroke:#000000; stroke-linecap:round; stroke-linejoin:round; stroke-width:4; stroke-opacity:1; fill:none\" points=\"\n",
       "  1261.81,1486.45 1261.81,1467.55 \n",
       "  \"/>\n",
       "<polyline clip-path=\"url(#clip690)\" style=\"stroke:#000000; stroke-linecap:round; stroke-linejoin:round; stroke-width:4; stroke-opacity:1; fill:none\" points=\"\n",
       "  1539.22,1486.45 1539.22,1467.55 \n",
       "  \"/>\n",
       "<polyline clip-path=\"url(#clip690)\" style=\"stroke:#000000; stroke-linecap:round; stroke-linejoin:round; stroke-width:4; stroke-opacity:1; fill:none\" points=\"\n",
       "  1816.63,1486.45 1816.63,1467.55 \n",
       "  \"/>\n",
       "<polyline clip-path=\"url(#clip690)\" style=\"stroke:#000000; stroke-linecap:round; stroke-linejoin:round; stroke-width:4; stroke-opacity:1; fill:none\" points=\"\n",
       "  2094.04,1486.45 2094.04,1467.55 \n",
       "  \"/>\n",
       "<path clip-path=\"url(#clip690)\" d=\"M399.039 1532.02 L428.715 1532.02 L428.715 1535.95 L399.039 1535.95 L399.039 1532.02 Z\" fill=\"#000000\" fill-rule=\"evenodd\" fill-opacity=\"1\" /><path clip-path=\"url(#clip690)\" d=\"M452.974 1530.21 Q456.331 1530.93 458.206 1533.2 Q460.104 1535.47 460.104 1538.8 Q460.104 1543.92 456.585 1546.72 Q453.067 1549.52 446.585 1549.52 Q444.409 1549.52 442.095 1549.08 Q439.803 1548.66 437.349 1547.81 L437.349 1543.29 Q439.294 1544.43 441.609 1545.01 Q443.923 1545.58 446.446 1545.58 Q450.845 1545.58 453.136 1543.85 Q455.451 1542.11 455.451 1538.8 Q455.451 1535.75 453.298 1534.03 Q451.169 1532.3 447.349 1532.3 L443.321 1532.3 L443.321 1528.45 L447.534 1528.45 Q450.983 1528.45 452.812 1527.09 Q454.641 1525.7 454.641 1523.11 Q454.641 1520.45 452.743 1519.03 Q450.868 1517.6 447.349 1517.6 Q445.428 1517.6 443.229 1518.01 Q441.03 1518.43 438.391 1519.31 L438.391 1515.14 Q441.053 1514.4 443.368 1514.03 Q445.706 1513.66 447.766 1513.66 Q453.09 1513.66 456.192 1516.09 Q459.294 1518.5 459.294 1522.62 Q459.294 1525.49 457.65 1527.48 Q456.007 1529.45 452.974 1530.21 Z\" fill=\"#000000\" fill-rule=\"evenodd\" fill-opacity=\"1\" /><path clip-path=\"url(#clip690)\" d=\"M676.926 1532.02 L706.601 1532.02 L706.601 1535.95 L676.926 1535.95 L676.926 1532.02 Z\" fill=\"#000000\" fill-rule=\"evenodd\" fill-opacity=\"1\" /><path clip-path=\"url(#clip690)\" d=\"M720.722 1544.91 L737.041 1544.91 L737.041 1548.85 L715.097 1548.85 L715.097 1544.91 Q717.759 1542.16 722.342 1537.53 Q726.948 1532.88 728.129 1531.53 Q730.374 1529.01 731.254 1527.27 Q732.157 1525.51 732.157 1523.82 Q732.157 1521.07 730.212 1519.33 Q728.291 1517.6 725.189 1517.6 Q722.99 1517.6 720.536 1518.36 Q718.106 1519.13 715.328 1520.68 L715.328 1515.95 Q718.152 1514.82 720.606 1514.24 Q723.06 1513.66 725.097 1513.66 Q730.467 1513.66 733.661 1516.35 Q736.856 1519.03 736.856 1523.52 Q736.856 1525.65 736.046 1527.57 Q735.259 1529.47 733.152 1532.07 Q732.573 1532.74 729.472 1535.95 Q726.37 1539.15 720.722 1544.91 Z\" fill=\"#000000\" fill-rule=\"evenodd\" fill-opacity=\"1\" /><path clip-path=\"url(#clip690)\" d=\"M954.152 1532.02 L983.828 1532.02 L983.828 1535.95 L954.152 1535.95 L954.152 1532.02 Z\" fill=\"#000000\" fill-rule=\"evenodd\" fill-opacity=\"1\" /><path clip-path=\"url(#clip690)\" d=\"M994.731 1544.91 L1002.37 1544.91 L1002.37 1518.55 L994.059 1520.21 L994.059 1515.95 L1002.32 1514.29 L1007 1514.29 L1007 1544.91 L1014.64 1544.91 L1014.64 1548.85 L994.731 1548.85 L994.731 1544.91 Z\" fill=\"#000000\" fill-rule=\"evenodd\" fill-opacity=\"1\" /><path clip-path=\"url(#clip690)\" d=\"M1261.81 1517.37 Q1258.2 1517.37 1256.37 1520.93 Q1254.56 1524.47 1254.56 1531.6 Q1254.56 1538.71 1256.37 1542.27 Q1258.2 1545.82 1261.81 1545.82 Q1265.44 1545.82 1267.25 1542.27 Q1269.08 1538.71 1269.08 1531.6 Q1269.08 1524.47 1267.25 1520.93 Q1265.44 1517.37 1261.81 1517.37 M1261.81 1513.66 Q1267.62 1513.66 1270.67 1518.27 Q1273.75 1522.85 1273.75 1531.6 Q1273.75 1540.33 1270.67 1544.94 Q1267.62 1549.52 1261.81 1549.52 Q1256 1549.52 1252.92 1544.94 Q1249.86 1540.33 1249.86 1531.6 Q1249.86 1522.85 1252.92 1518.27 Q1256 1513.66 1261.81 1513.66 Z\" fill=\"#000000\" fill-rule=\"evenodd\" fill-opacity=\"1\" /><path clip-path=\"url(#clip690)\" d=\"M1529.6 1544.91 L1537.24 1544.91 L1537.24 1518.55 L1528.93 1520.21 L1528.93 1515.95 L1537.19 1514.29 L1541.87 1514.29 L1541.87 1544.91 L1549.51 1544.91 L1549.51 1548.85 L1529.6 1548.85 L1529.6 1544.91 Z\" fill=\"#000000\" fill-rule=\"evenodd\" fill-opacity=\"1\" /><path clip-path=\"url(#clip690)\" d=\"M1811.28 1544.91 L1827.6 1544.91 L1827.6 1548.85 L1805.66 1548.85 L1805.66 1544.91 Q1808.32 1542.16 1812.9 1537.53 Q1817.51 1532.88 1818.69 1531.53 Q1820.94 1529.01 1821.82 1527.27 Q1822.72 1525.51 1822.72 1523.82 Q1822.72 1521.07 1820.77 1519.33 Q1818.85 1517.6 1815.75 1517.6 Q1813.55 1517.6 1811.1 1518.36 Q1808.67 1519.13 1805.89 1520.68 L1805.89 1515.95 Q1808.71 1514.82 1811.17 1514.24 Q1813.62 1513.66 1815.66 1513.66 Q1821.03 1513.66 1824.22 1516.35 Q1827.42 1519.03 1827.42 1523.52 Q1827.42 1525.65 1826.61 1527.57 Q1825.82 1529.47 1823.71 1532.07 Q1823.13 1532.74 1820.03 1535.95 Q1816.93 1539.15 1811.28 1544.91 Z\" fill=\"#000000\" fill-rule=\"evenodd\" fill-opacity=\"1\" /><path clip-path=\"url(#clip690)\" d=\"M2098.29 1530.21 Q2101.65 1530.93 2103.52 1533.2 Q2105.42 1535.47 2105.42 1538.8 Q2105.42 1543.92 2101.9 1546.72 Q2098.38 1549.52 2091.9 1549.52 Q2089.72 1549.52 2087.41 1549.08 Q2085.12 1548.66 2082.66 1547.81 L2082.66 1543.29 Q2084.61 1544.43 2086.92 1545.01 Q2089.24 1545.58 2091.76 1545.58 Q2096.16 1545.58 2098.45 1543.85 Q2100.77 1542.11 2100.77 1538.8 Q2100.77 1535.75 2098.61 1534.03 Q2096.48 1532.3 2092.66 1532.3 L2088.64 1532.3 L2088.64 1528.45 L2092.85 1528.45 Q2096.3 1528.45 2098.13 1527.09 Q2099.96 1525.7 2099.96 1523.11 Q2099.96 1520.45 2098.06 1519.03 Q2096.18 1517.6 2092.66 1517.6 Q2090.74 1517.6 2088.54 1518.01 Q2086.35 1518.43 2083.71 1519.31 L2083.71 1515.14 Q2086.37 1514.4 2088.68 1514.03 Q2091.02 1513.66 2093.08 1513.66 Q2098.41 1513.66 2101.51 1516.09 Q2104.61 1518.5 2104.61 1522.62 Q2104.61 1525.49 2102.97 1527.48 Q2101.32 1529.45 2098.29 1530.21 Z\" fill=\"#000000\" fill-rule=\"evenodd\" fill-opacity=\"1\" /><polyline clip-path=\"url(#clip692)\" style=\"stroke:#000000; stroke-linecap:round; stroke-linejoin:round; stroke-width:2; stroke-opacity:0.1; fill:none\" points=\"\n",
       "  170.857,1445.72 2352.76,1445.72 \n",
       "  \"/>\n",
       "<polyline clip-path=\"url(#clip692)\" style=\"stroke:#000000; stroke-linecap:round; stroke-linejoin:round; stroke-width:2; stroke-opacity:0.1; fill:none\" points=\"\n",
       "  170.857,1120.9 2352.76,1120.9 \n",
       "  \"/>\n",
       "<polyline clip-path=\"url(#clip692)\" style=\"stroke:#000000; stroke-linecap:round; stroke-linejoin:round; stroke-width:2; stroke-opacity:0.1; fill:none\" points=\"\n",
       "  170.857,796.08 2352.76,796.08 \n",
       "  \"/>\n",
       "<polyline clip-path=\"url(#clip692)\" style=\"stroke:#000000; stroke-linecap:round; stroke-linejoin:round; stroke-width:2; stroke-opacity:0.1; fill:none\" points=\"\n",
       "  170.857,471.262 2352.76,471.262 \n",
       "  \"/>\n",
       "<polyline clip-path=\"url(#clip692)\" style=\"stroke:#000000; stroke-linecap:round; stroke-linejoin:round; stroke-width:2; stroke-opacity:0.1; fill:none\" points=\"\n",
       "  170.857,146.444 2352.76,146.444 \n",
       "  \"/>\n",
       "<polyline clip-path=\"url(#clip690)\" style=\"stroke:#000000; stroke-linecap:round; stroke-linejoin:round; stroke-width:4; stroke-opacity:1; fill:none\" points=\"\n",
       "  170.857,1486.45 170.857,47.2441 \n",
       "  \"/>\n",
       "<polyline clip-path=\"url(#clip690)\" style=\"stroke:#000000; stroke-linecap:round; stroke-linejoin:round; stroke-width:4; stroke-opacity:1; fill:none\" points=\"\n",
       "  170.857,1445.72 189.755,1445.72 \n",
       "  \"/>\n",
       "<polyline clip-path=\"url(#clip690)\" style=\"stroke:#000000; stroke-linecap:round; stroke-linejoin:round; stroke-width:4; stroke-opacity:1; fill:none\" points=\"\n",
       "  170.857,1120.9 189.755,1120.9 \n",
       "  \"/>\n",
       "<polyline clip-path=\"url(#clip690)\" style=\"stroke:#000000; stroke-linecap:round; stroke-linejoin:round; stroke-width:4; stroke-opacity:1; fill:none\" points=\"\n",
       "  170.857,796.08 189.755,796.08 \n",
       "  \"/>\n",
       "<polyline clip-path=\"url(#clip690)\" style=\"stroke:#000000; stroke-linecap:round; stroke-linejoin:round; stroke-width:4; stroke-opacity:1; fill:none\" points=\"\n",
       "  170.857,471.262 189.755,471.262 \n",
       "  \"/>\n",
       "<polyline clip-path=\"url(#clip690)\" style=\"stroke:#000000; stroke-linecap:round; stroke-linejoin:round; stroke-width:4; stroke-opacity:1; fill:none\" points=\"\n",
       "  170.857,146.444 189.755,146.444 \n",
       "  \"/>\n",
       "<path clip-path=\"url(#clip690)\" d=\"M122.913 1431.51 Q119.302 1431.51 117.473 1435.08 Q115.668 1438.62 115.668 1445.75 Q115.668 1452.86 117.473 1456.42 Q119.302 1459.96 122.913 1459.96 Q126.547 1459.96 128.353 1456.42 Q130.182 1452.86 130.182 1445.75 Q130.182 1438.62 128.353 1435.08 Q126.547 1431.51 122.913 1431.51 M122.913 1427.81 Q128.723 1427.81 131.779 1432.42 Q134.857 1437 134.857 1445.75 Q134.857 1454.48 131.779 1459.08 Q128.723 1463.67 122.913 1463.67 Q117.103 1463.67 114.024 1459.08 Q110.969 1454.48 110.969 1445.75 Q110.969 1437 114.024 1432.42 Q117.103 1427.81 122.913 1427.81 Z\" fill=\"#000000\" fill-rule=\"evenodd\" fill-opacity=\"1\" /><path clip-path=\"url(#clip690)\" d=\"M82.7975 1103.62 L101.154 1103.62 L101.154 1107.55 L87.0799 1107.55 L87.0799 1116.02 Q88.0984 1115.68 89.1169 1115.52 Q90.1354 1115.33 91.1539 1115.33 Q96.941 1115.33 100.321 1118.5 Q103.7 1121.67 103.7 1127.09 Q103.7 1132.67 100.228 1135.77 Q96.7558 1138.85 90.4364 1138.85 Q88.2604 1138.85 85.9919 1138.48 Q83.7466 1138.11 81.3392 1137.37 L81.3392 1132.67 Q83.4225 1133.8 85.6447 1134.36 Q87.8669 1134.91 90.3438 1134.91 Q94.3484 1134.91 96.6863 1132.81 Q99.0243 1130.7 99.0243 1127.09 Q99.0243 1123.48 96.6863 1121.37 Q94.3484 1119.27 90.3438 1119.27 Q88.4688 1119.27 86.5938 1119.68 Q84.7419 1120.1 82.7975 1120.98 L82.7975 1103.62 Z\" fill=\"#000000\" fill-rule=\"evenodd\" fill-opacity=\"1\" /><path clip-path=\"url(#clip690)\" d=\"M122.913 1106.7 Q119.302 1106.7 117.473 1110.26 Q115.668 1113.8 115.668 1120.93 Q115.668 1128.04 117.473 1131.6 Q119.302 1135.15 122.913 1135.15 Q126.547 1135.15 128.353 1131.6 Q130.182 1128.04 130.182 1120.93 Q130.182 1113.8 128.353 1110.26 Q126.547 1106.7 122.913 1106.7 M122.913 1102.99 Q128.723 1102.99 131.779 1107.6 Q134.857 1112.18 134.857 1120.93 Q134.857 1129.66 131.779 1134.27 Q128.723 1138.85 122.913 1138.85 Q117.103 1138.85 114.024 1134.27 Q110.969 1129.66 110.969 1120.93 Q110.969 1112.18 114.024 1107.6 Q117.103 1102.99 122.913 1102.99 Z\" fill=\"#000000\" fill-rule=\"evenodd\" fill-opacity=\"1\" /><path clip-path=\"url(#clip690)\" d=\"M53.3995 809.424 L61.0384 809.424 L61.0384 783.059 L52.7282 784.726 L52.7282 780.466 L60.9921 778.8 L65.668 778.8 L65.668 809.424 L73.3068 809.424 L73.3068 813.36 L53.3995 813.36 L53.3995 809.424 Z\" fill=\"#000000\" fill-rule=\"evenodd\" fill-opacity=\"1\" /><path clip-path=\"url(#clip690)\" d=\"M92.7512 781.878 Q89.1401 781.878 87.3114 785.443 Q85.5058 788.985 85.5058 796.114 Q85.5058 803.221 87.3114 806.786 Q89.1401 810.327 92.7512 810.327 Q96.3854 810.327 98.1909 806.786 Q100.02 803.221 100.02 796.114 Q100.02 788.985 98.1909 785.443 Q96.3854 781.878 92.7512 781.878 M92.7512 778.175 Q98.5613 778.175 101.617 782.781 Q104.696 787.364 104.696 796.114 Q104.696 804.841 101.617 809.448 Q98.5613 814.031 92.7512 814.031 Q86.941 814.031 83.8623 809.448 Q80.8068 804.841 80.8068 796.114 Q80.8068 787.364 83.8623 782.781 Q86.941 778.175 92.7512 778.175 Z\" fill=\"#000000\" fill-rule=\"evenodd\" fill-opacity=\"1\" /><path clip-path=\"url(#clip690)\" d=\"M122.913 781.878 Q119.302 781.878 117.473 785.443 Q115.668 788.985 115.668 796.114 Q115.668 803.221 117.473 806.786 Q119.302 810.327 122.913 810.327 Q126.547 810.327 128.353 806.786 Q130.182 803.221 130.182 796.114 Q130.182 788.985 128.353 785.443 Q126.547 781.878 122.913 781.878 M122.913 778.175 Q128.723 778.175 131.779 782.781 Q134.857 787.364 134.857 796.114 Q134.857 804.841 131.779 809.448 Q128.723 814.031 122.913 814.031 Q117.103 814.031 114.024 809.448 Q110.969 804.841 110.969 796.114 Q110.969 787.364 114.024 782.781 Q117.103 778.175 122.913 778.175 Z\" fill=\"#000000\" fill-rule=\"evenodd\" fill-opacity=\"1\" /><path clip-path=\"url(#clip690)\" d=\"M53.3995 484.606 L61.0384 484.606 L61.0384 458.241 L52.7282 459.907 L52.7282 455.648 L60.9921 453.982 L65.668 453.982 L65.668 484.606 L73.3068 484.606 L73.3068 488.542 L53.3995 488.542 L53.3995 484.606 Z\" fill=\"#000000\" fill-rule=\"evenodd\" fill-opacity=\"1\" /><path clip-path=\"url(#clip690)\" d=\"M82.7975 453.982 L101.154 453.982 L101.154 457.917 L87.0799 457.917 L87.0799 466.389 Q88.0984 466.042 89.1169 465.88 Q90.1354 465.694 91.1539 465.694 Q96.941 465.694 100.321 468.866 Q103.7 472.037 103.7 477.454 Q103.7 483.032 100.228 486.134 Q96.7558 489.213 90.4364 489.213 Q88.2604 489.213 85.9919 488.842 Q83.7466 488.472 81.3392 487.731 L81.3392 483.032 Q83.4225 484.167 85.6447 484.722 Q87.8669 485.278 90.3438 485.278 Q94.3484 485.278 96.6863 483.171 Q99.0243 481.065 99.0243 477.454 Q99.0243 473.843 96.6863 471.736 Q94.3484 469.63 90.3438 469.63 Q88.4688 469.63 86.5938 470.046 Q84.7419 470.463 82.7975 471.343 L82.7975 453.982 Z\" fill=\"#000000\" fill-rule=\"evenodd\" fill-opacity=\"1\" /><path clip-path=\"url(#clip690)\" d=\"M122.913 457.06 Q119.302 457.06 117.473 460.625 Q115.668 464.167 115.668 471.296 Q115.668 478.403 117.473 481.968 Q119.302 485.509 122.913 485.509 Q126.547 485.509 128.353 481.968 Q130.182 478.403 130.182 471.296 Q130.182 464.167 128.353 460.625 Q126.547 457.06 122.913 457.06 M122.913 453.357 Q128.723 453.357 131.779 457.963 Q134.857 462.546 134.857 471.296 Q134.857 480.023 131.779 484.63 Q128.723 489.213 122.913 489.213 Q117.103 489.213 114.024 484.63 Q110.969 480.023 110.969 471.296 Q110.969 462.546 114.024 457.963 Q117.103 453.357 122.913 453.357 Z\" fill=\"#000000\" fill-rule=\"evenodd\" fill-opacity=\"1\" /><path clip-path=\"url(#clip690)\" d=\"M56.6171 159.788 L72.9365 159.788 L72.9365 163.724 L50.9921 163.724 L50.9921 159.788 Q53.6541 157.034 58.2375 152.404 Q62.8439 147.751 64.0245 146.409 Q66.2698 143.886 67.1494 142.15 Q68.0522 140.39 68.0522 138.701 Q68.0522 135.946 66.1078 134.21 Q64.1865 132.474 61.0847 132.474 Q58.8856 132.474 56.4319 133.238 Q54.0014 134.001 51.2236 135.552 L51.2236 130.83 Q54.0477 129.696 56.5014 129.117 Q58.955 128.539 60.9921 128.539 Q66.3624 128.539 69.5568 131.224 Q72.7513 133.909 72.7513 138.4 Q72.7513 140.529 71.9411 142.45 Q71.1541 144.349 69.0476 146.941 Q68.4689 147.612 65.367 150.83 Q62.2652 154.025 56.6171 159.788 Z\" fill=\"#000000\" fill-rule=\"evenodd\" fill-opacity=\"1\" /><path clip-path=\"url(#clip690)\" d=\"M92.7512 132.242 Q89.1401 132.242 87.3114 135.807 Q85.5058 139.349 85.5058 146.478 Q85.5058 153.585 87.3114 157.149 Q89.1401 160.691 92.7512 160.691 Q96.3854 160.691 98.1909 157.149 Q100.02 153.585 100.02 146.478 Q100.02 139.349 98.1909 135.807 Q96.3854 132.242 92.7512 132.242 M92.7512 128.539 Q98.5613 128.539 101.617 133.145 Q104.696 137.728 104.696 146.478 Q104.696 155.205 101.617 159.812 Q98.5613 164.395 92.7512 164.395 Q86.941 164.395 83.8623 159.812 Q80.8068 155.205 80.8068 146.478 Q80.8068 137.728 83.8623 133.145 Q86.941 128.539 92.7512 128.539 Z\" fill=\"#000000\" fill-rule=\"evenodd\" fill-opacity=\"1\" /><path clip-path=\"url(#clip690)\" d=\"M122.913 132.242 Q119.302 132.242 117.473 135.807 Q115.668 139.349 115.668 146.478 Q115.668 153.585 117.473 157.149 Q119.302 160.691 122.913 160.691 Q126.547 160.691 128.353 157.149 Q130.182 153.585 130.182 146.478 Q130.182 139.349 128.353 135.807 Q126.547 132.242 122.913 132.242 M122.913 128.539 Q128.723 128.539 131.779 133.145 Q134.857 137.728 134.857 146.478 Q134.857 155.205 131.779 159.812 Q128.723 164.395 122.913 164.395 Q117.103 164.395 114.024 159.812 Q110.969 155.205 110.969 146.478 Q110.969 137.728 114.024 133.145 Q117.103 128.539 122.913 128.539 Z\" fill=\"#000000\" fill-rule=\"evenodd\" fill-opacity=\"1\" /><path clip-path=\"url(#clip692)\" d=\"\n",
       "M290.866 1413.23 L290.866 1445.72 L429.572 1445.72 L429.572 1413.23 L290.866 1413.23 L290.866 1413.23  Z\n",
       "  \" fill=\"#009af9\" fill-rule=\"evenodd\" fill-opacity=\"1\"/>\n",
       "<polyline clip-path=\"url(#clip692)\" style=\"stroke:#000000; stroke-linecap:round; stroke-linejoin:round; stroke-width:4; stroke-opacity:1; fill:none\" points=\"\n",
       "  290.866,1413.23 290.866,1445.72 429.572,1445.72 429.572,1413.23 290.866,1413.23 \n",
       "  \"/>\n",
       "<path clip-path=\"url(#clip692)\" d=\"\n",
       "M429.572 1426.23 L429.572 1445.72 L568.277 1445.72 L568.277 1426.23 L429.572 1426.23 L429.572 1426.23  Z\n",
       "  \" fill=\"#009af9\" fill-rule=\"evenodd\" fill-opacity=\"1\"/>\n",
       "<polyline clip-path=\"url(#clip692)\" style=\"stroke:#000000; stroke-linecap:round; stroke-linejoin:round; stroke-width:4; stroke-opacity:1; fill:none\" points=\"\n",
       "  429.572,1426.23 429.572,1445.72 568.277,1445.72 568.277,1426.23 429.572,1426.23 \n",
       "  \"/>\n",
       "<path clip-path=\"url(#clip692)\" d=\"\n",
       "M568.277 1374.26 L568.277 1445.72 L706.983 1445.72 L706.983 1374.26 L568.277 1374.26 L568.277 1374.26  Z\n",
       "  \" fill=\"#009af9\" fill-rule=\"evenodd\" fill-opacity=\"1\"/>\n",
       "<polyline clip-path=\"url(#clip692)\" style=\"stroke:#000000; stroke-linecap:round; stroke-linejoin:round; stroke-width:4; stroke-opacity:1; fill:none\" points=\"\n",
       "  568.277,1374.26 568.277,1445.72 706.983,1445.72 706.983,1374.26 568.277,1374.26 \n",
       "  \"/>\n",
       "<path clip-path=\"url(#clip692)\" d=\"\n",
       "M706.983 1133.89 L706.983 1445.72 L845.689 1445.72 L845.689 1133.89 L706.983 1133.89 L706.983 1133.89  Z\n",
       "  \" fill=\"#009af9\" fill-rule=\"evenodd\" fill-opacity=\"1\"/>\n",
       "<polyline clip-path=\"url(#clip692)\" style=\"stroke:#000000; stroke-linecap:round; stroke-linejoin:round; stroke-width:4; stroke-opacity:1; fill:none\" points=\"\n",
       "  706.983,1133.89 706.983,1445.72 845.689,1445.72 845.689,1133.89 706.983,1133.89 \n",
       "  \"/>\n",
       "<path clip-path=\"url(#clip692)\" d=\"\n",
       "M845.689 828.561 L845.689 1445.72 L984.395 1445.72 L984.395 828.561 L845.689 828.561 L845.689 828.561  Z\n",
       "  \" fill=\"#009af9\" fill-rule=\"evenodd\" fill-opacity=\"1\"/>\n",
       "<polyline clip-path=\"url(#clip692)\" style=\"stroke:#000000; stroke-linecap:round; stroke-linejoin:round; stroke-width:4; stroke-opacity:1; fill:none\" points=\"\n",
       "  845.689,828.561 845.689,1445.72 984.395,1445.72 984.395,828.561 845.689,828.561 \n",
       "  \"/>\n",
       "<path clip-path=\"url(#clip692)\" d=\"\n",
       "M984.395 490.751 L984.395 1445.72 L1123.1 1445.72 L1123.1 490.751 L984.395 490.751 L984.395 490.751  Z\n",
       "  \" fill=\"#009af9\" fill-rule=\"evenodd\" fill-opacity=\"1\"/>\n",
       "<polyline clip-path=\"url(#clip692)\" style=\"stroke:#000000; stroke-linecap:round; stroke-linejoin:round; stroke-width:4; stroke-opacity:1; fill:none\" points=\"\n",
       "  984.395,490.751 984.395,1445.72 1123.1,1445.72 1123.1,490.751 984.395,490.751 \n",
       "  \"/>\n",
       "<path clip-path=\"url(#clip692)\" d=\"\n",
       "M1123.1 87.9763 L1123.1 1445.72 L1261.81 1445.72 L1261.81 87.9763 L1123.1 87.9763 L1123.1 87.9763  Z\n",
       "  \" fill=\"#009af9\" fill-rule=\"evenodd\" fill-opacity=\"1\"/>\n",
       "<polyline clip-path=\"url(#clip692)\" style=\"stroke:#000000; stroke-linecap:round; stroke-linejoin:round; stroke-width:4; stroke-opacity:1; fill:none\" points=\"\n",
       "  1123.1,87.9763 1123.1,1445.72 1261.81,1445.72 1261.81,87.9763 1123.1,87.9763 \n",
       "  \"/>\n",
       "<path clip-path=\"url(#clip692)\" d=\"\n",
       "M1261.81 243.889 L1261.81 1445.72 L1400.51 1445.72 L1400.51 243.889 L1261.81 243.889 L1261.81 243.889  Z\n",
       "  \" fill=\"#009af9\" fill-rule=\"evenodd\" fill-opacity=\"1\"/>\n",
       "<polyline clip-path=\"url(#clip692)\" style=\"stroke:#000000; stroke-linecap:round; stroke-linejoin:round; stroke-width:4; stroke-opacity:1; fill:none\" points=\"\n",
       "  1261.81,243.889 1261.81,1445.72 1400.51,1445.72 1400.51,243.889 1261.81,243.889 \n",
       "  \"/>\n",
       "<path clip-path=\"url(#clip692)\" d=\"\n",
       "M1400.51 477.758 L1400.51 1445.72 L1539.22 1445.72 L1539.22 477.758 L1400.51 477.758 L1400.51 477.758  Z\n",
       "  \" fill=\"#009af9\" fill-rule=\"evenodd\" fill-opacity=\"1\"/>\n",
       "<polyline clip-path=\"url(#clip692)\" style=\"stroke:#000000; stroke-linecap:round; stroke-linejoin:round; stroke-width:4; stroke-opacity:1; fill:none\" points=\"\n",
       "  1400.51,477.758 1400.51,1445.72 1539.22,1445.72 1539.22,477.758 1400.51,477.758 \n",
       "  \"/>\n",
       "<path clip-path=\"url(#clip692)\" d=\"\n",
       "M1539.22 874.036 L1539.22 1445.72 L1677.92 1445.72 L1677.92 874.036 L1539.22 874.036 L1539.22 874.036  Z\n",
       "  \" fill=\"#009af9\" fill-rule=\"evenodd\" fill-opacity=\"1\"/>\n",
       "<polyline clip-path=\"url(#clip692)\" style=\"stroke:#000000; stroke-linecap:round; stroke-linejoin:round; stroke-width:4; stroke-opacity:1; fill:none\" points=\"\n",
       "  1539.22,874.036 1539.22,1445.72 1677.92,1445.72 1677.92,874.036 1539.22,874.036 \n",
       "  \"/>\n",
       "<path clip-path=\"url(#clip692)\" d=\"\n",
       "M1677.92 1250.82 L1677.92 1445.72 L1816.63 1445.72 L1816.63 1250.82 L1677.92 1250.82 L1677.92 1250.82  Z\n",
       "  \" fill=\"#009af9\" fill-rule=\"evenodd\" fill-opacity=\"1\"/>\n",
       "<polyline clip-path=\"url(#clip692)\" style=\"stroke:#000000; stroke-linecap:round; stroke-linejoin:round; stroke-width:4; stroke-opacity:1; fill:none\" points=\"\n",
       "  1677.92,1250.82 1677.92,1445.72 1816.63,1445.72 1816.63,1250.82 1677.92,1250.82 \n",
       "  \"/>\n",
       "<path clip-path=\"url(#clip692)\" d=\"\n",
       "M1816.63 1315.79 L1816.63 1445.72 L1955.34 1445.72 L1955.34 1315.79 L1816.63 1315.79 L1816.63 1315.79  Z\n",
       "  \" fill=\"#009af9\" fill-rule=\"evenodd\" fill-opacity=\"1\"/>\n",
       "<polyline clip-path=\"url(#clip692)\" style=\"stroke:#000000; stroke-linecap:round; stroke-linejoin:round; stroke-width:4; stroke-opacity:1; fill:none\" points=\"\n",
       "  1816.63,1315.79 1816.63,1445.72 1955.34,1445.72 1955.34,1315.79 1816.63,1315.79 \n",
       "  \"/>\n",
       "<path clip-path=\"url(#clip692)\" d=\"\n",
       "M1955.34 1393.74 L1955.34 1445.72 L2094.04 1445.72 L2094.04 1393.74 L1955.34 1393.74 L1955.34 1393.74  Z\n",
       "  \" fill=\"#009af9\" fill-rule=\"evenodd\" fill-opacity=\"1\"/>\n",
       "<polyline clip-path=\"url(#clip692)\" style=\"stroke:#000000; stroke-linecap:round; stroke-linejoin:round; stroke-width:4; stroke-opacity:1; fill:none\" points=\"\n",
       "  1955.34,1393.74 1955.34,1445.72 2094.04,1445.72 2094.04,1393.74 1955.34,1393.74 \n",
       "  \"/>\n",
       "<path clip-path=\"url(#clip692)\" d=\"\n",
       "M2094.04 1432.72 L2094.04 1445.72 L2232.75 1445.72 L2232.75 1432.72 L2094.04 1432.72 L2094.04 1432.72  Z\n",
       "  \" fill=\"#009af9\" fill-rule=\"evenodd\" fill-opacity=\"1\"/>\n",
       "<polyline clip-path=\"url(#clip692)\" style=\"stroke:#000000; stroke-linecap:round; stroke-linejoin:round; stroke-width:4; stroke-opacity:1; fill:none\" points=\"\n",
       "  2094.04,1432.72 2094.04,1445.72 2232.75,1445.72 2232.75,1432.72 2094.04,1432.72 \n",
       "  \"/>\n",
       "<circle clip-path=\"url(#clip692)\" style=\"fill:#009af9; stroke:none; fill-opacity:0\" cx=\"360.219\" cy=\"1413.23\" r=\"2\"/>\n",
       "<circle clip-path=\"url(#clip692)\" style=\"fill:#009af9; stroke:none; fill-opacity:0\" cx=\"498.924\" cy=\"1426.23\" r=\"2\"/>\n",
       "<circle clip-path=\"url(#clip692)\" style=\"fill:#009af9; stroke:none; fill-opacity:0\" cx=\"637.63\" cy=\"1374.26\" r=\"2\"/>\n",
       "<circle clip-path=\"url(#clip692)\" style=\"fill:#009af9; stroke:none; fill-opacity:0\" cx=\"776.336\" cy=\"1133.89\" r=\"2\"/>\n",
       "<circle clip-path=\"url(#clip692)\" style=\"fill:#009af9; stroke:none; fill-opacity:0\" cx=\"915.042\" cy=\"828.561\" r=\"2\"/>\n",
       "<circle clip-path=\"url(#clip692)\" style=\"fill:#009af9; stroke:none; fill-opacity:0\" cx=\"1053.75\" cy=\"490.751\" r=\"2\"/>\n",
       "<circle clip-path=\"url(#clip692)\" style=\"fill:#009af9; stroke:none; fill-opacity:0\" cx=\"1192.45\" cy=\"87.9763\" r=\"2\"/>\n",
       "<circle clip-path=\"url(#clip692)\" style=\"fill:#009af9; stroke:none; fill-opacity:0\" cx=\"1331.16\" cy=\"243.889\" r=\"2\"/>\n",
       "<circle clip-path=\"url(#clip692)\" style=\"fill:#009af9; stroke:none; fill-opacity:0\" cx=\"1469.87\" cy=\"477.758\" r=\"2\"/>\n",
       "<circle clip-path=\"url(#clip692)\" style=\"fill:#009af9; stroke:none; fill-opacity:0\" cx=\"1608.57\" cy=\"874.036\" r=\"2\"/>\n",
       "<circle clip-path=\"url(#clip692)\" style=\"fill:#009af9; stroke:none; fill-opacity:0\" cx=\"1747.28\" cy=\"1250.82\" r=\"2\"/>\n",
       "<circle clip-path=\"url(#clip692)\" style=\"fill:#009af9; stroke:none; fill-opacity:0\" cx=\"1885.98\" cy=\"1315.79\" r=\"2\"/>\n",
       "<circle clip-path=\"url(#clip692)\" style=\"fill:#009af9; stroke:none; fill-opacity:0\" cx=\"2024.69\" cy=\"1393.74\" r=\"2\"/>\n",
       "<circle clip-path=\"url(#clip692)\" style=\"fill:#009af9; stroke:none; fill-opacity:0\" cx=\"2163.39\" cy=\"1432.72\" r=\"2\"/>\n",
       "<path clip-path=\"url(#clip690)\" d=\"\n",
       "M1985.16 198.898 L2280.03 198.898 L2280.03 95.2176 L1985.16 95.2176  Z\n",
       "  \" fill=\"#ffffff\" fill-rule=\"evenodd\" fill-opacity=\"1\"/>\n",
       "<polyline clip-path=\"url(#clip690)\" style=\"stroke:#000000; stroke-linecap:round; stroke-linejoin:round; stroke-width:4; stroke-opacity:1; fill:none\" points=\"\n",
       "  1985.16,198.898 2280.03,198.898 2280.03,95.2176 1985.16,95.2176 1985.16,198.898 \n",
       "  \"/>\n",
       "<path clip-path=\"url(#clip690)\" d=\"\n",
       "M2009.41 167.794 L2154.87 167.794 L2154.87 126.322 L2009.41 126.322 L2009.41 167.794  Z\n",
       "  \" fill=\"#009af9\" fill-rule=\"evenodd\" fill-opacity=\"1\"/>\n",
       "<polyline clip-path=\"url(#clip690)\" style=\"stroke:#000000; stroke-linecap:round; stroke-linejoin:round; stroke-width:4; stroke-opacity:1; fill:none\" points=\"\n",
       "  2009.41,167.794 2154.87,167.794 2154.87,126.322 2009.41,126.322 2009.41,167.794 \n",
       "  \"/>\n",
       "<path clip-path=\"url(#clip690)\" d=\"M2192.95 166.745 Q2191.15 171.375 2189.43 172.787 Q2187.72 174.199 2184.85 174.199 L2181.45 174.199 L2181.45 170.634 L2183.95 170.634 Q2185.71 170.634 2186.68 169.8 Q2187.65 168.967 2188.83 165.865 L2189.6 163.921 L2179.11 138.412 L2183.62 138.412 L2191.72 158.689 L2199.83 138.412 L2204.34 138.412 L2192.95 166.745 Z\" fill=\"#000000\" fill-rule=\"evenodd\" fill-opacity=\"1\" /><path clip-path=\"url(#clip690)\" d=\"M2211.63 160.402 L2219.27 160.402 L2219.27 134.037 L2210.96 135.703 L2210.96 131.444 L2219.22 129.778 L2223.9 129.778 L2223.9 160.402 L2231.54 160.402 L2231.54 164.338 L2211.63 164.338 L2211.63 160.402 Z\" fill=\"#000000\" fill-rule=\"evenodd\" fill-opacity=\"1\" /></svg>\n"
      ]
     },
     "execution_count": 12,
     "metadata": {},
     "output_type": "execute_result"
    }
   ],
   "source": [
    "using Plots\n",
    "\n",
    "tmp = randn(1000)\n",
    "\n",
    "histogram(tmp)"
   ]
  },
  {
   "cell_type": "markdown",
   "id": "29d83f84-2c18-4a84-8043-e1ccf1ca3076",
   "metadata": {},
   "source": [
    "### 1.2.3 seed!"
   ]
  },
  {
   "cell_type": "markdown",
   "id": "a2a134a7-b591-4fc3-b1d9-dbfb3b961cb9",
   "metadata": {},
   "source": [
    "* 재현가능성(reproducibility) 확보를 위해 난수의 복원 추출이 가능토록 의사 난수의 시드를 정하는 함수 (same random sequence of numbers)\n",
    "\n",
    "* seed!를 정하지 않으면 같은 함수라도 결과가 계속 다르게 나옴"
   ]
  },
  {
   "cell_type": "code",
   "execution_count": 13,
   "id": "f0dd06d0-a784-42e1-a5ab-1ae677f53585",
   "metadata": {},
   "outputs": [
    {
     "data": {
      "text/plain": [
       "3-element Vector{Float64}:\n",
       " 0.2938625731712369\n",
       " 0.47013430858461736\n",
       " 0.5583477482138918"
      ]
     },
     "execution_count": 13,
     "metadata": {},
     "output_type": "execute_result"
    }
   ],
   "source": [
    "rand(3)"
   ]
  },
  {
   "cell_type": "code",
   "execution_count": 14,
   "id": "85f1041a-be7f-426d-8554-056989e06c24",
   "metadata": {},
   "outputs": [
    {
     "data": {
      "text/plain": [
       "3-element Vector{Float64}:\n",
       " 0.9144279039286776\n",
       " 0.4248941136638864\n",
       " 0.849535570537261"
      ]
     },
     "execution_count": 14,
     "metadata": {},
     "output_type": "execute_result"
    }
   ],
   "source": [
    "rand(3)"
   ]
  },
  {
   "cell_type": "code",
   "execution_count": 15,
   "id": "6faa7790-cfe6-4d9e-ba79-3c36a36850e2",
   "metadata": {},
   "outputs": [
    {
     "data": {
      "text/plain": [
       "3-element Vector{Float64}:\n",
       " 0.8983042061791389\n",
       " 0.26906278394313965\n",
       " 0.888369202175775"
      ]
     },
     "execution_count": 15,
     "metadata": {},
     "output_type": "execute_result"
    }
   ],
   "source": [
    "rand(3)"
   ]
  },
  {
   "cell_type": "code",
   "execution_count": 16,
   "id": "5af2983e-4c57-4f28-9ff1-0194810763a4",
   "metadata": {},
   "outputs": [
    {
     "data": {
      "text/plain": [
       "3-element Vector{Float64}:\n",
       " 0.521213795535383\n",
       " 0.5868067574533484\n",
       " 0.8908786980927811"
      ]
     },
     "execution_count": 16,
     "metadata": {},
     "output_type": "execute_result"
    }
   ],
   "source": [
    "seed!(123)\n",
    "rand(3)"
   ]
  },
  {
   "cell_type": "code",
   "execution_count": 17,
   "id": "530ddf63-a481-4517-8e64-f7e5b4eb2434",
   "metadata": {},
   "outputs": [
    {
     "data": {
      "text/plain": [
       "3-element Vector{Float64}:\n",
       " 0.521213795535383\n",
       " 0.5868067574533484\n",
       " 0.8908786980927811"
      ]
     },
     "execution_count": 17,
     "metadata": {},
     "output_type": "execute_result"
    }
   ],
   "source": [
    "seed!(123)\n",
    "rand(3)"
   ]
  },
  {
   "cell_type": "markdown",
   "id": "9101c98f-df24-4ff0-be6a-5ba01201702f",
   "metadata": {},
   "source": [
    "* 난수 생성을 이용한 6자리 숫자 뽑기"
   ]
  },
  {
   "cell_type": "code",
   "execution_count": 18,
   "id": "d1f95999-b309-4134-b51a-292276ecc5ff",
   "metadata": {},
   "outputs": [
    {
     "name": "stdout",
     "output_type": "stream",
     "text": [
      "First sampling : [9, 24, 18, 3, 43, 27]\n",
      "Second sampling : [15, 24, 38, 2, 21, 17]\n",
      "Third sampling : [5, 33, 26, 30, 14, 13]\n"
     ]
    }
   ],
   "source": [
    "println(\"First sampling : \", rand((1:45), 6))\n",
    "println(\"Second sampling : \", rand((1:45), 6))\n",
    "println(\"Third sampling : \", rand((1:45), 6))"
   ]
  },
  {
   "cell_type": "code",
   "execution_count": 19,
   "id": "a8859284-82ed-47af-97d9-29b40d107a10",
   "metadata": {},
   "outputs": [
    {
     "name": "stdout",
     "output_type": "stream",
     "text": [
      "First sampling : [24, 27, 41, 9, 24, 18]\n",
      "Second sampling : [24, 27, 41, 9, 24, 18]\n",
      "Third sampling : [24, 27, 41, 9, 24, 18]\n"
     ]
    }
   ],
   "source": [
    "println(\"First sampling : \", rand(seed!(123), (1:45), 6))\n",
    "println(\"Second sampling : \", rand(seed!(123), (1:45), 6))\n",
    "println(\"Third sampling : \", rand(seed!(123), (1:45), 6))"
   ]
  },
  {
   "cell_type": "markdown",
   "id": "62f6e2dc-1045-436d-a95c-b9e6ba732cc0",
   "metadata": {},
   "source": [
    "* 1부터 100까지 시드 번호를 이용하여 난수 출력"
   ]
  },
  {
   "cell_type": "code",
   "execution_count": 20,
   "id": "97bdbd2f-7221-4e0b-abed-a6a6602c4575",
   "metadata": {},
   "outputs": [
    {
     "name": "stdout",
     "output_type": "stream",
     "text": [
      "[4, 9, 16, 29, 32, 42]\n",
      "[1, 11, 31, 34, 37, 40]\n",
      "[5, 16, 23, 32, 44, 45]\n",
      "[15, 19, 23, 31, 39, 42]\n",
      "[1, 17, 19, 25, 42, 44]\n",
      "[1, 4, 5, 8, 26, 38]\n",
      "[3, 11, 21, 33, 37, 43]\n",
      "[2, 12, 13, 14, 19, 35]\n",
      "[2, 2, 15, 17, 20, 44]\n",
      "[4, 8, 9, 14, 21, 25]\n",
      "[1, 27, 32, 33, 39, 39]\n",
      "[9, 15, 18, 25, 43, 43]\n",
      "[5, 7, 27, 31, 40, 43]\n",
      "[15, 17, 24, 33, 37, 39]\n",
      "[7, 8, 15, 29, 33, 34]\n",
      "[4, 13, 13, 24, 30, 44]\n",
      "[17, 24, 31, 31, 39, 43]\n",
      "[2, 4, 6, 15, 39, 43]\n",
      "[11, 34, 34, 36, 44, 45]\n",
      "[13, 15, 31, 33, 36, 37]\n",
      "[3, 6, 14, 22, 33, 33]\n",
      "[1, 7, 16, 29, 32, 33]\n",
      "[7, 26, 28, 32, 39, 42]\n",
      "[2, 7, 12, 22, 36, 39]\n",
      "[9, 9, 13, 20, 21, 40]\n",
      "[1, 26, 28, 28, 33, 44]\n",
      "[5, 7, 8, 9, 35, 39]\n",
      "[10, 12, 34, 41, 43, 44]\n",
      "[4, 11, 12, 20, 20, 39]\n",
      "[17, 31, 35, 37, 38, 45]\n",
      "[14, 22, 25, 31, 34, 40]\n",
      "[7, 8, 19, 38, 39, 39]\n",
      "[15, 22, 37, 42, 44, 44]\n",
      "[3, 24, 24, 30, 31, 36]\n",
      "[6, 12, 16, 27, 29, 33]\n",
      "[10, 22, 27, 33, 35, 41]\n",
      "[16, 16, 29, 37, 40, 43]\n",
      "[1, 6, 11, 27, 39, 42]\n",
      "[5, 30, 32, 33, 40, 42]\n",
      "[7, 19, 23, 31, 34, 45]\n",
      "[2, 18, 20, 30, 36, 43]\n",
      "[8, 21, 22, 29, 31, 32]\n",
      "[8, 18, 20, 24, 24, 45]\n",
      "[4, 4, 12, 14, 24, 33]\n",
      "[2, 3, 8, 35, 41, 45]\n",
      "[8, 9, 26, 26, 40, 43]\n",
      "[2, 5, 13, 19, 20, 27]\n",
      "[6, 6, 7, 30, 31, 39]\n",
      "[17, 19, 23, 25, 41, 45]\n",
      "[2, 8, 13, 13, 19, 19]\n",
      "[15, 22, 30, 36, 44, 45]\n",
      "[2, 4, 8, 14, 24, 40]\n",
      "[6, 12, 16, 30, 36, 44]\n",
      "[8, 8, 14, 18, 35, 39]\n",
      "[11, 20, 23, 42, 44, 45]\n",
      "[1, 20, 32, 38, 40, 41]\n",
      "[1, 3, 13, 23, 34, 37]\n",
      "[4, 10, 20, 33, 39, 45]\n",
      "[6, 11, 28, 33, 34, 43]\n",
      "[7, 18, 30, 31, 38, 39]\n",
      "[5, 13, 18, 21, 26, 38]\n",
      "[15, 31, 31, 34, 37, 39]\n",
      "[9, 11, 15, 16, 28, 35]\n",
      "[16, 16, 16, 20, 31, 33]\n",
      "[4, 13, 14, 19, 23, 35]\n",
      "[2, 23, 30, 36, 38, 40]\n",
      "[7, 12, 22, 30, 43, 44]\n",
      "[2, 5, 12, 18, 42, 45]\n",
      "[4, 5, 5, 9, 23, 37]\n",
      "[15, 17, 30, 37, 39, 40]\n",
      "[14, 17, 25, 25, 28, 45]\n",
      "[9, 10, 22, 23, 25, 34]\n",
      "[3, 12, 29, 37, 39, 41]\n",
      "[3, 15, 30, 37, 37, 42]\n",
      "[7, 11, 14, 18, 19, 38]\n",
      "[2, 16, 20, 24, 28, 31]\n",
      "[7, 13, 13, 28, 30, 32]\n",
      "[7, 8, 18, 22, 39, 42]\n",
      "[11, 14, 15, 15, 27, 36]\n",
      "[3, 19, 24, 29, 36, 39]\n",
      "[5, 11, 12, 13, 30, 41]\n",
      "[3, 5, 12, 16, 19, 38]\n",
      "[12, 19, 26, 33, 36, 42]\n",
      "[6, 8, 25, 25, 25, 34]\n",
      "[8, 16, 21, 25, 41, 44]\n",
      "[1, 3, 10, 24, 24, 33]\n",
      "[3, 3, 6, 11, 30, 41]\n",
      "[3, 7, 8, 19, 22, 45]\n",
      "[10, 10, 12, 16, 35, 36]\n",
      "[12, 22, 25, 30, 33, 40]\n",
      "[11, 17, 24, 25, 29, 32]\n",
      "[1, 3, 25, 26, 33, 37]\n",
      "[1, 11, 17, 19, 26, 26]\n",
      "[22, 24, 32, 33, 38, 41]\n",
      "[3, 18, 18, 35, 40, 41]\n",
      "[9, 13, 16, 16, 17, 17]\n",
      "[18, 28, 30, 34, 38, 44]\n",
      "[4, 11, 38, 39, 41, 43]\n",
      "[2, 7, 11, 22, 42, 45]\n",
      "[2, 6, 8, 13, 27, 41]\n"
     ]
    }
   ],
   "source": [
    "for i in 1:100\n",
    "    println(sort!(rand(seed!(i), (1:45), 6)))\n",
    "end"
   ]
  },
  {
   "cell_type": "markdown",
   "id": "173dd7f9-25c5-4b1b-a9a5-3bf359a1275f",
   "metadata": {},
   "source": [
    "* 그렇다면 1부터 $10^8$까지의 자연수를 시드번호로 놓고 난수를 생성한다면 그 분포는 어떻게 될까?"
   ]
  },
  {
   "cell_type": "code",
   "execution_count": 21,
   "id": "c39978ad-e400-492e-b826-2ce95360f206",
   "metadata": {},
   "outputs": [
    {
     "data": {
      "text/plain": [
       "521.3333333333334"
      ]
     },
     "execution_count": 21,
     "metadata": {},
     "output_type": "execute_result"
    }
   ],
   "source": [
    "# MSE 측정하는 코드 생성\n",
    "\n",
    "using Metrics\n",
    "\n",
    "input = [1, 2, 3, 4, 5, 6]\n",
    "\n",
    "mse(rand(seed!(123), (1:45), 6), input)"
   ]
  },
  {
   "cell_type": "code",
   "execution_count": 22,
   "id": "171edb39-517b-40fe-92ef-2de07666fd51",
   "metadata": {},
   "outputs": [],
   "source": [
    "# 전화번호 8자리의 경우의 수를 이용하여 난수 생성\n",
    "using Random: seed!\n",
    "using StatsBase\n",
    "using Metrics\n",
    "\n",
    "tmp = [1.0:1:1e+8;]\n",
    "input = [1, 2, 3, 4, 5, 6]\n",
    "sample_mean = tmp = [1.0:1:1e+8;]\n",
    "\n",
    "for i in 1:floor(Int, 1e+8)\n",
    "    tmp[i] = mse(sort!(rand(seed!(i), (1:45), 6)), input)\n",
    "    sample_mean[i] = mean(rand(seed!(i), (1:45), 6))\n",
    "end"
   ]
  },
  {
   "cell_type": "code",
   "execution_count": 23,
   "id": "99a62d33-5130-4040-b0eb-71249d6d8f11",
   "metadata": {},
   "outputs": [
    {
     "data": {
      "text/plain": [
       "100000000-element Vector{Float64}:\n",
       " 22.0\n",
       " 25.666666666666668\n",
       " 27.5\n",
       " 28.166666666666668\n",
       " 24.666666666666668\n",
       " 13.666666666666666\n",
       " 24.666666666666668\n",
       " 15.833333333333334\n",
       " 16.666666666666668\n",
       " 13.5\n",
       " 28.5\n",
       " 25.5\n",
       " 25.5\n",
       "  ⋮\n",
       " 19.833333333333332\n",
       " 23.0\n",
       " 22.833333333333332\n",
       " 30.833333333333332\n",
       " 16.166666666666668\n",
       " 13.333333333333334\n",
       " 15.666666666666666\n",
       " 19.666666666666668\n",
       " 20.166666666666668\n",
       " 21.333333333333332\n",
       " 32.666666666666664\n",
       " 25.166666666666668"
      ]
     },
     "execution_count": 23,
     "metadata": {},
     "output_type": "execute_result"
    }
   ],
   "source": [
    "sample_mean"
   ]
  },
  {
   "cell_type": "code",
   "execution_count": 24,
   "id": "6af47089-ff97-4a43-a258-3c063b4da3d7",
   "metadata": {},
   "outputs": [
    {
     "data": {
      "image/svg+xml": [
       "<?xml version=\"1.0\" encoding=\"utf-8\"?>\n",
       "<svg xmlns=\"http://www.w3.org/2000/svg\" xmlns:xlink=\"http://www.w3.org/1999/xlink\" width=\"600\" height=\"400\" viewBox=\"0 0 2400 1600\">\n",
       "<defs>\n",
       "  <clipPath id=\"clip730\">\n",
       "    <rect x=\"0\" y=\"0\" width=\"2400\" height=\"1600\"/>\n",
       "  </clipPath>\n",
       "</defs>\n",
       "<path clip-path=\"url(#clip730)\" d=\"\n",
       "M0 1600 L2400 1600 L2400 0 L0 0  Z\n",
       "  \" fill=\"#ffffff\" fill-rule=\"evenodd\" fill-opacity=\"1\"/>\n",
       "<defs>\n",
       "  <clipPath id=\"clip731\">\n",
       "    <rect x=\"480\" y=\"0\" width=\"1681\" height=\"1600\"/>\n",
       "  </clipPath>\n",
       "</defs>\n",
       "<path clip-path=\"url(#clip730)\" d=\"\n",
       "M305.298 1486.45 L2352.76 1486.45 L2352.76 47.2441 L305.298 47.2441  Z\n",
       "  \" fill=\"#ffffff\" fill-rule=\"evenodd\" fill-opacity=\"1\"/>\n",
       "<defs>\n",
       "  <clipPath id=\"clip732\">\n",
       "    <rect x=\"305\" y=\"47\" width=\"2048\" height=\"1440\"/>\n",
       "  </clipPath>\n",
       "</defs>\n",
       "<polyline clip-path=\"url(#clip732)\" style=\"stroke:#000000; stroke-linecap:round; stroke-linejoin:round; stroke-width:2; stroke-opacity:0.1; fill:none\" points=\"\n",
       "  744.622,1486.45 744.622,47.2441 \n",
       "  \"/>\n",
       "<polyline clip-path=\"url(#clip732)\" style=\"stroke:#000000; stroke-linecap:round; stroke-linejoin:round; stroke-width:2; stroke-opacity:0.1; fill:none\" points=\"\n",
       "  1193.3,1486.45 1193.3,47.2441 \n",
       "  \"/>\n",
       "<polyline clip-path=\"url(#clip732)\" style=\"stroke:#000000; stroke-linecap:round; stroke-linejoin:round; stroke-width:2; stroke-opacity:0.1; fill:none\" points=\"\n",
       "  1641.98,1486.45 1641.98,47.2441 \n",
       "  \"/>\n",
       "<polyline clip-path=\"url(#clip732)\" style=\"stroke:#000000; stroke-linecap:round; stroke-linejoin:round; stroke-width:2; stroke-opacity:0.1; fill:none\" points=\"\n",
       "  2090.66,1486.45 2090.66,47.2441 \n",
       "  \"/>\n",
       "<polyline clip-path=\"url(#clip730)\" style=\"stroke:#000000; stroke-linecap:round; stroke-linejoin:round; stroke-width:4; stroke-opacity:1; fill:none\" points=\"\n",
       "  305.298,1486.45 2352.76,1486.45 \n",
       "  \"/>\n",
       "<polyline clip-path=\"url(#clip730)\" style=\"stroke:#000000; stroke-linecap:round; stroke-linejoin:round; stroke-width:4; stroke-opacity:1; fill:none\" points=\"\n",
       "  744.622,1486.45 744.622,1467.55 \n",
       "  \"/>\n",
       "<polyline clip-path=\"url(#clip730)\" style=\"stroke:#000000; stroke-linecap:round; stroke-linejoin:round; stroke-width:4; stroke-opacity:1; fill:none\" points=\"\n",
       "  1193.3,1486.45 1193.3,1467.55 \n",
       "  \"/>\n",
       "<polyline clip-path=\"url(#clip730)\" style=\"stroke:#000000; stroke-linecap:round; stroke-linejoin:round; stroke-width:4; stroke-opacity:1; fill:none\" points=\"\n",
       "  1641.98,1486.45 1641.98,1467.55 \n",
       "  \"/>\n",
       "<polyline clip-path=\"url(#clip730)\" style=\"stroke:#000000; stroke-linecap:round; stroke-linejoin:round; stroke-width:4; stroke-opacity:1; fill:none\" points=\"\n",
       "  2090.66,1486.45 2090.66,1467.55 \n",
       "  \"/>\n",
       "<path clip-path=\"url(#clip730)\" d=\"M719.31 1544.91 L726.949 1544.91 L726.949 1518.55 L718.639 1520.21 L718.639 1515.95 L726.903 1514.29 L731.579 1514.29 L731.579 1544.91 L739.217 1544.91 L739.217 1548.85 L719.31 1548.85 L719.31 1544.91 Z\" fill=\"#000000\" fill-rule=\"evenodd\" fill-opacity=\"1\" /><path clip-path=\"url(#clip730)\" d=\"M758.662 1517.37 Q755.051 1517.37 753.222 1520.93 Q751.416 1524.47 751.416 1531.6 Q751.416 1538.71 753.222 1542.27 Q755.051 1545.82 758.662 1545.82 Q762.296 1545.82 764.102 1542.27 Q765.93 1538.71 765.93 1531.6 Q765.93 1524.47 764.102 1520.93 Q762.296 1517.37 758.662 1517.37 M758.662 1513.66 Q764.472 1513.66 767.527 1518.27 Q770.606 1522.85 770.606 1531.6 Q770.606 1540.33 767.527 1544.94 Q764.472 1549.52 758.662 1549.52 Q752.852 1549.52 749.773 1544.94 Q746.717 1540.33 746.717 1531.6 Q746.717 1522.85 749.773 1518.27 Q752.852 1513.66 758.662 1513.66 Z\" fill=\"#000000\" fill-rule=\"evenodd\" fill-opacity=\"1\" /><path clip-path=\"url(#clip730)\" d=\"M1172.07 1544.91 L1188.39 1544.91 L1188.39 1548.85 L1166.45 1548.85 L1166.45 1544.91 Q1169.11 1542.16 1173.7 1537.53 Q1178.3 1532.88 1179.48 1531.53 Q1181.73 1529.01 1182.61 1527.27 Q1183.51 1525.51 1183.51 1523.82 Q1183.51 1521.07 1181.57 1519.33 Q1179.64 1517.6 1176.54 1517.6 Q1174.34 1517.6 1171.89 1518.36 Q1169.46 1519.13 1166.68 1520.68 L1166.68 1515.95 Q1169.51 1514.82 1171.96 1514.24 Q1174.41 1513.66 1176.45 1513.66 Q1181.82 1513.66 1185.01 1516.35 Q1188.21 1519.03 1188.21 1523.52 Q1188.21 1525.65 1187.4 1527.57 Q1186.61 1529.47 1184.51 1532.07 Q1183.93 1532.74 1180.82 1535.95 Q1177.72 1539.15 1172.07 1544.91 Z\" fill=\"#000000\" fill-rule=\"evenodd\" fill-opacity=\"1\" /><path clip-path=\"url(#clip730)\" d=\"M1208.21 1517.37 Q1204.6 1517.37 1202.77 1520.93 Q1200.96 1524.47 1200.96 1531.6 Q1200.96 1538.71 1202.77 1542.27 Q1204.6 1545.82 1208.21 1545.82 Q1211.84 1545.82 1213.65 1542.27 Q1215.48 1538.71 1215.48 1531.6 Q1215.48 1524.47 1213.65 1520.93 Q1211.84 1517.37 1208.21 1517.37 M1208.21 1513.66 Q1214.02 1513.66 1217.07 1518.27 Q1220.15 1522.85 1220.15 1531.6 Q1220.15 1540.33 1217.07 1544.94 Q1214.02 1549.52 1208.21 1549.52 Q1202.4 1549.52 1199.32 1544.94 Q1196.26 1540.33 1196.26 1531.6 Q1196.26 1522.85 1199.32 1518.27 Q1202.4 1513.66 1208.21 1513.66 Z\" fill=\"#000000\" fill-rule=\"evenodd\" fill-opacity=\"1\" /><path clip-path=\"url(#clip730)\" d=\"M1630.82 1530.21 Q1634.18 1530.93 1636.05 1533.2 Q1637.95 1535.47 1637.95 1538.8 Q1637.95 1543.92 1634.43 1546.72 Q1630.92 1549.52 1624.43 1549.52 Q1622.26 1549.52 1619.94 1549.08 Q1617.65 1548.66 1615.2 1547.81 L1615.2 1543.29 Q1617.14 1544.43 1619.46 1545.01 Q1621.77 1545.58 1624.3 1545.58 Q1628.69 1545.58 1630.99 1543.85 Q1633.3 1542.11 1633.3 1538.8 Q1633.3 1535.75 1631.15 1534.03 Q1629.02 1532.3 1625.2 1532.3 L1621.17 1532.3 L1621.17 1528.45 L1625.38 1528.45 Q1628.83 1528.45 1630.66 1527.09 Q1632.49 1525.7 1632.49 1523.11 Q1632.49 1520.45 1630.59 1519.03 Q1628.72 1517.6 1625.2 1517.6 Q1623.28 1517.6 1621.08 1518.01 Q1618.88 1518.43 1616.24 1519.31 L1616.24 1515.14 Q1618.9 1514.4 1621.22 1514.03 Q1623.55 1513.66 1625.62 1513.66 Q1630.94 1513.66 1634.04 1516.09 Q1637.14 1518.5 1637.14 1522.62 Q1637.14 1525.49 1635.5 1527.48 Q1633.86 1529.45 1630.82 1530.21 Z\" fill=\"#000000\" fill-rule=\"evenodd\" fill-opacity=\"1\" /><path clip-path=\"url(#clip730)\" d=\"M1656.82 1517.37 Q1653.21 1517.37 1651.38 1520.93 Q1649.57 1524.47 1649.57 1531.6 Q1649.57 1538.71 1651.38 1542.27 Q1653.21 1545.82 1656.82 1545.82 Q1660.45 1545.82 1662.26 1542.27 Q1664.09 1538.71 1664.09 1531.6 Q1664.09 1524.47 1662.26 1520.93 Q1660.45 1517.37 1656.82 1517.37 M1656.82 1513.66 Q1662.63 1513.66 1665.68 1518.27 Q1668.76 1522.85 1668.76 1531.6 Q1668.76 1540.33 1665.68 1544.94 Q1662.63 1549.52 1656.82 1549.52 Q1651.01 1549.52 1647.93 1544.94 Q1644.87 1540.33 1644.87 1531.6 Q1644.87 1522.85 1647.93 1518.27 Q1651.01 1513.66 1656.82 1513.66 Z\" fill=\"#000000\" fill-rule=\"evenodd\" fill-opacity=\"1\" /><path clip-path=\"url(#clip730)\" d=\"M2078.83 1518.36 L2067.03 1536.81 L2078.83 1536.81 L2078.83 1518.36 M2077.6 1514.29 L2083.48 1514.29 L2083.48 1536.81 L2088.41 1536.81 L2088.41 1540.7 L2083.48 1540.7 L2083.48 1548.85 L2078.83 1548.85 L2078.83 1540.7 L2063.23 1540.7 L2063.23 1536.19 L2077.6 1514.29 Z\" fill=\"#000000\" fill-rule=\"evenodd\" fill-opacity=\"1\" /><path clip-path=\"url(#clip730)\" d=\"M2106.15 1517.37 Q2102.53 1517.37 2100.71 1520.93 Q2098.9 1524.47 2098.9 1531.6 Q2098.9 1538.71 2100.71 1542.27 Q2102.53 1545.82 2106.15 1545.82 Q2109.78 1545.82 2111.59 1542.27 Q2113.41 1538.71 2113.41 1531.6 Q2113.41 1524.47 2111.59 1520.93 Q2109.78 1517.37 2106.15 1517.37 M2106.15 1513.66 Q2111.96 1513.66 2115.01 1518.27 Q2118.09 1522.85 2118.09 1531.6 Q2118.09 1540.33 2115.01 1544.94 Q2111.96 1549.52 2106.15 1549.52 Q2100.34 1549.52 2097.26 1544.94 Q2094.2 1540.33 2094.2 1531.6 Q2094.2 1522.85 2097.26 1518.27 Q2100.34 1513.66 2106.15 1513.66 Z\" fill=\"#000000\" fill-rule=\"evenodd\" fill-opacity=\"1\" /><polyline clip-path=\"url(#clip732)\" style=\"stroke:#000000; stroke-linecap:round; stroke-linejoin:round; stroke-width:2; stroke-opacity:0.1; fill:none\" points=\"\n",
       "  305.298,1445.72 2352.76,1445.72 \n",
       "  \"/>\n",
       "<polyline clip-path=\"url(#clip732)\" style=\"stroke:#000000; stroke-linecap:round; stroke-linejoin:round; stroke-width:2; stroke-opacity:0.1; fill:none\" points=\"\n",
       "  305.298,1223.62 2352.76,1223.62 \n",
       "  \"/>\n",
       "<polyline clip-path=\"url(#clip732)\" style=\"stroke:#000000; stroke-linecap:round; stroke-linejoin:round; stroke-width:2; stroke-opacity:0.1; fill:none\" points=\"\n",
       "  305.298,1001.53 2352.76,1001.53 \n",
       "  \"/>\n",
       "<polyline clip-path=\"url(#clip732)\" style=\"stroke:#000000; stroke-linecap:round; stroke-linejoin:round; stroke-width:2; stroke-opacity:0.1; fill:none\" points=\"\n",
       "  305.298,779.432 2352.76,779.432 \n",
       "  \"/>\n",
       "<polyline clip-path=\"url(#clip732)\" style=\"stroke:#000000; stroke-linecap:round; stroke-linejoin:round; stroke-width:2; stroke-opacity:0.1; fill:none\" points=\"\n",
       "  305.298,557.337 2352.76,557.337 \n",
       "  \"/>\n",
       "<polyline clip-path=\"url(#clip732)\" style=\"stroke:#000000; stroke-linecap:round; stroke-linejoin:round; stroke-width:2; stroke-opacity:0.1; fill:none\" points=\"\n",
       "  305.298,335.242 2352.76,335.242 \n",
       "  \"/>\n",
       "<polyline clip-path=\"url(#clip732)\" style=\"stroke:#000000; stroke-linecap:round; stroke-linejoin:round; stroke-width:2; stroke-opacity:0.1; fill:none\" points=\"\n",
       "  305.298,113.147 2352.76,113.147 \n",
       "  \"/>\n",
       "<polyline clip-path=\"url(#clip730)\" style=\"stroke:#000000; stroke-linecap:round; stroke-linejoin:round; stroke-width:4; stroke-opacity:1; fill:none\" points=\"\n",
       "  305.298,1486.45 305.298,47.2441 \n",
       "  \"/>\n",
       "<polyline clip-path=\"url(#clip730)\" style=\"stroke:#000000; stroke-linecap:round; stroke-linejoin:round; stroke-width:4; stroke-opacity:1; fill:none\" points=\"\n",
       "  305.298,1445.72 324.196,1445.72 \n",
       "  \"/>\n",
       "<polyline clip-path=\"url(#clip730)\" style=\"stroke:#000000; stroke-linecap:round; stroke-linejoin:round; stroke-width:4; stroke-opacity:1; fill:none\" points=\"\n",
       "  305.298,1223.62 324.196,1223.62 \n",
       "  \"/>\n",
       "<polyline clip-path=\"url(#clip730)\" style=\"stroke:#000000; stroke-linecap:round; stroke-linejoin:round; stroke-width:4; stroke-opacity:1; fill:none\" points=\"\n",
       "  305.298,1001.53 324.196,1001.53 \n",
       "  \"/>\n",
       "<polyline clip-path=\"url(#clip730)\" style=\"stroke:#000000; stroke-linecap:round; stroke-linejoin:round; stroke-width:4; stroke-opacity:1; fill:none\" points=\"\n",
       "  305.298,779.432 324.196,779.432 \n",
       "  \"/>\n",
       "<polyline clip-path=\"url(#clip730)\" style=\"stroke:#000000; stroke-linecap:round; stroke-linejoin:round; stroke-width:4; stroke-opacity:1; fill:none\" points=\"\n",
       "  305.298,557.337 324.196,557.337 \n",
       "  \"/>\n",
       "<polyline clip-path=\"url(#clip730)\" style=\"stroke:#000000; stroke-linecap:round; stroke-linejoin:round; stroke-width:4; stroke-opacity:1; fill:none\" points=\"\n",
       "  305.298,335.242 324.196,335.242 \n",
       "  \"/>\n",
       "<polyline clip-path=\"url(#clip730)\" style=\"stroke:#000000; stroke-linecap:round; stroke-linejoin:round; stroke-width:4; stroke-opacity:1; fill:none\" points=\"\n",
       "  305.298,113.147 324.196,113.147 \n",
       "  \"/>\n",
       "<path clip-path=\"url(#clip730)\" d=\"M257.354 1431.51 Q253.743 1431.51 251.914 1435.08 Q250.109 1438.62 250.109 1445.75 Q250.109 1452.86 251.914 1456.42 Q253.743 1459.96 257.354 1459.96 Q260.988 1459.96 262.794 1456.42 Q264.622 1452.86 264.622 1445.75 Q264.622 1438.62 262.794 1435.08 Q260.988 1431.51 257.354 1431.51 M257.354 1427.81 Q263.164 1427.81 266.22 1432.42 Q269.298 1437 269.298 1445.75 Q269.298 1454.48 266.22 1459.08 Q263.164 1463.67 257.354 1463.67 Q251.544 1463.67 248.465 1459.08 Q245.409 1454.48 245.409 1445.75 Q245.409 1437 248.465 1432.42 Q251.544 1427.81 257.354 1427.81 Z\" fill=\"#000000\" fill-rule=\"evenodd\" fill-opacity=\"1\" /><path clip-path=\"url(#clip730)\" d=\"M57.7745 1243.41 L74.0939 1243.41 L74.0939 1247.35 L52.1495 1247.35 L52.1495 1243.41 Q54.8115 1240.66 59.3949 1236.03 Q64.0013 1231.38 65.1819 1230.03 Q67.4272 1227.51 68.3068 1225.77 Q69.2096 1224.02 69.2096 1222.33 Q69.2096 1219.57 67.2652 1217.83 Q65.3439 1216.1 62.2421 1216.1 Q60.043 1216.1 57.5893 1216.86 Q55.1588 1217.63 52.381 1219.18 L52.381 1214.46 Q55.2051 1213.32 57.6588 1212.74 Q60.1124 1212.16 62.1495 1212.16 Q67.5198 1212.16 70.7142 1214.85 Q73.9087 1217.53 73.9087 1222.02 Q73.9087 1224.15 73.0985 1226.08 Q72.3115 1227.97 70.205 1230.57 Q69.6263 1231.24 66.5245 1234.46 Q63.4226 1237.65 57.7745 1243.41 Z\" fill=\"#000000\" fill-rule=\"evenodd\" fill-opacity=\"1\" /><path clip-path=\"url(#clip730)\" d=\"M83.9086 1241.47 L88.7928 1241.47 L88.7928 1247.35 L83.9086 1247.35 L83.9086 1241.47 Z\" fill=\"#000000\" fill-rule=\"evenodd\" fill-opacity=\"1\" /><path clip-path=\"url(#clip730)\" d=\"M108.978 1215.87 Q105.367 1215.87 103.538 1219.43 Q101.733 1222.97 101.733 1230.1 Q101.733 1237.21 103.538 1240.77 Q105.367 1244.32 108.978 1244.32 Q112.612 1244.32 114.418 1240.77 Q116.246 1237.21 116.246 1230.1 Q116.246 1222.97 114.418 1219.43 Q112.612 1215.87 108.978 1215.87 M108.978 1212.16 Q114.788 1212.16 117.844 1216.77 Q120.922 1221.35 120.922 1230.1 Q120.922 1238.83 117.844 1243.44 Q114.788 1248.02 108.978 1248.02 Q103.168 1248.02 100.089 1243.44 Q97.0335 1238.83 97.0335 1230.1 Q97.0335 1221.35 100.089 1216.77 Q103.168 1212.16 108.978 1212.16 Z\" fill=\"#000000\" fill-rule=\"evenodd\" fill-opacity=\"1\" /><path clip-path=\"url(#clip730)\" d=\"M139.14 1215.87 Q135.529 1215.87 133.7 1219.43 Q131.894 1222.97 131.894 1230.1 Q131.894 1237.21 133.7 1240.77 Q135.529 1244.32 139.14 1244.32 Q142.774 1244.32 144.58 1240.77 Q146.408 1237.21 146.408 1230.1 Q146.408 1222.97 144.58 1219.43 Q142.774 1215.87 139.14 1215.87 M139.14 1212.16 Q144.95 1212.16 148.005 1216.77 Q151.084 1221.35 151.084 1230.1 Q151.084 1238.83 148.005 1243.44 Q144.95 1248.02 139.14 1248.02 Q133.33 1248.02 130.251 1243.44 Q127.195 1238.83 127.195 1230.1 Q127.195 1221.35 130.251 1216.77 Q133.33 1212.16 139.14 1212.16 Z\" fill=\"#000000\" fill-rule=\"evenodd\" fill-opacity=\"1\" /><path clip-path=\"url(#clip730)\" d=\"M187.473 1221.89 L176.894 1232.51 L187.473 1243.09 L184.718 1245.89 L174.093 1235.27 L163.468 1245.89 L160.737 1243.09 L171.292 1232.51 L160.737 1221.89 L163.468 1219.08 L174.093 1229.71 L184.718 1219.08 L187.473 1221.89 Z\" fill=\"#000000\" fill-rule=\"evenodd\" fill-opacity=\"1\" /><path clip-path=\"url(#clip730)\" d=\"M199.834 1243.41 L207.473 1243.41 L207.473 1217.05 L199.163 1218.71 L199.163 1214.46 L207.426 1212.79 L212.102 1212.79 L212.102 1243.41 L219.741 1243.41 L219.741 1247.35 L199.834 1247.35 L199.834 1243.41 Z\" fill=\"#000000\" fill-rule=\"evenodd\" fill-opacity=\"1\" /><path clip-path=\"url(#clip730)\" d=\"M239.186 1215.87 Q235.574 1215.87 233.746 1219.43 Q231.94 1222.97 231.94 1230.1 Q231.94 1237.21 233.746 1240.77 Q235.574 1244.32 239.186 1244.32 Q242.82 1244.32 244.625 1240.77 Q246.454 1237.21 246.454 1230.1 Q246.454 1222.97 244.625 1219.43 Q242.82 1215.87 239.186 1215.87 M239.186 1212.16 Q244.996 1212.16 248.051 1216.77 Q251.13 1221.35 251.13 1230.1 Q251.13 1238.83 248.051 1243.44 Q244.996 1248.02 239.186 1248.02 Q233.375 1248.02 230.297 1243.44 Q227.241 1238.83 227.241 1230.1 Q227.241 1221.35 230.297 1216.77 Q233.375 1212.16 239.186 1212.16 Z\" fill=\"#000000\" fill-rule=\"evenodd\" fill-opacity=\"1\" /><path clip-path=\"url(#clip730)\" d=\"M252.315 1191.86 L267.229 1191.86 L267.229 1195.06 L255.794 1195.06 L255.794 1201.94 Q256.622 1201.66 257.449 1201.53 Q258.277 1201.37 259.104 1201.37 Q263.806 1201.37 266.552 1203.95 Q269.298 1206.53 269.298 1210.93 Q269.298 1215.46 266.477 1217.98 Q263.656 1220.48 258.521 1220.48 Q256.753 1220.48 254.91 1220.18 Q253.086 1219.88 251.13 1219.28 L251.13 1215.46 Q252.823 1216.38 254.628 1216.83 Q256.434 1217.29 258.446 1217.29 Q261.7 1217.29 263.599 1215.57 Q265.499 1213.86 265.499 1210.93 Q265.499 1208 263.599 1206.28 Q261.7 1204.57 258.446 1204.57 Q256.923 1204.57 255.399 1204.91 Q253.895 1205.25 252.315 1205.96 L252.315 1191.86 Z\" fill=\"#000000\" fill-rule=\"evenodd\" fill-opacity=\"1\" /><path clip-path=\"url(#clip730)\" d=\"M66.5939 994.768 L54.7884 1013.22 L66.5939 1013.22 L66.5939 994.768 M65.367 990.694 L71.2466 990.694 L71.2466 1013.22 L76.1772 1013.22 L76.1772 1017.11 L71.2466 1017.11 L71.2466 1025.25 L66.5939 1025.25 L66.5939 1017.11 L50.9921 1017.11 L50.9921 1012.59 L65.367 990.694 Z\" fill=\"#000000\" fill-rule=\"evenodd\" fill-opacity=\"1\" /><path clip-path=\"url(#clip730)\" d=\"M83.9086 1019.37 L88.7928 1019.37 L88.7928 1025.25 L83.9086 1025.25 L83.9086 1019.37 Z\" fill=\"#000000\" fill-rule=\"evenodd\" fill-opacity=\"1\" /><path clip-path=\"url(#clip730)\" d=\"M108.978 993.773 Q105.367 993.773 103.538 997.337 Q101.733 1000.88 101.733 1008.01 Q101.733 1015.12 103.538 1018.68 Q105.367 1022.22 108.978 1022.22 Q112.612 1022.22 114.418 1018.68 Q116.246 1015.12 116.246 1008.01 Q116.246 1000.88 114.418 997.337 Q112.612 993.773 108.978 993.773 M108.978 990.069 Q114.788 990.069 117.844 994.675 Q120.922 999.259 120.922 1008.01 Q120.922 1016.74 117.844 1021.34 Q114.788 1025.93 108.978 1025.93 Q103.168 1025.93 100.089 1021.34 Q97.0335 1016.74 97.0335 1008.01 Q97.0335 999.259 100.089 994.675 Q103.168 990.069 108.978 990.069 Z\" fill=\"#000000\" fill-rule=\"evenodd\" fill-opacity=\"1\" /><path clip-path=\"url(#clip730)\" d=\"M139.14 993.773 Q135.529 993.773 133.7 997.337 Q131.894 1000.88 131.894 1008.01 Q131.894 1015.12 133.7 1018.68 Q135.529 1022.22 139.14 1022.22 Q142.774 1022.22 144.58 1018.68 Q146.408 1015.12 146.408 1008.01 Q146.408 1000.88 144.58 997.337 Q142.774 993.773 139.14 993.773 M139.14 990.069 Q144.95 990.069 148.005 994.675 Q151.084 999.259 151.084 1008.01 Q151.084 1016.74 148.005 1021.34 Q144.95 1025.93 139.14 1025.93 Q133.33 1025.93 130.251 1021.34 Q127.195 1016.74 127.195 1008.01 Q127.195 999.259 130.251 994.675 Q133.33 990.069 139.14 990.069 Z\" fill=\"#000000\" fill-rule=\"evenodd\" fill-opacity=\"1\" /><path clip-path=\"url(#clip730)\" d=\"M187.473 999.791 L176.894 1010.42 L187.473 1020.99 L184.718 1023.8 L174.093 1013.17 L163.468 1023.8 L160.737 1020.99 L171.292 1010.42 L160.737 999.791 L163.468 996.99 L174.093 1007.62 L184.718 996.99 L187.473 999.791 Z\" fill=\"#000000\" fill-rule=\"evenodd\" fill-opacity=\"1\" /><path clip-path=\"url(#clip730)\" d=\"M199.834 1021.32 L207.473 1021.32 L207.473 994.953 L199.163 996.62 L199.163 992.361 L207.426 990.694 L212.102 990.694 L212.102 1021.32 L219.741 1021.32 L219.741 1025.25 L199.834 1025.25 L199.834 1021.32 Z\" fill=\"#000000\" fill-rule=\"evenodd\" fill-opacity=\"1\" /><path clip-path=\"url(#clip730)\" d=\"M239.186 993.773 Q235.574 993.773 233.746 997.337 Q231.94 1000.88 231.94 1008.01 Q231.94 1015.12 233.746 1018.68 Q235.574 1022.22 239.186 1022.22 Q242.82 1022.22 244.625 1018.68 Q246.454 1015.12 246.454 1008.01 Q246.454 1000.88 244.625 997.337 Q242.82 993.773 239.186 993.773 M239.186 990.069 Q244.996 990.069 248.051 994.675 Q251.13 999.259 251.13 1008.01 Q251.13 1016.74 248.051 1021.34 Q244.996 1025.93 239.186 1025.93 Q233.375 1025.93 230.297 1021.34 Q227.241 1016.74 227.241 1008.01 Q227.241 999.259 230.297 994.675 Q233.375 990.069 239.186 990.069 Z\" fill=\"#000000\" fill-rule=\"evenodd\" fill-opacity=\"1\" /><path clip-path=\"url(#clip730)\" d=\"M252.315 969.763 L267.229 969.763 L267.229 972.961 L255.794 972.961 L255.794 979.844 Q256.622 979.562 257.449 979.431 Q258.277 979.28 259.104 979.28 Q263.806 979.28 266.552 981.857 Q269.298 984.434 269.298 988.835 Q269.298 993.367 266.477 995.887 Q263.656 998.389 258.521 998.389 Q256.753 998.389 254.91 998.088 Q253.086 997.787 251.13 997.185 L251.13 993.367 Q252.823 994.289 254.628 994.74 Q256.434 995.192 258.446 995.192 Q261.7 995.192 263.599 993.48 Q265.499 991.769 265.499 988.835 Q265.499 985.901 263.599 984.189 Q261.7 982.478 258.446 982.478 Q256.923 982.478 255.399 982.816 Q253.895 983.155 252.315 983.869 L252.315 969.763 Z\" fill=\"#000000\" fill-rule=\"evenodd\" fill-opacity=\"1\" /><path clip-path=\"url(#clip730)\" d=\"M64.3254 784.016 Q61.1773 784.016 59.3254 786.168 Q57.4967 788.321 57.4967 792.071 Q57.4967 795.798 59.3254 797.974 Q61.1773 800.127 64.3254 800.127 Q67.4735 800.127 69.3022 797.974 Q71.1541 795.798 71.1541 792.071 Q71.1541 788.321 69.3022 786.168 Q67.4735 784.016 64.3254 784.016 M73.6077 769.363 L73.6077 773.622 Q71.8485 772.789 70.0429 772.349 Q68.2606 771.909 66.5013 771.909 Q61.8717 771.909 59.418 775.034 Q56.9875 778.159 56.6402 784.479 Q58.006 782.465 60.0662 781.4 Q62.1263 780.312 64.6032 780.312 Q69.8115 780.312 72.8207 783.483 Q75.8531 786.631 75.8531 792.071 Q75.8531 797.395 72.705 800.613 Q69.5568 803.83 64.3254 803.83 Q58.33 803.83 55.1588 799.247 Q51.9875 794.641 51.9875 785.914 Q51.9875 777.719 55.8764 772.858 Q59.7652 767.974 66.3161 767.974 Q68.0754 767.974 69.8578 768.321 Q71.6633 768.669 73.6077 769.363 Z\" fill=\"#000000\" fill-rule=\"evenodd\" fill-opacity=\"1\" /><path clip-path=\"url(#clip730)\" d=\"M83.9086 797.28 L88.7928 797.28 L88.7928 803.159 L83.9086 803.159 L83.9086 797.28 Z\" fill=\"#000000\" fill-rule=\"evenodd\" fill-opacity=\"1\" /><path clip-path=\"url(#clip730)\" d=\"M108.978 771.678 Q105.367 771.678 103.538 775.243 Q101.733 778.784 101.733 785.914 Q101.733 793.02 103.538 796.585 Q105.367 800.127 108.978 800.127 Q112.612 800.127 114.418 796.585 Q116.246 793.02 116.246 785.914 Q116.246 778.784 114.418 775.243 Q112.612 771.678 108.978 771.678 M108.978 767.974 Q114.788 767.974 117.844 772.581 Q120.922 777.164 120.922 785.914 Q120.922 794.641 117.844 799.247 Q114.788 803.83 108.978 803.83 Q103.168 803.83 100.089 799.247 Q97.0335 794.641 97.0335 785.914 Q97.0335 777.164 100.089 772.581 Q103.168 767.974 108.978 767.974 Z\" fill=\"#000000\" fill-rule=\"evenodd\" fill-opacity=\"1\" /><path clip-path=\"url(#clip730)\" d=\"M139.14 771.678 Q135.529 771.678 133.7 775.243 Q131.894 778.784 131.894 785.914 Q131.894 793.02 133.7 796.585 Q135.529 800.127 139.14 800.127 Q142.774 800.127 144.58 796.585 Q146.408 793.02 146.408 785.914 Q146.408 778.784 144.58 775.243 Q142.774 771.678 139.14 771.678 M139.14 767.974 Q144.95 767.974 148.005 772.581 Q151.084 777.164 151.084 785.914 Q151.084 794.641 148.005 799.247 Q144.95 803.83 139.14 803.83 Q133.33 803.83 130.251 799.247 Q127.195 794.641 127.195 785.914 Q127.195 777.164 130.251 772.581 Q133.33 767.974 139.14 767.974 Z\" fill=\"#000000\" fill-rule=\"evenodd\" fill-opacity=\"1\" /><path clip-path=\"url(#clip730)\" d=\"M187.473 777.696 L176.894 788.321 L187.473 798.9 L184.718 801.701 L174.093 791.076 L163.468 801.701 L160.737 798.9 L171.292 788.321 L160.737 777.696 L163.468 774.895 L174.093 785.52 L184.718 774.895 L187.473 777.696 Z\" fill=\"#000000\" fill-rule=\"evenodd\" fill-opacity=\"1\" /><path clip-path=\"url(#clip730)\" d=\"M199.834 799.224 L207.473 799.224 L207.473 772.858 L199.163 774.525 L199.163 770.266 L207.426 768.599 L212.102 768.599 L212.102 799.224 L219.741 799.224 L219.741 803.159 L199.834 803.159 L199.834 799.224 Z\" fill=\"#000000\" fill-rule=\"evenodd\" fill-opacity=\"1\" /><path clip-path=\"url(#clip730)\" d=\"M239.186 771.678 Q235.574 771.678 233.746 775.243 Q231.94 778.784 231.94 785.914 Q231.94 793.02 233.746 796.585 Q235.574 800.127 239.186 800.127 Q242.82 800.127 244.625 796.585 Q246.454 793.02 246.454 785.914 Q246.454 778.784 244.625 775.243 Q242.82 771.678 239.186 771.678 M239.186 767.974 Q244.996 767.974 248.051 772.581 Q251.13 777.164 251.13 785.914 Q251.13 794.641 248.051 799.247 Q244.996 803.83 239.186 803.83 Q233.375 803.83 230.297 799.247 Q227.241 794.641 227.241 785.914 Q227.241 777.164 230.297 772.581 Q233.375 767.974 239.186 767.974 Z\" fill=\"#000000\" fill-rule=\"evenodd\" fill-opacity=\"1\" /><path clip-path=\"url(#clip730)\" d=\"M252.315 747.669 L267.229 747.669 L267.229 750.866 L255.794 750.866 L255.794 757.75 Q256.622 757.468 257.449 757.336 Q258.277 757.185 259.104 757.185 Q263.806 757.185 266.552 759.762 Q269.298 762.339 269.298 766.74 Q269.298 771.272 266.477 773.793 Q263.656 776.294 258.521 776.294 Q256.753 776.294 254.91 775.993 Q253.086 775.692 251.13 775.09 L251.13 771.272 Q252.823 772.194 254.628 772.645 Q256.434 773.097 258.446 773.097 Q261.7 773.097 263.599 771.385 Q265.499 769.674 265.499 766.74 Q265.499 763.806 263.599 762.094 Q261.7 760.383 258.446 760.383 Q256.923 760.383 255.399 760.721 Q253.895 761.06 252.315 761.775 L252.315 747.669 Z\" fill=\"#000000\" fill-rule=\"evenodd\" fill-opacity=\"1\" /><path clip-path=\"url(#clip730)\" d=\"M63.7467 564.652 Q60.4134 564.652 58.4921 566.435 Q56.5939 568.217 56.5939 571.342 Q56.5939 574.467 58.4921 576.25 Q60.4134 578.032 63.7467 578.032 Q67.08 578.032 69.0013 576.25 Q70.9226 574.444 70.9226 571.342 Q70.9226 568.217 69.0013 566.435 Q67.1032 564.652 63.7467 564.652 M59.0708 562.662 Q56.0615 561.921 54.3717 559.861 Q52.7051 557.801 52.7051 554.838 Q52.7051 550.694 55.6449 548.287 Q58.6078 545.879 63.7467 545.879 Q68.9087 545.879 71.8485 548.287 Q74.7883 550.694 74.7883 554.838 Q74.7883 557.801 73.0985 559.861 Q71.4318 561.921 68.4457 562.662 Q71.8253 563.449 73.7003 565.74 Q75.5985 568.032 75.5985 571.342 Q75.5985 576.365 72.5198 579.051 Q69.4642 581.736 63.7467 581.736 Q58.0291 581.736 54.9504 579.051 Q51.8949 576.365 51.8949 571.342 Q51.8949 568.032 53.793 565.74 Q55.6912 563.449 59.0708 562.662 M57.3578 555.278 Q57.3578 557.963 59.0245 559.467 Q60.7143 560.972 63.7467 560.972 Q66.7559 560.972 68.4457 559.467 Q70.1587 557.963 70.1587 555.278 Q70.1587 552.592 68.4457 551.088 Q66.7559 549.583 63.7467 549.583 Q60.7143 549.583 59.0245 551.088 Q57.3578 552.592 57.3578 555.278 Z\" fill=\"#000000\" fill-rule=\"evenodd\" fill-opacity=\"1\" /><path clip-path=\"url(#clip730)\" d=\"M83.9086 575.185 L88.7928 575.185 L88.7928 581.064 L83.9086 581.064 L83.9086 575.185 Z\" fill=\"#000000\" fill-rule=\"evenodd\" fill-opacity=\"1\" /><path clip-path=\"url(#clip730)\" d=\"M108.978 549.583 Q105.367 549.583 103.538 553.148 Q101.733 556.69 101.733 563.819 Q101.733 570.926 103.538 574.49 Q105.367 578.032 108.978 578.032 Q112.612 578.032 114.418 574.49 Q116.246 570.926 116.246 563.819 Q116.246 556.69 114.418 553.148 Q112.612 549.583 108.978 549.583 M108.978 545.879 Q114.788 545.879 117.844 550.486 Q120.922 555.069 120.922 563.819 Q120.922 572.546 117.844 577.152 Q114.788 581.736 108.978 581.736 Q103.168 581.736 100.089 577.152 Q97.0335 572.546 97.0335 563.819 Q97.0335 555.069 100.089 550.486 Q103.168 545.879 108.978 545.879 Z\" fill=\"#000000\" fill-rule=\"evenodd\" fill-opacity=\"1\" /><path clip-path=\"url(#clip730)\" d=\"M139.14 549.583 Q135.529 549.583 133.7 553.148 Q131.894 556.69 131.894 563.819 Q131.894 570.926 133.7 574.49 Q135.529 578.032 139.14 578.032 Q142.774 578.032 144.58 574.49 Q146.408 570.926 146.408 563.819 Q146.408 556.69 144.58 553.148 Q142.774 549.583 139.14 549.583 M139.14 545.879 Q144.95 545.879 148.005 550.486 Q151.084 555.069 151.084 563.819 Q151.084 572.546 148.005 577.152 Q144.95 581.736 139.14 581.736 Q133.33 581.736 130.251 577.152 Q127.195 572.546 127.195 563.819 Q127.195 555.069 130.251 550.486 Q133.33 545.879 139.14 545.879 Z\" fill=\"#000000\" fill-rule=\"evenodd\" fill-opacity=\"1\" /><path clip-path=\"url(#clip730)\" d=\"M187.473 555.602 L176.894 566.227 L187.473 576.805 L184.718 579.606 L174.093 568.981 L163.468 579.606 L160.737 576.805 L171.292 566.227 L160.737 555.602 L163.468 552.801 L174.093 563.426 L184.718 552.801 L187.473 555.602 Z\" fill=\"#000000\" fill-rule=\"evenodd\" fill-opacity=\"1\" /><path clip-path=\"url(#clip730)\" d=\"M199.834 577.129 L207.473 577.129 L207.473 550.764 L199.163 552.43 L199.163 548.171 L207.426 546.504 L212.102 546.504 L212.102 577.129 L219.741 577.129 L219.741 581.064 L199.834 581.064 L199.834 577.129 Z\" fill=\"#000000\" fill-rule=\"evenodd\" fill-opacity=\"1\" /><path clip-path=\"url(#clip730)\" d=\"M239.186 549.583 Q235.574 549.583 233.746 553.148 Q231.94 556.69 231.94 563.819 Q231.94 570.926 233.746 574.49 Q235.574 578.032 239.186 578.032 Q242.82 578.032 244.625 574.49 Q246.454 570.926 246.454 563.819 Q246.454 556.69 244.625 553.148 Q242.82 549.583 239.186 549.583 M239.186 545.879 Q244.996 545.879 248.051 550.486 Q251.13 555.069 251.13 563.819 Q251.13 572.546 248.051 577.152 Q244.996 581.736 239.186 581.736 Q233.375 581.736 230.297 577.152 Q227.241 572.546 227.241 563.819 Q227.241 555.069 230.297 550.486 Q233.375 545.879 239.186 545.879 Z\" fill=\"#000000\" fill-rule=\"evenodd\" fill-opacity=\"1\" /><path clip-path=\"url(#clip730)\" d=\"M252.315 525.574 L267.229 525.574 L267.229 528.771 L255.794 528.771 L255.794 535.655 Q256.622 535.373 257.449 535.241 Q258.277 535.091 259.104 535.091 Q263.806 535.091 266.552 537.667 Q269.298 540.244 269.298 544.645 Q269.298 549.178 266.477 551.698 Q263.656 554.199 258.521 554.199 Q256.753 554.199 254.91 553.899 Q253.086 553.598 251.13 552.996 L251.13 549.178 Q252.823 550.099 254.628 550.551 Q256.434 551.002 258.446 551.002 Q261.7 551.002 263.599 549.291 Q265.499 547.579 265.499 544.645 Q265.499 541.711 263.599 540 Q261.7 538.288 258.446 538.288 Q256.923 538.288 255.399 538.627 Q253.895 538.965 252.315 539.68 L252.315 525.574 Z\" fill=\"#000000\" fill-rule=\"evenodd\" fill-opacity=\"1\" /><path clip-path=\"url(#clip730)\" d=\"M53.3344 355.035 L60.9733 355.035 L60.9733 328.669 L52.6631 330.336 L52.6631 326.076 L60.927 324.41 L65.6029 324.41 L65.6029 355.035 L73.2417 355.035 L73.2417 358.97 L53.3344 358.97 L53.3344 355.035 Z\" fill=\"#000000\" fill-rule=\"evenodd\" fill-opacity=\"1\" /><path clip-path=\"url(#clip730)\" d=\"M82.6861 353.09 L87.5703 353.09 L87.5703 358.97 L82.6861 358.97 L82.6861 353.09 Z\" fill=\"#000000\" fill-rule=\"evenodd\" fill-opacity=\"1\" /><path clip-path=\"url(#clip730)\" d=\"M107.755 327.488 Q104.144 327.488 102.316 331.053 Q100.51 334.595 100.51 341.724 Q100.51 348.831 102.316 352.396 Q104.144 355.937 107.755 355.937 Q111.39 355.937 113.195 352.396 Q115.024 348.831 115.024 341.724 Q115.024 334.595 113.195 331.053 Q111.39 327.488 107.755 327.488 M107.755 323.785 Q113.566 323.785 116.621 328.391 Q119.7 332.974 119.7 341.724 Q119.7 350.451 116.621 355.058 Q113.566 359.641 107.755 359.641 Q101.945 359.641 98.8666 355.058 Q95.811 350.451 95.811 341.724 Q95.811 332.974 98.8666 328.391 Q101.945 323.785 107.755 323.785 Z\" fill=\"#000000\" fill-rule=\"evenodd\" fill-opacity=\"1\" /><path clip-path=\"url(#clip730)\" d=\"M137.917 327.488 Q134.306 327.488 132.478 331.053 Q130.672 334.595 130.672 341.724 Q130.672 348.831 132.478 352.396 Q134.306 355.937 137.917 355.937 Q141.552 355.937 143.357 352.396 Q145.186 348.831 145.186 341.724 Q145.186 334.595 143.357 331.053 Q141.552 327.488 137.917 327.488 M137.917 323.785 Q143.727 323.785 146.783 328.391 Q149.862 332.974 149.862 341.724 Q149.862 350.451 146.783 355.058 Q143.727 359.641 137.917 359.641 Q132.107 359.641 129.028 355.058 Q125.973 350.451 125.973 341.724 Q125.973 332.974 129.028 328.391 Q132.107 323.785 137.917 323.785 Z\" fill=\"#000000\" fill-rule=\"evenodd\" fill-opacity=\"1\" /><path clip-path=\"url(#clip730)\" d=\"M186.25 333.507 L175.672 344.132 L186.25 354.71 L183.496 357.511 L172.871 346.886 L162.246 357.511 L159.514 354.71 L170.07 344.132 L159.514 333.507 L162.246 330.706 L172.871 341.331 L183.496 330.706 L186.25 333.507 Z\" fill=\"#000000\" fill-rule=\"evenodd\" fill-opacity=\"1\" /><path clip-path=\"url(#clip730)\" d=\"M198.611 355.035 L206.25 355.035 L206.25 328.669 L197.94 330.336 L197.94 326.076 L206.204 324.41 L210.88 324.41 L210.88 355.035 L218.519 355.035 L218.519 358.97 L198.611 358.97 L198.611 355.035 Z\" fill=\"#000000\" fill-rule=\"evenodd\" fill-opacity=\"1\" /><path clip-path=\"url(#clip730)\" d=\"M237.963 327.488 Q234.352 327.488 232.523 331.053 Q230.718 334.595 230.718 341.724 Q230.718 348.831 232.523 352.396 Q234.352 355.937 237.963 355.937 Q241.597 355.937 243.403 352.396 Q245.232 348.831 245.232 341.724 Q245.232 334.595 243.403 331.053 Q241.597 327.488 237.963 327.488 M237.963 323.785 Q243.773 323.785 246.829 328.391 Q249.907 332.974 249.907 341.724 Q249.907 350.451 246.829 355.058 Q243.773 359.641 237.963 359.641 Q232.153 359.641 229.074 355.058 Q226.019 350.451 226.019 341.724 Q226.019 332.974 229.074 328.391 Q232.153 323.785 237.963 323.785 Z\" fill=\"#000000\" fill-rule=\"evenodd\" fill-opacity=\"1\" /><path clip-path=\"url(#clip730)\" d=\"M259.932 316.005 Q257.374 316.005 255.87 317.754 Q254.384 319.504 254.384 322.55 Q254.384 325.578 255.87 327.346 Q257.374 329.095 259.932 329.095 Q262.49 329.095 263.976 327.346 Q265.48 325.578 265.48 322.55 Q265.48 319.504 263.976 317.754 Q262.49 316.005 259.932 316.005 M267.474 304.1 L267.474 307.561 Q266.045 306.884 264.577 306.526 Q263.129 306.169 261.7 306.169 Q257.938 306.169 255.945 308.708 Q253.97 311.247 253.688 316.381 Q254.797 314.745 256.471 313.88 Q258.145 312.996 260.158 312.996 Q264.389 312.996 266.834 315.573 Q269.298 318.131 269.298 322.55 Q269.298 326.876 266.74 329.49 Q264.183 332.105 259.932 332.105 Q255.061 332.105 252.484 328.381 Q249.907 324.638 249.907 317.548 Q249.907 310.89 253.067 306.94 Q256.227 302.971 261.549 302.971 Q262.979 302.971 264.427 303.254 Q265.894 303.536 267.474 304.1 Z\" fill=\"#000000\" fill-rule=\"evenodd\" fill-opacity=\"1\" /><path clip-path=\"url(#clip730)\" d=\"M53.3344 132.94 L60.9733 132.94 L60.9733 106.574 L52.6631 108.241 L52.6631 103.982 L60.927 102.315 L65.6029 102.315 L65.6029 132.94 L73.2417 132.94 L73.2417 136.875 L53.3344 136.875 L53.3344 132.94 Z\" fill=\"#000000\" fill-rule=\"evenodd\" fill-opacity=\"1\" /><path clip-path=\"url(#clip730)\" d=\"M82.6861 130.995 L87.5703 130.995 L87.5703 136.875 L82.6861 136.875 L82.6861 130.995 Z\" fill=\"#000000\" fill-rule=\"evenodd\" fill-opacity=\"1\" /><path clip-path=\"url(#clip730)\" d=\"M101.783 132.94 L118.103 132.94 L118.103 136.875 L96.1583 136.875 L96.1583 132.94 Q98.8203 130.185 103.404 125.556 Q108.01 120.903 109.191 119.56 Q111.436 117.037 112.316 115.301 Q113.218 113.542 113.218 111.852 Q113.218 109.097 111.274 107.361 Q109.353 105.625 106.251 105.625 Q104.052 105.625 101.598 106.389 Q99.1675 107.153 96.3897 108.704 L96.3897 103.982 Q99.2138 102.847 101.667 102.269 Q104.121 101.69 106.158 101.69 Q111.529 101.69 114.723 104.375 Q117.917 107.06 117.917 111.551 Q117.917 113.681 117.107 115.602 Q116.32 117.5 114.214 120.093 Q113.635 120.764 110.533 123.982 Q107.431 127.176 101.783 132.94 Z\" fill=\"#000000\" fill-rule=\"evenodd\" fill-opacity=\"1\" /><path clip-path=\"url(#clip730)\" d=\"M137.917 105.394 Q134.306 105.394 132.478 108.958 Q130.672 112.5 130.672 119.63 Q130.672 126.736 132.478 130.301 Q134.306 133.843 137.917 133.843 Q141.552 133.843 143.357 130.301 Q145.186 126.736 145.186 119.63 Q145.186 112.5 143.357 108.958 Q141.552 105.394 137.917 105.394 M137.917 101.69 Q143.727 101.69 146.783 106.296 Q149.862 110.88 149.862 119.63 Q149.862 128.357 146.783 132.963 Q143.727 137.546 137.917 137.546 Q132.107 137.546 129.028 132.963 Q125.973 128.357 125.973 119.63 Q125.973 110.88 129.028 106.296 Q132.107 101.69 137.917 101.69 Z\" fill=\"#000000\" fill-rule=\"evenodd\" fill-opacity=\"1\" /><path clip-path=\"url(#clip730)\" d=\"M186.25 111.412 L175.672 122.037 L186.25 132.616 L183.496 135.417 L172.871 124.792 L162.246 135.417 L159.514 132.616 L170.07 122.037 L159.514 111.412 L162.246 108.611 L172.871 119.236 L183.496 108.611 L186.25 111.412 Z\" fill=\"#000000\" fill-rule=\"evenodd\" fill-opacity=\"1\" /><path clip-path=\"url(#clip730)\" d=\"M198.611 132.94 L206.25 132.94 L206.25 106.574 L197.94 108.241 L197.94 103.982 L206.204 102.315 L210.88 102.315 L210.88 132.94 L218.519 132.94 L218.519 136.875 L198.611 136.875 L198.611 132.94 Z\" fill=\"#000000\" fill-rule=\"evenodd\" fill-opacity=\"1\" /><path clip-path=\"url(#clip730)\" d=\"M237.963 105.394 Q234.352 105.394 232.523 108.958 Q230.718 112.5 230.718 119.63 Q230.718 126.736 232.523 130.301 Q234.352 133.843 237.963 133.843 Q241.597 133.843 243.403 130.301 Q245.232 126.736 245.232 119.63 Q245.232 112.5 243.403 108.958 Q241.597 105.394 237.963 105.394 M237.963 101.69 Q243.773 101.69 246.829 106.296 Q249.907 110.88 249.907 119.63 Q249.907 128.357 246.829 132.963 Q243.773 137.546 237.963 137.546 Q232.153 137.546 229.074 132.963 Q226.019 128.357 226.019 119.63 Q226.019 110.88 229.074 106.296 Q232.153 101.69 237.963 101.69 Z\" fill=\"#000000\" fill-rule=\"evenodd\" fill-opacity=\"1\" /><path clip-path=\"url(#clip730)\" d=\"M259.932 93.9106 Q257.374 93.9106 255.87 95.6597 Q254.384 97.4088 254.384 100.456 Q254.384 103.484 255.87 105.252 Q257.374 107.001 259.932 107.001 Q262.49 107.001 263.976 105.252 Q265.48 103.484 265.48 100.456 Q265.48 97.4088 263.976 95.6597 Q262.49 93.9106 259.932 93.9106 M267.474 82.0052 L267.474 85.4659 Q266.045 84.7888 264.577 84.4314 Q263.129 84.0741 261.7 84.0741 Q257.938 84.0741 255.945 86.6131 Q253.97 89.1522 253.688 94.2867 Q254.797 92.6504 256.471 91.7853 Q258.145 90.9013 260.158 90.9013 Q264.389 90.9013 266.834 93.478 Q269.298 96.0358 269.298 100.456 Q269.298 104.781 266.74 107.396 Q264.183 110.01 259.932 110.01 Q255.061 110.01 252.484 106.286 Q249.907 102.543 249.907 95.4528 Q249.907 88.7948 253.067 84.8452 Q256.227 80.8768 261.549 80.8768 Q262.979 80.8768 264.427 81.1589 Q265.894 81.441 267.474 82.0052 Z\" fill=\"#000000\" fill-rule=\"evenodd\" fill-opacity=\"1\" /><polyline clip-path=\"url(#clip732)\" style=\"stroke:#009af9; stroke-linecap:round; stroke-linejoin:round; stroke-width:4; stroke-opacity:1; fill:none\" points=\"\n",
       "  363.245,1445.72 363.245,1445.71 365.489,1445.71 365.489,1445.72 367.732,1445.72 369.975,1445.72 369.975,1445.71 372.219,1445.71 372.219,1445.72 \n",
       "  374.462,1445.72 376.706,1445.72 376.706,1445.71 378.949,1445.71 378.949,1445.72 381.192,1445.72 383.436,1445.72 \n",
       "  385.679,1445.72 385.679,1445.7 387.923,1445.7 387.923,1445.72 390.166,1445.72 392.409,1445.72 392.409,1445.71 394.653,1445.71 394.653,1445.72 \n",
       "  396.896,1445.72 399.139,1445.72 399.139,1445.7 401.383,1445.7 401.383,1445.72 403.626,1445.72 405.87,1445.72 \n",
       "  408.113,1445.72 408.113,1445.69 410.356,1445.69 410.356,1445.72 412.6,1445.72 414.843,1445.72 414.843,1445.68 417.087,1445.68 417.087,1445.72 \n",
       "  419.33,1445.72 421.573,1445.72 421.573,1445.66 423.817,1445.66 423.817,1445.72 426.06,1445.72 428.304,1445.72 \n",
       "  430.547,1445.72 430.547,1445.62 432.79,1445.62 432.79,1445.72 435.034,1445.72 437.277,1445.72 437.277,1445.61 439.521,1445.61 439.521,1445.72 \n",
       "  441.764,1445.72 444.007,1445.72 444.007,1445.56 446.251,1445.56 446.251,1445.72 448.494,1445.72 450.738,1445.72 \n",
       "  452.981,1445.72 452.981,1445.52 455.224,1445.52 455.224,1445.72 457.468,1445.72 459.711,1445.72 459.711,1445.44 461.955,1445.44 461.955,1445.72 \n",
       "  464.198,1445.72 466.441,1445.72 466.441,1445.35 468.685,1445.35 468.685,1445.72 470.928,1445.72 473.172,1445.72 \n",
       "  475.415,1445.72 475.415,1445.26 477.658,1445.26 477.658,1445.72 479.902,1445.72 482.145,1445.72 482.145,1445.16 484.389,1445.16 484.389,1445.72 \n",
       "  486.632,1445.72 488.875,1445.72 488.875,1444.99 491.119,1444.99 491.119,1445.72 493.362,1445.72 495.606,1445.72 \n",
       "  497.849,1445.72 497.849,1444.8 500.092,1444.8 500.092,1445.72 502.336,1445.72 504.579,1445.72 504.579,1444.65 506.822,1444.65 506.822,1445.72 \n",
       "  509.066,1445.72 511.309,1445.72 511.309,1444.35 513.553,1444.35 513.553,1445.72 515.796,1445.72 518.039,1445.72 \n",
       "  520.283,1445.72 520.283,1444.15 522.526,1444.15 522.526,1445.72 524.77,1445.72 527.013,1445.72 527.013,1443.87 529.256,1443.87 529.256,1445.72 \n",
       "  531.5,1445.72 533.743,1445.72 533.743,1443.49 535.987,1443.49 535.987,1445.72 538.23,1445.72 540.473,1445.72 \n",
       "  542.717,1445.72 542.717,1443.12 544.96,1443.12 544.96,1445.72 547.204,1445.72 549.447,1445.72 549.447,1442.64 551.69,1442.64 551.69,1445.72 \n",
       "  553.934,1445.72 556.177,1445.72 556.177,1442.01 558.421,1442.01 558.421,1445.72 560.664,1445.72 562.907,1445.72 \n",
       "  565.151,1445.72 565.151,1441.31 567.394,1441.31 567.394,1445.72 569.638,1445.72 571.881,1445.72 571.881,1440.62 574.124,1440.62 574.124,1445.72 \n",
       "  576.368,1445.72 578.611,1445.72 578.611,1439.84 580.855,1439.84 580.855,1445.72 583.098,1445.72 585.341,1445.72 \n",
       "  587.585,1445.72 587.585,1439.12 589.828,1439.12 589.828,1445.72 592.072,1445.72 594.315,1445.72 594.315,1437.76 596.558,1437.76 596.558,1445.72 \n",
       "  598.802,1445.72 601.045,1445.72 601.045,1436.89 603.289,1436.89 603.289,1445.72 605.532,1445.72 607.775,1445.72 \n",
       "  610.019,1445.72 610.019,1435.81 612.262,1435.81 612.262,1445.72 614.505,1445.72 616.749,1445.72 616.749,1434.32 618.992,1434.32 618.992,1445.72 \n",
       "  621.236,1445.72 623.479,1445.72 623.479,1432.97 625.722,1432.97 625.722,1445.72 627.966,1445.72 630.209,1445.72 \n",
       "  632.453,1445.72 632.453,1431.4 634.696,1431.4 634.696,1445.72 636.939,1445.72 639.183,1445.72 639.183,1429.32 641.426,1429.32 641.426,1445.72 \n",
       "  643.67,1445.72 645.913,1445.72 645.913,1427.45 648.156,1427.45 648.156,1445.72 650.4,1445.72 652.643,1445.72 \n",
       "  654.887,1445.72 654.887,1425.51 657.13,1425.51 657.13,1445.72 659.373,1445.72 661.617,1445.72 661.617,1422.79 663.86,1422.79 663.86,1445.72 \n",
       "  666.104,1445.72 668.347,1445.72 668.347,1420.21 670.59,1420.21 670.59,1445.72 672.834,1445.72 675.077,1445.72 \n",
       "  677.321,1445.72 677.321,1417.4 679.564,1417.4 679.564,1445.72 681.807,1445.72 684.051,1445.72 684.051,1414.84 686.294,1414.84 686.294,1445.72 \n",
       "  688.538,1445.72 690.781,1445.72 690.781,1410.9 693.024,1410.9 693.024,1445.72 695.268,1445.72 697.511,1445.72 \n",
       "  699.755,1445.72 699.755,1407.59 701.998,1407.59 701.998,1445.72 704.241,1445.72 706.485,1445.72 706.485,1403.04 708.728,1403.04 708.728,1445.72 \n",
       "  710.972,1445.72 713.215,1445.72 713.215,1399.51 715.458,1399.51 715.458,1445.72 717.702,1445.72 719.945,1445.72 \n",
       "  722.188,1445.72 722.188,1394.53 724.432,1394.53 724.432,1445.72 726.675,1445.72 728.919,1445.72 728.919,1389.95 731.162,1389.95 731.162,1445.72 \n",
       "  733.405,1445.72 735.649,1445.72 735.649,1384.64 737.892,1384.64 737.892,1445.72 740.136,1445.72 742.379,1445.72 \n",
       "  744.622,1445.72 744.622,1378.82 746.866,1378.82 746.866,1445.72 749.109,1445.72 751.353,1445.72 751.353,1372.96 753.596,1372.96 753.596,1445.72 \n",
       "  755.839,1445.72 758.083,1445.72 758.083,1366.75 760.326,1366.75 760.326,1445.72 762.57,1445.72 764.813,1445.72 \n",
       "  767.056,1445.72 767.056,1359.91 769.3,1359.91 769.3,1445.72 771.543,1445.72 773.787,1445.72 773.787,1351.99 776.03,1351.99 776.03,1445.72 \n",
       "  778.273,1445.72 780.517,1445.72 780.517,1344.58 782.76,1344.58 782.76,1445.72 785.004,1445.72 787.247,1445.72 \n",
       "  789.49,1445.72 789.49,1336.35 791.734,1336.35 791.734,1445.72 793.977,1445.72 796.221,1445.72 796.221,1327.75 798.464,1327.75 798.464,1445.72 \n",
       "  800.707,1445.72 802.951,1445.72 802.951,1319.09 805.194,1319.09 805.194,1445.72 807.438,1445.72 809.681,1445.72 \n",
       "  811.924,1445.72 811.924,1309.51 814.168,1309.51 814.168,1445.72 816.411,1445.72 818.655,1445.72 818.655,1298.41 820.898,1298.41 820.898,1445.72 \n",
       "  823.141,1445.72 825.385,1445.72 825.385,1288.63 827.628,1288.63 827.628,1445.72 829.871,1445.72 832.115,1445.72 \n",
       "  834.358,1445.72 834.358,1276.24 836.602,1276.24 836.602,1445.72 838.845,1445.72 841.088,1445.72 841.088,1265.26 843.332,1265.26 843.332,1445.72 \n",
       "  845.575,1445.72 847.819,1445.72 847.819,1252.77 850.062,1252.77 850.062,1445.72 852.305,1445.72 854.549,1445.72 \n",
       "  856.792,1445.72 856.792,1239.35 859.036,1239.35 859.036,1445.72 861.279,1445.72 863.522,1445.72 863.522,1225.91 865.766,1225.91 865.766,1445.72 \n",
       "  868.009,1445.72 870.253,1445.72 870.253,1211.9 872.496,1211.9 872.496,1445.72 874.739,1445.72 876.983,1445.72 \n",
       "  879.226,1445.72 879.226,1198.27 881.47,1198.27 881.47,1445.72 883.713,1445.72 885.956,1445.72 885.956,1182.51 888.2,1182.51 888.2,1445.72 \n",
       "  890.443,1445.72 892.687,1445.72 892.687,1166.06 894.93,1166.06 894.93,1445.72 897.173,1445.72 899.417,1445.72 \n",
       "  901.66,1445.72 901.66,1151.01 903.904,1151.01 903.904,1445.72 906.147,1445.72 908.39,1445.72 908.39,1133.51 910.634,1133.51 910.634,1445.72 \n",
       "  912.877,1445.72 915.121,1445.72 915.121,1116.13 917.364,1116.13 917.364,1445.72 919.607,1445.72 921.851,1445.72 \n",
       "  924.094,1445.72 924.094,1097.98 926.338,1097.98 926.338,1445.72 928.581,1445.72 930.824,1445.72 930.824,1078.56 933.068,1078.56 933.068,1445.72 \n",
       "  935.311,1445.72 937.555,1445.72 937.555,1059.94 939.798,1059.94 939.798,1445.72 942.041,1445.72 944.285,1445.72 \n",
       "  946.528,1445.72 946.528,1040.54 948.771,1040.54 948.771,1445.72 951.015,1445.72 953.258,1445.72 953.258,1019.33 955.502,1019.33 955.502,1445.72 \n",
       "  957.745,1445.72 959.988,1445.72 959.988,998.603 962.232,998.603 962.232,1445.72 964.475,1445.72 966.719,1445.72 \n",
       "  968.962,1445.72 968.962,978.522 971.205,978.522 971.205,1445.72 973.449,1445.72 975.692,1445.72 975.692,956.14 977.936,956.14 977.936,1445.72 \n",
       "  980.179,1445.72 982.422,1445.72 982.422,933.559 984.666,933.559 984.666,1445.72 986.909,1445.72 989.153,1445.72 \n",
       "  991.396,1445.72 991.396,912.801 993.639,912.801 993.639,1445.72 995.883,1445.72 998.126,1445.72 998.126,887.876 1000.37,887.876 1000.37,1445.72 \n",
       "  1002.61,1445.72 1004.86,1445.72 1004.86,864.569 1007.1,864.569 1007.1,1445.72 1009.34,1445.72 1011.59,1445.72 \n",
       "  1013.83,1445.72 1013.83,840.486 1016.07,840.486 1016.07,1445.72 1018.32,1445.72 1020.56,1445.72 1020.56,817.738 1022.8,817.738 1022.8,1445.72 \n",
       "  1025.05,1445.72 1027.29,1445.72 1027.29,792.22 1029.53,792.22 1029.53,1445.72 1031.78,1445.72 1034.02,1445.72 \n",
       "  1036.26,1445.72 1036.26,768.184 1038.51,768.184 1038.51,1445.72 1040.75,1445.72 1042.99,1445.72 1042.99,743.163 1045.24,743.163 1045.24,1445.72 \n",
       "  1047.48,1445.72 1049.72,1445.72 1049.72,716.286 1051.97,716.286 1051.97,1445.72 1054.21,1445.72 1056.45,1445.72 \n",
       "  1058.7,1445.72 1058.7,692.8 1060.94,692.8 1060.94,1445.72 1063.18,1445.72 1065.43,1445.72 1065.43,668.601 1067.67,668.601 1067.67,1445.72 \n",
       "  1069.91,1445.72 1072.16,1445.72 1072.16,643.688 1074.4,643.688 1074.4,1445.72 1076.65,1445.72 1078.89,1445.72 \n",
       "  1081.13,1445.72 1081.13,616.46 1083.38,616.46 1083.38,1445.72 1085.62,1445.72 1087.86,1445.72 1087.86,592.253 1090.11,592.253 1090.11,1445.72 \n",
       "  1092.35,1445.72 1094.59,1445.72 1094.59,567.211 1096.84,567.211 1096.84,1445.72 1099.08,1445.72 1101.32,1445.72 \n",
       "  1103.57,1445.72 1103.57,542.046 1105.81,542.046 1105.81,1445.72 1108.05,1445.72 1110.3,1445.72 1110.3,517.438 1112.54,517.438 1112.54,1445.72 \n",
       "  1114.78,1445.72 1117.03,1445.72 1117.03,492.949 1119.27,492.949 1119.27,1445.72 1121.51,1445.72 1123.76,1445.72 \n",
       "  1126,1445.72 1126,469.08 1128.24,469.08 1128.24,1445.72 1130.49,1445.72 1132.73,1445.72 1132.73,445.363 1134.97,445.363 1134.97,1445.72 \n",
       "  1137.22,1445.72 1139.46,1445.72 1139.46,421.785 1141.7,421.785 1141.7,1445.72 1143.95,1445.72 1146.19,1445.72 \n",
       "  1148.43,1445.72 1148.43,398.617 1150.68,398.617 1150.68,1445.72 1152.92,1445.72 1155.16,1445.72 1155.16,376.425 1157.41,376.425 1157.41,1445.72 \n",
       "  1159.65,1445.72 1161.89,1445.72 1161.89,353.392 1164.14,353.392 1164.14,1445.72 1166.38,1445.72 1168.62,1445.72 \n",
       "  1170.87,1445.72 1170.87,330.718 1173.11,330.718 1173.11,1445.72 1175.35,1445.72 1177.6,1445.72 1177.6,312.419 1179.84,312.419 1179.84,1445.72 \n",
       "  1182.08,1445.72 1184.33,1445.72 1184.33,290.48 1186.57,290.48 1186.57,1445.72 1188.81,1445.72 1191.06,1445.72 \n",
       "  1193.3,1445.72 1193.3,271.812 1195.55,271.812 1195.55,1445.72 1197.79,1445.72 1200.03,1445.72 1200.03,253.951 1202.28,253.951 1202.28,1445.72 \n",
       "  1204.52,1445.72 1206.76,1445.72 1206.76,235.837 1209.01,235.837 1209.01,1445.72 1211.25,1445.72 1213.49,1445.72 \n",
       "  1215.74,1445.72 1215.74,220.17 1217.98,220.17 1217.98,1445.72 1220.22,1445.72 1222.47,1445.72 1222.47,202.939 1224.71,202.939 1224.71,1445.72 \n",
       "  1226.95,1445.72 1229.2,1445.72 1229.2,188.883 1231.44,188.883 1231.44,1445.72 1233.68,1445.72 1235.93,1445.72 \n",
       "  1238.17,1445.72 1238.17,171.861 1240.41,171.861 1240.41,1445.72 1242.66,1445.72 1244.9,1445.72 1244.9,160.743 1247.14,160.743 1247.14,1445.72 \n",
       "  1249.39,1445.72 1251.63,1445.72 1251.63,146.892 1253.87,146.892 1253.87,1445.72 1256.12,1445.72 1258.36,1445.72 \n",
       "  1260.6,1445.72 1260.6,137.325 1262.85,137.325 1262.85,1445.72 1265.09,1445.72 1267.33,1445.72 1267.33,126.078 1269.58,126.078 1269.58,1445.72 \n",
       "  1271.82,1445.72 1274.06,1445.72 1274.06,116.115 1276.31,116.115 1276.31,1445.72 1278.55,1445.72 1280.79,1445.72 \n",
       "  1283.04,1445.72 1283.04,108.211 1285.28,108.211 1285.28,1445.72 1287.52,1445.72 1289.77,1445.72 1289.77,103.631 1292.01,103.631 1292.01,1445.72 \n",
       "  1294.25,1445.72 1296.5,1445.72 1296.5,95.8529 1298.74,95.8529 1298.74,1445.72 1300.98,1445.72 1303.23,1445.72 \n",
       "  1305.47,1445.72 1305.47,93.6319 1307.71,93.6319 1307.71,1445.72 1309.96,1445.72 1312.2,1445.72 1312.2,89.5432 1314.45,89.5432 1314.45,1445.72 \n",
       "  1316.69,1445.72 1318.93,1445.72 1318.93,87.9763 1321.18,87.9763 1321.18,1445.72 1323.42,1445.72 1325.66,1445.72 \n",
       "  1327.91,1445.72 1327.91,88.3983 1330.15,88.3983 1330.15,1445.72 1332.39,1445.72 1334.64,1445.72 1334.64,90.1672 1336.88,90.1672 1336.88,1445.72 \n",
       "  1339.12,1445.72 1341.37,1445.72 1341.37,92.0051 1343.61,92.0051 1343.61,1445.72 1345.85,1445.72 1348.1,1445.72 \n",
       "  1350.34,1445.72 1350.34,92.4804 1352.58,92.4804 1352.58,1445.72 1354.83,1445.72 1357.07,1445.72 1357.07,98.1338 1359.31,98.1338 1359.31,1445.72 \n",
       "  1361.56,1445.72 1363.8,1445.72 1363.8,103.528 1366.04,103.528 1366.04,1445.72 1368.29,1445.72 1370.53,1445.72 \n",
       "  1372.77,1445.72 1372.77,108.951 1375.02,108.951 1375.02,1445.72 1377.26,1445.72 1379.5,1445.72 1379.5,118.101 1381.75,118.101 1381.75,1445.72 \n",
       "  1383.99,1445.72 1386.23,1445.72 1386.23,127.006 1388.48,127.006 1388.48,1445.72 1390.72,1445.72 1392.96,1445.72 \n",
       "  1395.21,1445.72 1395.21,138.091 1397.45,138.091 1397.45,1445.72 1399.69,1445.72 1401.94,1445.72 1401.94,148.573 1404.18,148.573 1404.18,1445.72 \n",
       "  1406.42,1445.72 1408.67,1445.72 1408.67,161.104 1410.91,161.104 1410.91,1445.72 1413.15,1445.72 1415.4,1445.72 \n",
       "  1417.64,1445.72 1417.64,173.203 1419.88,173.203 1419.88,1445.72 1422.13,1445.72 1424.37,1445.72 1424.37,189.112 1426.61,189.112 1426.61,1445.72 \n",
       "  1428.86,1445.72 1431.1,1445.72 1431.1,200.604 1433.34,200.604 1433.34,1445.72 1435.59,1445.72 1437.83,1445.72 \n",
       "  1440.08,1445.72 1440.08,220.458 1442.32,220.458 1442.32,1445.72 1444.56,1445.72 1446.81,1445.72 1446.81,234.307 1449.05,234.307 1449.05,1445.72 \n",
       "  1451.29,1445.72 1453.54,1445.72 1453.54,256.033 1455.78,256.033 1455.78,1445.72 1458.02,1445.72 1460.27,1445.72 \n",
       "  1462.51,1445.72 1462.51,271.575 1464.75,271.575 1464.75,1445.72 1467,1445.72 1469.24,1445.72 1469.24,290.323 1471.48,290.323 1471.48,1445.72 \n",
       "  1473.73,1445.72 1475.97,1445.72 1475.97,311.612 1478.21,311.612 1478.21,1445.72 1480.46,1445.72 1482.7,1445.72 \n",
       "  1484.94,1445.72 1484.94,331.652 1487.19,331.652 1487.19,1445.72 1489.43,1445.72 1491.67,1445.72 1491.67,353.938 1493.92,353.938 1493.92,1445.72 \n",
       "  1496.16,1445.72 1498.4,1445.72 1498.4,375.379 1500.65,375.379 1500.65,1445.72 1502.89,1445.72 1505.13,1445.72 \n",
       "  1507.38,1445.72 1507.38,396.525 1509.62,396.525 1509.62,1445.72 1511.86,1445.72 1514.11,1445.72 1514.11,421.497 1516.35,421.497 1516.35,1445.72 \n",
       "  1518.59,1445.72 1520.84,1445.72 1520.84,443.751 1523.08,443.751 1523.08,1445.72 1525.32,1445.72 1527.57,1445.72 \n",
       "  1529.81,1445.72 1529.81,468.566 1532.05,468.566 1532.05,1445.72 1534.3,1445.72 1536.54,1445.72 1536.54,491.139 1538.78,491.139 1538.78,1445.72 \n",
       "  1541.03,1445.72 1543.27,1445.72 1543.27,518.177 1545.51,518.177 1545.51,1445.72 1547.76,1445.72 1550,1445.72 \n",
       "  1552.24,1445.72 1552.24,541.676 1554.49,541.676 1554.49,1445.72 1556.73,1445.72 1558.98,1445.72 1558.98,567.116 1561.22,567.116 1561.22,1445.72 \n",
       "  1563.46,1445.72 1565.71,1445.72 1565.71,590.984 1567.95,590.984 1567.95,1445.72 1570.19,1445.72 1572.44,1445.72 \n",
       "  1574.68,1445.72 1574.68,616.426 1576.92,616.426 1576.92,1445.72 1579.17,1445.72 1581.41,1445.72 1581.41,642.4 1583.65,642.4 1583.65,1445.72 \n",
       "  1585.9,1445.72 1588.14,1445.72 1588.14,666.647 1590.38,666.647 1590.38,1445.72 1592.63,1445.72 1594.87,1445.72 \n",
       "  1597.11,1445.72 1597.11,693.263 1599.36,693.263 1599.36,1445.72 1601.6,1445.72 1603.84,1445.72 1603.84,718.22 1606.09,718.22 1606.09,1445.72 \n",
       "  1608.33,1445.72 1610.57,1445.72 1610.57,743.522 1612.82,743.522 1612.82,1445.72 1615.06,1445.72 1617.3,1445.72 \n",
       "  1619.55,1445.72 1619.55,768.071 1621.79,768.071 1621.79,1445.72 1624.03,1445.72 1626.28,1445.72 1626.28,792.507 1628.52,792.507 1628.52,1445.72 \n",
       "  1630.76,1445.72 1633.01,1445.72 1633.01,817.171 1635.25,817.171 1635.25,1445.72 1637.49,1445.72 1639.74,1445.72 \n",
       "  1641.98,1445.72 1641.98,839.675 1644.22,839.675 1644.22,1445.72 1646.47,1445.72 1648.71,1445.72 1648.71,863.733 1650.95,863.733 1650.95,1445.72 \n",
       "  1653.2,1445.72 1655.44,1445.72 1655.44,887.478 1657.68,887.478 1657.68,1445.72 1659.93,1445.72 1662.17,1445.72 \n",
       "  1664.41,1445.72 1664.41,910.887 1666.66,910.887 1666.66,1445.72 1668.9,1445.72 1671.14,1445.72 1671.14,933.827 1673.39,933.827 1673.39,1445.72 \n",
       "  1675.63,1445.72 1677.88,1445.72 1677.88,954.911 1680.12,954.911 1680.12,1445.72 1682.36,1445.72 1684.61,1445.72 \n",
       "  1686.85,1445.72 1686.85,978.795 1689.09,978.795 1689.09,1445.72 1691.34,1445.72 1693.58,1445.72 1693.58,999.001 1695.82,999.001 1695.82,1445.72 \n",
       "  1698.07,1445.72 1700.31,1445.72 1700.31,1020.36 1702.55,1020.36 1702.55,1445.72 1704.8,1445.72 1707.04,1445.72 \n",
       "  1709.28,1445.72 1709.28,1040.41 1711.53,1040.41 1711.53,1445.72 1713.77,1445.72 1716.01,1445.72 1716.01,1060.44 1718.26,1060.44 1718.26,1445.72 \n",
       "  1720.5,1445.72 1722.74,1445.72 1722.74,1078.57 1724.99,1078.57 1724.99,1445.72 1727.23,1445.72 1729.47,1445.72 \n",
       "  1731.72,1445.72 1731.72,1095.94 1733.96,1095.94 1733.96,1445.72 1736.2,1445.72 1738.45,1445.72 1738.45,1116.05 1740.69,1116.05 1740.69,1445.72 \n",
       "  1742.93,1445.72 1745.18,1445.72 1745.18,1132.35 1747.42,1132.35 1747.42,1445.72 1749.66,1445.72 1751.91,1445.72 \n",
       "  1754.15,1445.72 1754.15,1150.32 1756.39,1150.32 1756.39,1445.72 1758.64,1445.72 1760.88,1445.72 1760.88,1166.81 1763.12,1166.81 1763.12,1445.72 \n",
       "  1765.37,1445.72 1767.61,1445.72 1767.61,1182.69 1769.85,1182.69 1769.85,1445.72 1772.1,1445.72 1774.34,1445.72 \n",
       "  1776.58,1445.72 1776.58,1197.86 1778.83,1197.86 1778.83,1445.72 1781.07,1445.72 1783.31,1445.72 1783.31,1212.94 1785.56,1212.94 1785.56,1445.72 \n",
       "  1787.8,1445.72 1790.04,1445.72 1790.04,1226.62 1792.29,1226.62 1792.29,1445.72 1794.53,1445.72 1796.78,1445.72 \n",
       "  1799.02,1445.72 1799.02,1238.62 1801.26,1238.62 1801.26,1445.72 1803.51,1445.72 1805.75,1445.72 1805.75,1253.29 1807.99,1253.29 1807.99,1445.72 \n",
       "  1810.24,1445.72 1812.48,1445.72 1812.48,1265.58 1814.72,1265.58 1814.72,1445.72 1816.97,1445.72 1819.21,1445.72 \n",
       "  1821.45,1445.72 1821.45,1276.74 1823.7,1276.74 1823.7,1445.72 1825.94,1445.72 1828.18,1445.72 1828.18,1287.52 1830.43,1287.52 1830.43,1445.72 \n",
       "  1832.67,1445.72 1834.91,1445.72 1834.91,1298.51 1837.16,1298.51 1837.16,1445.72 1839.4,1445.72 1841.64,1445.72 \n",
       "  1843.89,1445.72 1843.89,1309.31 1846.13,1309.31 1846.13,1445.72 1848.37,1445.72 1850.62,1445.72 1850.62,1318.03 1852.86,1318.03 1852.86,1445.72 \n",
       "  1855.1,1445.72 1857.35,1445.72 1857.35,1328.13 1859.59,1328.13 1859.59,1445.72 1861.83,1445.72 1864.08,1445.72 \n",
       "  1866.32,1445.72 1866.32,1336.07 1868.56,1336.07 1868.56,1445.72 1870.81,1445.72 1873.05,1445.72 1873.05,1344.75 1875.29,1344.75 1875.29,1445.72 \n",
       "  1877.54,1445.72 1879.78,1445.72 1879.78,1352.48 1882.02,1352.48 1882.02,1445.72 1884.27,1445.72 1886.51,1445.72 \n",
       "  1888.75,1445.72 1888.75,1359.31 1891,1359.31 1891,1445.72 1893.24,1445.72 1895.48,1445.72 1895.48,1366.41 1897.73,1366.41 1897.73,1445.72 \n",
       "  1899.97,1445.72 1902.21,1445.72 1902.21,1373.27 1904.46,1373.27 1904.46,1445.72 1906.7,1445.72 1908.94,1445.72 \n",
       "  1911.19,1445.72 1911.19,1378.92 1913.43,1378.92 1913.43,1445.72 1915.68,1445.72 1917.92,1445.72 1917.92,1384.68 1920.16,1384.68 1920.16,1445.72 \n",
       "  1922.41,1445.72 1924.65,1445.72 1924.65,1390.03 1926.89,1390.03 1926.89,1445.72 1929.14,1445.72 1931.38,1445.72 \n",
       "  1933.62,1445.72 1933.62,1394.62 1935.87,1394.62 1935.87,1445.72 1938.11,1445.72 1940.35,1445.72 1940.35,1399.42 1942.6,1399.42 1942.6,1445.72 \n",
       "  1944.84,1445.72 1947.08,1445.72 1947.08,1403.51 1949.33,1403.51 1949.33,1445.72 1951.57,1445.72 1953.81,1445.72 \n",
       "  1956.06,1445.72 1956.06,1407.13 1958.3,1407.13 1958.3,1445.72 1960.54,1445.72 1962.79,1445.72 1962.79,1410.75 1965.03,1410.75 1965.03,1445.72 \n",
       "  1967.27,1445.72 1969.52,1445.72 1969.52,1414.31 1971.76,1414.31 1971.76,1445.72 1974,1445.72 1976.25,1445.72 \n",
       "  1978.49,1445.72 1978.49,1417.37 1980.73,1417.37 1980.73,1445.72 1982.98,1445.72 1985.22,1445.72 1985.22,1420.3 1987.46,1420.3 1987.46,1445.72 \n",
       "  1989.71,1445.72 1991.95,1445.72 1991.95,1422.63 1994.19,1422.63 1994.19,1445.72 1996.44,1445.72 1998.68,1445.72 \n",
       "  2000.92,1445.72 2000.92,1425.29 2003.17,1425.29 2003.17,1445.72 2005.41,1445.72 2007.65,1445.72 2007.65,1427.54 2009.9,1427.54 2009.9,1445.72 \n",
       "  2012.14,1445.72 2014.38,1445.72 2014.38,1429.32 2016.63,1429.32 2016.63,1445.72 2018.87,1445.72 2021.11,1445.72 \n",
       "  2023.36,1445.72 2023.36,1431.39 2025.6,1431.39 2025.6,1445.72 2027.84,1445.72 2030.09,1445.72 2030.09,1432.9 2032.33,1432.9 2032.33,1445.72 \n",
       "  2034.58,1445.72 2036.82,1445.72 2036.82,1434.48 2039.06,1434.48 2039.06,1445.72 2041.31,1445.72 2043.55,1445.72 \n",
       "  2045.79,1445.72 2045.79,1435.62 2048.04,1435.62 2048.04,1445.72 2050.28,1445.72 2052.52,1445.72 2052.52,1437.06 2054.77,1437.06 2054.77,1445.72 \n",
       "  2057.01,1445.72 2059.25,1445.72 2059.25,1438.01 2061.5,1438.01 2061.5,1445.72 2063.74,1445.72 2065.98,1445.72 \n",
       "  2068.23,1445.72 2068.23,1438.93 2070.47,1438.93 2070.47,1445.72 2072.71,1445.72 2074.96,1445.72 2074.96,1439.86 2077.2,1439.86 2077.2,1445.72 \n",
       "  2079.44,1445.72 2081.69,1445.72 2081.69,1440.55 2083.93,1440.55 2083.93,1445.72 2086.17,1445.72 2088.42,1445.72 \n",
       "  2090.66,1445.72 2090.66,1441.44 2092.9,1441.44 2092.9,1445.72 2095.15,1445.72 2097.39,1445.72 2097.39,1442.02 2099.63,1442.02 2099.63,1445.72 \n",
       "  2101.88,1445.72 2104.12,1445.72 2104.12,1442.51 2106.36,1442.51 2106.36,1445.72 2108.61,1445.72 2110.85,1445.72 \n",
       "  2113.09,1445.72 2113.09,1443.05 2115.34,1443.05 2115.34,1445.72 2117.58,1445.72 2119.82,1445.72 2119.82,1443.47 2122.07,1443.47 2122.07,1445.72 \n",
       "  2124.31,1445.72 2126.55,1445.72 2126.55,1443.84 2128.8,1443.84 2128.8,1445.72 2131.04,1445.72 2133.28,1445.72 \n",
       "  2135.53,1445.72 2135.53,1444.1 2137.77,1444.1 2137.77,1445.72 2140.01,1445.72 2142.26,1445.72 2142.26,1444.44 2144.5,1444.44 2144.5,1445.72 \n",
       "  2146.74,1445.72 2148.99,1445.72 2148.99,1444.67 2151.23,1444.67 2151.23,1445.72 2153.48,1445.72 2155.72,1445.72 \n",
       "  2157.96,1445.72 2157.96,1444.91 2160.21,1444.91 2160.21,1445.72 2162.45,1445.72 2164.69,1445.72 2164.69,1445.02 2166.94,1445.02 2166.94,1445.72 \n",
       "  2169.18,1445.72 2171.42,1445.72 2171.42,1445.15 2173.67,1445.15 2173.67,1445.72 2175.91,1445.72 2178.15,1445.72 \n",
       "  2180.4,1445.72 2180.4,1445.27 2182.64,1445.27 2182.64,1445.72 2184.88,1445.72 2187.13,1445.72 2187.13,1445.38 2189.37,1445.38 2189.37,1445.72 \n",
       "  2191.61,1445.72 2193.86,1445.72 2193.86,1445.45 2196.1,1445.45 2196.1,1445.72 2198.34,1445.72 2200.59,1445.72 \n",
       "  2202.83,1445.72 2202.83,1445.5 2205.07,1445.5 2205.07,1445.72 2207.32,1445.72 2209.56,1445.72 2209.56,1445.58 2211.8,1445.58 2211.8,1445.72 \n",
       "  2214.05,1445.72 2216.29,1445.72 2216.29,1445.61 2218.53,1445.61 2218.53,1445.72 2220.78,1445.72 2223.02,1445.72 \n",
       "  2225.26,1445.72 2225.26,1445.63 2227.51,1445.63 2227.51,1445.72 2229.75,1445.72 2231.99,1445.72 2231.99,1445.66 2234.24,1445.66 2234.24,1445.72 \n",
       "  2236.48,1445.72 2238.72,1445.72 2238.72,1445.67 2240.97,1445.67 2240.97,1445.72 2243.21,1445.72 2245.45,1445.72 \n",
       "  2247.7,1445.72 2247.7,1445.69 2249.94,1445.69 2249.94,1445.72 2252.18,1445.72 2254.43,1445.72 2254.43,1445.7 2256.67,1445.7 2256.67,1445.72 \n",
       "  2258.91,1445.72 2261.16,1445.72 2261.16,1445.7 2263.4,1445.7 2263.4,1445.72 2265.64,1445.72 2267.89,1445.72 \n",
       "  2270.13,1445.72 2270.13,1445.71 2272.38,1445.71 2272.38,1445.72 2274.62,1445.72 2276.86,1445.72 2276.86,1445.71 2279.11,1445.71 2279.11,1445.72 \n",
       "  2281.35,1445.72 2283.59,1445.72 2283.59,1445.71 2285.84,1445.71 2285.84,1445.72 2288.08,1445.72 2290.32,1445.72 \n",
       "  2292.57,1445.72 2292.57,1445.71 2294.81,1445.71 2294.81,1445.72 \n",
       "  \"/>\n",
       "<path clip-path=\"url(#clip730)\" d=\"\n",
       "M2004.58 198.898 L2284.51 198.898 L2284.51 95.2176 L2004.58 95.2176  Z\n",
       "  \" fill=\"#ffffff\" fill-rule=\"evenodd\" fill-opacity=\"1\"/>\n",
       "<polyline clip-path=\"url(#clip730)\" style=\"stroke:#000000; stroke-linecap:round; stroke-linejoin:round; stroke-width:4; stroke-opacity:1; fill:none\" points=\"\n",
       "  2004.58,198.898 2284.51,198.898 2284.51,95.2176 2004.58,95.2176 2004.58,198.898 \n",
       "  \"/>\n",
       "<polyline clip-path=\"url(#clip730)\" style=\"stroke:#009af9; stroke-linecap:round; stroke-linejoin:round; stroke-width:4; stroke-opacity:1; fill:none\" points=\"\n",
       "  2027.33,147.058 2163.83,147.058 \n",
       "  \"/>\n",
       "<path clip-path=\"url(#clip730)\" d=\"M2200.42 166.745 Q2198.61 171.375 2196.9 172.787 Q2195.19 174.199 2192.32 174.199 L2188.92 174.199 L2188.92 170.634 L2191.42 170.634 Q2193.18 170.634 2194.15 169.8 Q2195.12 168.967 2196.3 165.865 L2197.06 163.921 L2186.58 138.412 L2191.09 138.412 L2199.19 158.689 L2207.3 138.412 L2211.81 138.412 L2200.42 166.745 Z\" fill=\"#000000\" fill-rule=\"evenodd\" fill-opacity=\"1\" /><path clip-path=\"url(#clip730)\" d=\"M2219.1 160.402 L2226.74 160.402 L2226.74 134.037 L2218.43 135.703 L2218.43 131.444 L2226.69 129.778 L2231.37 129.778 L2231.37 160.402 L2239.01 160.402 L2239.01 164.338 L2219.1 164.338 L2219.1 160.402 Z\" fill=\"#000000\" fill-rule=\"evenodd\" fill-opacity=\"1\" /></svg>\n"
      ]
     },
     "execution_count": 24,
     "metadata": {},
     "output_type": "execute_result"
    }
   ],
   "source": [
    "using Plots\n",
    "\n",
    "histogram(sample_mean)"
   ]
  },
  {
   "cell_type": "markdown",
   "id": "fd8169c6-72ce-4e59-bf8b-1ce6e566c7e9",
   "metadata": {},
   "source": [
    "* 교과서에 나올법한 정규분포 그림이 그려짐 \n",
    "\n",
    "* 표본평균의 평균은 모평균에 수렴한다는 중심극한정리를 그래프로서 이해할 수 있음"
   ]
  },
  {
   "cell_type": "code",
   "execution_count": 25,
   "id": "03c53a1c-c098-4509-8b76-00ab51cba90c",
   "metadata": {},
   "outputs": [
    {
     "data": {
      "text/plain": [
       "1.5"
      ]
     },
     "execution_count": 25,
     "metadata": {},
     "output_type": "execute_result"
    }
   ],
   "source": [
    "# input인 1, 2, 3, 4, 5, 6의 숫자가 나온 적이 있다면 MSE는 0이 나올 것임\n",
    "\n",
    "minimum(tmp)"
   ]
  },
  {
   "cell_type": "code",
   "execution_count": 26,
   "id": "600f1f8a-12e8-4131-9c11-384a8b11a0d7",
   "metadata": {},
   "outputs": [
    {
     "data": {
      "text/plain": [
       "(1.5, 77476031)"
      ]
     },
     "execution_count": 26,
     "metadata": {},
     "output_type": "execute_result"
    }
   ],
   "source": [
    "# tmp의 최소값 찾기\n",
    "\n",
    "findmin(tmp)"
   ]
  },
  {
   "cell_type": "code",
   "execution_count": 27,
   "id": "f41f29a2-3af9-4163-b11e-cef26cfea963",
   "metadata": {},
   "outputs": [
    {
     "name": "stdout",
     "output_type": "stream",
     "text": [
      "[1 1 1 1 2 3]\n",
      "[1, 2, 3, 4, 5, 6]\n"
     ]
    }
   ],
   "source": [
    "println(sort!(rand(seed!(findmin(tmp)[2]), (1:45), 6))')\n",
    "println(input)"
   ]
  },
  {
   "cell_type": "code",
   "execution_count": 28,
   "id": "0548c7cd-56b9-4127-b3b3-c859170ce8ac",
   "metadata": {},
   "outputs": [
    {
     "data": {
      "text/plain": [
       "Int64"
      ]
     },
     "execution_count": 28,
     "metadata": {},
     "output_type": "execute_result"
    }
   ],
   "source": [
    "typeof(floor(Int, 1e+8))"
   ]
  },
  {
   "cell_type": "code",
   "execution_count": 29,
   "id": "ddd0b39a-0cb5-4da7-bf7e-0ad666653ea9",
   "metadata": {},
   "outputs": [],
   "source": [
    "# 1부터 100까지를 이용한 실험(표본의 수가 작을 때)\n",
    "\n",
    "using StatsBase\n",
    "\n",
    "sample_mean = [1.0:1:100.0;]\n",
    "\n",
    "for i in 1:100\n",
    "    # println(sort!(rand(seed!(i), (1:45), 6)))\n",
    "    sample_mean[i] = mean(sort!(rand(seed!(i), (1:45), 6)))\n",
    "end"
   ]
  },
  {
   "cell_type": "code",
   "execution_count": 30,
   "id": "d4c884f8-b981-40c4-bbc5-7b6a1381f871",
   "metadata": {},
   "outputs": [
    {
     "data": {
      "text/plain": [
       "100-element Vector{Float64}:\n",
       " 22.0\n",
       " 25.666666666666668\n",
       " 27.5\n",
       " 28.166666666666668\n",
       " 24.666666666666668\n",
       " 13.666666666666666\n",
       " 24.666666666666668\n",
       " 15.833333333333334\n",
       " 16.666666666666668\n",
       " 13.5\n",
       " 28.5\n",
       " 25.5\n",
       " 25.5\n",
       "  ⋮\n",
       " 19.833333333333332\n",
       " 27.0\n",
       " 23.0\n",
       " 20.833333333333332\n",
       " 16.666666666666668\n",
       " 31.666666666666668\n",
       " 25.833333333333332\n",
       " 14.666666666666666\n",
       " 32.0\n",
       " 29.333333333333332\n",
       " 21.5\n",
       " 16.166666666666668"
      ]
     },
     "execution_count": 30,
     "metadata": {},
     "output_type": "execute_result"
    }
   ],
   "source": [
    "sample_mean"
   ]
  },
  {
   "cell_type": "code",
   "execution_count": 31,
   "id": "c236a797-c672-4387-a310-a5f9aff75643",
   "metadata": {},
   "outputs": [
    {
     "data": {
      "image/svg+xml": [
       "<?xml version=\"1.0\" encoding=\"utf-8\"?>\n",
       "<svg xmlns=\"http://www.w3.org/2000/svg\" xmlns:xlink=\"http://www.w3.org/1999/xlink\" width=\"600\" height=\"400\" viewBox=\"0 0 2400 1600\">\n",
       "<defs>\n",
       "  <clipPath id=\"clip770\">\n",
       "    <rect x=\"0\" y=\"0\" width=\"2400\" height=\"1600\"/>\n",
       "  </clipPath>\n",
       "</defs>\n",
       "<path clip-path=\"url(#clip770)\" d=\"\n",
       "M0 1600 L2400 1600 L2400 0 L0 0  Z\n",
       "  \" fill=\"#ffffff\" fill-rule=\"evenodd\" fill-opacity=\"1\"/>\n",
       "<defs>\n",
       "  <clipPath id=\"clip771\">\n",
       "    <rect x=\"480\" y=\"0\" width=\"1681\" height=\"1600\"/>\n",
       "  </clipPath>\n",
       "</defs>\n",
       "<path clip-path=\"url(#clip770)\" d=\"\n",
       "M140.696 1486.45 L2352.76 1486.45 L2352.76 47.2441 L140.696 47.2441  Z\n",
       "  \" fill=\"#ffffff\" fill-rule=\"evenodd\" fill-opacity=\"1\"/>\n",
       "<defs>\n",
       "  <clipPath id=\"clip772\">\n",
       "    <rect x=\"140\" y=\"47\" width=\"2213\" height=\"1440\"/>\n",
       "  </clipPath>\n",
       "</defs>\n",
       "<polyline clip-path=\"url(#clip772)\" style=\"stroke:#000000; stroke-linecap:round; stroke-linejoin:round; stroke-width:2; stroke-opacity:0.1; fill:none\" points=\"\n",
       "  262.363,1486.45 262.363,47.2441 \n",
       "  \"/>\n",
       "<polyline clip-path=\"url(#clip772)\" style=\"stroke:#000000; stroke-linecap:round; stroke-linejoin:round; stroke-width:2; stroke-opacity:0.1; fill:none\" points=\"\n",
       "  656.108,1486.45 656.108,47.2441 \n",
       "  \"/>\n",
       "<polyline clip-path=\"url(#clip772)\" style=\"stroke:#000000; stroke-linecap:round; stroke-linejoin:round; stroke-width:2; stroke-opacity:0.1; fill:none\" points=\"\n",
       "  1049.85,1486.45 1049.85,47.2441 \n",
       "  \"/>\n",
       "<polyline clip-path=\"url(#clip772)\" style=\"stroke:#000000; stroke-linecap:round; stroke-linejoin:round; stroke-width:2; stroke-opacity:0.1; fill:none\" points=\"\n",
       "  1443.6,1486.45 1443.6,47.2441 \n",
       "  \"/>\n",
       "<polyline clip-path=\"url(#clip772)\" style=\"stroke:#000000; stroke-linecap:round; stroke-linejoin:round; stroke-width:2; stroke-opacity:0.1; fill:none\" points=\"\n",
       "  1837.34,1486.45 1837.34,47.2441 \n",
       "  \"/>\n",
       "<polyline clip-path=\"url(#clip772)\" style=\"stroke:#000000; stroke-linecap:round; stroke-linejoin:round; stroke-width:2; stroke-opacity:0.1; fill:none\" points=\"\n",
       "  2231.09,1486.45 2231.09,47.2441 \n",
       "  \"/>\n",
       "<polyline clip-path=\"url(#clip770)\" style=\"stroke:#000000; stroke-linecap:round; stroke-linejoin:round; stroke-width:4; stroke-opacity:1; fill:none\" points=\"\n",
       "  140.696,1486.45 2352.76,1486.45 \n",
       "  \"/>\n",
       "<polyline clip-path=\"url(#clip770)\" style=\"stroke:#000000; stroke-linecap:round; stroke-linejoin:round; stroke-width:4; stroke-opacity:1; fill:none\" points=\"\n",
       "  262.363,1486.45 262.363,1467.55 \n",
       "  \"/>\n",
       "<polyline clip-path=\"url(#clip770)\" style=\"stroke:#000000; stroke-linecap:round; stroke-linejoin:round; stroke-width:4; stroke-opacity:1; fill:none\" points=\"\n",
       "  656.108,1486.45 656.108,1467.55 \n",
       "  \"/>\n",
       "<polyline clip-path=\"url(#clip770)\" style=\"stroke:#000000; stroke-linecap:round; stroke-linejoin:round; stroke-width:4; stroke-opacity:1; fill:none\" points=\"\n",
       "  1049.85,1486.45 1049.85,1467.55 \n",
       "  \"/>\n",
       "<polyline clip-path=\"url(#clip770)\" style=\"stroke:#000000; stroke-linecap:round; stroke-linejoin:round; stroke-width:4; stroke-opacity:1; fill:none\" points=\"\n",
       "  1443.6,1486.45 1443.6,1467.55 \n",
       "  \"/>\n",
       "<polyline clip-path=\"url(#clip770)\" style=\"stroke:#000000; stroke-linecap:round; stroke-linejoin:round; stroke-width:4; stroke-opacity:1; fill:none\" points=\"\n",
       "  1837.34,1486.45 1837.34,1467.55 \n",
       "  \"/>\n",
       "<polyline clip-path=\"url(#clip770)\" style=\"stroke:#000000; stroke-linecap:round; stroke-linejoin:round; stroke-width:4; stroke-opacity:1; fill:none\" points=\"\n",
       "  2231.09,1486.45 2231.09,1467.55 \n",
       "  \"/>\n",
       "<path clip-path=\"url(#clip770)\" d=\"M237.05 1544.91 L244.689 1544.91 L244.689 1518.55 L236.379 1520.21 L236.379 1515.95 L244.643 1514.29 L249.319 1514.29 L249.319 1544.91 L256.958 1544.91 L256.958 1548.85 L237.05 1548.85 L237.05 1544.91 Z\" fill=\"#000000\" fill-rule=\"evenodd\" fill-opacity=\"1\" /><path clip-path=\"url(#clip770)\" d=\"M276.402 1517.37 Q272.791 1517.37 270.962 1520.93 Q269.157 1524.47 269.157 1531.6 Q269.157 1538.71 270.962 1542.27 Q272.791 1545.82 276.402 1545.82 Q280.036 1545.82 281.842 1542.27 Q283.671 1538.71 283.671 1531.6 Q283.671 1524.47 281.842 1520.93 Q280.036 1517.37 276.402 1517.37 M276.402 1513.66 Q282.212 1513.66 285.268 1518.27 Q288.346 1522.85 288.346 1531.6 Q288.346 1540.33 285.268 1544.94 Q282.212 1549.52 276.402 1549.52 Q270.592 1549.52 267.513 1544.94 Q264.458 1540.33 264.458 1531.6 Q264.458 1522.85 267.513 1518.27 Q270.592 1513.66 276.402 1513.66 Z\" fill=\"#000000\" fill-rule=\"evenodd\" fill-opacity=\"1\" /><path clip-path=\"url(#clip770)\" d=\"M631.293 1544.91 L638.932 1544.91 L638.932 1518.55 L630.622 1520.21 L630.622 1515.95 L638.886 1514.29 L643.562 1514.29 L643.562 1544.91 L651.201 1544.91 L651.201 1548.85 L631.293 1548.85 L631.293 1544.91 Z\" fill=\"#000000\" fill-rule=\"evenodd\" fill-opacity=\"1\" /><path clip-path=\"url(#clip770)\" d=\"M660.691 1514.29 L679.048 1514.29 L679.048 1518.22 L664.974 1518.22 L664.974 1526.7 Q665.992 1526.35 667.011 1526.19 Q668.029 1526 669.048 1526 Q674.835 1526 678.214 1529.17 Q681.594 1532.34 681.594 1537.76 Q681.594 1543.34 678.122 1546.44 Q674.65 1549.52 668.33 1549.52 Q666.154 1549.52 663.886 1549.15 Q661.64 1548.78 659.233 1548.04 L659.233 1543.34 Q661.316 1544.47 663.538 1545.03 Q665.761 1545.58 668.238 1545.58 Q672.242 1545.58 674.58 1543.48 Q676.918 1541.37 676.918 1537.76 Q676.918 1534.15 674.58 1532.04 Q672.242 1529.94 668.238 1529.94 Q666.363 1529.94 664.488 1530.35 Q662.636 1530.77 660.691 1531.65 L660.691 1514.29 Z\" fill=\"#000000\" fill-rule=\"evenodd\" fill-opacity=\"1\" /><path clip-path=\"url(#clip770)\" d=\"M1028.63 1544.91 L1044.95 1544.91 L1044.95 1548.85 L1023 1548.85 L1023 1544.91 Q1025.66 1542.16 1030.25 1537.53 Q1034.85 1532.88 1036.03 1531.53 Q1038.28 1529.01 1039.16 1527.27 Q1040.06 1525.51 1040.06 1523.82 Q1040.06 1521.07 1038.12 1519.33 Q1036.2 1517.6 1033.09 1517.6 Q1030.89 1517.6 1028.44 1518.36 Q1026.01 1519.13 1023.23 1520.68 L1023.23 1515.95 Q1026.06 1514.82 1028.51 1514.24 Q1030.96 1513.66 1033 1513.66 Q1038.37 1513.66 1041.57 1516.35 Q1044.76 1519.03 1044.76 1523.52 Q1044.76 1525.65 1043.95 1527.57 Q1043.16 1529.47 1041.06 1532.07 Q1040.48 1532.74 1037.38 1535.95 Q1034.27 1539.15 1028.63 1544.91 Z\" fill=\"#000000\" fill-rule=\"evenodd\" fill-opacity=\"1\" /><path clip-path=\"url(#clip770)\" d=\"M1064.76 1517.37 Q1061.15 1517.37 1059.32 1520.93 Q1057.52 1524.47 1057.52 1531.6 Q1057.52 1538.71 1059.32 1542.27 Q1061.15 1545.82 1064.76 1545.82 Q1068.39 1545.82 1070.2 1542.27 Q1072.03 1538.71 1072.03 1531.6 Q1072.03 1524.47 1070.2 1520.93 Q1068.39 1517.37 1064.76 1517.37 M1064.76 1513.66 Q1070.57 1513.66 1073.63 1518.27 Q1076.7 1522.85 1076.7 1531.6 Q1076.7 1540.33 1073.63 1544.94 Q1070.57 1549.52 1064.76 1549.52 Q1058.95 1549.52 1055.87 1544.94 Q1052.82 1540.33 1052.82 1531.6 Q1052.82 1522.85 1055.87 1518.27 Q1058.95 1513.66 1064.76 1513.66 Z\" fill=\"#000000\" fill-rule=\"evenodd\" fill-opacity=\"1\" /><path clip-path=\"url(#clip770)\" d=\"M1422.87 1544.91 L1439.19 1544.91 L1439.19 1548.85 L1417.24 1548.85 L1417.24 1544.91 Q1419.91 1542.16 1424.49 1537.53 Q1429.1 1532.88 1430.28 1531.53 Q1432.52 1529.01 1433.4 1527.27 Q1434.3 1525.51 1434.3 1523.82 Q1434.3 1521.07 1432.36 1519.33 Q1430.44 1517.6 1427.34 1517.6 Q1425.14 1517.6 1422.68 1518.36 Q1420.25 1519.13 1417.48 1520.68 L1417.48 1515.95 Q1420.3 1514.82 1422.75 1514.24 Q1425.21 1513.66 1427.24 1513.66 Q1432.61 1513.66 1435.81 1516.35 Q1439 1519.03 1439 1523.52 Q1439 1525.65 1438.19 1527.57 Q1437.41 1529.47 1435.3 1532.07 Q1434.72 1532.74 1431.62 1535.95 Q1428.52 1539.15 1422.87 1544.91 Z\" fill=\"#000000\" fill-rule=\"evenodd\" fill-opacity=\"1\" /><path clip-path=\"url(#clip770)\" d=\"M1449.05 1514.29 L1467.41 1514.29 L1467.41 1518.22 L1453.33 1518.22 L1453.33 1526.7 Q1454.35 1526.35 1455.37 1526.19 Q1456.39 1526 1457.41 1526 Q1463.19 1526 1466.57 1529.17 Q1469.95 1532.34 1469.95 1537.76 Q1469.95 1543.34 1466.48 1546.44 Q1463.01 1549.52 1456.69 1549.52 Q1454.51 1549.52 1452.24 1549.15 Q1450 1548.78 1447.59 1548.04 L1447.59 1543.34 Q1449.67 1544.47 1451.9 1545.03 Q1454.12 1545.58 1456.6 1545.58 Q1460.6 1545.58 1462.94 1543.48 Q1465.28 1541.37 1465.28 1537.76 Q1465.28 1534.15 1462.94 1532.04 Q1460.6 1529.94 1456.6 1529.94 Q1454.72 1529.94 1452.85 1530.35 Q1450.99 1530.77 1449.05 1531.65 L1449.05 1514.29 Z\" fill=\"#000000\" fill-rule=\"evenodd\" fill-opacity=\"1\" /><path clip-path=\"url(#clip770)\" d=\"M1826.19 1530.21 Q1829.54 1530.93 1831.42 1533.2 Q1833.32 1535.47 1833.32 1538.8 Q1833.32 1543.92 1829.8 1546.72 Q1826.28 1549.52 1819.8 1549.52 Q1817.62 1549.52 1815.31 1549.08 Q1813.01 1548.66 1810.56 1547.81 L1810.56 1543.29 Q1812.51 1544.43 1814.82 1545.01 Q1817.14 1545.58 1819.66 1545.58 Q1824.06 1545.58 1826.35 1543.85 Q1828.66 1542.11 1828.66 1538.8 Q1828.66 1535.75 1826.51 1534.03 Q1824.38 1532.3 1820.56 1532.3 L1816.53 1532.3 L1816.53 1528.45 L1820.75 1528.45 Q1824.2 1528.45 1826.02 1527.09 Q1827.85 1525.7 1827.85 1523.11 Q1827.85 1520.45 1825.95 1519.03 Q1824.08 1517.6 1820.56 1517.6 Q1818.64 1517.6 1816.44 1518.01 Q1814.24 1518.43 1811.6 1519.31 L1811.6 1515.14 Q1814.26 1514.4 1816.58 1514.03 Q1818.92 1513.66 1820.98 1513.66 Q1826.3 1513.66 1829.4 1516.09 Q1832.51 1518.5 1832.51 1522.62 Q1832.51 1525.49 1830.86 1527.48 Q1829.22 1529.45 1826.19 1530.21 Z\" fill=\"#000000\" fill-rule=\"evenodd\" fill-opacity=\"1\" /><path clip-path=\"url(#clip770)\" d=\"M1852.18 1517.37 Q1848.57 1517.37 1846.74 1520.93 Q1844.94 1524.47 1844.94 1531.6 Q1844.94 1538.71 1846.74 1542.27 Q1848.57 1545.82 1852.18 1545.82 Q1855.82 1545.82 1857.62 1542.27 Q1859.45 1538.71 1859.45 1531.6 Q1859.45 1524.47 1857.62 1520.93 Q1855.82 1517.37 1852.18 1517.37 M1852.18 1513.66 Q1857.99 1513.66 1861.05 1518.27 Q1864.13 1522.85 1864.13 1531.6 Q1864.13 1540.33 1861.05 1544.94 Q1857.99 1549.52 1852.18 1549.52 Q1846.37 1549.52 1843.29 1544.94 Q1840.24 1540.33 1840.24 1531.6 Q1840.24 1522.85 1843.29 1518.27 Q1846.37 1513.66 1852.18 1513.66 Z\" fill=\"#000000\" fill-rule=\"evenodd\" fill-opacity=\"1\" /><path clip-path=\"url(#clip770)\" d=\"M2220.43 1530.21 Q2223.79 1530.93 2225.66 1533.2 Q2227.56 1535.47 2227.56 1538.8 Q2227.56 1543.92 2224.04 1546.72 Q2220.52 1549.52 2214.04 1549.52 Q2211.86 1549.52 2209.55 1549.08 Q2207.26 1548.66 2204.8 1547.81 L2204.8 1543.29 Q2206.75 1544.43 2209.06 1545.01 Q2211.38 1545.58 2213.9 1545.58 Q2218.3 1545.58 2220.59 1543.85 Q2222.91 1542.11 2222.91 1538.8 Q2222.91 1535.75 2220.75 1534.03 Q2218.62 1532.3 2214.8 1532.3 L2210.78 1532.3 L2210.78 1528.45 L2214.99 1528.45 Q2218.44 1528.45 2220.27 1527.09 Q2222.1 1525.7 2222.1 1523.11 Q2222.1 1520.45 2220.2 1519.03 Q2218.32 1517.6 2214.8 1517.6 Q2212.88 1517.6 2210.68 1518.01 Q2208.48 1518.43 2205.85 1519.31 L2205.85 1515.14 Q2208.51 1514.4 2210.82 1514.03 Q2213.16 1513.66 2215.22 1513.66 Q2220.54 1513.66 2223.65 1516.09 Q2226.75 1518.5 2226.75 1522.62 Q2226.75 1525.49 2225.1 1527.48 Q2223.46 1529.45 2220.43 1530.21 Z\" fill=\"#000000\" fill-rule=\"evenodd\" fill-opacity=\"1\" /><path clip-path=\"url(#clip770)\" d=\"M2236.47 1514.29 L2254.83 1514.29 L2254.83 1518.22 L2240.75 1518.22 L2240.75 1526.7 Q2241.77 1526.35 2242.79 1526.19 Q2243.81 1526 2244.83 1526 Q2250.61 1526 2253.99 1529.17 Q2257.37 1532.34 2257.37 1537.76 Q2257.37 1543.34 2253.9 1546.44 Q2250.43 1549.52 2244.11 1549.52 Q2241.93 1549.52 2239.66 1549.15 Q2237.42 1548.78 2235.01 1548.04 L2235.01 1543.34 Q2237.1 1544.47 2239.32 1545.03 Q2241.54 1545.58 2244.02 1545.58 Q2248.02 1545.58 2250.36 1543.48 Q2252.7 1541.37 2252.7 1537.76 Q2252.7 1534.15 2250.36 1532.04 Q2248.02 1529.94 2244.02 1529.94 Q2242.14 1529.94 2240.27 1530.35 Q2238.41 1530.77 2236.47 1531.65 L2236.47 1514.29 Z\" fill=\"#000000\" fill-rule=\"evenodd\" fill-opacity=\"1\" /><polyline clip-path=\"url(#clip772)\" style=\"stroke:#000000; stroke-linecap:round; stroke-linejoin:round; stroke-width:2; stroke-opacity:0.1; fill:none\" points=\"\n",
       "  140.696,1445.72 2352.76,1445.72 \n",
       "  \"/>\n",
       "<polyline clip-path=\"url(#clip772)\" style=\"stroke:#000000; stroke-linecap:round; stroke-linejoin:round; stroke-width:2; stroke-opacity:0.1; fill:none\" points=\"\n",
       "  140.696,1021.42 2352.76,1021.42 \n",
       "  \"/>\n",
       "<polyline clip-path=\"url(#clip772)\" style=\"stroke:#000000; stroke-linecap:round; stroke-linejoin:round; stroke-width:2; stroke-opacity:0.1; fill:none\" points=\"\n",
       "  140.696,597.129 2352.76,597.129 \n",
       "  \"/>\n",
       "<polyline clip-path=\"url(#clip772)\" style=\"stroke:#000000; stroke-linecap:round; stroke-linejoin:round; stroke-width:2; stroke-opacity:0.1; fill:none\" points=\"\n",
       "  140.696,172.835 2352.76,172.835 \n",
       "  \"/>\n",
       "<polyline clip-path=\"url(#clip770)\" style=\"stroke:#000000; stroke-linecap:round; stroke-linejoin:round; stroke-width:4; stroke-opacity:1; fill:none\" points=\"\n",
       "  140.696,1486.45 140.696,47.2441 \n",
       "  \"/>\n",
       "<polyline clip-path=\"url(#clip770)\" style=\"stroke:#000000; stroke-linecap:round; stroke-linejoin:round; stroke-width:4; stroke-opacity:1; fill:none\" points=\"\n",
       "  140.696,1445.72 159.593,1445.72 \n",
       "  \"/>\n",
       "<polyline clip-path=\"url(#clip770)\" style=\"stroke:#000000; stroke-linecap:round; stroke-linejoin:round; stroke-width:4; stroke-opacity:1; fill:none\" points=\"\n",
       "  140.696,1021.42 159.593,1021.42 \n",
       "  \"/>\n",
       "<polyline clip-path=\"url(#clip770)\" style=\"stroke:#000000; stroke-linecap:round; stroke-linejoin:round; stroke-width:4; stroke-opacity:1; fill:none\" points=\"\n",
       "  140.696,597.129 159.593,597.129 \n",
       "  \"/>\n",
       "<polyline clip-path=\"url(#clip770)\" style=\"stroke:#000000; stroke-linecap:round; stroke-linejoin:round; stroke-width:4; stroke-opacity:1; fill:none\" points=\"\n",
       "  140.696,172.835 159.593,172.835 \n",
       "  \"/>\n",
       "<path clip-path=\"url(#clip770)\" d=\"M92.7512 1431.51 Q89.1401 1431.51 87.3114 1435.08 Q85.5058 1438.62 85.5058 1445.75 Q85.5058 1452.86 87.3114 1456.42 Q89.1401 1459.96 92.7512 1459.96 Q96.3854 1459.96 98.1909 1456.42 Q100.02 1452.86 100.02 1445.75 Q100.02 1438.62 98.1909 1435.08 Q96.3854 1431.51 92.7512 1431.51 M92.7512 1427.81 Q98.5613 1427.81 101.617 1432.42 Q104.696 1437 104.696 1445.75 Q104.696 1454.48 101.617 1459.08 Q98.5613 1463.67 92.7512 1463.67 Q86.941 1463.67 83.8623 1459.08 Q80.8068 1454.48 80.8068 1445.75 Q80.8068 1437 83.8623 1432.42 Q86.941 1427.81 92.7512 1427.81 Z\" fill=\"#000000\" fill-rule=\"evenodd\" fill-opacity=\"1\" /><path clip-path=\"url(#clip770)\" d=\"M53.3995 1034.77 L61.0384 1034.77 L61.0384 1008.4 L52.7282 1010.07 L52.7282 1005.81 L60.9921 1004.14 L65.668 1004.14 L65.668 1034.77 L73.3068 1034.77 L73.3068 1038.7 L53.3995 1038.7 L53.3995 1034.77 Z\" fill=\"#000000\" fill-rule=\"evenodd\" fill-opacity=\"1\" /><path clip-path=\"url(#clip770)\" d=\"M92.7512 1007.22 Q89.1401 1007.22 87.3114 1010.79 Q85.5058 1014.33 85.5058 1021.46 Q85.5058 1028.56 87.3114 1032.13 Q89.1401 1035.67 92.7512 1035.67 Q96.3854 1035.67 98.1909 1032.13 Q100.02 1028.56 100.02 1021.46 Q100.02 1014.33 98.1909 1010.79 Q96.3854 1007.22 92.7512 1007.22 M92.7512 1003.52 Q98.5613 1003.52 101.617 1008.12 Q104.696 1012.71 104.696 1021.46 Q104.696 1030.18 101.617 1034.79 Q98.5613 1039.37 92.7512 1039.37 Q86.941 1039.37 83.8623 1034.79 Q80.8068 1030.18 80.8068 1021.46 Q80.8068 1012.71 83.8623 1008.12 Q86.941 1003.52 92.7512 1003.52 Z\" fill=\"#000000\" fill-rule=\"evenodd\" fill-opacity=\"1\" /><path clip-path=\"url(#clip770)\" d=\"M56.6171 610.473 L72.9365 610.473 L72.9365 614.409 L50.9921 614.409 L50.9921 610.473 Q53.6541 607.719 58.2375 603.089 Q62.8439 598.436 64.0245 597.094 Q66.2698 594.571 67.1494 592.835 Q68.0522 591.075 68.0522 589.386 Q68.0522 586.631 66.1078 584.895 Q64.1865 583.159 61.0847 583.159 Q58.8856 583.159 56.4319 583.923 Q54.0014 584.686 51.2236 586.237 L51.2236 581.515 Q54.0477 580.381 56.5014 579.802 Q58.955 579.224 60.9921 579.224 Q66.3624 579.224 69.5568 581.909 Q72.7513 584.594 72.7513 589.085 Q72.7513 591.214 71.9411 593.136 Q71.1541 595.034 69.0476 597.626 Q68.4689 598.298 65.367 601.515 Q62.2652 604.71 56.6171 610.473 Z\" fill=\"#000000\" fill-rule=\"evenodd\" fill-opacity=\"1\" /><path clip-path=\"url(#clip770)\" d=\"M92.7512 582.927 Q89.1401 582.927 87.3114 586.492 Q85.5058 590.034 85.5058 597.163 Q85.5058 604.27 87.3114 607.835 Q89.1401 611.376 92.7512 611.376 Q96.3854 611.376 98.1909 607.835 Q100.02 604.27 100.02 597.163 Q100.02 590.034 98.1909 586.492 Q96.3854 582.927 92.7512 582.927 M92.7512 579.224 Q98.5613 579.224 101.617 583.83 Q104.696 588.413 104.696 597.163 Q104.696 605.89 101.617 610.497 Q98.5613 615.08 92.7512 615.08 Q86.941 615.08 83.8623 610.497 Q80.8068 605.89 80.8068 597.163 Q80.8068 588.413 83.8623 583.83 Q86.941 579.224 92.7512 579.224 Z\" fill=\"#000000\" fill-rule=\"evenodd\" fill-opacity=\"1\" /><path clip-path=\"url(#clip770)\" d=\"M66.7559 171.481 Q70.1124 172.198 71.9874 174.467 Q73.8855 176.735 73.8855 180.069 Q73.8855 185.184 70.367 187.985 Q66.8485 190.786 60.3671 190.786 Q58.1912 190.786 55.8764 190.346 Q53.5847 189.93 51.131 189.073 L51.131 184.559 Q53.0754 185.694 55.3903 186.272 Q57.7051 186.851 60.2282 186.851 Q64.6263 186.851 66.918 185.115 Q69.2328 183.379 69.2328 180.069 Q69.2328 177.013 67.08 175.3 Q64.9504 173.564 61.131 173.564 L57.1032 173.564 L57.1032 169.722 L61.3161 169.722 Q64.7652 169.722 66.5939 168.356 Q68.4226 166.967 68.4226 164.374 Q68.4226 161.712 66.5245 160.3 Q64.6495 158.865 61.131 158.865 Q59.2097 158.865 57.0106 159.282 Q54.8115 159.698 52.1727 160.578 L52.1727 156.411 Q54.8347 155.671 57.1495 155.3 Q59.4875 154.93 61.5476 154.93 Q66.8717 154.93 69.9735 157.361 Q73.0753 159.768 73.0753 163.888 Q73.0753 166.759 71.4318 168.749 Q69.7883 170.717 66.7559 171.481 Z\" fill=\"#000000\" fill-rule=\"evenodd\" fill-opacity=\"1\" /><path clip-path=\"url(#clip770)\" d=\"M92.7512 158.634 Q89.1401 158.634 87.3114 162.198 Q85.5058 165.74 85.5058 172.87 Q85.5058 179.976 87.3114 183.541 Q89.1401 187.083 92.7512 187.083 Q96.3854 187.083 98.1909 183.541 Q100.02 179.976 100.02 172.87 Q100.02 165.74 98.1909 162.198 Q96.3854 158.634 92.7512 158.634 M92.7512 154.93 Q98.5613 154.93 101.617 159.536 Q104.696 164.12 104.696 172.87 Q104.696 181.597 101.617 186.203 Q98.5613 190.786 92.7512 190.786 Q86.941 190.786 83.8623 186.203 Q80.8068 181.597 80.8068 172.87 Q80.8068 164.12 83.8623 159.536 Q86.941 154.93 92.7512 154.93 Z\" fill=\"#000000\" fill-rule=\"evenodd\" fill-opacity=\"1\" /><path clip-path=\"url(#clip772)\" d=\"\n",
       "M262.363 1191.14 L262.363 1445.72 L656.108 1445.72 L656.108 1191.14 L262.363 1191.14 L262.363 1191.14  Z\n",
       "  \" fill=\"#009af9\" fill-rule=\"evenodd\" fill-opacity=\"1\"/>\n",
       "<polyline clip-path=\"url(#clip772)\" style=\"stroke:#000000; stroke-linecap:round; stroke-linejoin:round; stroke-width:4; stroke-opacity:1; fill:none\" points=\"\n",
       "  262.363,1191.14 262.363,1445.72 656.108,1445.72 656.108,1191.14 262.363,1191.14 \n",
       "  \"/>\n",
       "<path clip-path=\"url(#clip772)\" d=\"\n",
       "M656.108 384.982 L656.108 1445.72 L1049.85 1445.72 L1049.85 384.982 L656.108 384.982 L656.108 384.982  Z\n",
       "  \" fill=\"#009af9\" fill-rule=\"evenodd\" fill-opacity=\"1\"/>\n",
       "<polyline clip-path=\"url(#clip772)\" style=\"stroke:#000000; stroke-linecap:round; stroke-linejoin:round; stroke-width:4; stroke-opacity:1; fill:none\" points=\"\n",
       "  656.108,384.982 656.108,1445.72 1049.85,1445.72 1049.85,384.982 656.108,384.982 \n",
       "  \"/>\n",
       "<path clip-path=\"url(#clip772)\" d=\"\n",
       "M1049.85 384.982 L1049.85 1445.72 L1443.6 1445.72 L1443.6 384.982 L1049.85 384.982 L1049.85 384.982  Z\n",
       "  \" fill=\"#009af9\" fill-rule=\"evenodd\" fill-opacity=\"1\"/>\n",
       "<polyline clip-path=\"url(#clip772)\" style=\"stroke:#000000; stroke-linecap:round; stroke-linejoin:round; stroke-width:4; stroke-opacity:1; fill:none\" points=\"\n",
       "  1049.85,384.982 1049.85,1445.72 1443.6,1445.72 1443.6,384.982 1049.85,384.982 \n",
       "  \"/>\n",
       "<path clip-path=\"url(#clip772)\" d=\"\n",
       "M1443.6 87.9763 L1443.6 1445.72 L1837.34 1445.72 L1837.34 87.9763 L1443.6 87.9763 L1443.6 87.9763  Z\n",
       "  \" fill=\"#009af9\" fill-rule=\"evenodd\" fill-opacity=\"1\"/>\n",
       "<polyline clip-path=\"url(#clip772)\" style=\"stroke:#000000; stroke-linecap:round; stroke-linejoin:round; stroke-width:4; stroke-opacity:1; fill:none\" points=\"\n",
       "  1443.6,87.9763 1443.6,1445.72 1837.34,1445.72 1837.34,87.9763 1443.6,87.9763 \n",
       "  \"/>\n",
       "<path clip-path=\"url(#clip772)\" d=\"\n",
       "M1837.34 936.563 L1837.34 1445.72 L2231.09 1445.72 L2231.09 936.563 L1837.34 936.563 L1837.34 936.563  Z\n",
       "  \" fill=\"#009af9\" fill-rule=\"evenodd\" fill-opacity=\"1\"/>\n",
       "<polyline clip-path=\"url(#clip772)\" style=\"stroke:#000000; stroke-linecap:round; stroke-linejoin:round; stroke-width:4; stroke-opacity:1; fill:none\" points=\"\n",
       "  1837.34,936.563 1837.34,1445.72 2231.09,1445.72 2231.09,936.563 1837.34,936.563 \n",
       "  \"/>\n",
       "<circle clip-path=\"url(#clip772)\" style=\"fill:#009af9; stroke:none; fill-opacity:0\" cx=\"459.235\" cy=\"1191.14\" r=\"2\"/>\n",
       "<circle clip-path=\"url(#clip772)\" style=\"fill:#009af9; stroke:none; fill-opacity:0\" cx=\"852.981\" cy=\"384.982\" r=\"2\"/>\n",
       "<circle clip-path=\"url(#clip772)\" style=\"fill:#009af9; stroke:none; fill-opacity:0\" cx=\"1246.73\" cy=\"384.982\" r=\"2\"/>\n",
       "<circle clip-path=\"url(#clip772)\" style=\"fill:#009af9; stroke:none; fill-opacity:0\" cx=\"1640.47\" cy=\"87.9763\" r=\"2\"/>\n",
       "<circle clip-path=\"url(#clip772)\" style=\"fill:#009af9; stroke:none; fill-opacity:0\" cx=\"2034.22\" cy=\"936.563\" r=\"2\"/>\n",
       "<path clip-path=\"url(#clip770)\" d=\"\n",
       "M1980.81 198.898 L2279.02 198.898 L2279.02 95.2176 L1980.81 95.2176  Z\n",
       "  \" fill=\"#ffffff\" fill-rule=\"evenodd\" fill-opacity=\"1\"/>\n",
       "<polyline clip-path=\"url(#clip770)\" style=\"stroke:#000000; stroke-linecap:round; stroke-linejoin:round; stroke-width:4; stroke-opacity:1; fill:none\" points=\"\n",
       "  1980.81,198.898 2279.02,198.898 2279.02,95.2176 1980.81,95.2176 1980.81,198.898 \n",
       "  \"/>\n",
       "<path clip-path=\"url(#clip770)\" d=\"\n",
       "M2005.38 167.794 L2152.85 167.794 L2152.85 126.322 L2005.38 126.322 L2005.38 167.794  Z\n",
       "  \" fill=\"#009af9\" fill-rule=\"evenodd\" fill-opacity=\"1\"/>\n",
       "<polyline clip-path=\"url(#clip770)\" style=\"stroke:#000000; stroke-linecap:round; stroke-linejoin:round; stroke-width:4; stroke-opacity:1; fill:none\" points=\"\n",
       "  2005.38,167.794 2152.85,167.794 2152.85,126.322 2005.38,126.322 2005.38,167.794 \n",
       "  \"/>\n",
       "<path clip-path=\"url(#clip770)\" d=\"M2191.28 166.745 Q2189.47 171.375 2187.76 172.787 Q2186.04 174.199 2183.17 174.199 L2179.77 174.199 L2179.77 170.634 L2182.27 170.634 Q2184.03 170.634 2185 169.8 Q2185.98 168.967 2187.16 165.865 L2187.92 163.921 L2177.43 138.412 L2181.95 138.412 L2190.05 158.689 L2198.15 138.412 L2202.66 138.412 L2191.28 166.745 Z\" fill=\"#000000\" fill-rule=\"evenodd\" fill-opacity=\"1\" /><path clip-path=\"url(#clip770)\" d=\"M2209.96 160.402 L2217.6 160.402 L2217.6 134.037 L2209.29 135.703 L2209.29 131.444 L2217.55 129.778 L2222.22 129.778 L2222.22 160.402 L2229.86 160.402 L2229.86 164.338 L2209.96 164.338 L2209.96 160.402 Z\" fill=\"#000000\" fill-rule=\"evenodd\" fill-opacity=\"1\" /></svg>\n"
      ]
     },
     "execution_count": 31,
     "metadata": {},
     "output_type": "execute_result"
    }
   ],
   "source": [
    "using Plots\n",
    "\n",
    "histogram(sample_mean)"
   ]
  }
 ],
 "metadata": {
  "kernelspec": {
   "display_name": "Julia 1.8.0",
   "language": "julia",
   "name": "julia-1.8"
  },
  "language_info": {
   "file_extension": ".jl",
   "mimetype": "application/julia",
   "name": "julia",
   "version": "1.8.0"
  }
 },
 "nbformat": 4,
 "nbformat_minor": 5
}
