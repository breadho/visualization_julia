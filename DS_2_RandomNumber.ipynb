{
 "cells": [
  {
   "cell_type": "markdown",
   "id": "1a5bcf92-eab3-4892-a5c6-6e97d04bee15",
   "metadata": {},
   "source": [
    " # Data Science (JULIA)"
   ]
  },
  {
   "cell_type": "markdown",
   "id": "884c4826-083e-4322-93f7-9b4ebd0cb175",
   "metadata": {},
   "source": [
    "## 1.2 Random Numbers"
   ]
  },
  {
   "cell_type": "markdown",
   "id": "ab5d3133-da74-4333-8bc8-42d93296e50d",
   "metadata": {},
   "source": [
    "* 줄리아는 의사난수를 생성하는 Random 모듈을 지원하고 있다. \n",
    "\n",
    "* 대표적으로 쓰이는 ```rand```, ```randn```, ```seed!``` 함수를 확인해 본다.\n",
    "\n",
    "    * ```rand``` : 데이터 구조 또는 타입에 따라 랜덤한 원소를 샘플링하는 함수\n",
    "    \n",
    "    * ```randn``` : 표준정규분포에서(평균 0, 표준편차 1) 생성하는 랜덤 함수"
   ]
  },
  {
   "cell_type": "code",
   "execution_count": 1,
   "id": "5eb7c486-d450-4ec5-8c58-eca529ccbdbc",
   "metadata": {},
   "outputs": [],
   "source": [
    "using Random: seed!"
   ]
  },
  {
   "cell_type": "markdown",
   "id": "82bf00de-f8e2-4010-9184-873d417a390c",
   "metadata": {},
   "source": [
    "### 1.2.1 rand"
   ]
  },
  {
   "cell_type": "markdown",
   "id": "0a0915cb-866c-4485-a987-dd04eb9d68d3",
   "metadata": {},
   "source": [
    "* 만약 특별한 인수가 없다면 rand 함수는 0부터 1사이(0 이상 1 미만)에서 Float64 타입의 데이터를 랜덤하게 리턴한다."
   ]
  },
  {
   "cell_type": "code",
   "execution_count": 2,
   "id": "03eabe10-6d4f-45b5-8eff-eed55b35a421",
   "metadata": {},
   "outputs": [
    {
     "data": {
      "text/plain": [
       "0.35120589651436296"
      ]
     },
     "execution_count": 2,
     "metadata": {},
     "output_type": "execute_result"
    }
   ],
   "source": [
    "rand()"
   ]
  },
  {
   "cell_type": "markdown",
   "id": "9084a2f3-8092-4754-a96b-a2d46078171d",
   "metadata": {},
   "source": [
    "* 인수로 정수를 입력하면 랜덤한 수의 개수로 인식\n",
    "\n",
    "* 숫자의 범위(interval)을 인수로 입력 가능\n",
    "\n",
    "* step size를 가진 수열에서도 랜덤하게 추출 가능"
   ]
  },
  {
   "cell_type": "code",
   "execution_count": 3,
   "id": "7aaf43c6-72ed-4b09-b0a0-a946b53c099b",
   "metadata": {},
   "outputs": [
    {
     "data": {
      "text/plain": [
       "3-element Vector{Float64}:\n",
       " 0.7739816065655873\n",
       " 0.6264129304398798\n",
       " 0.23290697953341433"
      ]
     },
     "execution_count": 3,
     "metadata": {},
     "output_type": "execute_result"
    }
   ],
   "source": [
    "rand(3)"
   ]
  },
  {
   "cell_type": "code",
   "execution_count": 4,
   "id": "6a56c668-d5d6-4615-965d-838506b574a2",
   "metadata": {},
   "outputs": [
    {
     "data": {
      "text/plain": [
       "10.0"
      ]
     },
     "execution_count": 4,
     "metadata": {},
     "output_type": "execute_result"
    }
   ],
   "source": [
    "rand(1.0:10.0)"
   ]
  },
  {
   "cell_type": "code",
   "execution_count": 5,
   "id": "3a7b86f4-9de7-4cb8-a351-6789bdd72f79",
   "metadata": {},
   "outputs": [
    {
     "data": {
      "text/plain": [
       "8"
      ]
     },
     "execution_count": 5,
     "metadata": {},
     "output_type": "execute_result"
    }
   ],
   "source": [
    "rand(2:2:20)"
   ]
  },
  {
   "cell_type": "markdown",
   "id": "f93850e8-e35f-4b9e-9139-bb4469f189c1",
   "metadata": {},
   "source": [
    "* multiple collection 타입의 데이터에서도 랜덤 추출 가능\n",
    "\n",
    "* array data type에서도 랜덤 추출 가능\n",
    "\n",
    "* Dictionary type 데이터에서도 랜덤 추출 가능\n",
    "\n",
    "* matrix 형태에 대해서도 가능"
   ]
  },
  {
   "cell_type": "code",
   "execution_count": 6,
   "id": "990072d7-e651-4812-81bf-c3fbc966799b",
   "metadata": {},
   "outputs": [
    {
     "data": {
      "text/plain": [
       "\"Julia\""
      ]
     },
     "execution_count": 6,
     "metadata": {},
     "output_type": "execute_result"
    }
   ],
   "source": [
    "rand((42, \"Julia\", 3.14))"
   ]
  },
  {
   "cell_type": "code",
   "execution_count": 7,
   "id": "7cb759ab-5dfa-4acf-bf3d-b6508f5b25ad",
   "metadata": {},
   "outputs": [
    {
     "data": {
      "text/plain": [
       "1"
      ]
     },
     "execution_count": 7,
     "metadata": {},
     "output_type": "execute_result"
    }
   ],
   "source": [
    "rand([1, 2, 3])"
   ]
  },
  {
   "cell_type": "code",
   "execution_count": 8,
   "id": "e8cad147-d5f7-421f-8530-dc2036c59092",
   "metadata": {},
   "outputs": [
    {
     "data": {
      "text/plain": [
       ":two => 2"
      ]
     },
     "execution_count": 8,
     "metadata": {},
     "output_type": "execute_result"
    }
   ],
   "source": [
    "rand(Dict(:one => 1., :two => 2) )"
   ]
  },
  {
   "cell_type": "code",
   "execution_count": 9,
   "id": "cb7098f5-bd1a-44e8-8d57-c51526f9270e",
   "metadata": {},
   "outputs": [
    {
     "data": {
      "text/plain": [
       "2×2 Matrix{Float64}:\n",
       " 3.0  3.0\n",
       " 3.0  1.0"
      ]
     },
     "execution_count": 9,
     "metadata": {},
     "output_type": "execute_result"
    }
   ],
   "source": [
    "rand(1.0:3.0, (2, 2))"
   ]
  },
  {
   "cell_type": "markdown",
   "id": "68b58f10-741c-4df0-bb02-e0a253e071c7",
   "metadata": {},
   "source": [
    "### 1.2.2 randn"
   ]
  },
  {
   "cell_type": "markdown",
   "id": "cb6177ab-fd4c-482c-918f-71b93f42a738",
   "metadata": {},
   "source": [
    "* 표준 정규분포에서 랜덤 넘버를 추출할 때 사용하는 함수"
   ]
  },
  {
   "cell_type": "code",
   "execution_count": 10,
   "id": "b4059a1b-a774-4c7d-9010-42e09516fadf",
   "metadata": {},
   "outputs": [
    {
     "data": {
      "text/plain": [
       "-1.4238131195616643"
      ]
     },
     "execution_count": 10,
     "metadata": {},
     "output_type": "execute_result"
    }
   ],
   "source": [
    "randn()"
   ]
  },
  {
   "cell_type": "code",
   "execution_count": 11,
   "id": "a7e44331-322c-4ab7-8b3d-752b06cb44ab",
   "metadata": {},
   "outputs": [
    {
     "data": {
      "text/plain": [
       "2×2 Matrix{Float64}:\n",
       " -0.843527  -0.370365\n",
       "  0.768041   1.2502"
      ]
     },
     "execution_count": 11,
     "metadata": {},
     "output_type": "execute_result"
    }
   ],
   "source": [
    "randn((2, 2))"
   ]
  },
  {
   "cell_type": "code",
   "execution_count": 12,
   "id": "17de2de4-32ca-45a8-acac-dab9b9844ab6",
   "metadata": {},
   "outputs": [
    {
     "data": {
      "image/svg+xml": [
       "<?xml version=\"1.0\" encoding=\"utf-8\"?>\n",
       "<svg xmlns=\"http://www.w3.org/2000/svg\" xmlns:xlink=\"http://www.w3.org/1999/xlink\" width=\"600\" height=\"400\" viewBox=\"0 0 2400 1600\">\n",
       "<defs>\n",
       "  <clipPath id=\"clip5500\">\n",
       "    <rect x=\"0\" y=\"0\" width=\"2400\" height=\"1600\"/>\n",
       "  </clipPath>\n",
       "</defs>\n",
       "<path clip-path=\"url(#clip5500)\" d=\"\n",
       "M0 1600 L2400 1600 L2400 0 L0 0  Z\n",
       "  \" fill=\"#ffffff\" fill-rule=\"evenodd\" fill-opacity=\"1\"/>\n",
       "<defs>\n",
       "  <clipPath id=\"clip5501\">\n",
       "    <rect x=\"480\" y=\"0\" width=\"1681\" height=\"1600\"/>\n",
       "  </clipPath>\n",
       "</defs>\n",
       "<path clip-path=\"url(#clip5500)\" d=\"\n",
       "M162.964 1486.45 L2352.76 1486.45 L2352.76 47.2441 L162.964 47.2441  Z\n",
       "  \" fill=\"#ffffff\" fill-rule=\"evenodd\" fill-opacity=\"1\"/>\n",
       "<defs>\n",
       "  <clipPath id=\"clip5502\">\n",
       "    <rect x=\"162\" y=\"47\" width=\"2191\" height=\"1440\"/>\n",
       "  </clipPath>\n",
       "</defs>\n",
       "<polyline clip-path=\"url(#clip5502)\" style=\"stroke:#000000; stroke-width:2; stroke-opacity:0.1; fill:none\" points=\"\n",
       "  433.322,1486.45 433.322,47.2441 \n",
       "  \"/>\n",
       "<polyline clip-path=\"url(#clip5502)\" style=\"stroke:#000000; stroke-width:2; stroke-opacity:0.1; fill:none\" points=\"\n",
       "  733.154,1486.45 733.154,47.2441 \n",
       "  \"/>\n",
       "<polyline clip-path=\"url(#clip5502)\" style=\"stroke:#000000; stroke-width:2; stroke-opacity:0.1; fill:none\" points=\"\n",
       "  1032.99,1486.45 1032.99,47.2441 \n",
       "  \"/>\n",
       "<polyline clip-path=\"url(#clip5502)\" style=\"stroke:#000000; stroke-width:2; stroke-opacity:0.1; fill:none\" points=\"\n",
       "  1332.82,1486.45 1332.82,47.2441 \n",
       "  \"/>\n",
       "<polyline clip-path=\"url(#clip5502)\" style=\"stroke:#000000; stroke-width:2; stroke-opacity:0.1; fill:none\" points=\"\n",
       "  1632.65,1486.45 1632.65,47.2441 \n",
       "  \"/>\n",
       "<polyline clip-path=\"url(#clip5502)\" style=\"stroke:#000000; stroke-width:2; stroke-opacity:0.1; fill:none\" points=\"\n",
       "  1932.48,1486.45 1932.48,47.2441 \n",
       "  \"/>\n",
       "<polyline clip-path=\"url(#clip5502)\" style=\"stroke:#000000; stroke-width:2; stroke-opacity:0.1; fill:none\" points=\"\n",
       "  2232.31,1486.45 2232.31,47.2441 \n",
       "  \"/>\n",
       "<polyline clip-path=\"url(#clip5502)\" style=\"stroke:#000000; stroke-width:2; stroke-opacity:0.1; fill:none\" points=\"\n",
       "  162.964,1445.72 2352.76,1445.72 \n",
       "  \"/>\n",
       "<polyline clip-path=\"url(#clip5502)\" style=\"stroke:#000000; stroke-width:2; stroke-opacity:0.1; fill:none\" points=\"\n",
       "  162.964,1112.94 2352.76,1112.94 \n",
       "  \"/>\n",
       "<polyline clip-path=\"url(#clip5502)\" style=\"stroke:#000000; stroke-width:2; stroke-opacity:0.1; fill:none\" points=\"\n",
       "  162.964,780.157 2352.76,780.157 \n",
       "  \"/>\n",
       "<polyline clip-path=\"url(#clip5502)\" style=\"stroke:#000000; stroke-width:2; stroke-opacity:0.1; fill:none\" points=\"\n",
       "  162.964,447.378 2352.76,447.378 \n",
       "  \"/>\n",
       "<polyline clip-path=\"url(#clip5502)\" style=\"stroke:#000000; stroke-width:2; stroke-opacity:0.1; fill:none\" points=\"\n",
       "  162.964,114.599 2352.76,114.599 \n",
       "  \"/>\n",
       "<polyline clip-path=\"url(#clip5500)\" style=\"stroke:#000000; stroke-width:4; stroke-opacity:1; fill:none\" points=\"\n",
       "  162.964,1486.45 2352.76,1486.45 \n",
       "  \"/>\n",
       "<polyline clip-path=\"url(#clip5500)\" style=\"stroke:#000000; stroke-width:4; stroke-opacity:1; fill:none\" points=\"\n",
       "  162.964,1486.45 162.964,47.2441 \n",
       "  \"/>\n",
       "<polyline clip-path=\"url(#clip5500)\" style=\"stroke:#000000; stroke-width:4; stroke-opacity:1; fill:none\" points=\"\n",
       "  433.322,1486.45 433.322,1469.18 \n",
       "  \"/>\n",
       "<polyline clip-path=\"url(#clip5500)\" style=\"stroke:#000000; stroke-width:4; stroke-opacity:1; fill:none\" points=\"\n",
       "  733.154,1486.45 733.154,1469.18 \n",
       "  \"/>\n",
       "<polyline clip-path=\"url(#clip5500)\" style=\"stroke:#000000; stroke-width:4; stroke-opacity:1; fill:none\" points=\"\n",
       "  1032.99,1486.45 1032.99,1469.18 \n",
       "  \"/>\n",
       "<polyline clip-path=\"url(#clip5500)\" style=\"stroke:#000000; stroke-width:4; stroke-opacity:1; fill:none\" points=\"\n",
       "  1332.82,1486.45 1332.82,1469.18 \n",
       "  \"/>\n",
       "<polyline clip-path=\"url(#clip5500)\" style=\"stroke:#000000; stroke-width:4; stroke-opacity:1; fill:none\" points=\"\n",
       "  1632.65,1486.45 1632.65,1469.18 \n",
       "  \"/>\n",
       "<polyline clip-path=\"url(#clip5500)\" style=\"stroke:#000000; stroke-width:4; stroke-opacity:1; fill:none\" points=\"\n",
       "  1932.48,1486.45 1932.48,1469.18 \n",
       "  \"/>\n",
       "<polyline clip-path=\"url(#clip5500)\" style=\"stroke:#000000; stroke-width:4; stroke-opacity:1; fill:none\" points=\"\n",
       "  2232.31,1486.45 2232.31,1469.18 \n",
       "  \"/>\n",
       "<polyline clip-path=\"url(#clip5500)\" style=\"stroke:#000000; stroke-width:4; stroke-opacity:1; fill:none\" points=\"\n",
       "  162.964,1445.72 189.241,1445.72 \n",
       "  \"/>\n",
       "<polyline clip-path=\"url(#clip5500)\" style=\"stroke:#000000; stroke-width:4; stroke-opacity:1; fill:none\" points=\"\n",
       "  162.964,1112.94 189.241,1112.94 \n",
       "  \"/>\n",
       "<polyline clip-path=\"url(#clip5500)\" style=\"stroke:#000000; stroke-width:4; stroke-opacity:1; fill:none\" points=\"\n",
       "  162.964,780.157 189.241,780.157 \n",
       "  \"/>\n",
       "<polyline clip-path=\"url(#clip5500)\" style=\"stroke:#000000; stroke-width:4; stroke-opacity:1; fill:none\" points=\"\n",
       "  162.964,447.378 189.241,447.378 \n",
       "  \"/>\n",
       "<polyline clip-path=\"url(#clip5500)\" style=\"stroke:#000000; stroke-width:4; stroke-opacity:1; fill:none\" points=\"\n",
       "  162.964,114.599 189.241,114.599 \n",
       "  \"/>\n",
       "<path clip-path=\"url(#clip5500)\" d=\"M 0 0 M413.901 1525.04 L426.378 1525.04 L426.378 1528.83 L413.901 1528.83 L413.901 1525.04 Z\" fill=\"#000000\" fill-rule=\"evenodd\" fill-opacity=\"1\" /><path clip-path=\"url(#clip5500)\" d=\"M 0 0 M445.614 1521.29 Q448.97 1522 450.845 1524.27 Q452.744 1526.54 452.744 1529.87 Q452.744 1534.99 449.225 1537.79 Q445.707 1540.59 439.225 1540.59 Q437.049 1540.59 434.734 1540.15 Q432.443 1539.73 429.989 1538.88 L429.989 1534.36 Q431.933 1535.5 434.248 1536.08 Q436.563 1536.66 439.086 1536.66 Q443.484 1536.66 445.776 1534.92 Q448.091 1533.18 448.091 1529.87 Q448.091 1526.82 445.938 1525.11 Q443.808 1523.37 439.989 1523.37 L435.961 1523.37 L435.961 1519.53 L440.174 1519.53 Q443.623 1519.53 445.452 1518.16 Q447.281 1516.77 447.281 1514.18 Q447.281 1511.52 445.382 1510.11 Q443.507 1508.67 439.989 1508.67 Q438.068 1508.67 435.869 1509.09 Q433.67 1509.5 431.031 1510.38 L431.031 1506.22 Q433.693 1505.48 436.007 1505.11 Q438.345 1504.73 440.406 1504.73 Q445.73 1504.73 448.832 1507.17 Q451.933 1509.57 451.933 1513.69 Q451.933 1516.56 450.29 1518.55 Q448.646 1520.52 445.614 1521.29 Z\" fill=\"#000000\" fill-rule=\"evenodd\" fill-opacity=\"1\" /><path clip-path=\"url(#clip5500)\" d=\"M 0 0 M714.208 1525.04 L726.684 1525.04 L726.684 1528.83 L714.208 1528.83 L714.208 1525.04 Z\" fill=\"#000000\" fill-rule=\"evenodd\" fill-opacity=\"1\" /><path clip-path=\"url(#clip5500)\" d=\"M 0 0 M735.781 1535.98 L752.101 1535.98 L752.101 1539.92 L730.157 1539.92 L730.157 1535.98 Q732.819 1533.23 737.402 1528.6 Q742.008 1523.95 743.189 1522.61 Q745.434 1520.08 746.314 1518.35 Q747.217 1516.59 747.217 1514.9 Q747.217 1512.14 745.272 1510.41 Q743.351 1508.67 740.249 1508.67 Q738.05 1508.67 735.596 1509.43 Q733.166 1510.2 730.388 1511.75 L730.388 1507.03 Q733.212 1505.89 735.666 1505.31 Q738.119 1504.73 740.156 1504.73 Q745.527 1504.73 748.721 1507.42 Q751.916 1510.11 751.916 1514.6 Q751.916 1516.73 751.105 1518.65 Q750.318 1520.54 748.212 1523.14 Q747.633 1523.81 744.531 1527.03 Q741.43 1530.22 735.781 1535.98 Z\" fill=\"#000000\" fill-rule=\"evenodd\" fill-opacity=\"1\" /><path clip-path=\"url(#clip5500)\" d=\"M 0 0 M1013.85 1525.04 L1026.33 1525.04 L1026.33 1528.83 L1013.85 1528.83 L1013.85 1525.04 Z\" fill=\"#000000\" fill-rule=\"evenodd\" fill-opacity=\"1\" /><path clip-path=\"url(#clip5500)\" d=\"M 0 0 M1032.21 1535.98 L1039.85 1535.98 L1039.85 1509.62 L1031.54 1511.29 L1031.54 1507.03 L1039.8 1505.36 L1044.48 1505.36 L1044.48 1535.98 L1052.12 1535.98 L1052.12 1539.92 L1032.21 1539.92 L1032.21 1535.98 Z\" fill=\"#000000\" fill-rule=\"evenodd\" fill-opacity=\"1\" /><path clip-path=\"url(#clip5500)\" d=\"M 0 0 M1332.82 1508.44 Q1329.21 1508.44 1327.38 1512 Q1325.57 1515.55 1325.57 1522.67 Q1325.57 1529.78 1327.38 1533.35 Q1329.21 1536.89 1332.82 1536.89 Q1336.45 1536.89 1338.26 1533.35 Q1340.09 1529.78 1340.09 1522.67 Q1340.09 1515.55 1338.26 1512 Q1336.45 1508.44 1332.82 1508.44 M1332.82 1504.73 Q1338.63 1504.73 1341.68 1509.34 Q1344.76 1513.92 1344.76 1522.67 Q1344.76 1531.4 1341.68 1536.01 Q1338.63 1540.59 1332.82 1540.59 Q1327.01 1540.59 1323.93 1536.01 Q1320.87 1531.4 1320.87 1522.67 Q1320.87 1513.92 1323.93 1509.34 Q1327.01 1504.73 1332.82 1504.73 Z\" fill=\"#000000\" fill-rule=\"evenodd\" fill-opacity=\"1\" /><path clip-path=\"url(#clip5500)\" d=\"M 0 0 M1623.03 1535.98 L1630.67 1535.98 L1630.67 1509.62 L1622.36 1511.29 L1622.36 1507.03 L1630.62 1505.36 L1635.3 1505.36 L1635.3 1535.98 L1642.94 1535.98 L1642.94 1539.92 L1623.03 1539.92 L1623.03 1535.98 Z\" fill=\"#000000\" fill-rule=\"evenodd\" fill-opacity=\"1\" /><path clip-path=\"url(#clip5500)\" d=\"M 0 0 M1927.13 1535.98 L1943.45 1535.98 L1943.45 1539.92 L1921.51 1539.92 L1921.51 1535.98 Q1924.17 1533.23 1928.75 1528.6 Q1933.36 1523.95 1934.54 1522.61 Q1936.79 1520.08 1937.67 1518.35 Q1938.57 1516.59 1938.57 1514.9 Q1938.57 1512.14 1936.63 1510.41 Q1934.7 1508.67 1931.6 1508.67 Q1929.4 1508.67 1926.95 1509.43 Q1924.52 1510.2 1921.74 1511.75 L1921.74 1507.03 Q1924.56 1505.89 1927.02 1505.31 Q1929.47 1504.73 1931.51 1504.73 Q1936.88 1504.73 1940.07 1507.42 Q1943.27 1510.11 1943.27 1514.6 Q1943.27 1516.73 1942.46 1518.65 Q1941.67 1520.54 1939.56 1523.14 Q1938.99 1523.81 1935.88 1527.03 Q1932.78 1530.22 1927.13 1535.98 Z\" fill=\"#000000\" fill-rule=\"evenodd\" fill-opacity=\"1\" /><path clip-path=\"url(#clip5500)\" d=\"M 0 0 M2236.56 1521.29 Q2239.92 1522 2241.79 1524.27 Q2243.69 1526.54 2243.69 1529.87 Q2243.69 1534.99 2240.17 1537.79 Q2236.65 1540.59 2230.17 1540.59 Q2228 1540.59 2225.68 1540.15 Q2223.39 1539.73 2220.94 1538.88 L2220.94 1534.36 Q2222.88 1535.5 2225.2 1536.08 Q2227.51 1536.66 2230.03 1536.66 Q2234.43 1536.66 2236.72 1534.92 Q2239.04 1533.18 2239.04 1529.87 Q2239.04 1526.82 2236.89 1525.11 Q2234.76 1523.37 2230.94 1523.37 L2226.91 1523.37 L2226.91 1519.53 L2231.12 1519.53 Q2234.57 1519.53 2236.4 1518.16 Q2238.23 1516.77 2238.23 1514.18 Q2238.23 1511.52 2236.33 1510.11 Q2234.45 1508.67 2230.94 1508.67 Q2229.01 1508.67 2226.82 1509.09 Q2224.62 1509.5 2221.98 1510.38 L2221.98 1506.22 Q2224.64 1505.48 2226.95 1505.11 Q2229.29 1504.73 2231.35 1504.73 Q2236.68 1504.73 2239.78 1507.17 Q2242.88 1509.57 2242.88 1513.69 Q2242.88 1516.56 2241.24 1518.55 Q2239.59 1520.52 2236.56 1521.29 Z\" fill=\"#000000\" fill-rule=\"evenodd\" fill-opacity=\"1\" /><path clip-path=\"url(#clip5500)\" d=\"M 0 0 M127.02 1431.51 Q123.408 1431.51 121.58 1435.08 Q119.774 1438.62 119.774 1445.75 Q119.774 1452.86 121.58 1456.42 Q123.408 1459.96 127.02 1459.96 Q130.654 1459.96 132.459 1456.42 Q134.288 1452.86 134.288 1445.75 Q134.288 1438.62 132.459 1435.08 Q130.654 1431.51 127.02 1431.51 M127.02 1427.81 Q132.83 1427.81 135.885 1432.42 Q138.964 1437 138.964 1445.75 Q138.964 1454.48 135.885 1459.08 Q132.83 1463.67 127.02 1463.67 Q121.209 1463.67 118.131 1459.08 Q115.075 1454.48 115.075 1445.75 Q115.075 1437 118.131 1432.42 Q121.209 1427.81 127.02 1427.81 Z\" fill=\"#000000\" fill-rule=\"evenodd\" fill-opacity=\"1\" /><path clip-path=\"url(#clip5500)\" d=\"M 0 0 M91.0475 1095.66 L109.404 1095.66 L109.404 1099.59 L95.3299 1099.59 L95.3299 1108.06 Q96.3484 1107.72 97.3669 1107.55 Q98.3855 1107.37 99.404 1107.37 Q105.191 1107.37 108.571 1110.54 Q111.95 1113.71 111.95 1119.13 Q111.95 1124.71 108.478 1127.81 Q105.006 1130.89 98.6864 1130.89 Q96.5105 1130.89 94.242 1130.52 Q91.9966 1130.15 89.5892 1129.41 L89.5892 1124.71 Q91.6725 1125.84 93.8947 1126.4 Q96.1169 1126.95 98.5938 1126.95 Q102.598 1126.95 104.936 1124.85 Q107.274 1122.74 107.274 1119.13 Q107.274 1115.52 104.936 1113.41 Q102.598 1111.3 98.5938 1111.3 Q96.7188 1111.3 94.8438 1111.72 Q92.992 1112.14 91.0475 1113.02 L91.0475 1095.66 Z\" fill=\"#000000\" fill-rule=\"evenodd\" fill-opacity=\"1\" /><path clip-path=\"url(#clip5500)\" d=\"M 0 0 M127.02 1098.74 Q123.408 1098.74 121.58 1102.3 Q119.774 1105.84 119.774 1112.97 Q119.774 1120.08 121.58 1123.64 Q123.408 1127.18 127.02 1127.18 Q130.654 1127.18 132.459 1123.64 Q134.288 1120.08 134.288 1112.97 Q134.288 1105.84 132.459 1102.3 Q130.654 1098.74 127.02 1098.74 M127.02 1095.03 Q132.83 1095.03 135.885 1099.64 Q138.964 1104.22 138.964 1112.97 Q138.964 1121.7 135.885 1126.3 Q132.83 1130.89 127.02 1130.89 Q121.209 1130.89 118.131 1126.3 Q115.075 1121.7 115.075 1112.97 Q115.075 1104.22 118.131 1099.64 Q121.209 1095.03 127.02 1095.03 Z\" fill=\"#000000\" fill-rule=\"evenodd\" fill-opacity=\"1\" /><path clip-path=\"url(#clip5500)\" d=\"M 0 0 M65.0292 793.502 L72.668 793.502 L72.668 767.136 L64.3579 768.803 L64.3579 764.544 L72.6217 762.877 L77.2976 762.877 L77.2976 793.502 L84.9365 793.502 L84.9365 797.437 L65.0292 797.437 L65.0292 793.502 Z\" fill=\"#000000\" fill-rule=\"evenodd\" fill-opacity=\"1\" /><path clip-path=\"url(#clip5500)\" d=\"M 0 0 M100.006 765.956 Q96.3947 765.956 94.566 769.521 Q92.7605 773.062 92.7605 780.192 Q92.7605 787.298 94.566 790.863 Q96.3947 794.405 100.006 794.405 Q103.64 794.405 105.446 790.863 Q107.274 787.298 107.274 780.192 Q107.274 773.062 105.446 769.521 Q103.64 765.956 100.006 765.956 M100.006 762.252 Q105.816 762.252 108.872 766.859 Q111.95 771.442 111.95 780.192 Q111.95 788.919 108.872 793.525 Q105.816 798.108 100.006 798.108 Q94.1957 798.108 91.117 793.525 Q88.0614 788.919 88.0614 780.192 Q88.0614 771.442 91.117 766.859 Q94.1957 762.252 100.006 762.252 Z\" fill=\"#000000\" fill-rule=\"evenodd\" fill-opacity=\"1\" /><path clip-path=\"url(#clip5500)\" d=\"M 0 0 M127.02 765.956 Q123.408 765.956 121.58 769.521 Q119.774 773.062 119.774 780.192 Q119.774 787.298 121.58 790.863 Q123.408 794.405 127.02 794.405 Q130.654 794.405 132.459 790.863 Q134.288 787.298 134.288 780.192 Q134.288 773.062 132.459 769.521 Q130.654 765.956 127.02 765.956 M127.02 762.252 Q132.83 762.252 135.885 766.859 Q138.964 771.442 138.964 780.192 Q138.964 788.919 135.885 793.525 Q132.83 798.108 127.02 798.108 Q121.209 798.108 118.131 793.525 Q115.075 788.919 115.075 780.192 Q115.075 771.442 118.131 766.859 Q121.209 762.252 127.02 762.252 Z\" fill=\"#000000\" fill-rule=\"evenodd\" fill-opacity=\"1\" /><path clip-path=\"url(#clip5500)\" d=\"M 0 0 M66.0245 460.723 L73.6634 460.723 L73.6634 434.357 L65.3532 436.024 L65.3532 431.765 L73.6171 430.098 L78.293 430.098 L78.293 460.723 L85.9318 460.723 L85.9318 464.658 L66.0245 464.658 L66.0245 460.723 Z\" fill=\"#000000\" fill-rule=\"evenodd\" fill-opacity=\"1\" /><path clip-path=\"url(#clip5500)\" d=\"M 0 0 M91.0475 430.098 L109.404 430.098 L109.404 434.033 L95.3299 434.033 L95.3299 442.505 Q96.3484 442.158 97.3669 441.996 Q98.3855 441.811 99.404 441.811 Q105.191 441.811 108.571 444.982 Q111.95 448.153 111.95 453.57 Q111.95 459.149 108.478 462.25 Q105.006 465.329 98.6864 465.329 Q96.5105 465.329 94.242 464.959 Q91.9966 464.588 89.5892 463.848 L89.5892 459.149 Q91.6725 460.283 93.8947 460.838 Q96.1169 461.394 98.5938 461.394 Q102.598 461.394 104.936 459.288 Q107.274 457.181 107.274 453.57 Q107.274 449.959 104.936 447.852 Q102.598 445.746 98.5938 445.746 Q96.7188 445.746 94.8438 446.163 Q92.992 446.579 91.0475 447.459 L91.0475 430.098 Z\" fill=\"#000000\" fill-rule=\"evenodd\" fill-opacity=\"1\" /><path clip-path=\"url(#clip5500)\" d=\"M 0 0 M127.02 433.177 Q123.408 433.177 121.58 436.741 Q119.774 440.283 119.774 447.413 Q119.774 454.519 121.58 458.084 Q123.408 461.625 127.02 461.625 Q130.654 461.625 132.459 458.084 Q134.288 454.519 134.288 447.413 Q134.288 440.283 132.459 436.741 Q130.654 433.177 127.02 433.177 M127.02 429.473 Q132.83 429.473 135.885 434.079 Q138.964 438.663 138.964 447.413 Q138.964 456.139 135.885 460.746 Q132.83 465.329 127.02 465.329 Q121.209 465.329 118.131 460.746 Q115.075 456.139 115.075 447.413 Q115.075 438.663 118.131 434.079 Q121.209 429.473 127.02 429.473 Z\" fill=\"#000000\" fill-rule=\"evenodd\" fill-opacity=\"1\" /><path clip-path=\"url(#clip5500)\" d=\"M 0 0 M68.6171 127.943 L84.9365 127.943 L84.9365 131.879 L62.9921 131.879 L62.9921 127.943 Q65.6541 125.189 70.2375 120.559 Q74.8439 115.906 76.0245 114.564 Q78.2698 112.041 79.1494 110.305 Q80.0522 108.545 80.0522 106.856 Q80.0522 104.101 78.1078 102.365 Q76.1865 100.629 73.0847 100.629 Q70.8856 100.629 68.4319 101.393 Q66.0014 102.157 63.2236 103.707 L63.2236 98.9853 Q66.0477 97.851 68.5014 97.2723 Q70.955 96.6936 72.9921 96.6936 Q78.3624 96.6936 81.5568 99.3788 Q84.7513 102.064 84.7513 106.555 Q84.7513 108.684 83.9411 110.606 Q83.1541 112.504 81.0476 115.096 Q80.4689 115.768 77.367 118.985 Q74.2652 122.18 68.6171 127.943 Z\" fill=\"#000000\" fill-rule=\"evenodd\" fill-opacity=\"1\" /><path clip-path=\"url(#clip5500)\" d=\"M 0 0 M100.006 100.397 Q96.3947 100.397 94.566 103.962 Q92.7605 107.504 92.7605 114.633 Q92.7605 121.74 94.566 125.305 Q96.3947 128.846 100.006 128.846 Q103.64 128.846 105.446 125.305 Q107.274 121.74 107.274 114.633 Q107.274 107.504 105.446 103.962 Q103.64 100.397 100.006 100.397 M100.006 96.6936 Q105.816 96.6936 108.872 101.3 Q111.95 105.883 111.95 114.633 Q111.95 123.36 108.872 127.967 Q105.816 132.55 100.006 132.55 Q94.1957 132.55 91.117 127.967 Q88.0614 123.36 88.0614 114.633 Q88.0614 105.883 91.117 101.3 Q94.1957 96.6936 100.006 96.6936 Z\" fill=\"#000000\" fill-rule=\"evenodd\" fill-opacity=\"1\" /><path clip-path=\"url(#clip5500)\" d=\"M 0 0 M127.02 100.397 Q123.408 100.397 121.58 103.962 Q119.774 107.504 119.774 114.633 Q119.774 121.74 121.58 125.305 Q123.408 128.846 127.02 128.846 Q130.654 128.846 132.459 125.305 Q134.288 121.74 134.288 114.633 Q134.288 107.504 132.459 103.962 Q130.654 100.397 127.02 100.397 M127.02 96.6936 Q132.83 96.6936 135.885 101.3 Q138.964 105.883 138.964 114.633 Q138.964 123.36 135.885 127.967 Q132.83 132.55 127.02 132.55 Q121.209 132.55 118.131 127.967 Q115.075 123.36 115.075 114.633 Q115.075 105.883 118.131 101.3 Q121.209 96.6936 127.02 96.6936 Z\" fill=\"#000000\" fill-rule=\"evenodd\" fill-opacity=\"1\" /><path clip-path=\"url(#clip5502)\" d=\"\n",
       "M283.406 1432.4 L283.406 1445.72 L433.322 1445.72 L433.322 1432.4 L283.406 1432.4 L283.406 1432.4  Z\n",
       "  \" fill=\"#009af9\" fill-rule=\"evenodd\" fill-opacity=\"1\"/>\n",
       "<polyline clip-path=\"url(#clip5502)\" style=\"stroke:#000000; stroke-width:4; stroke-opacity:1; fill:none\" points=\"\n",
       "  283.406,1432.4 283.406,1445.72 433.322,1445.72 433.322,1432.4 283.406,1432.4 \n",
       "  \"/>\n",
       "<path clip-path=\"url(#clip5502)\" d=\"\n",
       "M433.322 1419.09 L433.322 1445.72 L583.238 1445.72 L583.238 1419.09 L433.322 1419.09 L433.322 1419.09  Z\n",
       "  \" fill=\"#009af9\" fill-rule=\"evenodd\" fill-opacity=\"1\"/>\n",
       "<polyline clip-path=\"url(#clip5502)\" style=\"stroke:#000000; stroke-width:4; stroke-opacity:1; fill:none\" points=\"\n",
       "  433.322,1419.09 433.322,1445.72 583.238,1445.72 583.238,1419.09 433.322,1419.09 \n",
       "  \"/>\n",
       "<path clip-path=\"url(#clip5502)\" d=\"\n",
       "M583.238 1339.23 L583.238 1445.72 L733.154 1445.72 L733.154 1339.23 L583.238 1339.23 L583.238 1339.23  Z\n",
       "  \" fill=\"#009af9\" fill-rule=\"evenodd\" fill-opacity=\"1\"/>\n",
       "<polyline clip-path=\"url(#clip5502)\" style=\"stroke:#000000; stroke-width:4; stroke-opacity:1; fill:none\" points=\"\n",
       "  583.238,1339.23 583.238,1445.72 733.154,1445.72 733.154,1339.23 583.238,1339.23 \n",
       "  \"/>\n",
       "<path clip-path=\"url(#clip5502)\" d=\"\n",
       "M733.154 1092.97 L733.154 1445.72 L883.07 1445.72 L883.07 1092.97 L733.154 1092.97 L733.154 1092.97  Z\n",
       "  \" fill=\"#009af9\" fill-rule=\"evenodd\" fill-opacity=\"1\"/>\n",
       "<polyline clip-path=\"url(#clip5502)\" style=\"stroke:#000000; stroke-width:4; stroke-opacity:1; fill:none\" points=\"\n",
       "  733.154,1092.97 733.154,1445.72 883.07,1445.72 883.07,1092.97 733.154,1092.97 \n",
       "  \"/>\n",
       "<path clip-path=\"url(#clip5502)\" d=\"\n",
       "M883.07 899.958 L883.07 1445.72 L1032.99 1445.72 L1032.99 899.958 L883.07 899.958 L883.07 899.958  Z\n",
       "  \" fill=\"#009af9\" fill-rule=\"evenodd\" fill-opacity=\"1\"/>\n",
       "<polyline clip-path=\"url(#clip5502)\" style=\"stroke:#000000; stroke-width:4; stroke-opacity:1; fill:none\" points=\"\n",
       "  883.07,899.958 883.07,1445.72 1032.99,1445.72 1032.99,899.958 883.07,899.958 \n",
       "  \"/>\n",
       "<path clip-path=\"url(#clip5502)\" d=\"\n",
       "M1032.99 507.278 L1032.99 1445.72 L1182.9 1445.72 L1182.9 507.278 L1032.99 507.278 L1032.99 507.278  Z\n",
       "  \" fill=\"#009af9\" fill-rule=\"evenodd\" fill-opacity=\"1\"/>\n",
       "<polyline clip-path=\"url(#clip5502)\" style=\"stroke:#000000; stroke-width:4; stroke-opacity:1; fill:none\" points=\"\n",
       "  1032.99,507.278 1032.99,1445.72 1182.9,1445.72 1182.9,507.278 1032.99,507.278 \n",
       "  \"/>\n",
       "<path clip-path=\"url(#clip5502)\" d=\"\n",
       "M1182.9 194.466 L1182.9 1445.72 L1332.82 1445.72 L1332.82 194.466 L1182.9 194.466 L1182.9 194.466  Z\n",
       "  \" fill=\"#009af9\" fill-rule=\"evenodd\" fill-opacity=\"1\"/>\n",
       "<polyline clip-path=\"url(#clip5502)\" style=\"stroke:#000000; stroke-width:4; stroke-opacity:1; fill:none\" points=\"\n",
       "  1182.9,194.466 1182.9,1445.72 1332.82,1445.72 1332.82,194.466 1182.9,194.466 \n",
       "  \"/>\n",
       "<path clip-path=\"url(#clip5502)\" d=\"\n",
       "M1332.82 87.9763 L1332.82 1445.72 L1482.73 1445.72 L1482.73 87.9763 L1332.82 87.9763 L1332.82 87.9763  Z\n",
       "  \" fill=\"#009af9\" fill-rule=\"evenodd\" fill-opacity=\"1\"/>\n",
       "<polyline clip-path=\"url(#clip5502)\" style=\"stroke:#000000; stroke-width:4; stroke-opacity:1; fill:none\" points=\"\n",
       "  1332.82,87.9763 1332.82,1445.72 1482.73,1445.72 1482.73,87.9763 1332.82,87.9763 \n",
       "  \"/>\n",
       "<path clip-path=\"url(#clip5502)\" d=\"\n",
       "M1482.73 460.689 L1482.73 1445.72 L1632.65 1445.72 L1632.65 460.689 L1482.73 460.689 L1482.73 460.689  Z\n",
       "  \" fill=\"#009af9\" fill-rule=\"evenodd\" fill-opacity=\"1\"/>\n",
       "<polyline clip-path=\"url(#clip5502)\" style=\"stroke:#000000; stroke-width:4; stroke-opacity:1; fill:none\" points=\"\n",
       "  1482.73,460.689 1482.73,1445.72 1632.65,1445.72 1632.65,460.689 1482.73,460.689 \n",
       "  \"/>\n",
       "<path clip-path=\"url(#clip5502)\" d=\"\n",
       "M1632.65 780.157 L1632.65 1445.72 L1782.57 1445.72 L1782.57 780.157 L1632.65 780.157 L1632.65 780.157  Z\n",
       "  \" fill=\"#009af9\" fill-rule=\"evenodd\" fill-opacity=\"1\"/>\n",
       "<polyline clip-path=\"url(#clip5502)\" style=\"stroke:#000000; stroke-width:4; stroke-opacity:1; fill:none\" points=\"\n",
       "  1632.65,780.157 1632.65,1445.72 1782.57,1445.72 1782.57,780.157 1632.65,780.157 \n",
       "  \"/>\n",
       "<path clip-path=\"url(#clip5502)\" d=\"\n",
       "M1782.57 1119.59 L1782.57 1445.72 L1932.48 1445.72 L1932.48 1119.59 L1782.57 1119.59 L1782.57 1119.59  Z\n",
       "  \" fill=\"#009af9\" fill-rule=\"evenodd\" fill-opacity=\"1\"/>\n",
       "<polyline clip-path=\"url(#clip5502)\" style=\"stroke:#000000; stroke-width:4; stroke-opacity:1; fill:none\" points=\"\n",
       "  1782.57,1119.59 1782.57,1445.72 1932.48,1445.72 1932.48,1119.59 1782.57,1119.59 \n",
       "  \"/>\n",
       "<path clip-path=\"url(#clip5502)\" d=\"\n",
       "M1932.48 1385.82 L1932.48 1445.72 L2082.4 1445.72 L2082.4 1385.82 L1932.48 1385.82 L1932.48 1385.82  Z\n",
       "  \" fill=\"#009af9\" fill-rule=\"evenodd\" fill-opacity=\"1\"/>\n",
       "<polyline clip-path=\"url(#clip5502)\" style=\"stroke:#000000; stroke-width:4; stroke-opacity:1; fill:none\" points=\"\n",
       "  1932.48,1385.82 1932.48,1445.72 2082.4,1445.72 2082.4,1385.82 1932.48,1385.82 \n",
       "  \"/>\n",
       "<path clip-path=\"url(#clip5502)\" d=\"\n",
       "M2082.4 1419.09 L2082.4 1445.72 L2232.31 1445.72 L2232.31 1419.09 L2082.4 1419.09 L2082.4 1419.09  Z\n",
       "  \" fill=\"#009af9\" fill-rule=\"evenodd\" fill-opacity=\"1\"/>\n",
       "<polyline clip-path=\"url(#clip5502)\" style=\"stroke:#000000; stroke-width:4; stroke-opacity:1; fill:none\" points=\"\n",
       "  2082.4,1419.09 2082.4,1445.72 2232.31,1445.72 2232.31,1419.09 2082.4,1419.09 \n",
       "  \"/>\n",
       "<path clip-path=\"url(#clip5500)\" d=\"\n",
       "M1989.74 251.724 L2280.76 251.724 L2280.76 130.764 L1989.74 130.764  Z\n",
       "  \" fill=\"#ffffff\" fill-rule=\"evenodd\" fill-opacity=\"1\"/>\n",
       "<polyline clip-path=\"url(#clip5500)\" style=\"stroke:#000000; stroke-width:4; stroke-opacity:1; fill:none\" points=\"\n",
       "  1989.74,251.724 2280.76,251.724 2280.76,130.764 1989.74,130.764 1989.74,251.724 \n",
       "  \"/>\n",
       "<path clip-path=\"url(#clip5500)\" d=\"\n",
       "M2013.74 215.436 L2157.74 215.436 L2157.74 167.052 L2013.74 167.052 L2013.74 215.436  Z\n",
       "  \" fill=\"#009af9\" fill-rule=\"evenodd\" fill-opacity=\"1\"/>\n",
       "<polyline clip-path=\"url(#clip5500)\" style=\"stroke:#000000; stroke-width:4; stroke-opacity:1; fill:none\" points=\"\n",
       "  2013.74,215.436 2157.74,215.436 2157.74,167.052 2013.74,167.052 2013.74,215.436 \n",
       "  \"/>\n",
       "<path clip-path=\"url(#clip5500)\" d=\"M 0 0 M2195.58 210.931 Q2193.77 215.561 2192.06 216.973 Q2190.35 218.385 2187.48 218.385 L2184.08 218.385 L2184.08 214.82 L2186.58 214.82 Q2188.33 214.82 2189.31 213.987 Q2190.28 213.154 2191.46 210.052 L2192.22 208.107 L2181.74 182.598 L2186.25 182.598 L2194.35 202.876 L2202.46 182.598 L2206.97 182.598 L2195.58 210.931 Z\" fill=\"#000000\" fill-rule=\"evenodd\" fill-opacity=\"1\" /><path clip-path=\"url(#clip5500)\" d=\"M 0 0 M2212.85 204.589 L2220.49 204.589 L2220.49 178.223 L2212.18 179.89 L2212.18 175.631 L2220.44 173.964 L2225.12 173.964 L2225.12 204.589 L2232.76 204.589 L2232.76 208.524 L2212.85 208.524 L2212.85 204.589 Z\" fill=\"#000000\" fill-rule=\"evenodd\" fill-opacity=\"1\" /></svg>\n"
      ]
     },
     "execution_count": 12,
     "metadata": {},
     "output_type": "execute_result"
    }
   ],
   "source": [
    "using Plots\n",
    "\n",
    "tmp = randn(1000)\n",
    "\n",
    "histogram(tmp)"
   ]
  },
  {
   "cell_type": "markdown",
   "id": "29d83f84-2c18-4a84-8043-e1ccf1ca3076",
   "metadata": {},
   "source": [
    "### 1.2.3 seed!"
   ]
  },
  {
   "cell_type": "markdown",
   "id": "a2a134a7-b591-4fc3-b1d9-dbfb3b961cb9",
   "metadata": {},
   "source": [
    "* 재현가능성(reproducibility) 확보를 위해 난수의 복원 추출이 가능토록 의사 난수의 시드를 정하는 함수 (same random sequence of numbers)\n",
    "\n",
    "* seed!를 정하지 않으면 같은 함수라도 결과가 계속 다르게 나옴"
   ]
  },
  {
   "cell_type": "code",
   "execution_count": 13,
   "id": "f0dd06d0-a784-42e1-a5ab-1ae677f53585",
   "metadata": {},
   "outputs": [
    {
     "data": {
      "text/plain": [
       "3-element Vector{Float64}:\n",
       " 0.9596932928277048\n",
       " 0.013718183439412557\n",
       " 0.4527778501658487"
      ]
     },
     "execution_count": 13,
     "metadata": {},
     "output_type": "execute_result"
    }
   ],
   "source": [
    "rand(3)"
   ]
  },
  {
   "cell_type": "code",
   "execution_count": 14,
   "id": "85f1041a-be7f-426d-8554-056989e06c24",
   "metadata": {},
   "outputs": [
    {
     "data": {
      "text/plain": [
       "3-element Vector{Float64}:\n",
       " 0.5389171401910441\n",
       " 0.08271747562135712\n",
       " 0.754781055461492"
      ]
     },
     "execution_count": 14,
     "metadata": {},
     "output_type": "execute_result"
    }
   ],
   "source": [
    "rand(3)"
   ]
  },
  {
   "cell_type": "code",
   "execution_count": 15,
   "id": "6faa7790-cfe6-4d9e-ba79-3c36a36850e2",
   "metadata": {},
   "outputs": [
    {
     "data": {
      "text/plain": [
       "3-element Vector{Float64}:\n",
       " 0.9092032494054929\n",
       " 0.17456536173765325\n",
       " 0.10328808967374403"
      ]
     },
     "execution_count": 15,
     "metadata": {},
     "output_type": "execute_result"
    }
   ],
   "source": [
    "rand(3)"
   ]
  },
  {
   "cell_type": "code",
   "execution_count": 16,
   "id": "5af2983e-4c57-4f28-9ff1-0194810763a4",
   "metadata": {},
   "outputs": [
    {
     "data": {
      "text/plain": [
       "3-element Vector{Float64}:\n",
       " 0.521213795535383\n",
       " 0.5868067574533484\n",
       " 0.8908786980927811"
      ]
     },
     "execution_count": 16,
     "metadata": {},
     "output_type": "execute_result"
    }
   ],
   "source": [
    "seed!(123)\n",
    "rand(3)"
   ]
  },
  {
   "cell_type": "code",
   "execution_count": 17,
   "id": "530ddf63-a481-4517-8e64-f7e5b4eb2434",
   "metadata": {},
   "outputs": [
    {
     "data": {
      "text/plain": [
       "3-element Vector{Float64}:\n",
       " 0.521213795535383\n",
       " 0.5868067574533484\n",
       " 0.8908786980927811"
      ]
     },
     "execution_count": 17,
     "metadata": {},
     "output_type": "execute_result"
    }
   ],
   "source": [
    "seed!(123)\n",
    "rand(3)"
   ]
  },
  {
   "cell_type": "code",
   "execution_count": 18,
   "id": "d1f95999-b309-4134-b51a-292276ecc5ff",
   "metadata": {},
   "outputs": [
    {
     "name": "stdout",
     "output_type": "stream",
     "text": [
      "First sampling : [9, 24, 18, 3, 43, 27]\n",
      "Second sampling : [15, 24, 38, 2, 21, 17]\n",
      "Third sampling : [5, 33, 26, 30, 14, 13]\n"
     ]
    }
   ],
   "source": [
    "println(\"First sampling : \", rand((1:45), 6))\n",
    "println(\"Second sampling : \", rand((1:45), 6))\n",
    "println(\"Third sampling : \", rand((1:45), 6))"
   ]
  },
  {
   "cell_type": "code",
   "execution_count": 19,
   "id": "a8859284-82ed-47af-97d9-29b40d107a10",
   "metadata": {},
   "outputs": [
    {
     "name": "stdout",
     "output_type": "stream",
     "text": [
      "First sampling : [24, 27, 41, 9, 24, 18]\n",
      "Second sampling : [24, 27, 41, 9, 24, 18]\n",
      "Third sampling : [24, 27, 41, 9, 24, 18]\n"
     ]
    }
   ],
   "source": [
    "println(\"First sampling : \", rand(seed!(123), (1:45), 6))\n",
    "println(\"Second sampling : \", rand(seed!(123), (1:45), 6))\n",
    "println(\"Third sampling : \", rand(seed!(123), (1:45), 6))"
   ]
  },
  {
   "cell_type": "code",
   "execution_count": 20,
   "id": "4373e4ad-7726-44c3-9b5a-befb2eec4339",
   "metadata": {},
   "outputs": [
    {
     "name": "stdout",
     "output_type": "stream",
     "text": [
      "재우의 이번주 로또 번호 : [29, 16, 18, 1, 36, 34]\n",
      "찬영이의 이번주 로또 번호 : [28, 32, 43, 35, 15, 13]\n",
      "세응이의 이번주 로또 번호 : [41, 4, 22, 30, 19, 38]\n",
      "영호의 이번주 로또 번호 : [45, 15, 31, 34, 22, 45]\n"
     ]
    }
   ],
   "source": [
    "println(\"재우의 이번주 로또 번호 : \", rand(seed!(1816), (1:45), 6))\n",
    "println(\"찬영이의 이번주 로또 번호 : \", rand(seed!(9176), (1:45), 6))\n",
    "println(\"세응이의 이번주 로또 번호 : \", rand(seed!(7828), (1:45), 6))\n",
    "println(\"영호의 이번주 로또 번호 : \", rand(seed!(2982), (1:45), 6))"
   ]
  },
  {
   "cell_type": "code",
   "execution_count": 21,
   "id": "918c8d21-afea-449c-8d23-d0e50030687b",
   "metadata": {},
   "outputs": [
    {
     "name": "stdout",
     "output_type": "stream",
     "text": [
      "태현이의 이번주 로또 번호 : [38, 30, 33, 31, 7, 32]\n",
      "근우의 이번주 로또 번호 : [40, 10, 8, 17, 35, 11]\n",
      "레칭의 이번주 로또 번호 : [2, 11, 7, 22, 26, 24]\n",
      "영호의 이번주 로또 번호 : [45, 15, 31, 34, 22, 45]\n"
     ]
    }
   ],
   "source": [
    "println(\"태현이의 이번주 로또 번호 : \", rand(seed!(2286), (1:45), 6))\n",
    "println(\"근우의 이번주 로또 번호 : \", rand(seed!(7743), (1:45), 6))\n",
    "println(\"레칭의 이번주 로또 번호 : \", rand(seed!(4588), (1:45), 6))\n",
    "println(\"영호의 이번주 로또 번호 : \", rand(seed!(2982), (1:45), 6))"
   ]
  },
  {
   "cell_type": "code",
   "execution_count": 35,
   "id": "97bdbd2f-7221-4e0b-abed-a6a6602c4575",
   "metadata": {},
   "outputs": [
    {
     "name": "stdout",
     "output_type": "stream",
     "text": [
      "[4, 9, 16, 29, 32, 42]\n",
      "[1, 11, 31, 34, 37, 40]\n",
      "[5, 16, 23, 32, 44, 45]\n",
      "[15, 19, 23, 31, 39, 42]\n",
      "[1, 17, 19, 25, 42, 44]\n",
      "[1, 4, 5, 8, 26, 38]\n",
      "[3, 11, 21, 33, 37, 43]\n",
      "[2, 12, 13, 14, 19, 35]\n",
      "[2, 2, 15, 17, 20, 44]\n",
      "[4, 8, 9, 14, 21, 25]\n",
      "[1, 27, 32, 33, 39, 39]\n",
      "[9, 15, 18, 25, 43, 43]\n",
      "[5, 7, 27, 31, 40, 43]\n",
      "[15, 17, 24, 33, 37, 39]\n",
      "[7, 8, 15, 29, 33, 34]\n",
      "[4, 13, 13, 24, 30, 44]\n",
      "[17, 24, 31, 31, 39, 43]\n",
      "[2, 4, 6, 15, 39, 43]\n",
      "[11, 34, 34, 36, 44, 45]\n",
      "[13, 15, 31, 33, 36, 37]\n",
      "[3, 6, 14, 22, 33, 33]\n",
      "[1, 7, 16, 29, 32, 33]\n",
      "[7, 26, 28, 32, 39, 42]\n",
      "[2, 7, 12, 22, 36, 39]\n",
      "[9, 9, 13, 20, 21, 40]\n",
      "[1, 26, 28, 28, 33, 44]\n",
      "[5, 7, 8, 9, 35, 39]\n",
      "[10, 12, 34, 41, 43, 44]\n",
      "[4, 11, 12, 20, 20, 39]\n",
      "[17, 31, 35, 37, 38, 45]\n",
      "[14, 22, 25, 31, 34, 40]\n",
      "[7, 8, 19, 38, 39, 39]\n",
      "[15, 22, 37, 42, 44, 44]\n",
      "[3, 24, 24, 30, 31, 36]\n",
      "[6, 12, 16, 27, 29, 33]\n",
      "[10, 22, 27, 33, 35, 41]\n",
      "[16, 16, 29, 37, 40, 43]\n",
      "[1, 6, 11, 27, 39, 42]\n",
      "[5, 30, 32, 33, 40, 42]\n",
      "[7, 19, 23, 31, 34, 45]\n",
      "[2, 18, 20, 30, 36, 43]\n",
      "[8, 21, 22, 29, 31, 32]\n",
      "[8, 18, 20, 24, 24, 45]\n",
      "[4, 4, 12, 14, 24, 33]\n",
      "[2, 3, 8, 35, 41, 45]\n",
      "[8, 9, 26, 26, 40, 43]\n",
      "[2, 5, 13, 19, 20, 27]\n",
      "[6, 6, 7, 30, 31, 39]\n",
      "[17, 19, 23, 25, 41, 45]\n",
      "[2, 8, 13, 13, 19, 19]\n",
      "[15, 22, 30, 36, 44, 45]\n",
      "[2, 4, 8, 14, 24, 40]\n",
      "[6, 12, 16, 30, 36, 44]\n",
      "[8, 8, 14, 18, 35, 39]\n",
      "[11, 20, 23, 42, 44, 45]\n",
      "[1, 20, 32, 38, 40, 41]\n",
      "[1, 3, 13, 23, 34, 37]\n",
      "[4, 10, 20, 33, 39, 45]\n",
      "[6, 11, 28, 33, 34, 43]\n",
      "[7, 18, 30, 31, 38, 39]\n",
      "[5, 13, 18, 21, 26, 38]\n",
      "[15, 31, 31, 34, 37, 39]\n",
      "[9, 11, 15, 16, 28, 35]\n",
      "[16, 16, 16, 20, 31, 33]\n",
      "[4, 13, 14, 19, 23, 35]\n",
      "[2, 23, 30, 36, 38, 40]\n",
      "[7, 12, 22, 30, 43, 44]\n",
      "[2, 5, 12, 18, 42, 45]\n",
      "[4, 5, 5, 9, 23, 37]\n",
      "[15, 17, 30, 37, 39, 40]\n",
      "[14, 17, 25, 25, 28, 45]\n",
      "[9, 10, 22, 23, 25, 34]\n",
      "[3, 12, 29, 37, 39, 41]\n",
      "[3, 15, 30, 37, 37, 42]\n",
      "[7, 11, 14, 18, 19, 38]\n",
      "[2, 16, 20, 24, 28, 31]\n",
      "[7, 13, 13, 28, 30, 32]\n",
      "[7, 8, 18, 22, 39, 42]\n",
      "[11, 14, 15, 15, 27, 36]\n",
      "[3, 19, 24, 29, 36, 39]\n",
      "[5, 11, 12, 13, 30, 41]\n",
      "[3, 5, 12, 16, 19, 38]\n",
      "[12, 19, 26, 33, 36, 42]\n",
      "[6, 8, 25, 25, 25, 34]\n",
      "[8, 16, 21, 25, 41, 44]\n",
      "[1, 3, 10, 24, 24, 33]\n",
      "[3, 3, 6, 11, 30, 41]\n",
      "[3, 7, 8, 19, 22, 45]\n",
      "[10, 10, 12, 16, 35, 36]\n",
      "[12, 22, 25, 30, 33, 40]\n",
      "[11, 17, 24, 25, 29, 32]\n",
      "[1, 3, 25, 26, 33, 37]\n",
      "[1, 11, 17, 19, 26, 26]\n",
      "[22, 24, 32, 33, 38, 41]\n",
      "[3, 18, 18, 35, 40, 41]\n",
      "[9, 13, 16, 16, 17, 17]\n",
      "[18, 28, 30, 34, 38, 44]\n",
      "[4, 11, 38, 39, 41, 43]\n",
      "[2, 7, 11, 22, 42, 45]\n",
      "[2, 6, 8, 13, 27, 41]\n"
     ]
    }
   ],
   "source": [
    "for i in 1:100\n",
    "    println(sort!(rand(seed!(i), (1:45), 6)))\n",
    "end"
   ]
  },
  {
   "cell_type": "code",
   "execution_count": 23,
   "id": "2871993e-7024-47a9-899f-8c4992ce3df8",
   "metadata": {},
   "outputs": [
    {
     "name": "stdout",
     "output_type": "stream",
     "text": [
      "[24, 27, 41, 9, 24, 18]\n"
     ]
    }
   ],
   "source": [
    "println(rand(seed!(123), (1:45), 6))"
   ]
  },
  {
   "cell_type": "code",
   "execution_count": 24,
   "id": "c39978ad-e400-492e-b826-2ce95360f206",
   "metadata": {},
   "outputs": [
    {
     "data": {
      "text/plain": [
       "521.3333333333334"
      ]
     },
     "execution_count": 24,
     "metadata": {},
     "output_type": "execute_result"
    }
   ],
   "source": [
    "using Metrics\n",
    "\n",
    "input = [1, 2, 3, 4, 5, 6]\n",
    "\n",
    "mse(rand(seed!(123), (1:45), 6), input)\n"
   ]
  },
  {
   "cell_type": "code",
   "execution_count": 25,
   "id": "9378562f-4c21-4615-8e2d-d15a9adbeaa2",
   "metadata": {},
   "outputs": [
    {
     "data": {
      "text/plain": [
       "6-element Vector{Int64}:\n",
       "  9\n",
       " 18\n",
       " 24\n",
       " 24\n",
       " 27\n",
       " 41"
      ]
     },
     "execution_count": 25,
     "metadata": {},
     "output_type": "execute_result"
    }
   ],
   "source": [
    "sort!(rand(seed!(123), (1:45), 6))"
   ]
  },
  {
   "cell_type": "code",
   "execution_count": 3,
   "id": "171edb39-517b-40fe-92ef-2de07666fd51",
   "metadata": {},
   "outputs": [],
   "source": [
    "# 전화번호 8자리의 경우의 수를 이용하여 난수 생성\n",
    "using Random: seed!\n",
    "using StatsBase\n",
    "using Metrics\n",
    "\n",
    "tmp = [1.0:1:1e+8;]\n",
    "input = [26, 31, 32, 33, 38, 40]\n",
    "sample_mean = tmp = [1.0:1:1e+8;]\n",
    "\n",
    "for i in 1:floor(Int, 1e+8)\n",
    "    tmp[i] = mse(sort!(rand(seed!(i), (1:45), 6)), input)\n",
    "    sample_mean[i] = mean(rand(seed!(i), (1:45), 6))\n",
    "end"
   ]
  },
  {
   "cell_type": "code",
   "execution_count": 7,
   "id": "99a62d33-5130-4040-b0eb-71249d6d8f11",
   "metadata": {},
   "outputs": [
    {
     "data": {
      "text/plain": [
       "100000000-element Vector{Float64}:\n",
       " 22.0\n",
       " 25.666666666666668\n",
       " 27.5\n",
       " 28.166666666666668\n",
       " 24.666666666666668\n",
       " 13.666666666666666\n",
       " 24.666666666666668\n",
       " 15.833333333333334\n",
       " 16.666666666666668\n",
       " 13.5\n",
       " 28.5\n",
       " 25.5\n",
       " 25.5\n",
       "  ⋮\n",
       " 19.833333333333332\n",
       " 23.0\n",
       " 22.833333333333332\n",
       " 30.833333333333332\n",
       " 16.166666666666668\n",
       " 13.333333333333334\n",
       " 15.666666666666666\n",
       " 19.666666666666668\n",
       " 20.166666666666668\n",
       " 21.333333333333332\n",
       " 32.666666666666664\n",
       " 25.166666666666668"
      ]
     },
     "execution_count": 7,
     "metadata": {},
     "output_type": "execute_result"
    }
   ],
   "source": [
    "sample_mean"
   ]
  },
  {
   "cell_type": "code",
   "execution_count": 8,
   "id": "6af47089-ff97-4a43-a258-3c063b4da3d7",
   "metadata": {},
   "outputs": [
    {
     "ename": "LoadError",
     "evalue": "ArgumentError: Package Plots not found in current path.\n- Run `import Pkg; Pkg.add(\"Plots\")` to install the Plots package.",
     "output_type": "error",
     "traceback": [
      "ArgumentError: Package Plots not found in current path.\n- Run `import Pkg; Pkg.add(\"Plots\")` to install the Plots package.",
      "",
      "Stacktrace:",
      " [1] macro expansion",
      "   @ .\\loading.jl:1163 [inlined]",
      " [2] macro expansion",
      "   @ .\\lock.jl:223 [inlined]",
      " [3] require(into::Module, mod::Symbol)",
      "   @ Base .\\loading.jl:1144",
      " [4] eval",
      "   @ .\\boot.jl:368 [inlined]",
      " [5] include_string(mapexpr::typeof(REPL.softscope), mod::Module, code::String, filename::String)",
      "   @ Base .\\loading.jl:1428"
     ]
    }
   ],
   "source": [
    "using Plots\n",
    "\n",
    "histogram(sample_mean)"
   ]
  },
  {
   "cell_type": "code",
   "execution_count": 4,
   "id": "03c53a1c-c098-4509-8b76-00ab51cba90c",
   "metadata": {},
   "outputs": [
    {
     "data": {
      "text/plain": [
       "1.5"
      ]
     },
     "execution_count": 4,
     "metadata": {},
     "output_type": "execute_result"
    }
   ],
   "source": [
    "minimum(tmp)"
   ]
  },
  {
   "cell_type": "code",
   "execution_count": 5,
   "id": "600f1f8a-12e8-4131-9c11-384a8b11a0d7",
   "metadata": {},
   "outputs": [
    {
     "data": {
      "text/plain": [
       "(1.5, 77476031)"
      ]
     },
     "execution_count": 5,
     "metadata": {},
     "output_type": "execute_result"
    }
   ],
   "source": [
    "findmin(tmp)"
   ]
  },
  {
   "cell_type": "code",
   "execution_count": 6,
   "id": "f41f29a2-3af9-4163-b11e-cef26cfea963",
   "metadata": {},
   "outputs": [
    {
     "name": "stdout",
     "output_type": "stream",
     "text": [
      "[1 1 1 1 2 3]\n",
      "[26, 31, 32, 33, 38, 40]\n"
     ]
    }
   ],
   "source": [
    "println(sort!(rand(seed!(findmin(tmp)[2]), (1:45), 6))')\n",
    "println(input)"
   ]
  },
  {
   "cell_type": "code",
   "execution_count": 31,
   "id": "0548c7cd-56b9-4127-b3b3-c859170ce8ac",
   "metadata": {},
   "outputs": [
    {
     "data": {
      "text/plain": [
       "Int64"
      ]
     },
     "execution_count": 31,
     "metadata": {},
     "output_type": "execute_result"
    }
   ],
   "source": [
    "typeof(floor(Int, 1e+8))"
   ]
  },
  {
   "cell_type": "code",
   "execution_count": 47,
   "id": "ddd0b39a-0cb5-4da7-bf7e-0ad666653ea9",
   "metadata": {},
   "outputs": [],
   "source": [
    "using StatsBase\n",
    "\n",
    "sample_mean = [1.0:1:100.0;]\n",
    "\n",
    "for i in 1:100\n",
    "    # println(sort!(rand(seed!(i), (1:45), 6)))\n",
    "    sample_mean[i] = mean(sort!(rand(seed!(i), (1:45), 6)))\n",
    "end"
   ]
  },
  {
   "cell_type": "code",
   "execution_count": 48,
   "id": "d4c884f8-b981-40c4-bbc5-7b6a1381f871",
   "metadata": {},
   "outputs": [
    {
     "data": {
      "text/plain": [
       "100-element Vector{Float64}:\n",
       " 22.0\n",
       " 25.666666666666668\n",
       " 27.5\n",
       " 28.166666666666668\n",
       " 24.666666666666668\n",
       " 13.666666666666666\n",
       " 24.666666666666668\n",
       " 15.833333333333334\n",
       " 16.666666666666668\n",
       " 13.5\n",
       " 28.5\n",
       " 25.5\n",
       " 25.5\n",
       "  ⋮\n",
       " 19.833333333333332\n",
       " 27.0\n",
       " 23.0\n",
       " 20.833333333333332\n",
       " 16.666666666666668\n",
       " 31.666666666666668\n",
       " 25.833333333333332\n",
       " 14.666666666666666\n",
       " 32.0\n",
       " 29.333333333333332\n",
       " 21.5\n",
       " 16.166666666666668"
      ]
     },
     "execution_count": 48,
     "metadata": {},
     "output_type": "execute_result"
    }
   ],
   "source": [
    "sample_mean"
   ]
  },
  {
   "cell_type": "code",
   "execution_count": 49,
   "id": "c236a797-c672-4387-a310-a5f9aff75643",
   "metadata": {},
   "outputs": [
    {
     "data": {
      "image/svg+xml": [
       "<?xml version=\"1.0\" encoding=\"utf-8\"?>\n",
       "<svg xmlns=\"http://www.w3.org/2000/svg\" xmlns:xlink=\"http://www.w3.org/1999/xlink\" width=\"600\" height=\"400\" viewBox=\"0 0 2400 1600\">\n",
       "<defs>\n",
       "  <clipPath id=\"clip5900\">\n",
       "    <rect x=\"0\" y=\"0\" width=\"2400\" height=\"1600\"/>\n",
       "  </clipPath>\n",
       "</defs>\n",
       "<path clip-path=\"url(#clip5900)\" d=\"\n",
       "M0 1600 L2400 1600 L2400 0 L0 0  Z\n",
       "  \" fill=\"#ffffff\" fill-rule=\"evenodd\" fill-opacity=\"1\"/>\n",
       "<defs>\n",
       "  <clipPath id=\"clip5901\">\n",
       "    <rect x=\"480\" y=\"0\" width=\"1681\" height=\"1600\"/>\n",
       "  </clipPath>\n",
       "</defs>\n",
       "<path clip-path=\"url(#clip5900)\" d=\"\n",
       "M136.76 1486.45 L2352.76 1486.45 L2352.76 47.2441 L136.76 47.2441  Z\n",
       "  \" fill=\"#ffffff\" fill-rule=\"evenodd\" fill-opacity=\"1\"/>\n",
       "<defs>\n",
       "  <clipPath id=\"clip5902\">\n",
       "    <rect x=\"136\" y=\"47\" width=\"2217\" height=\"1440\"/>\n",
       "  </clipPath>\n",
       "</defs>\n",
       "<polyline clip-path=\"url(#clip5902)\" style=\"stroke:#000000; stroke-width:2; stroke-opacity:0.1; fill:none\" points=\"\n",
       "  258.644,1486.45 258.644,47.2441 \n",
       "  \"/>\n",
       "<polyline clip-path=\"url(#clip5902)\" style=\"stroke:#000000; stroke-width:2; stroke-opacity:0.1; fill:none\" points=\"\n",
       "  653.09,1486.45 653.09,47.2441 \n",
       "  \"/>\n",
       "<polyline clip-path=\"url(#clip5902)\" style=\"stroke:#000000; stroke-width:2; stroke-opacity:0.1; fill:none\" points=\"\n",
       "  1047.54,1486.45 1047.54,47.2441 \n",
       "  \"/>\n",
       "<polyline clip-path=\"url(#clip5902)\" style=\"stroke:#000000; stroke-width:2; stroke-opacity:0.1; fill:none\" points=\"\n",
       "  1441.98,1486.45 1441.98,47.2441 \n",
       "  \"/>\n",
       "<polyline clip-path=\"url(#clip5902)\" style=\"stroke:#000000; stroke-width:2; stroke-opacity:0.1; fill:none\" points=\"\n",
       "  1836.43,1486.45 1836.43,47.2441 \n",
       "  \"/>\n",
       "<polyline clip-path=\"url(#clip5902)\" style=\"stroke:#000000; stroke-width:2; stroke-opacity:0.1; fill:none\" points=\"\n",
       "  2230.87,1486.45 2230.87,47.2441 \n",
       "  \"/>\n",
       "<polyline clip-path=\"url(#clip5902)\" style=\"stroke:#000000; stroke-width:2; stroke-opacity:0.1; fill:none\" points=\"\n",
       "  136.76,1445.72 2352.76,1445.72 \n",
       "  \"/>\n",
       "<polyline clip-path=\"url(#clip5902)\" style=\"stroke:#000000; stroke-width:2; stroke-opacity:0.1; fill:none\" points=\"\n",
       "  136.76,1021.42 2352.76,1021.42 \n",
       "  \"/>\n",
       "<polyline clip-path=\"url(#clip5902)\" style=\"stroke:#000000; stroke-width:2; stroke-opacity:0.1; fill:none\" points=\"\n",
       "  136.76,597.129 2352.76,597.129 \n",
       "  \"/>\n",
       "<polyline clip-path=\"url(#clip5902)\" style=\"stroke:#000000; stroke-width:2; stroke-opacity:0.1; fill:none\" points=\"\n",
       "  136.76,172.835 2352.76,172.835 \n",
       "  \"/>\n",
       "<polyline clip-path=\"url(#clip5900)\" style=\"stroke:#000000; stroke-width:4; stroke-opacity:1; fill:none\" points=\"\n",
       "  136.76,1486.45 2352.76,1486.45 \n",
       "  \"/>\n",
       "<polyline clip-path=\"url(#clip5900)\" style=\"stroke:#000000; stroke-width:4; stroke-opacity:1; fill:none\" points=\"\n",
       "  136.76,1486.45 136.76,47.2441 \n",
       "  \"/>\n",
       "<polyline clip-path=\"url(#clip5900)\" style=\"stroke:#000000; stroke-width:4; stroke-opacity:1; fill:none\" points=\"\n",
       "  258.644,1486.45 258.644,1469.18 \n",
       "  \"/>\n",
       "<polyline clip-path=\"url(#clip5900)\" style=\"stroke:#000000; stroke-width:4; stroke-opacity:1; fill:none\" points=\"\n",
       "  653.09,1486.45 653.09,1469.18 \n",
       "  \"/>\n",
       "<polyline clip-path=\"url(#clip5900)\" style=\"stroke:#000000; stroke-width:4; stroke-opacity:1; fill:none\" points=\"\n",
       "  1047.54,1486.45 1047.54,1469.18 \n",
       "  \"/>\n",
       "<polyline clip-path=\"url(#clip5900)\" style=\"stroke:#000000; stroke-width:4; stroke-opacity:1; fill:none\" points=\"\n",
       "  1441.98,1486.45 1441.98,1469.18 \n",
       "  \"/>\n",
       "<polyline clip-path=\"url(#clip5900)\" style=\"stroke:#000000; stroke-width:4; stroke-opacity:1; fill:none\" points=\"\n",
       "  1836.43,1486.45 1836.43,1469.18 \n",
       "  \"/>\n",
       "<polyline clip-path=\"url(#clip5900)\" style=\"stroke:#000000; stroke-width:4; stroke-opacity:1; fill:none\" points=\"\n",
       "  2230.87,1486.45 2230.87,1469.18 \n",
       "  \"/>\n",
       "<polyline clip-path=\"url(#clip5900)\" style=\"stroke:#000000; stroke-width:4; stroke-opacity:1; fill:none\" points=\"\n",
       "  136.76,1445.72 163.352,1445.72 \n",
       "  \"/>\n",
       "<polyline clip-path=\"url(#clip5900)\" style=\"stroke:#000000; stroke-width:4; stroke-opacity:1; fill:none\" points=\"\n",
       "  136.76,1021.42 163.352,1021.42 \n",
       "  \"/>\n",
       "<polyline clip-path=\"url(#clip5900)\" style=\"stroke:#000000; stroke-width:4; stroke-opacity:1; fill:none\" points=\"\n",
       "  136.76,597.129 163.352,597.129 \n",
       "  \"/>\n",
       "<polyline clip-path=\"url(#clip5900)\" style=\"stroke:#000000; stroke-width:4; stroke-opacity:1; fill:none\" points=\"\n",
       "  136.76,172.835 163.352,172.835 \n",
       "  \"/>\n",
       "<path clip-path=\"url(#clip5900)\" d=\"M 0 0 M235.519 1535.98 L243.158 1535.98 L243.158 1509.62 L234.848 1511.29 L234.848 1507.03 L243.112 1505.36 L247.788 1505.36 L247.788 1535.98 L255.427 1535.98 L255.427 1539.92 L235.519 1539.92 L235.519 1535.98 Z\" fill=\"#000000\" fill-rule=\"evenodd\" fill-opacity=\"1\" /><path clip-path=\"url(#clip5900)\" d=\"M 0 0 M270.496 1508.44 Q266.885 1508.44 265.056 1512 Q263.251 1515.55 263.251 1522.67 Q263.251 1529.78 265.056 1533.35 Q266.885 1536.89 270.496 1536.89 Q274.13 1536.89 275.936 1533.35 Q277.764 1529.78 277.764 1522.67 Q277.764 1515.55 275.936 1512 Q274.13 1508.44 270.496 1508.44 M270.496 1504.73 Q276.306 1504.73 279.362 1509.34 Q282.44 1513.92 282.44 1522.67 Q282.44 1531.4 279.362 1536.01 Q276.306 1540.59 270.496 1540.59 Q264.686 1540.59 261.607 1536.01 Q258.551 1531.4 258.551 1522.67 Q258.551 1513.92 261.607 1509.34 Q264.686 1504.73 270.496 1504.73 Z\" fill=\"#000000\" fill-rule=\"evenodd\" fill-opacity=\"1\" /><path clip-path=\"url(#clip5900)\" d=\"M 0 0 M630.463 1535.98 L638.101 1535.98 L638.101 1509.62 L629.791 1511.29 L629.791 1507.03 L638.055 1505.36 L642.731 1505.36 L642.731 1535.98 L650.37 1535.98 L650.37 1539.92 L630.463 1539.92 L630.463 1535.98 Z\" fill=\"#000000\" fill-rule=\"evenodd\" fill-opacity=\"1\" /><path clip-path=\"url(#clip5900)\" d=\"M 0 0 M655.486 1505.36 L673.842 1505.36 L673.842 1509.3 L659.768 1509.3 L659.768 1517.77 Q660.786 1517.42 661.805 1517.26 Q662.823 1517.07 663.842 1517.07 Q669.629 1517.07 673.009 1520.24 Q676.388 1523.42 676.388 1528.83 Q676.388 1534.41 672.916 1537.51 Q669.444 1540.59 663.124 1540.59 Q660.948 1540.59 658.68 1540.22 Q656.435 1539.85 654.027 1539.11 L654.027 1534.41 Q656.111 1535.54 658.333 1536.1 Q660.555 1536.66 663.032 1536.66 Q667.036 1536.66 669.374 1534.55 Q671.712 1532.44 671.712 1528.83 Q671.712 1525.22 669.374 1523.11 Q667.036 1521.01 663.032 1521.01 Q661.157 1521.01 659.282 1521.42 Q657.43 1521.84 655.486 1522.72 L655.486 1505.36 Z\" fill=\"#000000\" fill-rule=\"evenodd\" fill-opacity=\"1\" /><path clip-path=\"url(#clip5900)\" d=\"M 0 0 M1028.68 1535.98 L1045 1535.98 L1045 1539.92 L1023.06 1539.92 L1023.06 1535.98 Q1025.72 1533.23 1030.3 1528.6 Q1034.91 1523.95 1036.09 1522.61 Q1038.33 1520.08 1039.21 1518.35 Q1040.12 1516.59 1040.12 1514.9 Q1040.12 1512.14 1038.17 1510.41 Q1036.25 1508.67 1033.15 1508.67 Q1030.95 1508.67 1028.5 1509.43 Q1026.07 1510.2 1023.29 1511.75 L1023.29 1507.03 Q1026.11 1505.89 1028.57 1505.31 Q1031.02 1504.73 1033.06 1504.73 Q1038.43 1504.73 1041.62 1507.42 Q1044.82 1510.11 1044.82 1514.6 Q1044.82 1516.73 1044.01 1518.65 Q1043.22 1520.54 1041.11 1523.14 Q1040.53 1523.81 1037.43 1527.03 Q1034.33 1530.22 1028.68 1535.98 Z\" fill=\"#000000\" fill-rule=\"evenodd\" fill-opacity=\"1\" /><path clip-path=\"url(#clip5900)\" d=\"M 0 0 M1060.07 1508.44 Q1056.46 1508.44 1054.63 1512 Q1052.82 1515.55 1052.82 1522.67 Q1052.82 1529.78 1054.63 1533.35 Q1056.46 1536.89 1060.07 1536.89 Q1063.7 1536.89 1065.51 1533.35 Q1067.34 1529.78 1067.34 1522.67 Q1067.34 1515.55 1065.51 1512 Q1063.7 1508.44 1060.07 1508.44 M1060.07 1504.73 Q1065.88 1504.73 1068.94 1509.34 Q1072.01 1513.92 1072.01 1522.67 Q1072.01 1531.4 1068.94 1536.01 Q1065.88 1540.59 1060.07 1540.59 Q1054.26 1540.59 1051.18 1536.01 Q1048.13 1531.4 1048.13 1522.67 Q1048.13 1513.92 1051.18 1509.34 Q1054.26 1504.73 1060.07 1504.73 Z\" fill=\"#000000\" fill-rule=\"evenodd\" fill-opacity=\"1\" /><path clip-path=\"url(#clip5900)\" d=\"M 0 0 M1423.62 1535.98 L1439.94 1535.98 L1439.94 1539.92 L1418 1539.92 L1418 1535.98 Q1420.66 1533.23 1425.24 1528.6 Q1429.85 1523.95 1431.03 1522.61 Q1433.28 1520.08 1434.16 1518.35 Q1435.06 1516.59 1435.06 1514.9 Q1435.06 1512.14 1433.12 1510.41 Q1431.19 1508.67 1428.09 1508.67 Q1425.89 1508.67 1423.44 1509.43 Q1421.01 1510.2 1418.23 1511.75 L1418.23 1507.03 Q1421.06 1505.89 1423.51 1505.31 Q1425.96 1504.73 1428 1504.73 Q1433.37 1504.73 1436.56 1507.42 Q1439.76 1510.11 1439.76 1514.6 Q1439.76 1516.73 1438.95 1518.65 Q1438.16 1520.54 1436.06 1523.14 Q1435.48 1523.81 1432.37 1527.03 Q1429.27 1530.22 1423.62 1535.98 Z\" fill=\"#000000\" fill-rule=\"evenodd\" fill-opacity=\"1\" /><path clip-path=\"url(#clip5900)\" d=\"M 0 0 M1445.06 1505.36 L1463.42 1505.36 L1463.42 1509.3 L1449.34 1509.3 L1449.34 1517.77 Q1450.36 1517.42 1451.38 1517.26 Q1452.4 1517.07 1453.42 1517.07 Q1459.2 1517.07 1462.58 1520.24 Q1465.96 1523.42 1465.96 1528.83 Q1465.96 1534.41 1462.49 1537.51 Q1459.02 1540.59 1452.7 1540.59 Q1450.52 1540.59 1448.25 1540.22 Q1446.01 1539.85 1443.6 1539.11 L1443.6 1534.41 Q1445.68 1535.54 1447.91 1536.1 Q1450.13 1536.66 1452.61 1536.66 Q1456.61 1536.66 1458.95 1534.55 Q1461.29 1532.44 1461.29 1528.83 Q1461.29 1525.22 1458.95 1523.11 Q1456.61 1521.01 1452.61 1521.01 Q1450.73 1521.01 1448.86 1521.42 Q1447 1521.84 1445.06 1522.72 L1445.06 1505.36 Z\" fill=\"#000000\" fill-rule=\"evenodd\" fill-opacity=\"1\" /><path clip-path=\"url(#clip5900)\" d=\"M 0 0 M1827.17 1521.29 Q1830.52 1522 1832.4 1524.27 Q1834.3 1526.54 1834.3 1529.87 Q1834.3 1534.99 1830.78 1537.79 Q1827.26 1540.59 1820.78 1540.59 Q1818.6 1540.59 1816.29 1540.15 Q1814 1539.73 1811.54 1538.88 L1811.54 1534.36 Q1813.49 1535.5 1815.8 1536.08 Q1818.12 1536.66 1820.64 1536.66 Q1825.04 1536.66 1827.33 1534.92 Q1829.64 1533.18 1829.64 1529.87 Q1829.64 1526.82 1827.49 1525.11 Q1825.36 1523.37 1821.54 1523.37 L1817.51 1523.37 L1817.51 1519.53 L1821.73 1519.53 Q1825.18 1519.53 1827.01 1518.16 Q1828.83 1516.77 1828.83 1514.18 Q1828.83 1511.52 1826.94 1510.11 Q1825.06 1508.67 1821.54 1508.67 Q1819.62 1508.67 1817.42 1509.09 Q1815.22 1509.5 1812.58 1510.38 L1812.58 1506.22 Q1815.25 1505.48 1817.56 1505.11 Q1819.9 1504.73 1821.96 1504.73 Q1827.28 1504.73 1830.38 1507.17 Q1833.49 1509.57 1833.49 1513.69 Q1833.49 1516.56 1831.84 1518.55 Q1830.2 1520.52 1827.17 1521.29 Z\" fill=\"#000000\" fill-rule=\"evenodd\" fill-opacity=\"1\" /><path clip-path=\"url(#clip5900)\" d=\"M 0 0 M1849.37 1508.44 Q1845.76 1508.44 1843.93 1512 Q1842.12 1515.55 1842.12 1522.67 Q1842.12 1529.78 1843.93 1533.35 Q1845.76 1536.89 1849.37 1536.89 Q1853 1536.89 1854.81 1533.35 Q1856.63 1529.78 1856.63 1522.67 Q1856.63 1515.55 1854.81 1512 Q1853 1508.44 1849.37 1508.44 M1849.37 1504.73 Q1855.18 1504.73 1858.23 1509.34 Q1861.31 1513.92 1861.31 1522.67 Q1861.31 1531.4 1858.23 1536.01 Q1855.18 1540.59 1849.37 1540.59 Q1843.56 1540.59 1840.48 1536.01 Q1837.42 1531.4 1837.42 1522.67 Q1837.42 1513.92 1840.48 1509.34 Q1843.56 1504.73 1849.37 1504.73 Z\" fill=\"#000000\" fill-rule=\"evenodd\" fill-opacity=\"1\" /><path clip-path=\"url(#clip5900)\" d=\"M 0 0 M2222.11 1521.29 Q2225.47 1522 2227.34 1524.27 Q2229.24 1526.54 2229.24 1529.87 Q2229.24 1534.99 2225.72 1537.79 Q2222.2 1540.59 2215.72 1540.59 Q2213.55 1540.59 2211.23 1540.15 Q2208.94 1539.73 2206.49 1538.88 L2206.49 1534.36 Q2208.43 1535.5 2210.75 1536.08 Q2213.06 1536.66 2215.58 1536.66 Q2219.98 1536.66 2222.27 1534.92 Q2224.59 1533.18 2224.59 1529.87 Q2224.59 1526.82 2222.43 1525.11 Q2220.31 1523.37 2216.49 1523.37 L2212.46 1523.37 L2212.46 1519.53 L2216.67 1519.53 Q2220.12 1519.53 2221.95 1518.16 Q2223.78 1516.77 2223.78 1514.18 Q2223.78 1511.52 2221.88 1510.11 Q2220 1508.67 2216.49 1508.67 Q2214.56 1508.67 2212.37 1509.09 Q2210.17 1509.5 2207.53 1510.38 L2207.53 1506.22 Q2210.19 1505.48 2212.5 1505.11 Q2214.84 1504.73 2216.9 1504.73 Q2222.23 1504.73 2225.33 1507.17 Q2228.43 1509.57 2228.43 1513.69 Q2228.43 1516.56 2226.79 1518.55 Q2225.14 1520.52 2222.11 1521.29 Z\" fill=\"#000000\" fill-rule=\"evenodd\" fill-opacity=\"1\" /><path clip-path=\"url(#clip5900)\" d=\"M 0 0 M2234.36 1505.36 L2252.71 1505.36 L2252.71 1509.3 L2238.64 1509.3 L2238.64 1517.77 Q2239.66 1517.42 2240.68 1517.26 Q2241.69 1517.07 2242.71 1517.07 Q2248.5 1517.07 2251.88 1520.24 Q2255.26 1523.42 2255.26 1528.83 Q2255.26 1534.41 2251.79 1537.51 Q2248.31 1540.59 2241.99 1540.59 Q2239.82 1540.59 2237.55 1540.22 Q2235.31 1539.85 2232.9 1539.11 L2232.9 1534.41 Q2234.98 1535.54 2237.2 1536.1 Q2239.43 1536.66 2241.9 1536.66 Q2245.91 1536.66 2248.24 1534.55 Q2250.58 1532.44 2250.58 1528.83 Q2250.58 1525.22 2248.24 1523.11 Q2245.91 1521.01 2241.9 1521.01 Q2240.03 1521.01 2238.15 1521.42 Q2236.3 1521.84 2234.36 1522.72 L2234.36 1505.36 Z\" fill=\"#000000\" fill-rule=\"evenodd\" fill-opacity=\"1\" /><path clip-path=\"url(#clip5900)\" d=\"M 0 0 M100.816 1431.51 Q97.2049 1431.51 95.3762 1435.08 Q93.5707 1438.62 93.5707 1445.75 Q93.5707 1452.86 95.3762 1456.42 Q97.2049 1459.96 100.816 1459.96 Q104.45 1459.96 106.256 1456.42 Q108.084 1452.86 108.084 1445.75 Q108.084 1438.62 106.256 1435.08 Q104.45 1431.51 100.816 1431.51 M100.816 1427.81 Q106.626 1427.81 109.682 1432.42 Q112.76 1437 112.76 1445.75 Q112.76 1454.48 109.682 1459.08 Q106.626 1463.67 100.816 1463.67 Q95.0058 1463.67 91.9272 1459.08 Q88.8716 1454.48 88.8716 1445.75 Q88.8716 1437 91.9272 1432.42 Q95.0058 1427.81 100.816 1427.81 Z\" fill=\"#000000\" fill-rule=\"evenodd\" fill-opacity=\"1\" /><path clip-path=\"url(#clip5900)\" d=\"M 0 0 M65.8393 1034.77 L73.4782 1034.77 L73.4782 1008.4 L65.168 1010.07 L65.168 1005.81 L73.4319 1004.14 L78.1078 1004.14 L78.1078 1034.77 L85.7466 1034.77 L85.7466 1038.7 L65.8393 1038.7 L65.8393 1034.77 Z\" fill=\"#000000\" fill-rule=\"evenodd\" fill-opacity=\"1\" /><path clip-path=\"url(#clip5900)\" d=\"M 0 0 M100.816 1007.22 Q97.2049 1007.22 95.3762 1010.79 Q93.5707 1014.33 93.5707 1021.46 Q93.5707 1028.56 95.3762 1032.13 Q97.2049 1035.67 100.816 1035.67 Q104.45 1035.67 106.256 1032.13 Q108.084 1028.56 108.084 1021.46 Q108.084 1014.33 106.256 1010.79 Q104.45 1007.22 100.816 1007.22 M100.816 1003.52 Q106.626 1003.52 109.682 1008.12 Q112.76 1012.71 112.76 1021.46 Q112.76 1030.18 109.682 1034.79 Q106.626 1039.37 100.816 1039.37 Q95.0058 1039.37 91.9272 1034.79 Q88.8716 1030.18 88.8716 1021.46 Q88.8716 1012.71 91.9272 1008.12 Q95.0058 1003.52 100.816 1003.52 Z\" fill=\"#000000\" fill-rule=\"evenodd\" fill-opacity=\"1\" /><path clip-path=\"url(#clip5900)\" d=\"M 0 0 M69.4273 610.473 L85.7466 610.473 L85.7466 614.409 L63.8023 614.409 L63.8023 610.473 Q66.4643 607.719 71.0476 603.089 Q75.6541 598.436 76.8346 597.094 Q79.08 594.571 79.9596 592.835 Q80.8624 591.075 80.8624 589.386 Q80.8624 586.631 78.918 584.895 Q76.9967 583.159 73.8948 583.159 Q71.6958 583.159 69.2421 583.923 Q66.8115 584.686 64.0338 586.237 L64.0338 581.515 Q66.8578 580.381 69.3115 579.802 Q71.7652 579.224 73.8023 579.224 Q79.1726 579.224 82.367 581.909 Q85.5614 584.594 85.5614 589.085 Q85.5614 591.214 84.7513 593.136 Q83.9642 595.034 81.8578 597.626 Q81.2791 598.298 78.1772 601.515 Q75.0754 604.71 69.4273 610.473 Z\" fill=\"#000000\" fill-rule=\"evenodd\" fill-opacity=\"1\" /><path clip-path=\"url(#clip5900)\" d=\"M 0 0 M100.816 582.927 Q97.2049 582.927 95.3762 586.492 Q93.5707 590.034 93.5707 597.163 Q93.5707 604.27 95.3762 607.835 Q97.2049 611.376 100.816 611.376 Q104.45 611.376 106.256 607.835 Q108.084 604.27 108.084 597.163 Q108.084 590.034 106.256 586.492 Q104.45 582.927 100.816 582.927 M100.816 579.224 Q106.626 579.224 109.682 583.83 Q112.76 588.413 112.76 597.163 Q112.76 605.89 109.682 610.497 Q106.626 615.08 100.816 615.08 Q95.0058 615.08 91.9272 610.497 Q88.8716 605.89 88.8716 597.163 Q88.8716 588.413 91.9272 583.83 Q95.0058 579.224 100.816 579.224 Z\" fill=\"#000000\" fill-rule=\"evenodd\" fill-opacity=\"1\" /><path clip-path=\"url(#clip5900)\" d=\"M 0 0 M78.617 171.481 Q81.9735 172.198 83.8485 174.467 Q85.7466 176.735 85.7466 180.069 Q85.7466 185.184 82.2281 187.985 Q78.7096 190.786 72.2282 190.786 Q70.0523 190.786 67.7375 190.346 Q65.4458 189.93 62.9921 189.073 L62.9921 184.559 Q64.9366 185.694 67.2514 186.272 Q69.5662 186.851 72.0893 186.851 Q76.4874 186.851 78.7791 185.115 Q81.0939 183.379 81.0939 180.069 Q81.0939 177.013 78.9411 175.3 Q76.8115 173.564 72.9921 173.564 L68.9643 173.564 L68.9643 169.722 L73.1773 169.722 Q76.6263 169.722 78.455 168.356 Q80.2837 166.967 80.2837 164.374 Q80.2837 161.712 78.3856 160.3 Q76.5106 158.865 72.9921 158.865 Q71.0708 158.865 68.8717 159.282 Q66.6727 159.698 64.0338 160.578 L64.0338 156.411 Q66.6958 155.671 69.0106 155.3 Q71.3486 154.93 73.4087 154.93 Q78.7328 154.93 81.8346 157.361 Q84.9365 159.768 84.9365 163.888 Q84.9365 166.759 83.2929 168.749 Q81.6494 170.717 78.617 171.481 Z\" fill=\"#000000\" fill-rule=\"evenodd\" fill-opacity=\"1\" /><path clip-path=\"url(#clip5900)\" d=\"M 0 0 M100.816 158.634 Q97.2049 158.634 95.3762 162.198 Q93.5707 165.74 93.5707 172.87 Q93.5707 179.976 95.3762 183.541 Q97.2049 187.083 100.816 187.083 Q104.45 187.083 106.256 183.541 Q108.084 179.976 108.084 172.87 Q108.084 165.74 106.256 162.198 Q104.45 158.634 100.816 158.634 M100.816 154.93 Q106.626 154.93 109.682 159.536 Q112.76 164.12 112.76 172.87 Q112.76 181.597 109.682 186.203 Q106.626 190.786 100.816 190.786 Q95.0058 190.786 91.9272 186.203 Q88.8716 181.597 88.8716 172.87 Q88.8716 164.12 91.9272 159.536 Q95.0058 154.93 100.816 154.93 Z\" fill=\"#000000\" fill-rule=\"evenodd\" fill-opacity=\"1\" /><path clip-path=\"url(#clip5902)\" d=\"\n",
       "M258.644 1191.14 L258.644 1445.72 L653.09 1445.72 L653.09 1191.14 L258.644 1191.14 L258.644 1191.14  Z\n",
       "  \" fill=\"#009af9\" fill-rule=\"evenodd\" fill-opacity=\"1\"/>\n",
       "<polyline clip-path=\"url(#clip5902)\" style=\"stroke:#000000; stroke-width:4; stroke-opacity:1; fill:none\" points=\"\n",
       "  258.644,1191.14 258.644,1445.72 653.09,1445.72 653.09,1191.14 258.644,1191.14 \n",
       "  \"/>\n",
       "<path clip-path=\"url(#clip5902)\" d=\"\n",
       "M653.09 384.982 L653.09 1445.72 L1047.54 1445.72 L1047.54 384.982 L653.09 384.982 L653.09 384.982  Z\n",
       "  \" fill=\"#009af9\" fill-rule=\"evenodd\" fill-opacity=\"1\"/>\n",
       "<polyline clip-path=\"url(#clip5902)\" style=\"stroke:#000000; stroke-width:4; stroke-opacity:1; fill:none\" points=\"\n",
       "  653.09,384.982 653.09,1445.72 1047.54,1445.72 1047.54,384.982 653.09,384.982 \n",
       "  \"/>\n",
       "<path clip-path=\"url(#clip5902)\" d=\"\n",
       "M1047.54 384.982 L1047.54 1445.72 L1441.98 1445.72 L1441.98 384.982 L1047.54 384.982 L1047.54 384.982  Z\n",
       "  \" fill=\"#009af9\" fill-rule=\"evenodd\" fill-opacity=\"1\"/>\n",
       "<polyline clip-path=\"url(#clip5902)\" style=\"stroke:#000000; stroke-width:4; stroke-opacity:1; fill:none\" points=\"\n",
       "  1047.54,384.982 1047.54,1445.72 1441.98,1445.72 1441.98,384.982 1047.54,384.982 \n",
       "  \"/>\n",
       "<path clip-path=\"url(#clip5902)\" d=\"\n",
       "M1441.98 87.9763 L1441.98 1445.72 L1836.43 1445.72 L1836.43 87.9763 L1441.98 87.9763 L1441.98 87.9763  Z\n",
       "  \" fill=\"#009af9\" fill-rule=\"evenodd\" fill-opacity=\"1\"/>\n",
       "<polyline clip-path=\"url(#clip5902)\" style=\"stroke:#000000; stroke-width:4; stroke-opacity:1; fill:none\" points=\"\n",
       "  1441.98,87.9763 1441.98,1445.72 1836.43,1445.72 1836.43,87.9763 1441.98,87.9763 \n",
       "  \"/>\n",
       "<path clip-path=\"url(#clip5902)\" d=\"\n",
       "M1836.43 936.563 L1836.43 1445.72 L2230.87 1445.72 L2230.87 936.563 L1836.43 936.563 L1836.43 936.563  Z\n",
       "  \" fill=\"#009af9\" fill-rule=\"evenodd\" fill-opacity=\"1\"/>\n",
       "<polyline clip-path=\"url(#clip5902)\" style=\"stroke:#000000; stroke-width:4; stroke-opacity:1; fill:none\" points=\"\n",
       "  1836.43,936.563 1836.43,1445.72 2230.87,1445.72 2230.87,936.563 1836.43,936.563 \n",
       "  \"/>\n",
       "<path clip-path=\"url(#clip5900)\" d=\"\n",
       "M1989.74 251.724 L2280.76 251.724 L2280.76 130.764 L1989.74 130.764  Z\n",
       "  \" fill=\"#ffffff\" fill-rule=\"evenodd\" fill-opacity=\"1\"/>\n",
       "<polyline clip-path=\"url(#clip5900)\" style=\"stroke:#000000; stroke-width:4; stroke-opacity:1; fill:none\" points=\"\n",
       "  1989.74,251.724 2280.76,251.724 2280.76,130.764 1989.74,130.764 1989.74,251.724 \n",
       "  \"/>\n",
       "<path clip-path=\"url(#clip5900)\" d=\"\n",
       "M2013.74 215.436 L2157.74 215.436 L2157.74 167.052 L2013.74 167.052 L2013.74 215.436  Z\n",
       "  \" fill=\"#009af9\" fill-rule=\"evenodd\" fill-opacity=\"1\"/>\n",
       "<polyline clip-path=\"url(#clip5900)\" style=\"stroke:#000000; stroke-width:4; stroke-opacity:1; fill:none\" points=\"\n",
       "  2013.74,215.436 2157.74,215.436 2157.74,167.052 2013.74,167.052 2013.74,215.436 \n",
       "  \"/>\n",
       "<path clip-path=\"url(#clip5900)\" d=\"M 0 0 M2195.58 210.931 Q2193.77 215.561 2192.06 216.973 Q2190.35 218.385 2187.48 218.385 L2184.08 218.385 L2184.08 214.82 L2186.58 214.82 Q2188.33 214.82 2189.31 213.987 Q2190.28 213.154 2191.46 210.052 L2192.22 208.107 L2181.74 182.598 L2186.25 182.598 L2194.35 202.876 L2202.46 182.598 L2206.97 182.598 L2195.58 210.931 Z\" fill=\"#000000\" fill-rule=\"evenodd\" fill-opacity=\"1\" /><path clip-path=\"url(#clip5900)\" d=\"M 0 0 M2212.85 204.589 L2220.49 204.589 L2220.49 178.223 L2212.18 179.89 L2212.18 175.631 L2220.44 173.964 L2225.12 173.964 L2225.12 204.589 L2232.76 204.589 L2232.76 208.524 L2212.85 208.524 L2212.85 204.589 Z\" fill=\"#000000\" fill-rule=\"evenodd\" fill-opacity=\"1\" /></svg>\n"
      ]
     },
     "execution_count": 49,
     "metadata": {},
     "output_type": "execute_result"
    }
   ],
   "source": [
    "using Plots\n",
    "\n",
    "histogram(sample_mean)"
   ]
  }
 ],
 "metadata": {
  "kernelspec": {
   "display_name": "Julia 1.8.0",
   "language": "julia",
   "name": "julia-1.8"
  },
  "language_info": {
   "file_extension": ".jl",
   "mimetype": "application/julia",
   "name": "julia",
   "version": "1.8.0"
  }
 },
 "nbformat": 4,
 "nbformat_minor": 5
}
